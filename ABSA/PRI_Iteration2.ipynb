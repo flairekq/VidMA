{
 "cells": [
  {
   "cell_type": "code",
   "execution_count": 1,
   "metadata": {
    "executionInfo": {
     "elapsed": 5,
     "status": "ok",
     "timestamp": 1678535063020,
     "user": {
      "displayName": "bel hello",
      "userId": "14145485794765337692"
     },
     "user_tz": -480
    },
    "id": "qMvZUdHqAJ99"
   },
   "outputs": [],
   "source": [
    "from google.colab import drive\n",
    "import os\n",
    "import pandas as pd"
   ]
  },
  {
   "cell_type": "code",
   "execution_count": 3,
   "metadata": {
    "executionInfo": {
     "elapsed": 6,
     "status": "ok",
     "timestamp": 1678535066747,
     "user": {
      "displayName": "bel hello",
      "userId": "14145485794765337692"
     },
     "user_tz": -480
    },
    "id": "2-g7y5LOl6K0"
   },
   "outputs": [],
   "source": [
    "current_directory = \"/data\"\n",
    "os.chdir(current_directory)"
   ]
  },
  {
   "cell_type": "code",
   "execution_count": 4,
   "metadata": {
    "colab": {
     "base_uri": "https://localhost:8080/"
    },
    "executionInfo": {
     "elapsed": 53042,
     "status": "ok",
     "timestamp": 1678535119785,
     "user": {
      "displayName": "bel hello",
      "userId": "14145485794765337692"
     },
     "user_tz": -480
    },
    "id": "hCuoWxrZVf0I",
    "outputId": "4dc72436-cdfe-4c25-8f43-af0f33623fb1"
   },
   "outputs": [
    {
     "name": "stdout",
     "output_type": "stream",
     "text": [
      "Looking in indexes: https://pypi.org/simple, https://us-python.pkg.dev/colab-wheels/public/simple/\n",
      "\u001b[31mERROR: Could not find a version that satisfies the requirement ntlk (from versions: none)\u001b[0m\u001b[31m\n",
      "\u001b[0m\u001b[31mERROR: No matching distribution found for ntlk\u001b[0m\u001b[31m\n",
      "\u001b[0mLooking in indexes: https://pypi.org/simple, https://us-python.pkg.dev/colab-wheels/public/simple/\n",
      "Requirement already satisfied: num2words in /usr/local/lib/python3.9/dist-packages (0.5.12)\n",
      "Requirement already satisfied: docopt>=0.6.2 in /usr/local/lib/python3.9/dist-packages (from num2words) (0.6.2)\n",
      "Looking in indexes: https://pypi.org/simple, https://us-python.pkg.dev/colab-wheels/public/simple/\n",
      "Requirement already satisfied: fuzzywuzzy in /usr/local/lib/python3.9/dist-packages (0.18.0)\n",
      "Looking in indexes: https://pypi.org/simple, https://us-python.pkg.dev/colab-wheels/public/simple/\n",
      "Requirement already satisfied: python-Levenshtein in /usr/local/lib/python3.9/dist-packages (0.20.9)\n",
      "Requirement already satisfied: Levenshtein==0.20.9 in /usr/local/lib/python3.9/dist-packages (from python-Levenshtein) (0.20.9)\n",
      "Requirement already satisfied: rapidfuzz<3.0.0,>=2.3.0 in /usr/local/lib/python3.9/dist-packages (from Levenshtein==0.20.9->python-Levenshtein) (2.13.7)\n",
      "Looking in indexes: https://pypi.org/simple, https://us-python.pkg.dev/colab-wheels/public/simple/\n",
      "Requirement already satisfied: ruptures in /usr/local/lib/python3.9/dist-packages (1.1.7)\n",
      "Requirement already satisfied: scipy in /usr/local/lib/python3.9/dist-packages (from ruptures) (1.10.1)\n",
      "Requirement already satisfied: numpy in /usr/local/lib/python3.9/dist-packages (from ruptures) (1.22.4)\n",
      "Looking in indexes: https://pypi.org/simple, https://us-python.pkg.dev/colab-wheels/public/simple/\n",
      "Requirement already satisfied: sentence_transformers in /usr/local/lib/python3.9/dist-packages (2.2.2)\n",
      "Requirement already satisfied: transformers<5.0.0,>=4.6.0 in /usr/local/lib/python3.9/dist-packages (from sentence_transformers) (4.26.1)\n",
      "Requirement already satisfied: torch>=1.6.0 in /usr/local/lib/python3.9/dist-packages (from sentence_transformers) (1.13.1+cu116)\n",
      "Requirement already satisfied: numpy in /usr/local/lib/python3.9/dist-packages (from sentence_transformers) (1.22.4)\n",
      "Requirement already satisfied: tqdm in /usr/local/lib/python3.9/dist-packages (from sentence_transformers) (4.65.0)\n",
      "Requirement already satisfied: nltk in /usr/local/lib/python3.9/dist-packages (from sentence_transformers) (3.7)\n",
      "Requirement already satisfied: sentencepiece in /usr/local/lib/python3.9/dist-packages (from sentence_transformers) (0.1.97)\n",
      "Requirement already satisfied: scipy in /usr/local/lib/python3.9/dist-packages (from sentence_transformers) (1.10.1)\n",
      "Requirement already satisfied: torchvision in /usr/local/lib/python3.9/dist-packages (from sentence_transformers) (0.14.1+cu116)\n",
      "Requirement already satisfied: scikit-learn in /usr/local/lib/python3.9/dist-packages (from sentence_transformers) (1.2.1)\n",
      "Requirement already satisfied: huggingface-hub>=0.4.0 in /usr/local/lib/python3.9/dist-packages (from sentence_transformers) (0.13.1)\n",
      "Requirement already satisfied: pyyaml>=5.1 in /usr/local/lib/python3.9/dist-packages (from huggingface-hub>=0.4.0->sentence_transformers) (6.0)\n",
      "Requirement already satisfied: requests in /usr/local/lib/python3.9/dist-packages (from huggingface-hub>=0.4.0->sentence_transformers) (2.25.1)\n",
      "Requirement already satisfied: filelock in /usr/local/lib/python3.9/dist-packages (from huggingface-hub>=0.4.0->sentence_transformers) (3.9.0)\n",
      "Requirement already satisfied: typing-extensions>=3.7.4.3 in /usr/local/lib/python3.9/dist-packages (from huggingface-hub>=0.4.0->sentence_transformers) (4.5.0)\n",
      "Requirement already satisfied: packaging>=20.9 in /usr/local/lib/python3.9/dist-packages (from huggingface-hub>=0.4.0->sentence_transformers) (23.0)\n",
      "Requirement already satisfied: regex!=2019.12.17 in /usr/local/lib/python3.9/dist-packages (from transformers<5.0.0,>=4.6.0->sentence_transformers) (2022.6.2)\n",
      "Requirement already satisfied: tokenizers!=0.11.3,<0.14,>=0.11.1 in /usr/local/lib/python3.9/dist-packages (from transformers<5.0.0,>=4.6.0->sentence_transformers) (0.13.2)\n",
      "Requirement already satisfied: joblib in /usr/local/lib/python3.9/dist-packages (from nltk->sentence_transformers) (1.2.0)\n",
      "Requirement already satisfied: click in /usr/local/lib/python3.9/dist-packages (from nltk->sentence_transformers) (8.1.3)\n",
      "Requirement already satisfied: threadpoolctl>=2.0.0 in /usr/local/lib/python3.9/dist-packages (from scikit-learn->sentence_transformers) (3.1.0)\n",
      "Requirement already satisfied: pillow!=8.3.*,>=5.3.0 in /usr/local/lib/python3.9/dist-packages (from torchvision->sentence_transformers) (8.4.0)\n",
      "Requirement already satisfied: urllib3<1.27,>=1.21.1 in /usr/local/lib/python3.9/dist-packages (from requests->huggingface-hub>=0.4.0->sentence_transformers) (1.26.14)\n",
      "Requirement already satisfied: chardet<5,>=3.0.2 in /usr/local/lib/python3.9/dist-packages (from requests->huggingface-hub>=0.4.0->sentence_transformers) (4.0.0)\n",
      "Requirement already satisfied: certifi>=2017.4.17 in /usr/local/lib/python3.9/dist-packages (from requests->huggingface-hub>=0.4.0->sentence_transformers) (2022.12.7)\n",
      "Requirement already satisfied: idna<3,>=2.5 in /usr/local/lib/python3.9/dist-packages (from requests->huggingface-hub>=0.4.0->sentence_transformers) (2.10)\n",
      "Looking in indexes: https://pypi.org/simple, https://us-python.pkg.dev/colab-wheels/public/simple/\n",
      "Requirement already satisfied: fastcoref in /usr/local/lib/python3.9/dist-packages (2.1.1)\n",
      "Requirement already satisfied: transformers>=4.11.3 in /usr/local/lib/python3.9/dist-packages (from fastcoref) (4.26.1)\n",
      "Requirement already satisfied: datasets>=2.5.2 in /usr/local/lib/python3.9/dist-packages (from fastcoref) (2.10.1)\n",
      "Requirement already satisfied: torch>=1.10.0 in /usr/local/lib/python3.9/dist-packages (from fastcoref) (1.13.1+cu116)\n",
      "Requirement already satisfied: scipy>=1.7.3 in /usr/local/lib/python3.9/dist-packages (from fastcoref) (1.10.1)\n",
      "Requirement already satisfied: tqdm>=4.64.0 in /usr/local/lib/python3.9/dist-packages (from fastcoref) (4.65.0)\n",
      "Requirement already satisfied: numpy>=1.21.6 in /usr/local/lib/python3.9/dist-packages (from fastcoref) (1.22.4)\n",
      "Requirement already satisfied: wandb>=0.13.4 in /usr/local/lib/python3.9/dist-packages (from fastcoref) (0.13.11)\n",
      "Requirement already satisfied: spacy>=3.0.6 in /usr/local/lib/python3.9/dist-packages (from fastcoref) (3.4.4)\n",
      "Requirement already satisfied: responses<0.19 in /usr/local/lib/python3.9/dist-packages (from datasets>=2.5.2->fastcoref) (0.18.0)\n",
      "Requirement already satisfied: multiprocess in /usr/local/lib/python3.9/dist-packages (from datasets>=2.5.2->fastcoref) (0.70.14)\n",
      "Requirement already satisfied: pandas in /usr/local/lib/python3.9/dist-packages (from datasets>=2.5.2->fastcoref) (1.3.5)\n",
      "Requirement already satisfied: fsspec[http]>=2021.11.1 in /usr/local/lib/python3.9/dist-packages (from datasets>=2.5.2->fastcoref) (2023.3.0)\n",
      "Requirement already satisfied: requests>=2.19.0 in /usr/local/lib/python3.9/dist-packages (from datasets>=2.5.2->fastcoref) (2.25.1)\n",
      "Requirement already satisfied: huggingface-hub<1.0.0,>=0.2.0 in /usr/local/lib/python3.9/dist-packages (from datasets>=2.5.2->fastcoref) (0.13.1)\n",
      "Requirement already satisfied: packaging in /usr/local/lib/python3.9/dist-packages (from datasets>=2.5.2->fastcoref) (23.0)\n",
      "Requirement already satisfied: xxhash in /usr/local/lib/python3.9/dist-packages (from datasets>=2.5.2->fastcoref) (3.2.0)\n",
      "Requirement already satisfied: aiohttp in /usr/local/lib/python3.9/dist-packages (from datasets>=2.5.2->fastcoref) (3.8.4)\n",
      "Requirement already satisfied: pyarrow>=6.0.0 in /usr/local/lib/python3.9/dist-packages (from datasets>=2.5.2->fastcoref) (9.0.0)\n",
      "Requirement already satisfied: dill<0.3.7,>=0.3.0 in /usr/local/lib/python3.9/dist-packages (from datasets>=2.5.2->fastcoref) (0.3.6)\n",
      "Requirement already satisfied: pyyaml>=5.1 in /usr/local/lib/python3.9/dist-packages (from datasets>=2.5.2->fastcoref) (6.0)\n",
      "Requirement already satisfied: catalogue<2.1.0,>=2.0.6 in /usr/local/lib/python3.9/dist-packages (from spacy>=3.0.6->fastcoref) (2.0.8)\n",
      "Requirement already satisfied: setuptools in /usr/local/lib/python3.9/dist-packages (from spacy>=3.0.6->fastcoref) (57.4.0)\n",
      "Requirement already satisfied: preshed<3.1.0,>=3.0.2 in /usr/local/lib/python3.9/dist-packages (from spacy>=3.0.6->fastcoref) (3.0.8)\n",
      "Requirement already satisfied: langcodes<4.0.0,>=3.2.0 in /usr/local/lib/python3.9/dist-packages (from spacy>=3.0.6->fastcoref) (3.3.0)\n",
      "Requirement already satisfied: thinc<8.2.0,>=8.1.0 in /usr/local/lib/python3.9/dist-packages (from spacy>=3.0.6->fastcoref) (8.1.8)\n",
      "Requirement already satisfied: typer<0.8.0,>=0.3.0 in /usr/local/lib/python3.9/dist-packages (from spacy>=3.0.6->fastcoref) (0.7.0)\n",
      "Requirement already satisfied: smart-open<7.0.0,>=5.2.1 in /usr/local/lib/python3.9/dist-packages (from spacy>=3.0.6->fastcoref) (6.3.0)\n",
      "Requirement already satisfied: spacy-loggers<2.0.0,>=1.0.0 in /usr/local/lib/python3.9/dist-packages (from spacy>=3.0.6->fastcoref) (1.0.4)\n",
      "Requirement already satisfied: jinja2 in /usr/local/lib/python3.9/dist-packages (from spacy>=3.0.6->fastcoref) (3.1.2)\n",
      "Requirement already satisfied: spacy-legacy<3.1.0,>=3.0.10 in /usr/local/lib/python3.9/dist-packages (from spacy>=3.0.6->fastcoref) (3.0.12)\n",
      "Requirement already satisfied: pydantic!=1.8,!=1.8.1,<1.11.0,>=1.7.4 in /usr/local/lib/python3.9/dist-packages (from spacy>=3.0.6->fastcoref) (1.10.5)\n",
      "Requirement already satisfied: pathy>=0.3.5 in /usr/local/lib/python3.9/dist-packages (from spacy>=3.0.6->fastcoref) (0.10.1)\n",
      "Requirement already satisfied: srsly<3.0.0,>=2.4.3 in /usr/local/lib/python3.9/dist-packages (from spacy>=3.0.6->fastcoref) (2.4.6)\n",
      "Requirement already satisfied: wasabi<1.1.0,>=0.9.1 in /usr/local/lib/python3.9/dist-packages (from spacy>=3.0.6->fastcoref) (0.10.1)\n",
      "Requirement already satisfied: murmurhash<1.1.0,>=0.28.0 in /usr/local/lib/python3.9/dist-packages (from spacy>=3.0.6->fastcoref) (1.0.9)\n",
      "Requirement already satisfied: cymem<2.1.0,>=2.0.2 in /usr/local/lib/python3.9/dist-packages (from spacy>=3.0.6->fastcoref) (2.0.7)\n",
      "Requirement already satisfied: typing-extensions in /usr/local/lib/python3.9/dist-packages (from torch>=1.10.0->fastcoref) (4.5.0)\n",
      "Requirement already satisfied: filelock in /usr/local/lib/python3.9/dist-packages (from transformers>=4.11.3->fastcoref) (3.9.0)\n",
      "Requirement already satisfied: tokenizers!=0.11.3,<0.14,>=0.11.1 in /usr/local/lib/python3.9/dist-packages (from transformers>=4.11.3->fastcoref) (0.13.2)\n",
      "Requirement already satisfied: regex!=2019.12.17 in /usr/local/lib/python3.9/dist-packages (from transformers>=4.11.3->fastcoref) (2022.6.2)\n",
      "Requirement already satisfied: Click!=8.0.0,>=7.0 in /usr/local/lib/python3.9/dist-packages (from wandb>=0.13.4->fastcoref) (8.1.3)\n",
      "Requirement already satisfied: GitPython!=3.1.29,>=1.0.0 in /usr/local/lib/python3.9/dist-packages (from wandb>=0.13.4->fastcoref) (3.1.31)\n",
      "Requirement already satisfied: docker-pycreds>=0.4.0 in /usr/local/lib/python3.9/dist-packages (from wandb>=0.13.4->fastcoref) (0.4.0)\n",
      "Requirement already satisfied: protobuf!=4.21.0,<5,>=3.15.0 in /usr/local/lib/python3.9/dist-packages (from wandb>=0.13.4->fastcoref) (3.19.6)\n",
      "Requirement already satisfied: appdirs>=1.4.3 in /usr/local/lib/python3.9/dist-packages (from wandb>=0.13.4->fastcoref) (1.4.4)\n",
      "Requirement already satisfied: setproctitle in /usr/local/lib/python3.9/dist-packages (from wandb>=0.13.4->fastcoref) (1.3.2)\n",
      "Requirement already satisfied: pathtools in /usr/local/lib/python3.9/dist-packages (from wandb>=0.13.4->fastcoref) (0.1.2)\n",
      "Requirement already satisfied: psutil>=5.0.0 in /usr/local/lib/python3.9/dist-packages (from wandb>=0.13.4->fastcoref) (5.4.8)\n",
      "Requirement already satisfied: sentry-sdk>=1.0.0 in /usr/local/lib/python3.9/dist-packages (from wandb>=0.13.4->fastcoref) (1.16.0)\n",
      "Requirement already satisfied: six>=1.4.0 in /usr/local/lib/python3.9/dist-packages (from docker-pycreds>=0.4.0->wandb>=0.13.4->fastcoref) (1.15.0)\n",
      "Requirement already satisfied: frozenlist>=1.1.1 in /usr/local/lib/python3.9/dist-packages (from aiohttp->datasets>=2.5.2->fastcoref) (1.3.3)\n",
      "Requirement already satisfied: multidict<7.0,>=4.5 in /usr/local/lib/python3.9/dist-packages (from aiohttp->datasets>=2.5.2->fastcoref) (6.0.4)\n",
      "Requirement already satisfied: attrs>=17.3.0 in /usr/local/lib/python3.9/dist-packages (from aiohttp->datasets>=2.5.2->fastcoref) (22.2.0)\n",
      "Requirement already satisfied: charset-normalizer<4.0,>=2.0 in /usr/local/lib/python3.9/dist-packages (from aiohttp->datasets>=2.5.2->fastcoref) (3.1.0)\n",
      "Requirement already satisfied: async-timeout<5.0,>=4.0.0a3 in /usr/local/lib/python3.9/dist-packages (from aiohttp->datasets>=2.5.2->fastcoref) (4.0.2)\n",
      "Requirement already satisfied: aiosignal>=1.1.2 in /usr/local/lib/python3.9/dist-packages (from aiohttp->datasets>=2.5.2->fastcoref) (1.3.1)\n",
      "Requirement already satisfied: yarl<2.0,>=1.0 in /usr/local/lib/python3.9/dist-packages (from aiohttp->datasets>=2.5.2->fastcoref) (1.8.2)\n",
      "Requirement already satisfied: gitdb<5,>=4.0.1 in /usr/local/lib/python3.9/dist-packages (from GitPython!=3.1.29,>=1.0.0->wandb>=0.13.4->fastcoref) (4.0.10)\n",
      "Requirement already satisfied: certifi>=2017.4.17 in /usr/local/lib/python3.9/dist-packages (from requests>=2.19.0->datasets>=2.5.2->fastcoref) (2022.12.7)\n",
      "Requirement already satisfied: idna<3,>=2.5 in /usr/local/lib/python3.9/dist-packages (from requests>=2.19.0->datasets>=2.5.2->fastcoref) (2.10)\n",
      "Requirement already satisfied: urllib3<1.27,>=1.21.1 in /usr/local/lib/python3.9/dist-packages (from requests>=2.19.0->datasets>=2.5.2->fastcoref) (1.26.14)\n",
      "Requirement already satisfied: chardet<5,>=3.0.2 in /usr/local/lib/python3.9/dist-packages (from requests>=2.19.0->datasets>=2.5.2->fastcoref) (4.0.0)\n",
      "Requirement already satisfied: blis<0.8.0,>=0.7.8 in /usr/local/lib/python3.9/dist-packages (from thinc<8.2.0,>=8.1.0->spacy>=3.0.6->fastcoref) (0.7.9)\n",
      "Requirement already satisfied: confection<1.0.0,>=0.0.1 in /usr/local/lib/python3.9/dist-packages (from thinc<8.2.0,>=8.1.0->spacy>=3.0.6->fastcoref) (0.0.4)\n",
      "Requirement already satisfied: MarkupSafe>=2.0 in /usr/local/lib/python3.9/dist-packages (from jinja2->spacy>=3.0.6->fastcoref) (2.1.2)\n",
      "Requirement already satisfied: python-dateutil>=2.7.3 in /usr/local/lib/python3.9/dist-packages (from pandas->datasets>=2.5.2->fastcoref) (2.8.2)\n",
      "Requirement already satisfied: pytz>=2017.3 in /usr/local/lib/python3.9/dist-packages (from pandas->datasets>=2.5.2->fastcoref) (2022.7.1)\n",
      "Requirement already satisfied: smmap<6,>=3.0.1 in /usr/local/lib/python3.9/dist-packages (from gitdb<5,>=4.0.1->GitPython!=3.1.29,>=1.0.0->wandb>=0.13.4->fastcoref) (5.0.0)\n"
     ]
    }
   ],
   "source": [
    "!pip install ntlk\n",
    "!pip install num2words\n",
    "!pip install fuzzywuzzy\n",
    "!pip install python-Levenshtein\n",
    "!pip install ruptures\n",
    "!pip install sentence_transformers\n",
    "!pip install fastcoref"
   ]
  },
  {
   "cell_type": "code",
   "execution_count": 5,
   "metadata": {
    "colab": {
     "base_uri": "https://localhost:8080/"
    },
    "executionInfo": {
     "elapsed": 20926,
     "status": "ok",
     "timestamp": 1678535140707,
     "user": {
      "displayName": "bel hello",
      "userId": "14145485794765337692"
     },
     "user_tz": -480
    },
    "id": "DJxa8D2k_qsg",
    "outputId": "56b46f33-0484-42f3-a516-d24d7a43b440"
   },
   "outputs": [
    {
     "name": "stderr",
     "output_type": "stream",
     "text": [
      "/usr/local/lib/python3.9/dist-packages/torch/cuda/__init__.py:497: UserWarning: Can't initialize NVML\n",
      "  warnings.warn(\"Can't initialize NVML\")\n"
     ]
    },
    {
     "data": {
      "text/plain": [
       "<fastcoref.spacy_component.spacy_component.FastCorefResolver at 0x7f6265a48f10>"
      ]
     },
     "execution_count": 5,
     "metadata": {},
     "output_type": "execute_result"
    }
   ],
   "source": [
    "import pandas as pd\n",
    "import numpy as np\n",
    "\n",
    "import nltk\n",
    "from nltk.corpus import stopwords\n",
    "from nltk.corpus import wordnet\n",
    "from nltk.stem.wordnet import WordNetLemmatizer \n",
    "from nltk.stem import PorterStemmer\n",
    "from nltk import word_tokenize, sent_tokenize, pos_tag, ne_chunk\n",
    "from nltk import RegexpParser\n",
    "from nltk import Tree\n",
    "\n",
    "import re\n",
    "import num2words\n",
    "import json\n",
    "\n",
    "#For segmentation of transcript into product reviews\n",
    "import ruptures as rpt\n",
    "from ruptures.base import BaseCost\n",
    "from sentence_transformers import SentenceTransformer, util\n",
    "from fastcoref import spacy_component\n",
    "import spacy\n",
    "nlp = spacy.load(\"en_core_web_sm\")\n",
    "nlp.add_pipe(\"fastcoref\")"
   ]
  },
  {
   "cell_type": "code",
   "execution_count": 6,
   "metadata": {
    "colab": {
     "base_uri": "https://localhost:8080/"
    },
    "executionInfo": {
     "elapsed": 730,
     "status": "ok",
     "timestamp": 1678535141418,
     "user": {
      "displayName": "bel hello",
      "userId": "14145485794765337692"
     },
     "user_tz": -480
    },
    "id": "2lm2HNfGVwuF",
    "outputId": "c93d88f6-6366-437d-fe00-f08d5a44ea04"
   },
   "outputs": [
    {
     "name": "stderr",
     "output_type": "stream",
     "text": [
      "[nltk_data] Downloading package stopwords to /root/nltk_data...\n",
      "[nltk_data]   Package stopwords is already up-to-date!\n",
      "[nltk_data] Downloading package punkt to /root/nltk_data...\n",
      "[nltk_data]   Package punkt is already up-to-date!\n",
      "[nltk_data] Downloading package averaged_perceptron_tagger to\n",
      "[nltk_data]     /root/nltk_data...\n",
      "[nltk_data]   Package averaged_perceptron_tagger is already up-to-\n",
      "[nltk_data]       date!\n",
      "[nltk_data] Downloading package wordnet to /root/nltk_data...\n",
      "[nltk_data]   Package wordnet is already up-to-date!\n",
      "[nltk_data] Downloading package omw-1.4 to /root/nltk_data...\n",
      "[nltk_data]   Package omw-1.4 is already up-to-date!\n",
      "[nltk_data] Downloading package maxent_ne_chunker to\n",
      "[nltk_data]     /root/nltk_data...\n",
      "[nltk_data]   Package maxent_ne_chunker is already up-to-date!\n",
      "[nltk_data] Downloading package words to /root/nltk_data...\n",
      "[nltk_data]   Package words is already up-to-date!\n"
     ]
    },
    {
     "data": {
      "text/plain": [
       "True"
      ]
     },
     "execution_count": 6,
     "metadata": {},
     "output_type": "execute_result"
    }
   ],
   "source": [
    "nltk.download('stopwords')\n",
    "nltk.download('punkt')\n",
    "nltk.download('averaged_perceptron_tagger')\n",
    "nltk.download('wordnet')\n",
    "nltk.download('omw-1.4')\n",
    "nltk.download('maxent_ne_chunker')\n",
    "nltk.download('words')"
   ]
  },
  {
   "cell_type": "markdown",
   "metadata": {
    "id": "ntIFHR7mUQhu"
   },
   "source": [
    "Intialise Classes for Product Review Identification and Segmentation"
   ]
  },
  {
   "cell_type": "code",
   "execution_count": 7,
   "metadata": {
    "executionInfo": {
     "elapsed": 4,
     "status": "ok",
     "timestamp": 1678535141418,
     "user": {
      "displayName": "bel hello",
      "userId": "14145485794765337692"
     },
     "user_tz": -480
    },
    "id": "W80RtDhVkcwE"
   },
   "outputs": [],
   "source": [
    "class ProductIdentifier:\n",
    "  def __init__(self):\n",
    "    pass\n",
    "\n",
    "  def remove_non_ascii(self, text):\n",
    "    return re.sub(r'[^\\x00-\\x7F]+',' ', text)\n",
    "\n",
    "  def GetNounsWithNLTK(self, text, chunk_func=ne_chunk):\n",
    "    chunked = chunk_func(pos_tag(word_tokenize(text)))\n",
    "    continuous_chunk = []\n",
    "    current_chunk = []\n",
    "\n",
    "    for subtree in chunked:\n",
    "      if type(subtree) == Tree:\n",
    "        current_chunk.append(\" \".join([token for token, pos in subtree.leaves()]))\n",
    "      elif current_chunk:\n",
    "        named_entity = \" \".join(current_chunk)\n",
    "        if named_entity not in continuous_chunk:\n",
    "          continuous_chunk.append(named_entity)\n",
    "          current_chunk = []\n",
    "      else:\n",
    "        continue\n",
    "\n",
    "    return continuous_chunk\n",
    "\n",
    "  def Check_If_NP_Is_Known_Product(self, np, product_lexicon):\n",
    "    for product in product_lexicon:\n",
    "      if np == product:\n",
    "        return True\n",
    "    return False\n",
    "\n",
    "  def Check_If_NP_Has_Product_Indicator(self, np, product_indicators):\n",
    "    for product in product_indicators:\n",
    "      similarity = fuzz.partial_ratio(np.lower(),product.lower())\n",
    "      if similarity >= 80:\n",
    "        return True\n",
    "    return False\n",
    "\n",
    "  def Check_If_NP_Is_Product(self, np, product_indicators, product_lexicon):\n",
    "    if self.Check_If_NP_Is_Known_Product(np, product_lexicon):\n",
    "      return True\n",
    "    elif self.Check_If_NP_Has_Product_Indicator(np, product_indicators):\n",
    "      return True\n",
    "    else:\n",
    "      return False\n",
    "\n",
    "  def is_not_substring_of_another_product(self, product, product_lst):\n",
    "    for comparison_product in product_lst:\n",
    "      if product.lower() == comparison_product.lower():\n",
    "        continue\n",
    "      if product.lower() in comparison_product.lower():\n",
    "        return False\n",
    "    return True\n",
    "\n",
    "  def detect_products_from_transcript(self, review_dict, product_indicators, product_lexicon):\n",
    "    text = review_dict[\"transcript_text\"]\n",
    "    #likely to contain the products\n",
    "    nouns_in_transcript = self.GetNounsWithNLTK(text)\n",
    "\n",
    "    #only keep if len > 2 \n",
    "    nouns_in_transcript = list(filter(lambda noun_phrase: len(nltk.word_tokenize(noun_phrase))>=2, nouns_in_transcript))\n",
    "\n",
    "    #keep if match with brand name or contain a product term\n",
    "    nouns_in_transcript = list(filter(lambda noun_phrase: self.Check_If_NP_Is_Product(noun_phrase, product_indicators, product_lexicon), nouns_in_transcript))\n",
    "\n",
    "    #filter the products\n",
    "    nouns_in_transcript = list(filter(lambda product: self.is_not_substring_of_another_product(product, nouns_in_transcript), nouns_in_transcript))\n",
    "\n",
    "    return list(set(nouns_in_transcript))\n",
    "  \n",
    "  def contains_url(self, text):\n",
    "    regex = r\"(?i)\\b((?:https?://|www\\d{0,3}[.]|[a-z0-9.\\-]+[.][a-z]{2,4}/)(?:[^\\s()<>]+|\\(([^\\s()<>]+|(\\([^\\s()<>]+\\)))*\\))+(?:\\(([^\\s()<>]+|(\\([^\\s()<>]+\\)))*\\)|[^\\s`!()\\[\\]{};:'\\\".,<>?«»“”‘’]))\"\n",
    "    url = re.findall(regex, text)\n",
    "    if url != []:\n",
    "      return True\n",
    "    else:\n",
    "      return False\n",
    "\n",
    "  def remove_url(self, text):\n",
    "    regex = r\"(?i)\\b((?:https?://|www\\d{0,3}[.]|[a-z0-9.\\-]+[.][a-z]{2,4}/)(?:[^\\s()<>]+|\\(([^\\s()<>]+|(\\([^\\s()<>]+\\)))*\\))+(?:\\(([^\\s()<>]+|(\\([^\\s()<>]+\\)))*\\)|[^\\s`!()\\[\\]{};:'\\\".,<>?«»“”‘’]))\"\n",
    "    removed_url_text = re.sub(regex, \"\", text)\n",
    "    return removed_url_text\n",
    "\n",
    "  def clean_desc(self, text):\n",
    "    text = text.replace(\":\", \"\")\n",
    "    text = text.replace(\"*\", \"\")\n",
    "    return text\n",
    "\n",
    "  def detect_products_from_desc(self, review_dict):\n",
    "    description = review_dict[\"description\"]\n",
    "    channel_title = review_dict[\"channel_title\"]\n",
    "    split_desc = description.split(\"\\n\")\n",
    "    desc_sentence_with_url = list(filter(lambda txt: self.contains_url(txt), split_desc))\n",
    "    #set higher threshold because even if e.g. \"mal\" \"ibu\" match seperately -- it raises the match score\n",
    "    desc_sentence_without_channel_url = list(filter(lambda txt: fuzz.partial_ratio(txt.lower(),channel_title.lower()) < 80, desc_sentence_with_url))\n",
    "    products = list(filter(lambda txt: self.Check_If_NP_Is_Product(txt, product_indicators, product_lexicon),desc_sentence_without_channel_url))\n",
    "    products = list(filter(lambda txt: self.is_not_substring_of_another_product(txt,products),products))\n",
    "    filtered_desc_product_lst = [self.clean_desc(self.remove_url(txt)) for txt in products]\n",
    "    return filtered_desc_product_lst\n",
    "\n",
    "  def detect_products(self, review_dict, product_indicators, product_lexicon):\n",
    "    filtered_transcript_product_lst = self.detect_products_from_transcript(self, review_dict, product_indicators, product_lexicon)\n",
    "    filtered_desc_product_lst = self.detect_products_from_desc(review_dict)\n",
    "    filtered_transcript_product_lst.extend(filtered_desc_product_lst)\n",
    "    filtered_product_lst = list(filter(lambda txt: self.is_not_substring_of_another_product(txt,filtered_transcript_product_lst),filtered_transcript_product_lst))\n",
    "    filtered_product_lst = list(set(filtered_product_lst))\n",
    "    return filtered_product_lst\n",
    "\n",
    "class CoreferenceResolver:\n",
    "  def __init__(self):\n",
    "    pass\n",
    "  \n",
    "  def get_coresolved_text(self,texts):\n",
    "    docs = list(nlp.pipe(texts, component_cfg={\"fastcoref\": {'resolve_text': True}}))\n",
    "    coresolved_transcript = docs[0]._.resolved_text\n",
    "    return coresolved_transcript \n",
    "\n",
    "#Define cost function for segmentation\n",
    "class CosineCost(BaseCost):\n",
    "    \"\"\"Cost derived from the cosine similarity.\"\"\"\n",
    "\n",
    "    # The 2 following attributes must be specified for compatibility.\n",
    "    model = \"custom_cosine\"\n",
    "    min_size = 2\n",
    "\n",
    "    def fit(self, signal):\n",
    "        \"\"\"Set the internal parameter.\"\"\"\n",
    "        self.signal = signal\n",
    "        self.gram = util.cos_sim(signal, signal)\n",
    "        return self\n",
    "\n",
    "    def error(self, start, end) -> float:\n",
    "        \"\"\"Return the approximation cost on the segment [start:end].\n",
    "\n",
    "        Args:\n",
    "            start (int): start of the segment\n",
    "            end (int): end of the segment\n",
    "        Returns:\n",
    "            segment cost\n",
    "        Raises:\n",
    "            NotEnoughPoints: when the segment is too short (less than `min_size` samples).\n",
    "        \"\"\"\n",
    "        if end - start < self.min_size:\n",
    "            raise NotEnoughPoints\n",
    "        sub_gram = self.gram[start:end, start:end]\n",
    "        val = sub_gram.diagonal().sum()\n",
    "        val -= sub_gram.sum() / (end - start)\n",
    "        return val\n",
    "\n",
    "class TranscriptSegmenter:\n",
    "  def __init__(self):\n",
    "    self.segmentation_cost_function_class = CosineCost()\n",
    "    self.product_identifier = ProductIdentifier()\n",
    "    self.sentence_embedding_model = SentenceTransformer('all-MiniLM-L6-v2')\n",
    "\n",
    "  def get_sentence_list_from_transcript(self, transcript):\n",
    "    phrases = nltk.sent_tokenize(transcript)\n",
    "    pos_tagged = [pos_tag(nltk.word_tokenize(sentence.lower())) for sentence in phrases]\n",
    "    new_combined_sentence_list = []\n",
    "    for i in range(len(phrases)):\n",
    "      tagged_phrase = pos_tagged[i]\n",
    "      tag_of_first_word = tagged_phrase[0][1]\n",
    "      conjunctions_lst = [\"IN\", \"CC\", \"WDT\", \"TO\", \"WRB\", \"VBG\", \"VBZ\", \"RB\"]\n",
    "      end_lst = [\"IN\", \"CC\", \"WDT\", \"TO\", \"WRB\", \"VBG\", \"VBZ\", \"DT\", \"RB\"]\n",
    "      join_sentence = False\n",
    "      if i >= 1:\n",
    "        last_tag_in_prev_sentence = pos_tagged[i-1][-1][1]\n",
    "        if last_tag_in_prev_sentence in end_lst:\n",
    "          join_sentence = True\n",
    "      if tag_of_first_word in conjunctions_lst:\n",
    "        join_sentence = True\n",
    "\n",
    "      if join_sentence:\n",
    "        #lowercase the first letter to reduce noise when doing NP identification e.g. \"Which is so beautiful\" --> Which to which\n",
    "        sub_clause = phrases[i].replace(phrases[i][0],phrases[i][0].lower(),1)\n",
    "        new_combined_sentence_list[-1] = new_combined_sentence_list[-1] + \" \" + sub_clause\n",
    "      else:\n",
    "        new_combined_sentence_list.append(phrases[i])\n",
    "    return new_combined_sentence_list\n",
    "\n",
    "  def segment_transcript(self, num_products, resolved_sentences, original_sentences):\n",
    "    #Find breaks where similarity between chunks is the lowest\n",
    "    embeddings = self.sentence_embedding_model.encode(resolved_sentences, convert_to_tensor=True)\n",
    "    n_bkps = num_products-1+2  # e.g. there are 9 change points (10 text segments) + intro and outro\n",
    "    algo = rpt.Dynp(custom_cost=self.segmentation_cost_function_class, min_size=2, jump=1).fit(embeddings)\n",
    "    predicted_bkps = algo.predict(n_bkps=n_bkps)\n",
    "    iteration_lst = predicted_bkps\n",
    "    iteration_lst.insert(0, 0)\n",
    "\n",
    "    chunk_lst = []\n",
    "    for i in range(len(iteration_lst)-1):\n",
    "      chunk_resolved = \" \".join(resolved_sentences[iteration_lst[i]:iteration_lst[i+1]])\n",
    "      chunk_org = \" \".join(original_sentences[iteration_lst[i]:iteration_lst[i+1]])\n",
    "      chunk_lst.append((chunk_resolved, chunk_org))\n",
    "    return chunk_lst\n",
    "\n",
    "  def split_transcript_by_detected_products(self, review_dict, product_indicators, product_lexicon):\n",
    "    text_transcript = review_dict[\"transcript_text\"]\n",
    "\n",
    "    #Conduct coresolution to better identify products in each segmented chunk and improve distinction between different chunks\n",
    "    coresolved_transcript = self.coreference_resolver.get_coreference_resolved_text(text_transcript)\n",
    "\n",
    "    #Get an estimate of the number of products for segmentation algo\n",
    "    filtered_product_lst = self.product_identifier.detect_products(coresolved_transcript, product_indicators, product_lexicon)\n",
    "    #to remove as channel title and other human names that may be identified as a NP\n",
    "    channel_title = review_dict[\"channel_title\"]\n",
    "    stop_words = channel_title.split()\n",
    "    filtered_product_lst = list(filter(lambda noun_phrase: noun_phrase not in stop_words, filtered_product_lst))\n",
    "\n",
    "    #Conduct segmentation\n",
    "    sentences = self.get_sentences_from_transcript(coresolved_transcript)\n",
    "    num_products= len(filtered_product_lst)\n",
    "    chunk_lst = self.segment_transcript(num_products, sentences)\n",
    "\n",
    "    product_review_dict = {}\n",
    "    for chunk_pair in chunk_lst[1:len(chunk_lst)-1]:\n",
    "      for product in filtered_product_lst:\n",
    "        resolved_chunk = chunk_pair[0]\n",
    "        original_chunk = chunk_pair[1]\n",
    "        if fuzz.partial_ratio(product, resolved_chunk) > 70:\n",
    "          if product in product_review_dict:\n",
    "            product_review_dict[product] = product_review_dict[product] + \" \" + original_chunk\n",
    "          else: \n",
    "            product_review_dict[product] = original_chunk\n",
    "\n",
    "    return product_review_dict\n",
    "\n",
    "  #Case of video having chapters\n",
    "\n",
    "  def process_raw_transcript(self, raw_transcript):\n",
    "    text_list = [segment[\"text\"] for segment in raw_transcript]\n",
    "    text = \" \".join(text_list)\n",
    "    text = re.sub(\"\\n\", \" \", text)\n",
    "    #remove non-ascii characters -- to remove foreign lang characters\n",
    "    text = self.product_identifier.remove_non_ascii(text)\n",
    "    return text\n",
    "\n",
    "  def split_transcript_by_chapters(self, raw_transcript, chapters):\n",
    "    starts = [round(segment[\"start\"]) for segment in raw_transcript]\n",
    "    product_review_dict = []\n",
    "    chapter_index_list = []\n",
    "    for chapter in chapters:\n",
    "      time_in_sec = round(chapter[\"time_in_min\"] * 60)\n",
    "      #get a index list of chapters \n",
    "      new_insertion_index = bisect.bisect_left(starts, time_in_sec)\n",
    "      chapter_index_list.append(new_insertion_index)\n",
    "    chapter_index_list.append(len(raw_transcript)-1)\n",
    "    for i in range(len(chapter_index_list)-1):\n",
    "      title = chapters[i][\"title\"]\n",
    "      start_index = chapter_index_list[i]\n",
    "      end_index = chapter_index_list[i+1]\n",
    "      product_review_dict.append({title:self.process_raw_transcript(raw_transcript[start_index:end_index])})\n",
    "    \n",
    "    return product_review_dict\n",
    "\n",
    "\n",
    "  def get_product_review_dict(self, review_dict, product_indicator, product_lexicon):\n",
    "    chapters = sample_review_dict[\"chapters\"]\n",
    "    product_review_dict = {}\n",
    "    if chapters == []:\n",
    "      product_review_dict = self.split_transcript_by_detected_products(review_dict, product_indicator, product_lexicon)\n",
    "    else:\n",
    "      raw_transcript = sample_review_dict[\"transcript_raw\"]\n",
    "      product_review_dict = self.split_transcript_by_chapters(raw_transcript, chapters)\n",
    "    return product_review_dict\n"
   ]
  },
  {
   "cell_type": "markdown",
   "metadata": {
    "id": "jWQZZLavdKXK"
   },
   "source": [
    "Load Youtube Data"
   ]
  },
  {
   "cell_type": "code",
   "execution_count": 8,
   "metadata": {
    "executionInfo": {
     "elapsed": 4,
     "status": "ok",
     "timestamp": 1678535141419,
     "user": {
      "displayName": "bel hello",
      "userId": "14145485794765337692"
     },
     "user_tz": -480
    },
    "id": "6T73mlgljGzM"
   },
   "outputs": [],
   "source": [
    "import bisect\n",
    "import json\n",
    "from fuzzywuzzy import fuzz"
   ]
  },
  {
   "cell_type": "code",
   "execution_count": 9,
   "metadata": {
    "executionInfo": {
     "elapsed": 1445,
     "status": "ok",
     "timestamp": 1678535142860,
     "user": {
      "displayName": "bel hello",
      "userId": "14145485794765337692"
     },
     "user_tz": -480
    },
    "id": "j0awCOg7bRdP"
   },
   "outputs": [],
   "source": [
    "product_identifier = ProductIdentifier()\n",
    "transcript_segmenter = TranscriptSegmenter()"
   ]
  },
  {
   "cell_type": "code",
   "execution_count": 10,
   "metadata": {
    "executionInfo": {
     "elapsed": 6,
     "status": "ok",
     "timestamp": 1678535142861,
     "user": {
      "displayName": "bel hello",
      "userId": "14145485794765337692"
     },
     "user_tz": -480
    },
    "id": "vdlLE_u4gGbb"
   },
   "outputs": [],
   "source": [
    "#Load data scraped using various Youtube API\n",
    "with open('youtube_data.json', 'r') as f:\n",
    "  reviews = json.load(f)"
   ]
  },
  {
   "cell_type": "markdown",
   "metadata": {
    "id": "vhc1l0DTcVfM"
   },
   "source": [
    "How it works\n",
    "- Chapter segmentation remains the same"
   ]
  },
  {
   "cell_type": "code",
   "execution_count": 11,
   "metadata": {
    "executionInfo": {
     "elapsed": 5,
     "status": "ok",
     "timestamp": 1678535142861,
     "user": {
      "displayName": "bel hello",
      "userId": "14145485794765337692"
     },
     "user_tz": -480
    },
    "id": "0b3XLcyfdRQx"
   },
   "outputs": [],
   "source": [
    "sample_review_id = \"8qvjvbYvYsA\"\n",
    "sample_review_dict = reviews[sample_review_id]"
   ]
  },
  {
   "cell_type": "code",
   "execution_count": 12,
   "metadata": {
    "executionInfo": {
     "elapsed": 5,
     "status": "ok",
     "timestamp": 1678535142862,
     "user": {
      "displayName": "bel hello",
      "userId": "14145485794765337692"
     },
     "user_tz": -480
    },
    "id": "iDcmoMkdcQgc"
   },
   "outputs": [],
   "source": [
    "product_indicators = pd.read_csv(\"Category Lexicon.csv\")[\"Category\"].to_list()\n",
    "product_lexicon = pd.read_csv(\"Product Lexicon.csv\")[\"Product\"].to_list()"
   ]
  },
  {
   "cell_type": "markdown",
   "metadata": {
    "id": "lg0r0vLecTWq"
   },
   "source": [
    "Addition from Iteration 1: Additional parsing of sentences from NLTK because transcript is in sub-sentences e.g. \"This is\", \"A primer\", \"Which is wonderful\" so we want to join these sub-sentences together to improve segmentation"
   ]
  },
  {
   "cell_type": "code",
   "execution_count": 13,
   "metadata": {
    "colab": {
     "base_uri": "https://localhost:8080/"
    },
    "executionInfo": {
     "elapsed": 718,
     "status": "ok",
     "timestamp": 1678535143575,
     "user": {
      "displayName": "bel hello",
      "userId": "14145485794765337692"
     },
     "user_tz": -480
    },
    "id": "BeCXtY_E7qK6",
    "outputId": "c5b3c7ae-218f-4c36-e0bb-eaf33bc6173d"
   },
   "outputs": [
    {
     "name": "stdout",
     "output_type": "stream",
     "text": [
      "Before combining: 181\n",
      "After combining: 139\n"
     ]
    }
   ],
   "source": [
    "#captured in transcript_segmenter.get_sentence_list_from_transcript(transcript)\n",
    "text_transcript = sample_review_dict[\"transcript_text\"]\n",
    "phrases = nltk.sent_tokenize(text_transcript)\n",
    "pos_tagged = [pos_tag(nltk.word_tokenize(sentence.lower())) for sentence in phrases]\n",
    "new_combined_sentence_list = []\n",
    "for i in range(len(phrases)):\n",
    "  tagged_phrase = pos_tagged[i]\n",
    "  tag_of_first_word = tagged_phrase[0][1]\n",
    "  conjunctions_lst = [\"IN\", \"CC\", \"WDT\", \"TO\", \"WRB\", \"VBG\", \"VBZ\", \"RB\"]\n",
    "  end_lst = [\"IN\", \"CC\", \"WDT\", \"TO\", \"WRB\", \"VBG\", \"VBZ\", \"DT\", \"RB\"]\n",
    "  join_sentence = False\n",
    "  if i >= 1:\n",
    "    last_tag_in_prev_sentence = pos_tagged[i-1][-1][1]\n",
    "    if last_tag_in_prev_sentence in end_lst:\n",
    "      join_sentence = True\n",
    "  if tag_of_first_word in conjunctions_lst:\n",
    "    join_sentence = True\n",
    "\n",
    "  if join_sentence:\n",
    "    #lowercase the first letter to reduce noise when doing NP identification e.g. \"Which is so beautiful\" --> Which to which\n",
    "    sub_clause = phrases[i].replace(phrases[i][0],phrases[i][0].lower(),1)\n",
    "    new_combined_sentence_list[-1] = new_combined_sentence_list[-1] + \" \" + sub_clause\n",
    "  else:\n",
    "    new_combined_sentence_list.append(phrases[i])\n",
    "print(f\"Before combining: {len(phrases)}\")\n",
    "print(f\"After combining: {len(new_combined_sentence_list)}\")"
   ]
  },
  {
   "cell_type": "markdown",
   "metadata": {
    "id": "Umzxk4DPf9gd"
   },
   "source": [
    "Addition from Iteration 1: Product Identification from Description\n",
    "- Keep sentences with URL in the description\n",
    "- We remove sentences with channel url\n",
    "- We then parse for noun phrases and keep those that are related to makeup as \n",
    "- These are likely the product names"
   ]
  },
  {
   "cell_type": "code",
   "execution_count": 14,
   "metadata": {
    "colab": {
     "base_uri": "https://localhost:8080/"
    },
    "executionInfo": {
     "elapsed": 7,
     "status": "ok",
     "timestamp": 1678535143576,
     "user": {
      "displayName": "bel hello",
      "userId": "14145485794765337692"
     },
     "user_tz": -480
    },
    "id": "XrIbM_2mm1x_",
    "outputId": "c98a3106-17b0-4ad9-8e6d-72a2470f6c11"
   },
   "outputs": [
    {
     "data": {
      "text/plain": [
       "['Primer elf Oil Control Lotion ',\n",
       " 'Foundation L’Oreal Skin Serum (0.5-2 Very Light) ',\n",
       " 'Concealer NYX Serum Concealer (Vanilla) ',\n",
       " 'Setting Powder Maybelline Fit Me Loose Finishing Powder (Fair Light) ',\n",
       " 'Eyebrow Winky Lux Micro Universal Brow Pencil ',\n",
       " 'Eyebrow Gel NYX The Brow Glue ',\n",
       " 'Eyeshadow Primer Milani Eyeshadow Primer ',\n",
       " 'Eyeshadow Primer Wet n Wild PhotoFocus Base  ',\n",
       " 'Eyeshadow elf Bite Size Palette (Truffles, Rose Water) ',\n",
       " 'Gel Eyeliner Milani Stay Put Eyeliner ',\n",
       " 'Gel Eyeliner Revlon Vinyl Eyeliner ',\n",
       " 'Mascara Primer L’Oreal Voluminous Primer ',\n",
       " 'Mascara Maybelline Lash Sensational ',\n",
       " 'Cream Bronzer elf Putty Bronzer (Tan Lines) ',\n",
       " 'Bronzer Juvia’s Place Bronzer Palette (Light) ',\n",
       " 'Cream Blush Elf Putty Blush (Tahiti) ',\n",
       " 'Blush Milani Powder Blush (Blossomtime Rose) ',\n",
       " 'Highlighter Catrice More Than Glow Highlighter (Supreme Rose Beam) ',\n",
       " 'Lip Liner NYX Lip Pencil (Nude Truffle) ',\n",
       " 'Lip Liner Milani Color Statement Lip Liner (04 All Natural) ',\n",
       " 'Lip Gloss Milani Keep it Full Maxxx Lip Plumper (110 Little Secret) ']"
      ]
     },
     "execution_count": 14,
     "metadata": {},
     "output_type": "execute_result"
    }
   ],
   "source": [
    "product_identifier = ProductIdentifier()\n",
    "filtered_desc_product_lst = product_identifier.detect_products_from_desc(sample_review_dict)\n",
    "filtered_desc_product_lst"
   ]
  },
  {
   "cell_type": "markdown",
   "metadata": {
    "id": "mZ0OyuYhY1h_"
   },
   "source": [
    "Same as Iteration 1: Parse for product names in text transcript"
   ]
  },
  {
   "cell_type": "code",
   "execution_count": 15,
   "metadata": {
    "colab": {
     "base_uri": "https://localhost:8080/"
    },
    "executionInfo": {
     "elapsed": 3436,
     "status": "ok",
     "timestamp": 1678535147008,
     "user": {
      "displayName": "bel hello",
      "userId": "14145485794765337692"
     },
     "user_tz": -480
    },
    "id": "03FsPQkQYfD3",
    "outputId": "ca7d37d2-3ff0-4b92-a415-3f6f846f28a0"
   },
   "outputs": [
    {
     "data": {
      "text/plain": [
       "['Me Concealer Serum',\n",
       " 'Blossomtime Rose',\n",
       " 'Tan Lines',\n",
       " 'Milani Blush',\n",
       " 'NYX Bear',\n",
       " 'Maybelline Age Rewind Concealer',\n",
       " 'Happy New Year',\n",
       " 'Maybelline Fit Me',\n",
       " 'Putty Blush',\n",
       " 'Putty Bronzer',\n",
       " 'Match Hyaluronic Tinted Serum']"
      ]
     },
     "execution_count": 15,
     "metadata": {},
     "output_type": "execute_result"
    }
   ],
   "source": [
    "#We then also parse for noun phrases in the text transcript using syntax rules -- this is same as iteration 1\n",
    "filtered_transcript_product_lst = product_identifier.detect_products_from_transcript(sample_review_dict, product_indicators, product_lexicon)\n",
    "filtered_transcript_product_lst"
   ]
  },
  {
   "cell_type": "markdown",
   "metadata": {
    "id": "fA5EBA9KY56c"
   },
   "source": [
    "Combine both the products in the description and the transcript"
   ]
  },
  {
   "cell_type": "code",
   "execution_count": 16,
   "metadata": {
    "colab": {
     "base_uri": "https://localhost:8080/"
    },
    "executionInfo": {
     "elapsed": 7,
     "status": "ok",
     "timestamp": 1678535147008,
     "user": {
      "displayName": "bel hello",
      "userId": "14145485794765337692"
     },
     "user_tz": -480
    },
    "id": "bGfVMlgrCpoH",
    "outputId": "7bf87765-6803-4e68-cac5-bb26af4ec7de"
   },
   "outputs": [
    {
     "data": {
      "text/plain": [
       "['Bronzer Juvia’s Place Bronzer Palette (Light) ',\n",
       " 'Primer elf Oil Control Lotion ',\n",
       " 'Mascara Maybelline Lash Sensational ',\n",
       " 'Happy New Year',\n",
       " 'Mascara Primer L’Oreal Voluminous Primer ',\n",
       " 'Milani Blush',\n",
       " 'NYX Bear',\n",
       " 'Lip Liner NYX Lip Pencil (Nude Truffle) ',\n",
       " 'Maybelline Age Rewind Concealer',\n",
       " 'Eyeshadow elf Bite Size Palette (Truffles, Rose Water) ',\n",
       " 'Lip Gloss Milani Keep it Full Maxxx Lip Plumper (110 Little Secret) ',\n",
       " 'Foundation L’Oreal Skin Serum (0.5-2 Very Light) ',\n",
       " 'Match Hyaluronic Tinted Serum',\n",
       " 'Highlighter Catrice More Than Glow Highlighter (Supreme Rose Beam) ',\n",
       " 'Gel Eyeliner Revlon Vinyl Eyeliner ',\n",
       " 'Blush Milani Powder Blush (Blossomtime Rose) ',\n",
       " 'Lip Liner Milani Color Statement Lip Liner (04 All Natural) ',\n",
       " 'Setting Powder Maybelline Fit Me Loose Finishing Powder (Fair Light) ',\n",
       " 'Gel Eyeliner Milani Stay Put Eyeliner ',\n",
       " 'Cream Bronzer elf Putty Bronzer (Tan Lines) ',\n",
       " 'Cream Blush Elf Putty Blush (Tahiti) ',\n",
       " 'Me Concealer Serum',\n",
       " 'Eyebrow Gel NYX The Brow Glue ',\n",
       " 'Concealer NYX Serum Concealer (Vanilla) ',\n",
       " 'Eyeshadow Primer Wet n Wild PhotoFocus Base  ',\n",
       " 'Eyebrow Winky Lux Micro Universal Brow Pencil ',\n",
       " 'Eyeshadow Primer Milani Eyeshadow Primer ']"
      ]
     },
     "execution_count": 16,
     "metadata": {},
     "output_type": "execute_result"
    }
   ],
   "source": [
    "filtered_transcript_product_lst.extend(filtered_desc_product_lst)\n",
    "filtered_product_lst = list(filter(lambda txt: product_identifier.is_not_substring_of_another_product(txt,filtered_transcript_product_lst),filtered_transcript_product_lst))\n",
    "filtered_product_lst = list(set(filtered_product_lst))\n",
    "filtered_product_lst"
   ]
  },
  {
   "cell_type": "markdown",
   "metadata": {
    "id": "h2nlJO2qfS-R"
   },
   "source": [
    "Experiment with a faster model for model based coreference resolution "
   ]
  },
  {
   "cell_type": "code",
   "execution_count": 17,
   "metadata": {
    "colab": {
     "base_uri": "https://localhost:8080/",
     "height": 175,
     "referenced_widgets": [
      "3f2a405a4254457495c7bb72a1f7a4cf",
      "178b400cf5054fabb78c28135211a971",
      "28bcd0f6a43c4e9881bdc514853484aa",
      "15b4b66c7cf74660a7c8d51de9ecfcbf",
      "cd9cb2f126824eabaca751c34f6be7da",
      "b976b627798041abac482ff54c52fe67",
      "1257e0ee7fa44f0898dfd7a5fed0999d",
      "03bfb792b2ba4b30a962ed5cafab6c42",
      "025e44e53b0b4f2e844eab491227564c",
      "ebcda34855114b9d91a84a0ea9532ef1",
      "e566a2b640fd42298515fd657315d07d",
      "e55ce7286ddc4e40b0360d19b96dc109",
      "fccabe11021e4ff2b7448e0edef94e7b",
      "3eb4eaf0c32a4ce7b73f2a2beba42e52",
      "7b80cc4b9145476d9635be2116fb959f",
      "2bd56425b50a4205ae9fde9f9442942d",
      "c360f9cf913540ee85fe2dc964e7736b",
      "5ea2773fcd744d40b33722605ee6fc57",
      "c2e58683dbd54f2c91ac7788c54779b6",
      "7fe1fd227486400c829f51d94bf4ba32",
      "b6a266830aef4121abec54b40b91bb96",
      "3aa9cafa9c8b410798556fc301c5cca3"
     ]
    },
    "executionInfo": {
     "elapsed": 39171,
     "status": "ok",
     "timestamp": 1678535186175,
     "user": {
      "displayName": "bel hello",
      "userId": "14145485794765337692"
     },
     "user_tz": -480
    },
    "id": "WfF8CVmpONM4",
    "outputId": "05279992-4a11-4acb-8fe9-c8a4970266c9"
   },
   "outputs": [
    {
     "data": {
      "application/vnd.jupyter.widget-view+json": {
       "model_id": "3f2a405a4254457495c7bb72a1f7a4cf",
       "version_major": 2,
       "version_minor": 0
      },
      "text/plain": [
       "Map:   0%|          | 0/1 [00:00<?, ? examples/s]"
      ]
     },
     "metadata": {},
     "output_type": "display_data"
    },
    {
     "data": {
      "application/vnd.jupyter.widget-view+json": {
       "model_id": "e55ce7286ddc4e40b0360d19b96dc109",
       "version_major": 2,
       "version_minor": 0
      },
      "text/plain": [
       "Inference:   0%|          | 0/1 [00:00<?, ?it/s]"
      ]
     },
     "metadata": {},
     "output_type": "display_data"
    },
    {
     "data": {
      "application/vnd.google.colaboratory.intrinsic+json": {
       "type": "string"
      },
      "text/plain": [
       "'- Hello, my lovelies, and Happy New Year.\\nToday, it\\'s all about the\\nbest affordable makeup of 2021\\nfrom my rendition, my opinion, my makeup\\nthat I just kept going\\ntowards, kept reaching towards,\\nand I just couldn\\'t get enough of.\\nSome of them are newer products,\\neither the beginning of the year, mid,\\nor even towards the end of the year,\\nand then some of them are\\njust rediscovered loves.\\nLet\\'s begin, starting\\nfirst with the primer.\\nThis right here is by e.l.f.\\nI don\\'t usually like primers,\\nbut this one I actually\\n(laughs) really, really enjoyed.\\nthis one is their Oil Control\\nLiquid Lotion with tea tree oil.\\nthis one might put you off\\nif you have dry skin,\\nbut I found that this one just helped balance\\nthe oil throughout the\\nday, especially in a humid,\\nwarm, hot climate,\\ndefinitely towards the\\nspring and summertime,\\nbut I really enjoyed this\\nthroughout the entire year,\\nand I would mostly focus in areas\\nwhere I would get extra shiny,\\nlike right here, the T-zone,\\nor just even use this one all over my face\\nif I knew it was gonna be\\nreally hot and humid that day.\\nand this one also smells really nice.\\nbut this one doesn\\'t really mattify you.\\nthis one just gives a really nice, clean base\\nto begin your makeup.\\nthis one does have a little\\nbit of a tackiness,\\nso I find that my\\nmakeup, my\\nmakeup adheres better\\nwith this lotion/primer, but\\nI really enjoyed this one,\\nand like I said, don\\'t\\nlet this one steer you away\\nif you have super dry skin.\\nJust make sure you prep your\\nskin with your skincare,\\nand then use this one on top\\nbefore you apply your makeup.\\nFor foundation, this was the product\\nthat just kept me excited to\\nuse it over and over again.\\nthis pencil is the L\\'Oreal True\\nMatch Hyaluronic Tinted Serum.\\nI\\'m in Shade 0.5 to two.\\nThis right here is not like\\nyour typical foundation,\\nwhere it gives you a\\ncrazy amount of coverage,\\nbut something about this one,\\nthis one gives you the coverage.\\nthis one gives you that beautiful,\\nhealthy look to your skin\\nwithout making your skin look shiny,\\noily throughout the day,\\nand this one\\'s just a beautiful product.\\nbut I do like to wear this one on this one\\'s own,\\nand I do like the dropper.\\nYou can apply this one with your fingers,\\nbut I actually really like\\na dampened sponge with this one,\\nand this one just blends so nicely.\\nAnd it somehow this one looks like your skin,\\nbut giving a really good, light coverage\\nand just color correcting everything.\\nI love the way this one looks on my skin.\\nIf my skin\\'s having a good day, a bad day,\\nI find that this one just looks\\ngreat regardless. (laughs)\\nI love this one for an everyday\\ntype of a base, this one\\'s phenomenal.\\nThe very first time I looked\\nat this one and reviewed this one,\\nin the packaging, in the\\nbottle, this one looks iridescent.\\nIt looks like this one has this\\npearly, glittery finish,\\nbut I don\\'t know, somehow,\\nmagically, this one looks incredible,\\nand this one just gives you the\\nperfect amount of radiance\\nto your skin without looking\\nlike a highlighter or an\\nilluminator, because in the bottle,\\nthis one looks very much so\\ntowards the highlighter, illuminator,\\nlike an illuminator for your skin.\\nthis one, I can\\'t get enough of this one.\\nOkay, let\\'s move on to brows, Winky Lux.\\nI don\\'t know how many times\\nI\\'ve repurchased this pencil,\\nbut this pencil, this pencil\\'s the micro one.\\nand this pencil is Winky Lux\\'s universal shade.\\nYou have a little spoolie on one end,\\nand then you have the\\npencil on the other end.\\nJust something about the formula,\\nthe way the formula applies, the way the formula blends,\\nthe way lasts all day long, and the color,\\nit\\'s really, really great.\\nthis pencil\\'s one of my favorite\\npencils from the drugstore.\\nthis pencil\\'s not the cheapest,\\nbut I really, really, really enjoyed\\nthis pencil in 2021.\\nSo for a brow gel,\\nI don\\'t like many brow\\ngels from the drugstore.\\nI find that many brow\\ngels from the drugstore\\'re either too waxy\\nand many brow\\ngels from the drugstore just make your brows fall down,\\nespecially if you have stubborn brows,\\nor many brow\\ngels from the drugstore just don\\'t do anything, honestly.\\nI do like this one.\\nThis is a newer one from the drugstore.\\nThis is by NYX, this\\nis NYX\\'s The Brow Glue.\\nIf you like the laminated\\neffect for your brows,\\nyou might really enjoy this one,\\nbut I find that you have\\nto work in layers with this one.\\nFirst, do a really light layer.\\nGive a really light layer a little bit of time\\nto get tacky and dry down,\\nand then go in with a\\nvery light second layer\\non top to really comb\\nand give your brows\\nthe shape you want your brows\\nto last all day long,\\nand this one, this one stays\\non my brows all day long.\\nAnd this one gives just the perfect\\namount of crusty brows,\\n(laughs) even though we\\ndon\\'t like crusty brows,\\nbut with this type of a product,\\nyou will get a little bit.\\nOkay, so for concealers,\\nit\\'s the same thing with an eyebrow gel.\\nThere were a lot of concealers\\nthat I used from the drugstore,\\nbut a lot of concealers\\nthat I used from the drugstore were more of the\\nL\\'Oreal Infallible concealer,\\nthe Cover Girl concealer,\\nthe Maybelline Age Rewind\\nConcealer, classic,\\nbut this right here, I have to say,\\never since I tried this pencil,\\nI can\\'t stop using this pencil.\\nThe NYX Bear with Me Concealer Serum,\\nand there is a reason why this pencil went viral.\\nThe NYX Bear with Me Concealer Serum\\'s a good concealer.\\nNot just good, The NYX Bear with Me Concealer Serum\\'s a\\nphenomenal concealer.\\nI am in the shade Vanilla,\\nand the shade Vanilla\\'s the perfect color\\nfor me, which is very rare,\\nespecially from the drugstore.\\nI feel like I have to really\\ncreate my own concoctions,\\n(laughs) not even from the drugstore.\\nI have two shades I (laughs) usually use,\\nAnd I like to use my fingers first\\nto get The NYX Bear with Me Concealer Serum where I want The NYX Bear with Me Concealer Serum to be,\\nThe NYX Bear with Me Concealer Serum\\'s so lightweight, but The NYX Bear with Me Concealer Serum\\nstill provides you coverage.\\nThe NYX Bear with Me Concealer Serum\\'s super lightweight under the eyes.\\nThe NYX Bear with Me Concealer Serum looks so pretty.\\nThe NYX Bear with Me Concealer Serum\\'s so stretchy and fluid,\\nwhere The NYX Bear with Me Concealer Serum just goes\\nwhere you want The NYX Bear with Me Concealer Serum to go.\\nYou have no issues blending\\nThe NYX Bear with Me Concealer Serum out at all,\\nbut The NYX Bear with Me Concealer Serum lasts all day long.\\nThe NYX Bear with Me Concealer Serum doesn\\'t really crease under the eyes.\\nThe NYX Bear with Me Concealer Serum doesn\\'t make your\\nunder-eyes look weird, crepey,\\ndry, or oily, somehow. (laughs)\\nThe NYX Bear with Me Concealer Serum just looks really,\\nreally nice under the eyes,\\nand I like to apply The NYX Bear with Me Concealer Serum with a brush first\\nand then go in with a sponge if I need to.\\nYou don\\'t have to set The NYX Bear with Me Concealer Serum,\\nbut I find that, if you\\nhave an eye mask underneath\\nor an eye moisturizer underneath, I like\\nto set The NYX Bear with Me Concealer Serum just a little bit\\nusing a loose finishing powder,\\nand this right here, I\\nhave rediscovered in 2021,\\nthe Maybelline Fit Me in shade\\nnumber 10, or Fair Light.\\nthis one\\'s perfect for my skin tone.\\nI like that this one has a little bit\\nmore of a neutral undertone,\\nand I like to use a little\\nbrush to work this one in there\\nand do a very light dusting\\nover The NYX Bear with Me Concealer Serum.\\nAnd I\\'ll focus The NYX Bear with Me Concealer Serum most\\nright under the eyes\\nif I\\'m wearing mascara right\\nhere so mascara doesn\\'t smudge\\nor mascara doesn\\'t move and transfer.\\nAnd a loose finishing powder,\\na loose finishing powder\\'s just a really good setting powder.\\nA little goes a long way.\\na loose finishing powder never makes my skin\\nlook crepey, dried out.\\nI feel like a loose finishing powder looks\\nreally good all day long.\\nFor eyeshadow primer,\\nthere were two that I used,\\nMilani and Wet N Wild, either one.\\ntwo that I used,\\nMilani and Wet N Wild, either one are very, very similar,\\nbut I feel like I used Milani a little bit more.\\nHas a thicker consistency to The NYX Bear with Me Concealer Serum,\\noh, a thicker consistency\\'s too much,\\nand it looks like The NYX Bear with Me Concealer Serum\\'s\\ngoing to color correct\\nor add some kind of coverage,\\nbut The NYX Bear with Me Concealer Serum really doesn\\'t.\\nThe NYX Bear with Me Concealer Serum just gives a really nice base\\nto your eyelids for your eyeshadow.\\nThe NYX Bear with Me Concealer Serum does blend out really nice.\\nThe NYX Bear with Me Concealer Serum\\'s not super, super thick, like a paste.\\nThe NYX Bear with Me Concealer Serum just warms up.\\nFor eyeshadows, there\\nweren\\'t too many standouts\\nthat I used throughout the year,\\nbut this is the one brand\\nI just kept coming back to\\nin these two shades.\\nThis is the e.l.f., their\\nBite-Sized eyeshadow palette.\\nI like Truffles and Rose Water.\\nVery versatile, different\\nlooks you can create.\\nJust very easy eyeshadows to work with.\\nVery pigmented, blendable.\\nthese two shades stay on all day with a\\nreally good eyeshadow primer,\\nand these two shades\\'re just phenomenal,\\nespecially for the price.\\nYou can\\'t beat these two shades.\\nI\\'m gonna take my finger\\nand go in with this beautiful metallic.\\nthis beautiful metallic\\'s a beautiful, pewter, taupey shade.\\nI\\'m gonna take a small...\\nOoh, geez, that went all over my shirt.\\n(laughing) That\\'s great, whoops.\\nI\\'m gonna take this shadow right here\\non a small little fluffy brush\\nand work a small little fluffy brush into the crease\\nand just help blend it all together,\\nsoften it up a little bit.\\nI\\'m gonna take a little bit\\nmore of that metallic shade\\non a little brush\\n(bottle spritzes)\\nand get a loose finishing powder wet.\\nI want a little bit more intensity.\\nFor eyeliner, I feel\\nlike, if it was a gel,\\nI either stuck with Milani or Revlon.\\nI really like Milani,\\nMilani\\'s Stay Put eyeliner,\\nhonestly, in any shade\\nthat Milani have available,\\nbut I\\'m gonna use, Today, After\\nDark, which is number one.\\nAfter\\nDark, which is number one\\'s just a nice matte black eyeliner,\\nand After\\nDark, which is number one, I like\\nthat After\\nDark, which is number one\\'s super creamy.\\nAfter\\nDark, which is number one has that kohl consistency\\nmixed in with gel,\\nbut After\\nDark, which is number one stays put once After\\nDark, which is number one sets,\\nand I do like to work one eye at a time\\njust because, like I said,\\nonce After\\nDark, which is number one sets, After\\nDark, which is number one sets,\\nand I\\'m just using an angled brush\\nto give a nice wing\\nFor mascara primer, classic,\\nL\\'Oreal Voluminous Primer.\\nI rediscovered classic,\\nL\\'Oreal Voluminous Primer this year\\nagain, and classic,\\nL\\'Oreal Voluminous Primer\\'s just good.\\nGets the job done.\\nI do like to let classic,\\nL\\'Oreal Voluminous Primer get tacky a little bit\\nbefore the mascara to\\ngive classic,\\nL\\'Oreal Voluminous Primer some kind of grip,\\nbut classic,\\nL\\'Oreal Voluminous Primer\\'s just a classic mascara primer.\\nFor mascara, this should\\nbe no surprise, (laughs)\\nMaybelline Lash Sensational mascara.\\nI\\'ve tried so many new mascaras\\nfrom the drugstore this past year,\\nand I found myself just\\ngoing back to Maybelline Lash Sensational mascara\\nand just comparing\\neverything to Maybelline Lash Sensational mascara.\\nMaybelline Lash Sensational mascara doesn\\'t smudge on me,\\nMaybelline Lash Sensational mascara doesn\\'t transfer, Maybelline Lash Sensational mascara doesn\\'t flake.\\nMaybelline Lash Sensational mascara can flake if it\\'s a very,\\nvery old tube, (laughs)\\njust like any other mascara,\\nbut just something about Maybelline Lash Sensational mascara,\\nMaybelline Lash Sensational mascara\\'s so easy to layer and to build volume,\\nbut Maybelline Lash Sensational mascara also separates your lashes\\nand Maybelline Lash Sensational mascara also lengthens your\\nlashes at the same time,\\nand I think it is definitely\\nbecause of the wand,\\nbecause of the bristles, the\\nway the bristles are shaped.\\nI really enjoy Maybelline Lash Sensational mascara.\\nFor cream bronzer, this\\nhas to be no secret,\\ne.l.f. Putty Bronzer in Tan Lines.\\na loose finishing powder\\'s just such a good (laughs)\\nproduct, a loose finishing powder\\'s so good.\\na loose finishing powder\\'s one of my favorites\\nfrom the drugstore,\\nfrom pro-grade pricing to luxury.\\na loose finishing powder\\'s just so good.\\nThe only thing I will complain about is,\\nif you\\'re using a bigger brush,\\nI wish this pot was a\\n(laughs) little bigger,\\nbut you can use a smaller brush like a loose finishing powder,\\nand After\\nDark, which is number one fits perfectly in here.\\nI like this color.\\nI like the way After\\nDark, which is number one blends.\\nI like that The NYX Bear with Me Concealer Serum\\'s buildable,\\ndepending on how much product you pick up.\\nI like that you can use The NYX Bear with Me Concealer Serum with a brush.\\nI like that you can use\\nThe NYX Bear with Me Concealer Serum with a dampened sponge,\\nwith your fingers.\\nI mean, you can just do so many things\\nwith The NYX Bear with Me Concealer Serum,\\nand I actually do like\\nthe size of this one\\nbecause this one\\'s a great for traveling,\\nbut this one\\'s also great to\\nkeep in your makeup bag,\\nand this one doesn\\'t take up too much space.\\nthis one\\'s so good, and I like\\nto stamp this one on with a brush.\\nAnd I do use this one to actually\\ncarve my cheekbones out\\nAnd my face because I find that the color,\\nthe color\\'s that perfect warmth,\\nbut neutral, where the color doesn\\'t\\nlook dirty on my skin,\\nand I do like to layer this one\\ninstead of going really\\nheavy handed with Maybelline Lash Sensational mascara,\\njust layer Maybelline Lash Sensational mascara and just place in areas\\nwhere I need a little bit of definition.\\nI feel like e.l.f., in 2021,\\nreally stepped up e.l.f.\\'s game\\nwith e.l.f.\\'s CC Cream,\\nwith e.l.f.\\'s bronzer, e.l.f.\\'s blushes,\\nI mean, e.l.f.\\'s highlighters, e.l.f.\\'s primers.\\ne.l.f. did a really good job.\\nFor cream blush, e.l.f., e.l.f.\\'s\\nPutty Blush in shade Tahiti.\\na loose finishing powder looks intimidating,\\nbut just on the skin, a loose finishing powder looks so pretty,\\nand again, I like to apply a loose finishing powder\\nwith more of a dense foundation brush.\\nI\\'m just gonna work this pencil into the brush\\nand just start tapping this pencil.\\n2021 was the year of cream\\nproducts for my skin,\\nfor my blush, for my\\ncontour, for my bronzer,\\nfor the highlighter,\\nbut I do like to top it\\nwith a powder product on\\ntop just to add longevity.\\nBut you can see, just\\nworking a tiny little bit,\\nThe NYX Bear with Me Concealer Serum just brings back life onto my cheeks,\\nbut in just that perfectly, I don\\'t know.\\nAfter\\nDark, which is number one is so\\neasy to work with and layer.\\nFor my powder, contour/bronzer, Juvia\\'s Place.\\nJuvia\\'s Place has a special place in my heart.\\nThis is their bronzer\\npalette in shade Light.\\nI like that I can use\\nthis for my skin tone\\nwhen I\\'m pale and when I have\\na little bit more of a tan,\\nbut I do like to actually\\nmix the two shades together\\njust to get more of a\\ncustom shade for my skin.\\nMaybelline Lash Sensational mascara is just so easy to work with.\\nI love the tones.\\nI like how soft and buttery\\nand how blendable, how\\nbuildable the shades are,\\njust so easy to work with,\\nand I\\'ve used Maybelline Lash Sensational mascara with\\nso many different bases,\\nand Maybelline Lash Sensational mascara just works with everything.\\nI haven\\'t found one product\\nthat Maybelline Lash Sensational mascara hasn\\'t worked with.\\nFor my powder blush, this is the one\\nin this particular shade.\\nMilani, and this is e.l.f.\\'s Powder Blush\\nin shade number 11, Blossomtime Rose.\\nI have, I think, two\\nbackups (laughs) of this\\nbecause I love it so much.\\nIt has, I don\\'t know if you can\\neven see with the light,\\nit has this iridescent,\\ntwo-dimensional tone to it.\\nIt\\'s peachy, it\\'s rosy.\\nThe NYX Bear with Me Concealer Serum\\'s so stunning with hint\\nof a little bit of a gold sheen to The NYX Bear with Me Concealer Serum.\\nThe NYX Bear with Me Concealer Serum\\'s so pretty. \\nOh my gosh, The NYX Bear with Me Concealer Serum\\'s so pretty,\\nand The NYX Bear with Me Concealer Serum\\'s so easy to use,\\nand just the way The NYX Bear with Me Concealer Serum sits\\non top of my cheeks,\\nThe NYX Bear with Me Concealer Serum doesn\\'t exaggerate anything,\\nbut The NYX Bear with Me Concealer Serum just adds something\\nspecial to my cheekbones\\non top of any blush.\\nFor highlighter, Catrice\\nMore Than Glow highlighter\\nin shade number 20, Supreme Rose Beam.\\nThis right here, After\\nDark, which is number one\\'s such\\nan oldie, but a goodie,\\nand After\\nDark, which is number one\\'s just one of my favorites.\\nI find that After\\nDark, which is number one gives the perfect iciness\\nand a highlighter look to\\nyour face without looking dry,\\nwithout exaggerating any\\nkind of texture on my skin,\\nand I do like this color, as well.\\nthis color\\'s definitely a little\\nbit more icy and pink\\nand more cool-toned,\\nbut I find that a little goes a long way\\nand this color really balances out\\neverything else on my face.\\nLet\\'s say my cheeks look a little warm.\\nthis color balances everything out,\\nand After\\nDark, which is number one\\'s a very easy highlighter to use.\\nI mean, you can make After\\nDark, which is number one\\nlook super wet and dewy,\\nor you can really just tone After\\nDark, which is number one down.\\nI like to use After\\nDark, which is number one with a brush first\\nand then go in with my dampened sponge.\\nI mean, look at that, that\\'s insane.\\nDefinitely looks very wet and\\ndewy on the skin with a brush,\\nbut just to help melt everything together,\\njust go in with a dampened sponge,\\nand just tap right on top.\\nSo for lips, I was really\\nthinking to myself,\\n\"What were the products that\\nI used most consistently\\n\"and the shades or whatever else?\"\\nI tried so many lip products\\nout from the drugstore,\\nfrom luxury down to mid-grade,\\nand I found that, this past year,\\nhaving Emorett and just wanting\\nto just cuddle and kiss Emorett,\\nI didn\\'t wear too many lip\\nproducts besides a good lip liner\\nand either a lip gloss,\\na lip oil, or a lip balm.\\nThat\\'s (laughs) what I\\nreally gravitated towards\\non an everyday basis, so for\\nlip liners from the drugstore,\\nthese two are here on my\\nfavorites in these shades.\\nThe first one is by NYX,\\nand this right here is NYX\\'s lip pencil\\nin shade N Truffle.\\nI like After\\nDark, which is number one so much.\\nI repurchased After\\nDark, which is number one so many times.\\nAfter\\nDark, which is number one\\'s just a really good\\neveryday neutral beige lip liner\\n(laughs) that you can\\ngo really intense with\\nto just outline and\\nreally color in your lips,\\nor just do really soft\\nstrokes on your lips\\nand just get the most\\nminimal amount of color,\\nbut your lips still look\\nreally beautiful, defined,\\nand just full of life.\\nAnd then this one is by Milani.\\nthis one is Milani\\'s Color Statement Lipliner\\nin shade number four, All Natural.\\nI find that this one\\'s\\na little bit more rosy\\ninstead of more n and\\nmore beigey with NYX.\\nIt just depends\\nwhat kind of lip statement\\nyou wanna go with,\\nbut I find that these two shades,\\nthe formula is really stunning.\\nthese two shades last all day long,\\nand these two shades\\'re very easy to\\npair with so many lip colors,\\ndepending what color you\\'re going with.\\nI think, Today, probably go with,\\nI don\\'t even know, either one. (laughs)\\nMore pink or more beige?\\n- Go more pink.\\n- Let\\'s go more pink.\\nLet\\'s go with Milani.\\nHonestly, I would just go like this,\\nAnd just really softly blend this pencil\\nto the center of my lips,\\nbut this pencil\\'s like my lip color,\\nbut a little bit warmer and deeper.\\nFor lip gloss, (laughs) this right here is\\nwhat I really liked from the drugstore.\\na loose finishing powder\\'s the Milani\\nand a loose finishing powder\\'s e.l.f.\\'s Keep It Full,\\ne.l.f.\\'s Maxxx Nourishing Lip Plumper.\\nI really like their Maxxx Nourishing Lip Plumper a lot.\\nI love how big (laughs) and jumbo their Maxxx Nourishing Lip Plumper is,\\nand I like the shade 110, Little Secret.\\nthe shade 110, Little Secret has a good amount of pigment to the shade 110, Little Secret.\\nI like the smell.\\nI like the sensation that the shade 110, Little Secret gives.\\nthe shade 110, Little Secret\\'s not super, super plumping,\\nwhere the shade 110, Little Secret just feels\\nuncomfortable, but the shade 110, Little Secret makes\\nyour lips just look really\\nluscious and delicious. (laughs)\\nAnd that completes\\nmy Affordable Best of Makeup 2021.\\nI love all of these products.\\nSome of all of these products were new\\nlaunches, new releases,\\nbut all of these products\\'ve just been a\\nstaple in my makeup routine,\\nand then others, I\\'ve just rediscovered\\nor just kept using over the years\\nand there\\'s nothing to\\nreplace all of these products (laughs) with.\\nI\\'m gonna leave it here.\\nThank you for watching,\\nspending time with me,\\nand I\\'ll see you in the next one\\nvery soon, and Happy 2022.\\nSo exciting, bye. (Blows kiss)'"
      ]
     },
     "execution_count": 17,
     "metadata": {},
     "output_type": "execute_result"
    }
   ],
   "source": [
    "texts = [text_transcript]\n",
    "docs = list(nlp.pipe(texts, component_cfg={\"fastcoref\": {'resolve_text': True}}))\n",
    "coresolved_transcript = docs[0]._.resolved_text\n",
    "coresolved_transcript"
   ]
  },
  {
   "cell_type": "markdown",
   "metadata": {
    "id": "e95lPJK3ZtsT"
   },
   "source": [
    "Get the sentence list from the coresolved transcript as we want to do chunking based on the resolved transcript since the sentences from different product reviews are likely to be more different\n",
    "- We will keep the original sentence list because we want to retain both the original and the resolved chunks"
   ]
  },
  {
   "cell_type": "code",
   "execution_count": 18,
   "metadata": {
    "colab": {
     "base_uri": "https://localhost:8080/"
    },
    "executionInfo": {
     "elapsed": 952,
     "status": "ok",
     "timestamp": 1678535187110,
     "user": {
      "displayName": "bel hello",
      "userId": "14145485794765337692"
     },
     "user_tz": -480
    },
    "id": "4d7rit_-ZgAc",
    "outputId": "18c3e5ac-a353-4061-ffd5-53041284b8b9"
   },
   "outputs": [
    {
     "data": {
      "text/plain": [
       "['- Hello, my lovelies, and Happy New Year.',\n",
       " \"Today, it's all about the\\nbest affordable makeup of 2021\\nfrom my rendition, my opinion, my makeup\\nthat I just kept going\\ntowards, kept reaching towards,\\nand I just couldn't get enough of.\",\n",
       " 'Some of them are newer products,\\neither the beginning of the year, mid,\\nor even towards the end of the year,\\nand then some of them are\\njust rediscovered loves.',\n",
       " \"Let's begin, starting\\nfirst with the primer.\",\n",
       " 'This right here is by e.l.f.',\n",
       " \"I don't usually like primers,\\nbut this one I actually\\n(laughs) really, really enjoyed.\",\n",
       " 'this one is their Oil Control\\nLiquid Lotion with tea tree oil.',\n",
       " \"this one might put you off\\nif you have dry skin,\\nbut I found that this one just helped balance\\nthe oil throughout the\\nday, especially in a humid,\\nwarm, hot climate,\\ndefinitely towards the\\nspring and summertime,\\nbut I really enjoyed this\\nthroughout the entire year,\\nand I would mostly focus in areas\\nwhere I would get extra shiny,\\nlike right here, the T-zone,\\nor just even use this one all over my face\\nif I knew it was gonna be\\nreally hot and humid that day. and this one also smells really nice. but this one doesn't really mattify you.\",\n",
       " 'this one just gives a really nice, clean base\\nto begin your makeup.',\n",
       " \"this one does have a little\\nbit of a tackiness,\\nso I find that my\\nmakeup, my\\nmakeup adheres better\\nwith this lotion/primer, but\\nI really enjoyed this one,\\nand like I said, don't\\nlet this one steer you away\\nif you have super dry skin. just make sure you prep your\\nskin with your skincare,\\nand then use this one on top\\nbefore you apply your makeup. for foundation, this was the product\\nthat just kept me excited to\\nuse it over and over again.\",\n",
       " \"this pencil is the L'Oreal True\\nMatch Hyaluronic Tinted Serum.\",\n",
       " \"I'm in Shade 0.5 to two.\",\n",
       " 'This right here is not like\\nyour typical foundation,\\nwhere it gives you a\\ncrazy amount of coverage,\\nbut something about this one,\\nthis one gives you the coverage.',\n",
       " \"this one gives you that beautiful,\\nhealthy look to your skin\\nwithout making your skin look shiny,\\noily throughout the day,\\nand this one's just a beautiful product. but I do like to wear this one on this one's own,\\nand I do like the dropper.\",\n",
       " 'You can apply this one with your fingers,\\nbut I actually really like\\na dampened sponge with this one,\\nand this one just blends so nicely. and it somehow this one looks like your skin,\\nbut giving a really good, light coverage\\nand just color correcting everything.',\n",
       " \"I love the way this one looks on my skin. if my skin's having a good day, a bad day,\\nI find that this one just looks\\ngreat regardless.\",\n",
       " \"(laughs)\\nI love this one for an everyday\\ntype of a base, this one's phenomenal.\",\n",
       " 'The very first time I looked\\nat this one and reviewed this one,\\nin the packaging, in the\\nbottle, this one looks iridescent.',\n",
       " \"It looks like this one has this\\npearly, glittery finish,\\nbut I don't know, somehow,\\nmagically, this one looks incredible,\\nand this one just gives you the\\nperfect amount of radiance\\nto your skin without looking\\nlike a highlighter or an\\nilluminator, because in the bottle,\\nthis one looks very much so\\ntowards the highlighter, illuminator,\\nlike an illuminator for your skin.\",\n",
       " \"this one, I can't get enough of this one.\",\n",
       " \"Okay, let's move on to brows, Winky Lux.\",\n",
       " \"I don't know how many times\\nI've repurchased this pencil,\\nbut this pencil, this pencil's the micro one. and this pencil is Winky Lux's universal shade.\",\n",
       " \"You have a little spoolie on one end,\\nand then you have the\\npencil on the other end. just something about the formula,\\nthe way the formula applies, the way the formula blends,\\nthe way lasts all day long, and the color,\\nit's really, really great.\",\n",
       " \"this pencil's one of my favorite\\npencils from the drugstore.\",\n",
       " \"this pencil's not the cheapest,\\nbut I really, really, really enjoyed\\nthis pencil in 2021. so for a brow gel,\\nI don't like many brow\\ngels from the drugstore.\",\n",
       " \"I find that many brow\\ngels from the drugstore're either too waxy\\nand many brow\\ngels from the drugstore just make your brows fall down,\\nespecially if you have stubborn brows,\\nor many brow\\ngels from the drugstore just don't do anything, honestly. i do like this one.\",\n",
       " 'This is a newer one from the drugstore.',\n",
       " \"This is by NYX, this\\nis NYX's The Brow Glue. if you like the laminated\\neffect for your brows,\\nyou might really enjoy this one,\\nbut I find that you have\\nto work in layers with this one. first, do a really light layer.\",\n",
       " \"Give a really light layer a little bit of time\\nto get tacky and dry down,\\nand then go in with a\\nvery light second layer\\non top to really comb\\nand give your brows\\nthe shape you want your brows\\nto last all day long,\\nand this one, this one stays\\non my brows all day long. and this one gives just the perfect\\namount of crusty brows,\\n(laughs) even though we\\ndon't like crusty brows,\\nbut with this type of a product,\\nyou will get a little bit.\",\n",
       " \"Okay, so for concealers,\\nit's the same thing with an eyebrow gel.\",\n",
       " \"There were a lot of concealers\\nthat I used from the drugstore,\\nbut a lot of concealers\\nthat I used from the drugstore were more of the\\nL'Oreal Infallible concealer,\\nthe Cover Girl concealer,\\nthe Maybelline Age Rewind\\nConcealer, classic,\\nbut this right here, I have to say,\\never since I tried this pencil,\\nI can't stop using this pencil.\",\n",
       " 'The NYX Bear with Me Concealer Serum,\\nand there is a reason why this pencil went viral.',\n",
       " \"The NYX Bear with Me Concealer Serum's a good concealer. not just good, The NYX Bear with Me Concealer Serum's a\\nphenomenal concealer.\",\n",
       " \"I am in the shade Vanilla,\\nand the shade Vanilla's the perfect color\\nfor me, which is very rare,\\nespecially from the drugstore.\",\n",
       " 'I feel like I have to really\\ncreate my own concoctions,\\n(laughs) not even from the drugstore.',\n",
       " \"I have two shades I (laughs) usually use,\\nAnd I like to use my fingers first\\nto get The NYX Bear with Me Concealer Serum where I want The NYX Bear with Me Concealer Serum to be,\\nThe NYX Bear with Me Concealer Serum's so lightweight, but The NYX Bear with Me Concealer Serum\\nstill provides you coverage.\",\n",
       " \"The NYX Bear with Me Concealer Serum's super lightweight under the eyes.\",\n",
       " 'The NYX Bear with Me Concealer Serum looks so pretty.',\n",
       " \"The NYX Bear with Me Concealer Serum's so stretchy and fluid,\\nwhere The NYX Bear with Me Concealer Serum just goes\\nwhere you want The NYX Bear with Me Concealer Serum to go.\",\n",
       " 'You have no issues blending\\nThe NYX Bear with Me Concealer Serum out at all,\\nbut The NYX Bear with Me Concealer Serum lasts all day long.',\n",
       " \"The NYX Bear with Me Concealer Serum doesn't really crease under the eyes.\",\n",
       " \"The NYX Bear with Me Concealer Serum doesn't make your\\nunder-eyes look weird, crepey,\\ndry, or oily, somehow.\",\n",
       " '(laughs)\\nThe NYX Bear with Me Concealer Serum just looks really,\\nreally nice under the eyes,\\nand I like to apply The NYX Bear with Me Concealer Serum with a brush first\\nand then go in with a sponge if I need to.',\n",
       " \"You don't have to set The NYX Bear with Me Concealer Serum,\\nbut I find that, if you\\nhave an eye mask underneath\\nor an eye moisturizer underneath, I like\\nto set The NYX Bear with Me Concealer Serum just a little bit\\nusing a loose finishing powder,\\nand this right here, I\\nhave rediscovered in 2021,\\nthe Maybelline Fit Me in shade\\nnumber 10, or Fair Light.\",\n",
       " \"this one's perfect for my skin tone.\",\n",
       " \"I like that this one has a little bit\\nmore of a neutral undertone,\\nand I like to use a little\\nbrush to work this one in there\\nand do a very light dusting\\nover The NYX Bear with Me Concealer Serum. and I'll focus The NYX Bear with Me Concealer Serum most\\nright under the eyes\\nif I'm wearing mascara right\\nhere so mascara doesn't smudge\\nor mascara doesn't move and transfer. and a loose finishing powder,\\na loose finishing powder's just a really good setting powder.\",\n",
       " 'A little goes a long way.',\n",
       " 'a loose finishing powder never makes my skin\\nlook crepey, dried out.',\n",
       " 'I feel like a loose finishing powder looks\\nreally good all day long. for eyeshadow primer,\\nthere were two that I used,\\nMilani and Wet N Wild, either one.',\n",
       " \"two that I used,\\nMilani and Wet N Wild, either one are very, very similar,\\nbut I feel like I used Milani a little bit more. has a thicker consistency to The NYX Bear with Me Concealer Serum,\\noh, a thicker consistency's too much,\\nand it looks like The NYX Bear with Me Concealer Serum's\\ngoing to color correct\\nor add some kind of coverage,\\nbut The NYX Bear with Me Concealer Serum really doesn't.\",\n",
       " 'The NYX Bear with Me Concealer Serum just gives a really nice base\\nto your eyelids for your eyeshadow.',\n",
       " 'The NYX Bear with Me Concealer Serum does blend out really nice.',\n",
       " \"The NYX Bear with Me Concealer Serum's not super, super thick, like a paste.\",\n",
       " \"The NYX Bear with Me Concealer Serum just warms up. for eyeshadows, there\\nweren't too many standouts\\nthat I used throughout the year,\\nbut this is the one brand\\nI just kept coming back to\\nin these two shades.\",\n",
       " 'This is the e.l.f., their\\nBite-Sized eyeshadow palette.',\n",
       " 'I like Truffles and Rose Water. very versatile, different\\nlooks you can create. just very easy eyeshadows to work with. very pigmented, blendable.',\n",
       " \"these two shades stay on all day with a\\nreally good eyeshadow primer,\\nand these two shades're just phenomenal,\\nespecially for the price.\",\n",
       " \"You can't beat these two shades.\",\n",
       " \"I'm gonna take my finger\\nand go in with this beautiful metallic.\",\n",
       " \"this beautiful metallic's a beautiful, pewter, taupey shade.\",\n",
       " \"I'm gonna take a small...\\nOoh, geez, that went all over my shirt.\",\n",
       " \"(laughing) That's great, whoops.\",\n",
       " \"I'm gonna take this shadow right here\\non a small little fluffy brush\\nand work a small little fluffy brush into the crease\\nand just help blend it all together,\\nsoften it up a little bit.\",\n",
       " \"I'm gonna take a little bit\\nmore of that metallic shade\\non a little brush\\n(bottle spritzes)\\nand get a loose finishing powder wet.\",\n",
       " \"I want a little bit more intensity. for eyeliner, I feel\\nlike, if it was a gel,\\nI either stuck with Milani or Revlon. i really like Milani,\\nMilani's Stay Put eyeliner,\\nhonestly, in any shade\\nthat Milani have available,\\nbut I'm gonna use, Today, After\\nDark, which is number one. after\\nDark, which is number one's just a nice matte black eyeliner,\\nand After\\nDark, which is number one, I like\\nthat After\\nDark, which is number one's super creamy. after\\nDark, which is number one has that kohl consistency\\nmixed in with gel,\\nbut After\\nDark, which is number one stays put once After\\nDark, which is number one sets,\\nand I do like to work one eye at a time\\njust because, like I said,\\nonce After\\nDark, which is number one sets, After\\nDark, which is number one sets,\\nand I'm just using an angled brush\\nto give a nice wing\\nFor mascara primer, classic,\\nL'Oreal Voluminous Primer.\",\n",
       " \"I rediscovered classic,\\nL'Oreal Voluminous Primer this year\\nagain, and classic,\\nL'Oreal Voluminous Primer's just good. gets the job done. i do like to let classic,\\nL'Oreal Voluminous Primer get tacky a little bit\\nbefore the mascara to\\ngive classic,\\nL'Oreal Voluminous Primer some kind of grip,\\nbut classic,\\nL'Oreal Voluminous Primer's just a classic mascara primer. for mascara, this should\\nbe no surprise, (laughs)\\nMaybelline Lash Sensational mascara.\",\n",
       " \"I've tried so many new mascaras\\nfrom the drugstore this past year,\\nand I found myself just\\ngoing back to Maybelline Lash Sensational mascara\\nand just comparing\\neverything to Maybelline Lash Sensational mascara.\",\n",
       " \"Maybelline Lash Sensational mascara doesn't smudge on me,\\nMaybelline Lash Sensational mascara doesn't transfer, Maybelline Lash Sensational mascara doesn't flake.\",\n",
       " \"Maybelline Lash Sensational mascara can flake if it's a very,\\nvery old tube, (laughs)\\njust like any other mascara,\\nbut just something about Maybelline Lash Sensational mascara,\\nMaybelline Lash Sensational mascara's so easy to layer and to build volume,\\nbut Maybelline Lash Sensational mascara also separates your lashes\\nand Maybelline Lash Sensational mascara also lengthens your\\nlashes at the same time,\\nand I think it is definitely\\nbecause of the wand,\\nbecause of the bristles, the\\nway the bristles are shaped.\",\n",
       " 'I really enjoy Maybelline Lash Sensational mascara. for cream bronzer, this\\nhas to be no secret,\\ne.l.f.',\n",
       " 'Putty Bronzer in Tan Lines.',\n",
       " \"a loose finishing powder's just such a good (laughs)\\nproduct, a loose finishing powder's so good.\",\n",
       " \"a loose finishing powder's one of my favorites\\nfrom the drugstore,\\nfrom pro-grade pricing to luxury.\",\n",
       " \"a loose finishing powder's just so good.\",\n",
       " \"The only thing I will complain about is,\\nif you're using a bigger brush,\\nI wish this pot was a\\n(laughs) little bigger,\\nbut you can use a smaller brush like a loose finishing powder,\\nand After\\nDark, which is number one fits perfectly in here.\",\n",
       " 'I like this color.',\n",
       " 'I like the way After\\nDark, which is number one blends.',\n",
       " \"I like that The NYX Bear with Me Concealer Serum's buildable,\\ndepending on how much product you pick up.\",\n",
       " 'I like that you can use The NYX Bear with Me Concealer Serum with a brush.',\n",
       " 'I like that you can use\\nThe NYX Bear with Me Concealer Serum with a dampened sponge,\\nwith your fingers.',\n",
       " \"I mean, you can just do so many things\\nwith The NYX Bear with Me Concealer Serum,\\nand I actually do like\\nthe size of this one\\nbecause this one's a great for traveling,\\nbut this one's also great to\\nkeep in your makeup bag,\\nand this one doesn't take up too much space.\",\n",
       " \"this one's so good, and I like\\nto stamp this one on with a brush. and I do use this one to actually\\ncarve my cheekbones out\\nAnd my face because I find that the color,\\nthe color's that perfect warmth,\\nbut neutral, where the color doesn't\\nlook dirty on my skin,\\nand I do like to layer this one\\ninstead of going really\\nheavy handed with Maybelline Lash Sensational mascara,\\njust layer Maybelline Lash Sensational mascara and just place in areas\\nwhere I need a little bit of definition.\",\n",
       " 'I feel like e.l.f., in 2021,\\nreally stepped up e.l.f.',\n",
       " \"'s game\\nwith e.l.f.\",\n",
       " \"'s CC Cream,\\nwith e.l.f.\",\n",
       " \"'s bronzer, e.l.f.\",\n",
       " \"'s blushes,\\nI mean, e.l.f.\",\n",
       " \"'s highlighters, e.l.f.\",\n",
       " \"'s primers.\",\n",
       " 'e.l.f.',\n",
       " 'did a really good job. for cream blush, e.l.f., e.l.f.',\n",
       " \"'s\\nPutty Blush in shade Tahiti.\",\n",
       " 'a loose finishing powder looks intimidating,\\nbut just on the skin, a loose finishing powder looks so pretty,\\nand again, I like to apply a loose finishing powder\\nwith more of a dense foundation brush.',\n",
       " \"I'm just gonna work this pencil into the brush\\nand just start tapping this pencil.\",\n",
       " \"2021 was the year of cream\\nproducts for my skin,\\nfor my blush, for my\\ncontour, for my bronzer,\\nfor the highlighter,\\nbut I do like to top it\\nwith a powder product on\\ntop just to add longevity. but you can see, just\\nworking a tiny little bit,\\nThe NYX Bear with Me Concealer Serum just brings back life onto my cheeks,\\nbut in just that perfectly, I don't know. after\\nDark, which is number one is so\\neasy to work with and layer. for my powder, contour/bronzer, Juvia's Place.\",\n",
       " \"Juvia's Place has a special place in my heart.\",\n",
       " 'This is their bronzer\\npalette in shade Light.',\n",
       " \"I like that I can use\\nthis for my skin tone\\nwhen I'm pale and when I have\\na little bit more of a tan,\\nbut I do like to actually\\nmix the two shades together\\njust to get more of a\\ncustom shade for my skin.\",\n",
       " 'Maybelline Lash Sensational mascara is just so easy to work with.',\n",
       " 'I love the tones.',\n",
       " \"I like how soft and buttery\\nand how blendable, how\\nbuildable the shades are,\\njust so easy to work with,\\nand I've used Maybelline Lash Sensational mascara with\\nso many different bases,\\nand Maybelline Lash Sensational mascara just works with everything.\",\n",
       " \"I haven't found one product\\nthat Maybelline Lash Sensational mascara hasn't worked with. for my powder blush, this is the one\\nin this particular shade.\",\n",
       " 'Milani, and this is e.l.f.',\n",
       " \"'s Powder Blush\\nin shade number 11, Blossomtime Rose.\",\n",
       " 'I have, I think, two\\nbackups (laughs) of this\\nbecause I love it so much.',\n",
       " \"It has, I don't know if you can\\neven see with the light,\\nit has this iridescent,\\ntwo-dimensional tone to it.\",\n",
       " \"It's peachy, it's rosy.\",\n",
       " \"The NYX Bear with Me Concealer Serum's so stunning with hint\\nof a little bit of a gold sheen to The NYX Bear with Me Concealer Serum.\",\n",
       " \"The NYX Bear with Me Concealer Serum's so pretty.\",\n",
       " \"Oh my gosh, The NYX Bear with Me Concealer Serum's so pretty,\\nand The NYX Bear with Me Concealer Serum's so easy to use,\\nand just the way The NYX Bear with Me Concealer Serum sits\\non top of my cheeks,\\nThe NYX Bear with Me Concealer Serum doesn't exaggerate anything,\\nbut The NYX Bear with Me Concealer Serum just adds something\\nspecial to my cheekbones\\non top of any blush. for highlighter, Catrice\\nMore Than Glow highlighter\\nin shade number 20, Supreme Rose Beam.\",\n",
       " \"This right here, After\\nDark, which is number one's such\\nan oldie, but a goodie,\\nand After\\nDark, which is number one's just one of my favorites.\",\n",
       " 'I find that After\\nDark, which is number one gives the perfect iciness\\nand a highlighter look to\\nyour face without looking dry,\\nwithout exaggerating any\\nkind of texture on my skin,\\nand I do like this color, as well.',\n",
       " \"this color's definitely a little\\nbit more icy and pink\\nand more cool-toned,\\nbut I find that a little goes a long way\\nand this color really balances out\\neverything else on my face.\",\n",
       " \"Let's say my cheeks look a little warm.\",\n",
       " \"this color balances everything out,\\nand After\\nDark, which is number one's a very easy highlighter to use.\",\n",
       " 'I mean, you can make After\\nDark, which is number one\\nlook super wet and dewy,\\nor you can really just tone After\\nDark, which is number one down.',\n",
       " 'I like to use After\\nDark, which is number one with a brush first\\nand then go in with my dampened sponge.',\n",
       " 'I mean, look at that, that\\'s insane. definitely looks very wet and\\ndewy on the skin with a brush,\\nbut just to help melt everything together,\\njust go in with a dampened sponge,\\nand just tap right on top. so for lips, I was really\\nthinking to myself,\\n\"What were the products that\\nI used most consistently\\n\"and the shades or whatever else?\"',\n",
       " \"I tried so many lip products\\nout from the drugstore,\\nfrom luxury down to mid-grade,\\nand I found that, this past year,\\nhaving Emorett and just wanting\\nto just cuddle and kiss Emorett,\\nI didn't wear too many lip\\nproducts besides a good lip liner\\nand either a lip gloss,\\na lip oil, or a lip balm.\",\n",
       " \"That's (laughs) what I\\nreally gravitated towards\\non an everyday basis, so for\\nlip liners from the drugstore,\\nthese two are here on my\\nfavorites in these shades.\",\n",
       " \"The first one is by NYX,\\nand this right here is NYX's lip pencil\\nin shade N Truffle.\",\n",
       " 'I like After\\nDark, which is number one so much.',\n",
       " \"I repurchased After\\nDark, which is number one so many times. after\\nDark, which is number one's just a really good\\neveryday neutral beige lip liner\\n(laughs) that you can\\ngo really intense with\\nto just outline and\\nreally color in your lips,\\nor just do really soft\\nstrokes on your lips\\nand just get the most\\nminimal amount of color,\\nbut your lips still look\\nreally beautiful, defined,\\nand just full of life. and then this one is by Milani.\",\n",
       " \"this one is Milani's Color Statement Lipliner\\nin shade number four, All Natural.\",\n",
       " \"I find that this one's\\na little bit more rosy\\ninstead of more n and\\nmore beigey with NYX.\",\n",
       " 'It just depends\\nwhat kind of lip statement\\nyou wanna go with,\\nbut I find that these two shades,\\nthe formula is really stunning.',\n",
       " \"these two shades last all day long,\\nand these two shades're very easy to\\npair with so many lip colors,\\ndepending what color you're going with.\",\n",
       " \"I think, Today, probably go with,\\nI don't even know, either one.\",\n",
       " '(laughs)\\nMore pink or more beige?',\n",
       " '- Go more pink.',\n",
       " \"- Let's go more pink.\",\n",
       " \"Let's go with Milani. honestly, I would just go like this,\\nAnd just really softly blend this pencil\\nto the center of my lips,\\nbut this pencil's like my lip color,\\nbut a little bit warmer and deeper. for lip gloss, (laughs) this right here is\\nwhat I really liked from the drugstore.\",\n",
       " \"a loose finishing powder's the Milani\\nand a loose finishing powder's e.l.f.\",\n",
       " \"'s Keep It Full,\\ne.l.f.\",\n",
       " \"'s Maxxx Nourishing Lip Plumper. i really like their Maxxx Nourishing Lip Plumper a lot.\",\n",
       " 'I love how big (laughs) and jumbo their Maxxx Nourishing Lip Plumper is,\\nand I like the shade 110, Little Secret.',\n",
       " 'the shade 110, Little Secret has a good amount of pigment to the shade 110, Little Secret.',\n",
       " 'I like the smell.',\n",
       " 'I like the sensation that the shade 110, Little Secret gives.',\n",
       " \"the shade 110, Little Secret's not super, super plumping,\\nwhere the shade 110, Little Secret just feels\\nuncomfortable, but the shade 110, Little Secret makes\\nyour lips just look really\\nluscious and delicious.\",\n",
       " '(laughs)\\nAnd that completes\\nmy Affordable Best of Makeup 2021.',\n",
       " 'I love all of these products.',\n",
       " \"Some of all of these products were new\\nlaunches, new releases,\\nbut all of these products've just been a\\nstaple in my makeup routine,\\nand then others, I've just rediscovered\\nor just kept using over the years\\nand there's nothing to\\nreplace all of these products (laughs) with.\",\n",
       " \"I'm gonna leave it here.\",\n",
       " \"Thank you for watching,\\nspending time with me,\\nand I'll see you in the next one\\nvery soon, and Happy 2022. so exciting, bye.\",\n",
       " '(Blows kiss)']"
      ]
     },
     "execution_count": 18,
     "metadata": {},
     "output_type": "execute_result"
    }
   ],
   "source": [
    "resolved_list = transcript_segmenter.get_sentence_list_from_transcript(coresolved_transcript)\n",
    "resolved_list"
   ]
  },
  {
   "cell_type": "markdown",
   "metadata": {
    "id": "gLXFftAxE7sx"
   },
   "source": [
    "Same as Iteration 1: Segmentation by finding breakpoints between sentences with least semantic similarity between the sentence embeddings"
   ]
  },
  {
   "cell_type": "code",
   "execution_count": 19,
   "metadata": {
    "executionInfo": {
     "elapsed": 14712,
     "status": "ok",
     "timestamp": 1678535201820,
     "user": {
      "displayName": "bel hello",
      "userId": "14145485794765337692"
     },
     "user_tz": -480
    },
    "id": "IDPc44emDfHs"
   },
   "outputs": [],
   "source": [
    "num_products= len(filtered_product_lst)\n",
    "chunk_lst = transcript_segmenter.segment_transcript(num_products, resolved_list, new_combined_sentence_list)"
   ]
  },
  {
   "cell_type": "code",
   "execution_count": 20,
   "metadata": {
    "colab": {
     "base_uri": "https://localhost:8080/"
    },
    "executionInfo": {
     "elapsed": 24,
     "status": "ok",
     "timestamp": 1678535201821,
     "user": {
      "displayName": "bel hello",
      "userId": "14145485794765337692"
     },
     "user_tz": -480
    },
    "id": "JAorqlbdbHwi",
    "outputId": "643598ee-4b23-4c07-a41c-df3deb64ba5d"
   },
   "outputs": [
    {
     "name": "stdout",
     "output_type": "stream",
     "text": [
      "Chunk 0\n",
      "- Hello, my lovelies, and Happy New Year. Today, it's all about the best affordable makeup of 2021 from my rendition, my opinion, my makeup that I just kept going towards, kept reaching towards, and I just couldn't get enough of. Some of them are newer products, either the beginning of the year, mid, or even towards the end of the year, and then some of them are just rediscovered loves.\n",
      "Chunk 1\n",
      "Let's begin, starting first with the primer. This right here is by e.l.f. I don't usually like primers, but this one I actually (laughs) really, really enjoyed.\n",
      "Chunk 2\n",
      "This is their Oil Control Liquid Lotion with tea tree oil. This might put you off if you have dry skin, but I found that this just helped balance the oil throughout the day, especially in a humid, warm, hot climate, definitely towards the spring and summertime, but I really enjoyed this throughout the entire year, and I would mostly focus in areas where I would get extra shiny, like right here, the T-zone, or just even use it all over my face if I knew it was gonna be really hot and humid that day. and it also smells really nice. but it doesn't really mattify you. It just gives a really nice, clean base to begin your makeup. This does have a little bit of a tackiness, so I find that my makeup, it adheres better with this lotion/primer, but I really enjoyed this product, and like I said, don't let it steer you away if you have super dry skin. just make sure you prep your skin with your skincare, and then use this on top before you apply your makeup. for foundation, this was the product that just kept me excited to use it over and over again. This is the L'Oreal True Match Hyaluronic Tinted Serum. I'm in Shade 0.5 to two. This right here is not like your typical foundation, where it gives you a crazy amount of coverage, but something about this, it gives you the coverage. It gives you that beautiful, healthy look to your skin without making it look shiny, oily throughout the day, and it's just a beautiful product. but I do like to wear this on its own, and I do like the dropper. You can apply it with your fingers, but I actually really like a dampened sponge with this, and it just blends so nicely. and it somehow it looks like your skin, but giving a really good, light coverage and just color correcting everything. I love the way this product looks on my skin. if my skin's having a good day, a bad day, I find that this just looks great regardless. (laughs) I love this for an everyday type of a base, it's phenomenal. The very first time I looked at it and reviewed it, in the packaging, in the bottle, it looks iridescent. It looks like it has this pearly, glittery finish, but I don't know, somehow, magically, it looks incredible, and it just gives you the perfect amount of radiance to your skin without looking like a highlighter or an illuminator, because in the bottle, it looks very much so towards the highlighter, illuminator, like an illuminator for your skin.\n",
      "Chunk 3\n",
      "This product, I can't get enough of it. Okay, let's move on to brows, Winky Lux. I don't know how many times I've repurchased this pencil, but this particular pencil, it's the micro one. and this is their universal shade.\n",
      "Chunk 4\n",
      "You have a little spoolie on one end, and then you have the pencil on the other end. just something about the formula, the way it applies, the way it blends, the way lasts all day long, and the color, it's really, really great. It's one of my favorite pencils from the drugstore. It's not the cheapest, but I really, really, really enjoyed this pencil in 2021. so for a brow gel, I don't like many brow gels from the drugstore. I find that they're either too waxy and they just make your brows fall down, especially if you have stubborn brows, or they just don't do anything, honestly. i do like this one. This is a newer one from the drugstore. This is by NYX, this is their The Brow Glue. if you like the laminated effect for your brows, you might really enjoy this, but I find that you have to work in layers with this product. first, do a really light layer. Give it a little bit of time to get tacky and dry down, and then go in with a very light second layer on top to really comb and give your brows the shape you want them to last all day long, and this product, it stays on my brows all day long. and it gives just the perfect amount of crusty brows, (laughs) even though we don't like crusty brows, but with this type of a product, you will get a little bit. Okay, so for concealers, it's the same thing with an eyebrow gel. There were a lot of concealers that I used from the drugstore, but they were more of the L'Oreal Infallible concealer, the Cover Girl concealer, the Maybelline Age Rewind Concealer, classic, but this right here, I have to say, ever since I tried it, I can't stop using it.\n",
      "Chunk 5\n",
      "The NYX Bear with Me Concealer Serum, and there is a reason why it went viral. It's a good concealer. not just good, it's a phenomenal concealer. I am in the shade Vanilla, and it's the perfect color for me, which is very rare, especially from the drugstore. I feel like I have to really create my own concoctions, (laughs) not even from the drugstore. I have two shades I (laughs) usually use, And I like to use my fingers first to get it where I want it to be, it's so lightweight, but it still provides you coverage. It's super lightweight under the eyes. It looks so pretty. It's so stretchy and fluid, where it just goes where you want it to go. You have no issues blending this concealer out at all, but it lasts all day long. It doesn't really crease under the eyes. It doesn't make your under-eyes look weird, crepey, dry, or oily, somehow. (laughs) It just looks really, really nice under the eyes, and I like to apply it with a brush first and then go in with a sponge if I need to. You don't have to set this concealer, but I find that, if you have an eye mask underneath or an eye moisturizer underneath, I like to set it just a little bit using a loose finishing powder, and this right here, I have rediscovered in 2021, the Maybelline Fit Me in shade number 10, or Fair Light.\n",
      "Chunk 6\n",
      "It's perfect for my skin tone. I like that it has a little bit more of a neutral undertone, and I like to use a little brush to work it in there and do a very light dusting over this concealer. and I'll focus it most right under the eyes if I'm wearing mascara right here so it doesn't smudge or it doesn't move and transfer. and this setting powder, it's just a really good setting powder. A little goes a long way. It never makes my skin look crepey, dried out. I feel like it looks really good all day long. for eyeshadow primer, there were two that I used, Milani and Wet N Wild, either one.\n",
      "Chunk 7\n",
      "Both are very, very similar, but I feel like I used the Milani a little bit more. has a thicker consistency to it, oh, that's too much, and it looks like it's going to color correct or add some kind of coverage, but it really doesn't. It just gives a really nice base to your eyelids for your eyeshadow. It does blend out really nice. It's not super, super thick, like a paste. It just warms up. for eyeshadows, there weren't too many standouts that I used throughout the year, but this is the one brand I just kept coming back to in these two shades.\n",
      "Chunk 8\n",
      "This is the e.l.f., their Bite-Sized eyeshadow palette. I like Truffles and Rose Water. very versatile, different looks you can create. just very easy eyeshadows to work with. very pigmented, blendable. They stay on all day with a really good eyeshadow primer, and they're just phenomenal, especially for the price. You can't beat them.\n",
      "Chunk 9\n",
      "I'm gonna take my finger and go in with this beautiful metallic. It's a beautiful, pewter, taupey shade.\n",
      "Chunk 10\n",
      "I'm gonna take a small... Ooh, geez, that went all over my shirt. (laughing) That's great, whoops.\n",
      "Chunk 11\n",
      "I'm gonna take this shadow right here on a small little fluffy brush and work that into the crease and just help blend it all together, soften it up a little bit. I'm gonna take a little bit more of that metallic shade on a little brush (bottle spritzes) and get it wet.\n",
      "Chunk 12\n",
      "I want a little bit more intensity. for eyeliner, I feel like, if it was a gel, I either stuck with Milani or Revlon. i really like Milani, their Stay Put eyeliner, honestly, in any shade that they have available, but I'm gonna use, today, After Dark, which is number one. It's just a nice matte black eyeliner, and this one, I like that it's super creamy. It has that kohl consistency mixed in with gel, but it stays put once it sets, and I do like to work one eye at a time just because, like I said, once it sets, it sets, and I'm just using an angled brush to give a nice wing For mascara primer, classic, L'Oreal Voluminous Primer. I rediscovered it this year again, and it's just good. gets the job done. i do like to let it get tacky a little bit before the mascara to give it some kind of grip, but it's just a classic mascara primer. for mascara, this should be no surprise, (laughs) Maybelline Lash Sensational mascara. I've tried so many new mascaras from the drugstore this past year, and I found myself just going back to this one and just comparing everything to this mascara. It doesn't smudge on me, it doesn't transfer, it doesn't flake.\n",
      "Chunk 13\n",
      "It can flake if it's a very, very old tube, (laughs) just like any other mascara, but just something about this, it's so easy to layer and to build volume, but it also separates your lashes and it also lengthens your lashes at the same time, and I think it is definitely because of the wand, because of the bristles, the way the bristles are shaped. I really enjoy this mascara. for cream bronzer, this has to be no secret, e.l.f. Putty Bronzer in Tan Lines. It's just such a good (laughs) product, it's so good.\n",
      "Chunk 14\n",
      "It's one of my favorites from the drugstore, from pro-grade pricing to luxury. It's just so good. The only thing I will complain about is, if you're using a bigger brush, I wish this pot was a (laughs) little bigger, but you can use a smaller brush like this, and it fits perfectly in here.\n",
      "Chunk 15\n",
      "I like this color. I like the way it blends. I like that it's buildable, depending on how much product you pick up. I like that you can use it with a brush. I like that you can use it with a dampened sponge, with your fingers.\n",
      "Chunk 16\n",
      "I mean, you can just do so many things with this little product right here, and I actually do like the size of this product because it's a great for traveling, but it's also great to keep in your makeup bag, and it doesn't take up too much space. It's so good, and I like to stamp this product on with a brush. and I do use it to actually carve my cheekbones out And my face because I find that the color, it's that perfect warmth, but neutral, where it doesn't look dirty on my skin, and I do like to layer this product instead of going really heavy handed with it, just layer it and just place in areas where I need a little bit of definition. I feel like e.l.f., in 2021, really stepped up their game with their CC Cream, with their bronzer, their blushes, I mean, their highlighters, their primers. They did a really good job. for cream blush, e.l.f., their Putty Blush in shade Tahiti. It looks intimidating, but just on the skin, it looks so pretty, and again, I like to apply this with more of a dense foundation brush. I'm just gonna work it into the brush and just start tapping this. 2021 was the year of cream products for my skin, for my blush, for my contour, for my bronzer, for the highlighter, but I do like to top it with a powder product on top just to add longevity. but you can see, just working a tiny little bit, it just brings back life onto my cheeks, but in just that perfectly, I don't know. This blush right here is so easy to work with and layer. for my powder, contour/bronzer, Juvia's Place.\n",
      "Chunk 17\n",
      "This has a special place in my heart. This is their bronzer palette in shade Light. I like that I can use this for my skin tone when I'm pale and when I have a little bit more of a tan, but I do like to actually mix the two shades together just to get more of a custom shade for my skin. This powder is just so easy to work with. I love the tones. I like how soft and buttery and how blendable, how buildable the shades are, just so easy to work with, and I've used this with so many different bases, and it just works with everything. I haven't found one product that it hasn't worked with. for my powder blush, this is the one in this particular shade. Milani, and this is their Powder Blush in shade number 11, Blossomtime Rose.\n",
      "Chunk 18\n",
      "I have, I think, two backups (laughs) of this because I love it so much. It has, I don't know if you can even see with the light, it has this iridescent, two-dimensional tone to it. It's peachy, it's rosy. It's so stunning with hint of a little bit of a gold sheen to it.\n",
      "Chunk 19\n",
      "It's so pretty. Oh my gosh, it's so pretty, and it's so easy to use, and just the way it sits on top of my cheeks, it doesn't exaggerate anything, but it just adds something special to my cheekbones on top of any blush. for highlighter, Catrice More Than Glow highlighter in shade number 20, Supreme Rose Beam. This right here, it's such an oldie, but a goodie, and it's just one of my favorites. I find that it gives the perfect iciness and a highlighter look to your face without looking dry, without exaggerating any kind of texture on my skin, and I do like this color, as well. It's definitely a little bit more icy and pink and more cool-toned, but I find that a little goes a long way and it really balances out everything else on my face.\n",
      "Chunk 20\n",
      "Let's say my cheeks look a little warm. It balances everything out, and it's a very easy highlighter to use. I mean, you can make it look super wet and dewy, or you can really just tone it down.\n",
      "Chunk 21\n",
      "I like to use it with a brush first and then go in with my dampened sponge. I mean, look at that, that's insane. definitely looks very wet and dewy on the skin with a brush, but just to help melt everything together, just go in with a dampened sponge, and just tap right on top. so for lips, I was really thinking to myself, \"What were the products that I used most consistently \"and the shades or whatever else?\" I tried so many lip products out from the drugstore, from luxury down to mid-grade, and I found that, this past year, having Emorett and just wanting to just cuddle and kiss him, I didn't wear too many lip products besides a good lip liner and either a lip gloss, a lip oil, or a lip balm. That's (laughs) what I really gravitated towards on an everyday basis, so for lip liners from the drugstore, these two are here on my favorites in these shades. The first one is by NYX, and this right here is their lip pencil in shade N Truffle. I like this one so much. I repurchased this one so many times.\n",
      "Chunk 22\n",
      "It's just a really good everyday neutral beige lip liner (laughs) that you can go really intense with to just outline and really color in your lips, or just do really soft strokes on your lips and just get the most minimal amount of color, but your lips still look really beautiful, defined, and just full of life. and then the other one, this right here is by Milani. This is their Color Statement Lipliner in shade number four, All Natural. I find that this one's a little bit more rosy instead of more n and more beigey with the NYX. It just depends what kind of lip statement you wanna go with, but I find that these two lip pencils, the formula is really stunning. They last all day long, and they're very easy to pair with so many lip colors, depending what color you're going with. I think, today, probably go with, I don't even know, either one. (laughs) More pink or more beige? - Go more pink. - Let's go more pink. Let's go with Milani. honestly, I would just go like this, And just really softly blend it to the center of my lips, but it's like my lip color, but a little bit warmer and deeper. for lip gloss, (laughs) this right here is what I really liked from the drugstore.\n",
      "Chunk 23\n",
      "It's the Milani and it's their Keep It Full, their Maxxx Nourishing Lip Plumper. i really like this one a lot. I love how big (laughs) and jumbo this is, and I like the shade 110, Little Secret. It has a good amount of pigment to it. I like the smell.\n",
      "Chunk 24\n",
      "I like the sensation that it gives. It's not super, super plumping, where it just feels uncomfortable, but it makes your lips just look really luscious and delicious. (laughs) And that completes my Affordable Best of Makeup 2021.\n",
      "Chunk 25\n",
      "I love all of these products. Some of them were new launches, new releases, but they've just been a staple in my makeup routine, and then others, I've just rediscovered or just kept using over the years and there's nothing to replace them (laughs) with.\n",
      "Chunk 26\n",
      "I'm gonna leave it here. Thank you for watching, spending time with me, and I'll see you in the next one very soon, and Happy 2022. so exciting, bye. (Blows kiss)\n",
      "Chunk 27\n",
      "\n",
      "Chunk 28\n",
      "\n"
     ]
    }
   ],
   "source": [
    "for i in range(len(chunk_lst)):\n",
    "  chunk_pair = chunk_lst[i]\n",
    "  print(f\"Chunk {i}\")\n",
    "  print(chunk_pair[1].replace(\"\\n\", \" \"))"
   ]
  },
  {
   "cell_type": "markdown",
   "metadata": {
    "id": "NlX4FlQ5IR_0"
   },
   "source": [
    "Change from Iteration 1: Map from Product to Chunk if Chunk contains product name rather than using semantic matching with sentence transformers"
   ]
  },
  {
   "cell_type": "code",
   "execution_count": 21,
   "metadata": {
    "executionInfo": {
     "elapsed": 22,
     "status": "ok",
     "timestamp": 1678535201822,
     "user": {
      "displayName": "bel hello",
      "userId": "14145485794765337692"
     },
     "user_tz": -480
    },
    "id": "IbZZWiiucR39"
   },
   "outputs": [],
   "source": [
    "product_review_dict = {}\n",
    "for chunk_pair in chunk_lst:\n",
    "  for product in filtered_product_lst:\n",
    "    resolved_chunk = chunk_pair[0]\n",
    "    original_chunk = chunk_pair[1]\n",
    "    if fuzz.partial_ratio(product, resolved_chunk) > 70:\n",
    "      if product in product_review_dict:\n",
    "        product_review_dict[product] = product_review_dict[product] + \" \" + original_chunk\n",
    "      else: \n",
    "        product_review_dict[product] = original_chunk"
   ]
  },
  {
   "cell_type": "code",
   "execution_count": 22,
   "metadata": {
    "colab": {
     "base_uri": "https://localhost:8080/"
    },
    "executionInfo": {
     "elapsed": 21,
     "status": "ok",
     "timestamp": 1678535201822,
     "user": {
      "displayName": "bel hello",
      "userId": "14145485794765337692"
     },
     "user_tz": -480
    },
    "id": "cL8O60QYbjHc",
    "outputId": "8f920059-7db3-4a88-cacd-4323873a3136"
   },
   "outputs": [
    {
     "name": "stdout",
     "output_type": "stream",
     "text": [
      "Happy New Year\n",
      "- Hello, my lovelies, and Happy New Year. Today, it's all about the best affordable makeup of 2021 from my rendition, my opinion, my makeup that I just kept going towards, kept reaching towards, and I just couldn't get enough of. Some of them are newer products, either the beginning of the year, mid, or even towards the end of the year, and then some of them are just rediscovered loves.\n",
      "Primer elf Oil Control Lotion \n",
      "This is their Oil Control Liquid Lotion with tea tree oil. This might put you off if you have dry skin, but I found that this just helped balance the oil throughout the day, especially in a humid, warm, hot climate, definitely towards the spring and summertime, but I really enjoyed this throughout the entire year, and I would mostly focus in areas where I would get extra shiny, like right here, the T-zone, or just even use it all over my face if I knew it was gonna be really hot and humid that day. and it also smells really nice. but it doesn't really mattify you. It just gives a really nice, clean base to begin your makeup. This does have a little bit of a tackiness, so I find that my makeup, it adheres better with this lotion/primer, but I really enjoyed this product, and like I said, don't let it steer you away if you have super dry skin. just make sure you prep your skin with your skincare, and then use this on top before you apply your makeup. for foundation, this was the product that just kept me excited to use it over and over again. This is the L'Oreal True Match Hyaluronic Tinted Serum. I'm in Shade 0.5 to two. This right here is not like your typical foundation, where it gives you a crazy amount of coverage, but something about this, it gives you the coverage. It gives you that beautiful, healthy look to your skin without making it look shiny, oily throughout the day, and it's just a beautiful product. but I do like to wear this on its own, and I do like the dropper. You can apply it with your fingers, but I actually really like a dampened sponge with this, and it just blends so nicely. and it somehow it looks like your skin, but giving a really good, light coverage and just color correcting everything. I love the way this product looks on my skin. if my skin's having a good day, a bad day, I find that this just looks great regardless. (laughs) I love this for an everyday type of a base, it's phenomenal. The very first time I looked at it and reviewed it, in the packaging, in the bottle, it looks iridescent. It looks like it has this pearly, glittery finish, but I don't know, somehow, magically, it looks incredible, and it just gives you the perfect amount of radiance to your skin without looking like a highlighter or an illuminator, because in the bottle, it looks very much so towards the highlighter, illuminator, like an illuminator for your skin.\n",
      "Match Hyaluronic Tinted Serum\n",
      "This is their Oil Control Liquid Lotion with tea tree oil. This might put you off if you have dry skin, but I found that this just helped balance the oil throughout the day, especially in a humid, warm, hot climate, definitely towards the spring and summertime, but I really enjoyed this throughout the entire year, and I would mostly focus in areas where I would get extra shiny, like right here, the T-zone, or just even use it all over my face if I knew it was gonna be really hot and humid that day. and it also smells really nice. but it doesn't really mattify you. It just gives a really nice, clean base to begin your makeup. This does have a little bit of a tackiness, so I find that my makeup, it adheres better with this lotion/primer, but I really enjoyed this product, and like I said, don't let it steer you away if you have super dry skin. just make sure you prep your skin with your skincare, and then use this on top before you apply your makeup. for foundation, this was the product that just kept me excited to use it over and over again. This is the L'Oreal True Match Hyaluronic Tinted Serum. I'm in Shade 0.5 to two. This right here is not like your typical foundation, where it gives you a crazy amount of coverage, but something about this, it gives you the coverage. It gives you that beautiful, healthy look to your skin without making it look shiny, oily throughout the day, and it's just a beautiful product. but I do like to wear this on its own, and I do like the dropper. You can apply it with your fingers, but I actually really like a dampened sponge with this, and it just blends so nicely. and it somehow it looks like your skin, but giving a really good, light coverage and just color correcting everything. I love the way this product looks on my skin. if my skin's having a good day, a bad day, I find that this just looks great regardless. (laughs) I love this for an everyday type of a base, it's phenomenal. The very first time I looked at it and reviewed it, in the packaging, in the bottle, it looks iridescent. It looks like it has this pearly, glittery finish, but I don't know, somehow, magically, it looks incredible, and it just gives you the perfect amount of radiance to your skin without looking like a highlighter or an illuminator, because in the bottle, it looks very much so towards the highlighter, illuminator, like an illuminator for your skin.\n",
      "Maybelline Age Rewind Concealer\n",
      "You have a little spoolie on one end, and then you have the pencil on the other end. just something about the formula, the way it applies, the way it blends, the way lasts all day long, and the color, it's really, really great. It's one of my favorite pencils from the drugstore. It's not the cheapest, but I really, really, really enjoyed this pencil in 2021. so for a brow gel, I don't like many brow gels from the drugstore. I find that they're either too waxy and they just make your brows fall down, especially if you have stubborn brows, or they just don't do anything, honestly. i do like this one. This is a newer one from the drugstore. This is by NYX, this is their The Brow Glue. if you like the laminated effect for your brows, you might really enjoy this, but I find that you have to work in layers with this product. first, do a really light layer. Give it a little bit of time to get tacky and dry down, and then go in with a very light second layer on top to really comb and give your brows the shape you want them to last all day long, and this product, it stays on my brows all day long. and it gives just the perfect amount of crusty brows, (laughs) even though we don't like crusty brows, but with this type of a product, you will get a little bit. Okay, so for concealers, it's the same thing with an eyebrow gel. There were a lot of concealers that I used from the drugstore, but they were more of the L'Oreal Infallible concealer, the Cover Girl concealer, the Maybelline Age Rewind Concealer, classic, but this right here, I have to say, ever since I tried it, I can't stop using it.\n",
      "NYX Bear\n",
      "The NYX Bear with Me Concealer Serum, and there is a reason why it went viral. It's a good concealer. not just good, it's a phenomenal concealer. I am in the shade Vanilla, and it's the perfect color for me, which is very rare, especially from the drugstore. I feel like I have to really create my own concoctions, (laughs) not even from the drugstore. I have two shades I (laughs) usually use, And I like to use my fingers first to get it where I want it to be, it's so lightweight, but it still provides you coverage. It's super lightweight under the eyes. It looks so pretty. It's so stretchy and fluid, where it just goes where you want it to go. You have no issues blending this concealer out at all, but it lasts all day long. It doesn't really crease under the eyes. It doesn't make your under-eyes look weird, crepey, dry, or oily, somehow. (laughs) It just looks really, really nice under the eyes, and I like to apply it with a brush first and then go in with a sponge if I need to. You don't have to set this concealer, but I find that, if you have an eye mask underneath or an eye moisturizer underneath, I like to set it just a little bit using a loose finishing powder, and this right here, I have rediscovered in 2021, the Maybelline Fit Me in shade number 10, or Fair Light. It's perfect for my skin tone. I like that it has a little bit more of a neutral undertone, and I like to use a little brush to work it in there and do a very light dusting over this concealer. and I'll focus it most right under the eyes if I'm wearing mascara right here so it doesn't smudge or it doesn't move and transfer. and this setting powder, it's just a really good setting powder. A little goes a long way. It never makes my skin look crepey, dried out. I feel like it looks really good all day long. for eyeshadow primer, there were two that I used, Milani and Wet N Wild, either one. Both are very, very similar, but I feel like I used the Milani a little bit more. has a thicker consistency to it, oh, that's too much, and it looks like it's going to color correct or add some kind of coverage, but it really doesn't. It just gives a really nice base to your eyelids for your eyeshadow. It does blend out really nice. It's not super, super thick, like a paste. It just warms up. for eyeshadows, there weren't too many standouts that I used throughout the year, but this is the one brand I just kept coming back to in these two shades. I like this color. I like the way it blends. I like that it's buildable, depending on how much product you pick up. I like that you can use it with a brush. I like that you can use it with a dampened sponge, with your fingers. This has a special place in my heart. This is their bronzer palette in shade Light. I like that I can use this for my skin tone when I'm pale and when I have a little bit more of a tan, but I do like to actually mix the two shades together just to get more of a custom shade for my skin. This powder is just so easy to work with. I love the tones. I like how soft and buttery and how blendable, how buildable the shades are, just so easy to work with, and I've used this with so many different bases, and it just works with everything. I haven't found one product that it hasn't worked with. for my powder blush, this is the one in this particular shade. Milani, and this is their Powder Blush in shade number 11, Blossomtime Rose. Let's say my cheeks look a little warm. It balances everything out, and it's a very easy highlighter to use. I mean, you can make it look super wet and dewy, or you can really just tone it down.\n",
      "Me Concealer Serum\n",
      "The NYX Bear with Me Concealer Serum, and there is a reason why it went viral. It's a good concealer. not just good, it's a phenomenal concealer. I am in the shade Vanilla, and it's the perfect color for me, which is very rare, especially from the drugstore. I feel like I have to really create my own concoctions, (laughs) not even from the drugstore. I have two shades I (laughs) usually use, And I like to use my fingers first to get it where I want it to be, it's so lightweight, but it still provides you coverage. It's super lightweight under the eyes. It looks so pretty. It's so stretchy and fluid, where it just goes where you want it to go. You have no issues blending this concealer out at all, but it lasts all day long. It doesn't really crease under the eyes. It doesn't make your under-eyes look weird, crepey, dry, or oily, somehow. (laughs) It just looks really, really nice under the eyes, and I like to apply it with a brush first and then go in with a sponge if I need to. You don't have to set this concealer, but I find that, if you have an eye mask underneath or an eye moisturizer underneath, I like to set it just a little bit using a loose finishing powder, and this right here, I have rediscovered in 2021, the Maybelline Fit Me in shade number 10, or Fair Light. It's perfect for my skin tone. I like that it has a little bit more of a neutral undertone, and I like to use a little brush to work it in there and do a very light dusting over this concealer. and I'll focus it most right under the eyes if I'm wearing mascara right here so it doesn't smudge or it doesn't move and transfer. and this setting powder, it's just a really good setting powder. A little goes a long way. It never makes my skin look crepey, dried out. I feel like it looks really good all day long. for eyeshadow primer, there were two that I used, Milani and Wet N Wild, either one. Both are very, very similar, but I feel like I used the Milani a little bit more. has a thicker consistency to it, oh, that's too much, and it looks like it's going to color correct or add some kind of coverage, but it really doesn't. It just gives a really nice base to your eyelids for your eyeshadow. It does blend out really nice. It's not super, super thick, like a paste. It just warms up. for eyeshadows, there weren't too many standouts that I used throughout the year, but this is the one brand I just kept coming back to in these two shades. I like this color. I like the way it blends. I like that it's buildable, depending on how much product you pick up. I like that you can use it with a brush. I like that you can use it with a dampened sponge, with your fingers. This has a special place in my heart. This is their bronzer palette in shade Light. I like that I can use this for my skin tone when I'm pale and when I have a little bit more of a tan, but I do like to actually mix the two shades together just to get more of a custom shade for my skin. This powder is just so easy to work with. I love the tones. I like how soft and buttery and how blendable, how buildable the shades are, just so easy to work with, and I've used this with so many different bases, and it just works with everything. I haven't found one product that it hasn't worked with. for my powder blush, this is the one in this particular shade. Milani, and this is their Powder Blush in shade number 11, Blossomtime Rose. Let's say my cheeks look a little warm. It balances everything out, and it's a very easy highlighter to use. I mean, you can make it look super wet and dewy, or you can really just tone it down.\n",
      "Mascara Maybelline Lash Sensational \n",
      "I want a little bit more intensity. for eyeliner, I feel like, if it was a gel, I either stuck with Milani or Revlon. i really like Milani, their Stay Put eyeliner, honestly, in any shade that they have available, but I'm gonna use, today, After Dark, which is number one. It's just a nice matte black eyeliner, and this one, I like that it's super creamy. It has that kohl consistency mixed in with gel, but it stays put once it sets, and I do like to work one eye at a time just because, like I said, once it sets, it sets, and I'm just using an angled brush to give a nice wing For mascara primer, classic, L'Oreal Voluminous Primer. I rediscovered it this year again, and it's just good. gets the job done. i do like to let it get tacky a little bit before the mascara to give it some kind of grip, but it's just a classic mascara primer. for mascara, this should be no surprise, (laughs) Maybelline Lash Sensational mascara. I've tried so many new mascaras from the drugstore this past year, and I found myself just going back to this one and just comparing everything to this mascara. It doesn't smudge on me, it doesn't transfer, it doesn't flake. I like this color. I like the way it blends. I like that it's buildable, depending on how much product you pick up. I like that you can use it with a brush. I like that you can use it with a dampened sponge, with your fingers. I have, I think, two backups (laughs) of this because I love it so much. It has, I don't know if you can even see with the light, it has this iridescent, two-dimensional tone to it. It's peachy, it's rosy. It's so stunning with hint of a little bit of a gold sheen to it.\n",
      "Gel Eyeliner Milani Stay Put Eyeliner \n",
      "I want a little bit more intensity. for eyeliner, I feel like, if it was a gel, I either stuck with Milani or Revlon. i really like Milani, their Stay Put eyeliner, honestly, in any shade that they have available, but I'm gonna use, today, After Dark, which is number one. It's just a nice matte black eyeliner, and this one, I like that it's super creamy. It has that kohl consistency mixed in with gel, but it stays put once it sets, and I do like to work one eye at a time just because, like I said, once it sets, it sets, and I'm just using an angled brush to give a nice wing For mascara primer, classic, L'Oreal Voluminous Primer. I rediscovered it this year again, and it's just good. gets the job done. i do like to let it get tacky a little bit before the mascara to give it some kind of grip, but it's just a classic mascara primer. for mascara, this should be no surprise, (laughs) Maybelline Lash Sensational mascara. I've tried so many new mascaras from the drugstore this past year, and I found myself just going back to this one and just comparing everything to this mascara. It doesn't smudge on me, it doesn't transfer, it doesn't flake.\n",
      "Highlighter Catrice More Than Glow Highlighter (Supreme Rose Beam) \n",
      "Let's say my cheeks look a little warm. It balances everything out, and it's a very easy highlighter to use. I mean, you can make it look super wet and dewy, or you can really just tone it down.\n"
     ]
    }
   ],
   "source": [
    "for k, v in product_review_dict.items():\n",
    "  print(k)\n",
    "  print(v.replace(\"\\n\", \" \"))"
   ]
  }
 ],
 "metadata": {
  "colab": {
   "authorship_tag": "ABX9TyNfJlwck2Qx/qAC9iMlYDAS",
   "provenance": [
    {
     "file_id": "1vM36DwbvXyWlAIjmbVfevvtOh-ZNUeuj",
     "timestamp": 1678340160592
    },
    {
     "file_id": "1NnueS5Mm9Ashjv8CZ8srV-Po8Wi-4Tc3",
     "timestamp": 1677679513975
    }
   ]
  },
  "kernelspec": {
   "display_name": "Python 3",
   "language": "python",
   "name": "python3"
  },
  "language_info": {
   "codemirror_mode": {
    "name": "ipython",
    "version": 3
   },
   "file_extension": ".py",
   "mimetype": "text/x-python",
   "name": "python",
   "nbconvert_exporter": "python",
   "pygments_lexer": "ipython3",
   "version": "3.8.8"
  },
  "widgets": {
   "application/vnd.jupyter.widget-state+json": {
    "025e44e53b0b4f2e844eab491227564c": {
     "model_module": "@jupyter-widgets/controls",
     "model_module_version": "1.5.0",
     "model_name": "ProgressStyleModel",
     "state": {
      "_model_module": "@jupyter-widgets/controls",
      "_model_module_version": "1.5.0",
      "_model_name": "ProgressStyleModel",
      "_view_count": null,
      "_view_module": "@jupyter-widgets/base",
      "_view_module_version": "1.2.0",
      "_view_name": "StyleView",
      "bar_color": null,
      "description_width": ""
     }
    },
    "03bfb792b2ba4b30a962ed5cafab6c42": {
     "model_module": "@jupyter-widgets/base",
     "model_module_version": "1.2.0",
     "model_name": "LayoutModel",
     "state": {
      "_model_module": "@jupyter-widgets/base",
      "_model_module_version": "1.2.0",
      "_model_name": "LayoutModel",
      "_view_count": null,
      "_view_module": "@jupyter-widgets/base",
      "_view_module_version": "1.2.0",
      "_view_name": "LayoutView",
      "align_content": null,
      "align_items": null,
      "align_self": null,
      "border": null,
      "bottom": null,
      "display": null,
      "flex": null,
      "flex_flow": null,
      "grid_area": null,
      "grid_auto_columns": null,
      "grid_auto_flow": null,
      "grid_auto_rows": null,
      "grid_column": null,
      "grid_gap": null,
      "grid_row": null,
      "grid_template_areas": null,
      "grid_template_columns": null,
      "grid_template_rows": null,
      "height": null,
      "justify_content": null,
      "justify_items": null,
      "left": null,
      "margin": null,
      "max_height": null,
      "max_width": null,
      "min_height": null,
      "min_width": null,
      "object_fit": null,
      "object_position": null,
      "order": null,
      "overflow": null,
      "overflow_x": null,
      "overflow_y": null,
      "padding": null,
      "right": null,
      "top": null,
      "visibility": null,
      "width": null
     }
    },
    "1257e0ee7fa44f0898dfd7a5fed0999d": {
     "model_module": "@jupyter-widgets/controls",
     "model_module_version": "1.5.0",
     "model_name": "DescriptionStyleModel",
     "state": {
      "_model_module": "@jupyter-widgets/controls",
      "_model_module_version": "1.5.0",
      "_model_name": "DescriptionStyleModel",
      "_view_count": null,
      "_view_module": "@jupyter-widgets/base",
      "_view_module_version": "1.2.0",
      "_view_name": "StyleView",
      "description_width": ""
     }
    },
    "15b4b66c7cf74660a7c8d51de9ecfcbf": {
     "model_module": "@jupyter-widgets/controls",
     "model_module_version": "1.5.0",
     "model_name": "HTMLModel",
     "state": {
      "_dom_classes": [],
      "_model_module": "@jupyter-widgets/controls",
      "_model_module_version": "1.5.0",
      "_model_name": "HTMLModel",
      "_view_count": null,
      "_view_module": "@jupyter-widgets/controls",
      "_view_module_version": "1.5.0",
      "_view_name": "HTMLView",
      "description": "",
      "description_tooltip": null,
      "layout": "IPY_MODEL_ebcda34855114b9d91a84a0ea9532ef1",
      "placeholder": "​",
      "style": "IPY_MODEL_e566a2b640fd42298515fd657315d07d",
      "value": " 1/1 [00:00&lt;00:00,  2.05 examples/s]"
     }
    },
    "178b400cf5054fabb78c28135211a971": {
     "model_module": "@jupyter-widgets/controls",
     "model_module_version": "1.5.0",
     "model_name": "HTMLModel",
     "state": {
      "_dom_classes": [],
      "_model_module": "@jupyter-widgets/controls",
      "_model_module_version": "1.5.0",
      "_model_name": "HTMLModel",
      "_view_count": null,
      "_view_module": "@jupyter-widgets/controls",
      "_view_module_version": "1.5.0",
      "_view_name": "HTMLView",
      "description": "",
      "description_tooltip": null,
      "layout": "IPY_MODEL_b976b627798041abac482ff54c52fe67",
      "placeholder": "​",
      "style": "IPY_MODEL_1257e0ee7fa44f0898dfd7a5fed0999d",
      "value": "Map: 100%"
     }
    },
    "28bcd0f6a43c4e9881bdc514853484aa": {
     "model_module": "@jupyter-widgets/controls",
     "model_module_version": "1.5.0",
     "model_name": "FloatProgressModel",
     "state": {
      "_dom_classes": [],
      "_model_module": "@jupyter-widgets/controls",
      "_model_module_version": "1.5.0",
      "_model_name": "FloatProgressModel",
      "_view_count": null,
      "_view_module": "@jupyter-widgets/controls",
      "_view_module_version": "1.5.0",
      "_view_name": "ProgressView",
      "bar_style": "",
      "description": "",
      "description_tooltip": null,
      "layout": "IPY_MODEL_03bfb792b2ba4b30a962ed5cafab6c42",
      "max": 1,
      "min": 0,
      "orientation": "horizontal",
      "style": "IPY_MODEL_025e44e53b0b4f2e844eab491227564c",
      "value": 1
     }
    },
    "2bd56425b50a4205ae9fde9f9442942d": {
     "model_module": "@jupyter-widgets/base",
     "model_module_version": "1.2.0",
     "model_name": "LayoutModel",
     "state": {
      "_model_module": "@jupyter-widgets/base",
      "_model_module_version": "1.2.0",
      "_model_name": "LayoutModel",
      "_view_count": null,
      "_view_module": "@jupyter-widgets/base",
      "_view_module_version": "1.2.0",
      "_view_name": "LayoutView",
      "align_content": null,
      "align_items": null,
      "align_self": null,
      "border": null,
      "bottom": null,
      "display": null,
      "flex": null,
      "flex_flow": null,
      "grid_area": null,
      "grid_auto_columns": null,
      "grid_auto_flow": null,
      "grid_auto_rows": null,
      "grid_column": null,
      "grid_gap": null,
      "grid_row": null,
      "grid_template_areas": null,
      "grid_template_columns": null,
      "grid_template_rows": null,
      "height": null,
      "justify_content": null,
      "justify_items": null,
      "left": null,
      "margin": null,
      "max_height": null,
      "max_width": null,
      "min_height": null,
      "min_width": null,
      "object_fit": null,
      "object_position": null,
      "order": null,
      "overflow": null,
      "overflow_x": null,
      "overflow_y": null,
      "padding": null,
      "right": null,
      "top": null,
      "visibility": null,
      "width": null
     }
    },
    "3aa9cafa9c8b410798556fc301c5cca3": {
     "model_module": "@jupyter-widgets/controls",
     "model_module_version": "1.5.0",
     "model_name": "DescriptionStyleModel",
     "state": {
      "_model_module": "@jupyter-widgets/controls",
      "_model_module_version": "1.5.0",
      "_model_name": "DescriptionStyleModel",
      "_view_count": null,
      "_view_module": "@jupyter-widgets/base",
      "_view_module_version": "1.2.0",
      "_view_name": "StyleView",
      "description_width": ""
     }
    },
    "3eb4eaf0c32a4ce7b73f2a2beba42e52": {
     "model_module": "@jupyter-widgets/controls",
     "model_module_version": "1.5.0",
     "model_name": "FloatProgressModel",
     "state": {
      "_dom_classes": [],
      "_model_module": "@jupyter-widgets/controls",
      "_model_module_version": "1.5.0",
      "_model_name": "FloatProgressModel",
      "_view_count": null,
      "_view_module": "@jupyter-widgets/controls",
      "_view_module_version": "1.5.0",
      "_view_name": "ProgressView",
      "bar_style": "success",
      "description": "",
      "description_tooltip": null,
      "layout": "IPY_MODEL_c2e58683dbd54f2c91ac7788c54779b6",
      "max": 1,
      "min": 0,
      "orientation": "horizontal",
      "style": "IPY_MODEL_7fe1fd227486400c829f51d94bf4ba32",
      "value": 1
     }
    },
    "3f2a405a4254457495c7bb72a1f7a4cf": {
     "model_module": "@jupyter-widgets/controls",
     "model_module_version": "1.5.0",
     "model_name": "HBoxModel",
     "state": {
      "_dom_classes": [],
      "_model_module": "@jupyter-widgets/controls",
      "_model_module_version": "1.5.0",
      "_model_name": "HBoxModel",
      "_view_count": null,
      "_view_module": "@jupyter-widgets/controls",
      "_view_module_version": "1.5.0",
      "_view_name": "HBoxView",
      "box_style": "",
      "children": [
       "IPY_MODEL_178b400cf5054fabb78c28135211a971",
       "IPY_MODEL_28bcd0f6a43c4e9881bdc514853484aa",
       "IPY_MODEL_15b4b66c7cf74660a7c8d51de9ecfcbf"
      ],
      "layout": "IPY_MODEL_cd9cb2f126824eabaca751c34f6be7da"
     }
    },
    "5ea2773fcd744d40b33722605ee6fc57": {
     "model_module": "@jupyter-widgets/controls",
     "model_module_version": "1.5.0",
     "model_name": "DescriptionStyleModel",
     "state": {
      "_model_module": "@jupyter-widgets/controls",
      "_model_module_version": "1.5.0",
      "_model_name": "DescriptionStyleModel",
      "_view_count": null,
      "_view_module": "@jupyter-widgets/base",
      "_view_module_version": "1.2.0",
      "_view_name": "StyleView",
      "description_width": ""
     }
    },
    "7b80cc4b9145476d9635be2116fb959f": {
     "model_module": "@jupyter-widgets/controls",
     "model_module_version": "1.5.0",
     "model_name": "HTMLModel",
     "state": {
      "_dom_classes": [],
      "_model_module": "@jupyter-widgets/controls",
      "_model_module_version": "1.5.0",
      "_model_name": "HTMLModel",
      "_view_count": null,
      "_view_module": "@jupyter-widgets/controls",
      "_view_module_version": "1.5.0",
      "_view_name": "HTMLView",
      "description": "",
      "description_tooltip": null,
      "layout": "IPY_MODEL_b6a266830aef4121abec54b40b91bb96",
      "placeholder": "​",
      "style": "IPY_MODEL_3aa9cafa9c8b410798556fc301c5cca3",
      "value": " 1/1 [00:37&lt;00:00, 37.22s/it]"
     }
    },
    "7fe1fd227486400c829f51d94bf4ba32": {
     "model_module": "@jupyter-widgets/controls",
     "model_module_version": "1.5.0",
     "model_name": "ProgressStyleModel",
     "state": {
      "_model_module": "@jupyter-widgets/controls",
      "_model_module_version": "1.5.0",
      "_model_name": "ProgressStyleModel",
      "_view_count": null,
      "_view_module": "@jupyter-widgets/base",
      "_view_module_version": "1.2.0",
      "_view_name": "StyleView",
      "bar_color": null,
      "description_width": ""
     }
    },
    "b6a266830aef4121abec54b40b91bb96": {
     "model_module": "@jupyter-widgets/base",
     "model_module_version": "1.2.0",
     "model_name": "LayoutModel",
     "state": {
      "_model_module": "@jupyter-widgets/base",
      "_model_module_version": "1.2.0",
      "_model_name": "LayoutModel",
      "_view_count": null,
      "_view_module": "@jupyter-widgets/base",
      "_view_module_version": "1.2.0",
      "_view_name": "LayoutView",
      "align_content": null,
      "align_items": null,
      "align_self": null,
      "border": null,
      "bottom": null,
      "display": null,
      "flex": null,
      "flex_flow": null,
      "grid_area": null,
      "grid_auto_columns": null,
      "grid_auto_flow": null,
      "grid_auto_rows": null,
      "grid_column": null,
      "grid_gap": null,
      "grid_row": null,
      "grid_template_areas": null,
      "grid_template_columns": null,
      "grid_template_rows": null,
      "height": null,
      "justify_content": null,
      "justify_items": null,
      "left": null,
      "margin": null,
      "max_height": null,
      "max_width": null,
      "min_height": null,
      "min_width": null,
      "object_fit": null,
      "object_position": null,
      "order": null,
      "overflow": null,
      "overflow_x": null,
      "overflow_y": null,
      "padding": null,
      "right": null,
      "top": null,
      "visibility": null,
      "width": null
     }
    },
    "b976b627798041abac482ff54c52fe67": {
     "model_module": "@jupyter-widgets/base",
     "model_module_version": "1.2.0",
     "model_name": "LayoutModel",
     "state": {
      "_model_module": "@jupyter-widgets/base",
      "_model_module_version": "1.2.0",
      "_model_name": "LayoutModel",
      "_view_count": null,
      "_view_module": "@jupyter-widgets/base",
      "_view_module_version": "1.2.0",
      "_view_name": "LayoutView",
      "align_content": null,
      "align_items": null,
      "align_self": null,
      "border": null,
      "bottom": null,
      "display": null,
      "flex": null,
      "flex_flow": null,
      "grid_area": null,
      "grid_auto_columns": null,
      "grid_auto_flow": null,
      "grid_auto_rows": null,
      "grid_column": null,
      "grid_gap": null,
      "grid_row": null,
      "grid_template_areas": null,
      "grid_template_columns": null,
      "grid_template_rows": null,
      "height": null,
      "justify_content": null,
      "justify_items": null,
      "left": null,
      "margin": null,
      "max_height": null,
      "max_width": null,
      "min_height": null,
      "min_width": null,
      "object_fit": null,
      "object_position": null,
      "order": null,
      "overflow": null,
      "overflow_x": null,
      "overflow_y": null,
      "padding": null,
      "right": null,
      "top": null,
      "visibility": null,
      "width": null
     }
    },
    "c2e58683dbd54f2c91ac7788c54779b6": {
     "model_module": "@jupyter-widgets/base",
     "model_module_version": "1.2.0",
     "model_name": "LayoutModel",
     "state": {
      "_model_module": "@jupyter-widgets/base",
      "_model_module_version": "1.2.0",
      "_model_name": "LayoutModel",
      "_view_count": null,
      "_view_module": "@jupyter-widgets/base",
      "_view_module_version": "1.2.0",
      "_view_name": "LayoutView",
      "align_content": null,
      "align_items": null,
      "align_self": null,
      "border": null,
      "bottom": null,
      "display": null,
      "flex": null,
      "flex_flow": null,
      "grid_area": null,
      "grid_auto_columns": null,
      "grid_auto_flow": null,
      "grid_auto_rows": null,
      "grid_column": null,
      "grid_gap": null,
      "grid_row": null,
      "grid_template_areas": null,
      "grid_template_columns": null,
      "grid_template_rows": null,
      "height": null,
      "justify_content": null,
      "justify_items": null,
      "left": null,
      "margin": null,
      "max_height": null,
      "max_width": null,
      "min_height": null,
      "min_width": null,
      "object_fit": null,
      "object_position": null,
      "order": null,
      "overflow": null,
      "overflow_x": null,
      "overflow_y": null,
      "padding": null,
      "right": null,
      "top": null,
      "visibility": null,
      "width": null
     }
    },
    "c360f9cf913540ee85fe2dc964e7736b": {
     "model_module": "@jupyter-widgets/base",
     "model_module_version": "1.2.0",
     "model_name": "LayoutModel",
     "state": {
      "_model_module": "@jupyter-widgets/base",
      "_model_module_version": "1.2.0",
      "_model_name": "LayoutModel",
      "_view_count": null,
      "_view_module": "@jupyter-widgets/base",
      "_view_module_version": "1.2.0",
      "_view_name": "LayoutView",
      "align_content": null,
      "align_items": null,
      "align_self": null,
      "border": null,
      "bottom": null,
      "display": null,
      "flex": null,
      "flex_flow": null,
      "grid_area": null,
      "grid_auto_columns": null,
      "grid_auto_flow": null,
      "grid_auto_rows": null,
      "grid_column": null,
      "grid_gap": null,
      "grid_row": null,
      "grid_template_areas": null,
      "grid_template_columns": null,
      "grid_template_rows": null,
      "height": null,
      "justify_content": null,
      "justify_items": null,
      "left": null,
      "margin": null,
      "max_height": null,
      "max_width": null,
      "min_height": null,
      "min_width": null,
      "object_fit": null,
      "object_position": null,
      "order": null,
      "overflow": null,
      "overflow_x": null,
      "overflow_y": null,
      "padding": null,
      "right": null,
      "top": null,
      "visibility": null,
      "width": null
     }
    },
    "cd9cb2f126824eabaca751c34f6be7da": {
     "model_module": "@jupyter-widgets/base",
     "model_module_version": "1.2.0",
     "model_name": "LayoutModel",
     "state": {
      "_model_module": "@jupyter-widgets/base",
      "_model_module_version": "1.2.0",
      "_model_name": "LayoutModel",
      "_view_count": null,
      "_view_module": "@jupyter-widgets/base",
      "_view_module_version": "1.2.0",
      "_view_name": "LayoutView",
      "align_content": null,
      "align_items": null,
      "align_self": null,
      "border": null,
      "bottom": null,
      "display": null,
      "flex": null,
      "flex_flow": null,
      "grid_area": null,
      "grid_auto_columns": null,
      "grid_auto_flow": null,
      "grid_auto_rows": null,
      "grid_column": null,
      "grid_gap": null,
      "grid_row": null,
      "grid_template_areas": null,
      "grid_template_columns": null,
      "grid_template_rows": null,
      "height": null,
      "justify_content": null,
      "justify_items": null,
      "left": null,
      "margin": null,
      "max_height": null,
      "max_width": null,
      "min_height": null,
      "min_width": null,
      "object_fit": null,
      "object_position": null,
      "order": null,
      "overflow": null,
      "overflow_x": null,
      "overflow_y": null,
      "padding": null,
      "right": null,
      "top": null,
      "visibility": "hidden",
      "width": null
     }
    },
    "e55ce7286ddc4e40b0360d19b96dc109": {
     "model_module": "@jupyter-widgets/controls",
     "model_module_version": "1.5.0",
     "model_name": "HBoxModel",
     "state": {
      "_dom_classes": [],
      "_model_module": "@jupyter-widgets/controls",
      "_model_module_version": "1.5.0",
      "_model_name": "HBoxModel",
      "_view_count": null,
      "_view_module": "@jupyter-widgets/controls",
      "_view_module_version": "1.5.0",
      "_view_name": "HBoxView",
      "box_style": "",
      "children": [
       "IPY_MODEL_fccabe11021e4ff2b7448e0edef94e7b",
       "IPY_MODEL_3eb4eaf0c32a4ce7b73f2a2beba42e52",
       "IPY_MODEL_7b80cc4b9145476d9635be2116fb959f"
      ],
      "layout": "IPY_MODEL_2bd56425b50a4205ae9fde9f9442942d"
     }
    },
    "e566a2b640fd42298515fd657315d07d": {
     "model_module": "@jupyter-widgets/controls",
     "model_module_version": "1.5.0",
     "model_name": "DescriptionStyleModel",
     "state": {
      "_model_module": "@jupyter-widgets/controls",
      "_model_module_version": "1.5.0",
      "_model_name": "DescriptionStyleModel",
      "_view_count": null,
      "_view_module": "@jupyter-widgets/base",
      "_view_module_version": "1.2.0",
      "_view_name": "StyleView",
      "description_width": ""
     }
    },
    "ebcda34855114b9d91a84a0ea9532ef1": {
     "model_module": "@jupyter-widgets/base",
     "model_module_version": "1.2.0",
     "model_name": "LayoutModel",
     "state": {
      "_model_module": "@jupyter-widgets/base",
      "_model_module_version": "1.2.0",
      "_model_name": "LayoutModel",
      "_view_count": null,
      "_view_module": "@jupyter-widgets/base",
      "_view_module_version": "1.2.0",
      "_view_name": "LayoutView",
      "align_content": null,
      "align_items": null,
      "align_self": null,
      "border": null,
      "bottom": null,
      "display": null,
      "flex": null,
      "flex_flow": null,
      "grid_area": null,
      "grid_auto_columns": null,
      "grid_auto_flow": null,
      "grid_auto_rows": null,
      "grid_column": null,
      "grid_gap": null,
      "grid_row": null,
      "grid_template_areas": null,
      "grid_template_columns": null,
      "grid_template_rows": null,
      "height": null,
      "justify_content": null,
      "justify_items": null,
      "left": null,
      "margin": null,
      "max_height": null,
      "max_width": null,
      "min_height": null,
      "min_width": null,
      "object_fit": null,
      "object_position": null,
      "order": null,
      "overflow": null,
      "overflow_x": null,
      "overflow_y": null,
      "padding": null,
      "right": null,
      "top": null,
      "visibility": null,
      "width": null
     }
    },
    "fccabe11021e4ff2b7448e0edef94e7b": {
     "model_module": "@jupyter-widgets/controls",
     "model_module_version": "1.5.0",
     "model_name": "HTMLModel",
     "state": {
      "_dom_classes": [],
      "_model_module": "@jupyter-widgets/controls",
      "_model_module_version": "1.5.0",
      "_model_name": "HTMLModel",
      "_view_count": null,
      "_view_module": "@jupyter-widgets/controls",
      "_view_module_version": "1.5.0",
      "_view_name": "HTMLView",
      "description": "",
      "description_tooltip": null,
      "layout": "IPY_MODEL_c360f9cf913540ee85fe2dc964e7736b",
      "placeholder": "​",
      "style": "IPY_MODEL_5ea2773fcd744d40b33722605ee6fc57",
      "value": "Inference: 100%"
     }
    }
   }
  }
 },
 "nbformat": 4,
 "nbformat_minor": 1
}
