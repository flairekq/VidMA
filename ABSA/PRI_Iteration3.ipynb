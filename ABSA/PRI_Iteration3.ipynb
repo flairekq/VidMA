{
 "cells": [
  {
   "cell_type": "code",
   "execution_count": 1,
   "metadata": {
    "executionInfo": {
     "elapsed": 834,
     "status": "ok",
     "timestamp": 1678535791757,
     "user": {
      "displayName": "bel hello",
      "userId": "14145485794765337692"
     },
     "user_tz": -480
    },
    "id": "qMvZUdHqAJ99"
   },
   "outputs": [],
   "source": [
    "from google.colab import drive\n",
    "import os\n",
    "import pandas as pd"
   ]
  },
  {
   "cell_type": "code",
   "execution_count": 3,
   "metadata": {
    "executionInfo": {
     "elapsed": 5,
     "status": "ok",
     "timestamp": 1678535794417,
     "user": {
      "displayName": "bel hello",
      "userId": "14145485794765337692"
     },
     "user_tz": -480
    },
    "id": "2-g7y5LOl6K0"
   },
   "outputs": [],
   "source": [
    "current_directory = \"/data\"\n",
    "os.chdir(current_directory)"
   ]
  },
  {
   "cell_type": "code",
   "execution_count": 4,
   "metadata": {
    "colab": {
     "base_uri": "https://localhost:8080/"
    },
    "executionInfo": {
     "elapsed": 33878,
     "status": "ok",
     "timestamp": 1678535828291,
     "user": {
      "displayName": "bel hello",
      "userId": "14145485794765337692"
     },
     "user_tz": -480
    },
    "id": "hCuoWxrZVf0I",
    "outputId": "197922d3-31e8-4b5f-ccf2-e02fac03f0af"
   },
   "outputs": [
    {
     "name": "stdout",
     "output_type": "stream",
     "text": [
      "Looking in indexes: https://pypi.org/simple, https://us-python.pkg.dev/colab-wheels/public/simple/\n",
      "\u001b[31mERROR: Could not find a version that satisfies the requirement ntlk (from versions: none)\u001b[0m\u001b[31m\n",
      "\u001b[0m\u001b[31mERROR: No matching distribution found for ntlk\u001b[0m\u001b[31m\n",
      "\u001b[0mLooking in indexes: https://pypi.org/simple, https://us-python.pkg.dev/colab-wheels/public/simple/\n",
      "Requirement already satisfied: num2words in /usr/local/lib/python3.9/dist-packages (0.5.12)\n",
      "Requirement already satisfied: docopt>=0.6.2 in /usr/local/lib/python3.9/dist-packages (from num2words) (0.6.2)\n",
      "Looking in indexes: https://pypi.org/simple, https://us-python.pkg.dev/colab-wheels/public/simple/\n",
      "Requirement already satisfied: fuzzywuzzy in /usr/local/lib/python3.9/dist-packages (0.18.0)\n",
      "Looking in indexes: https://pypi.org/simple, https://us-python.pkg.dev/colab-wheels/public/simple/\n",
      "Requirement already satisfied: python-Levenshtein in /usr/local/lib/python3.9/dist-packages (0.20.9)\n",
      "Requirement already satisfied: Levenshtein==0.20.9 in /usr/local/lib/python3.9/dist-packages (from python-Levenshtein) (0.20.9)\n",
      "Requirement already satisfied: rapidfuzz<3.0.0,>=2.3.0 in /usr/local/lib/python3.9/dist-packages (from Levenshtein==0.20.9->python-Levenshtein) (2.13.7)\n"
     ]
    }
   ],
   "source": [
    "!pip install ntlk\n",
    "!pip install num2words\n",
    "!pip install fuzzywuzzy\n",
    "!pip install python-Levenshtein"
   ]
  },
  {
   "cell_type": "code",
   "execution_count": 5,
   "metadata": {
    "executionInfo": {
     "elapsed": 1104,
     "status": "ok",
     "timestamp": 1678535829379,
     "user": {
      "displayName": "bel hello",
      "userId": "14145485794765337692"
     },
     "user_tz": -480
    },
    "id": "DJxa8D2k_qsg"
   },
   "outputs": [],
   "source": [
    "import pandas as pd\n",
    "import numpy as np\n",
    "\n",
    "import nltk\n",
    "from nltk.corpus import stopwords\n",
    "from nltk.corpus import wordnet\n",
    "from nltk.stem.wordnet import WordNetLemmatizer \n",
    "from nltk.stem import PorterStemmer\n",
    "from nltk import word_tokenize, sent_tokenize, pos_tag, ne_chunk\n",
    "from nltk import RegexpParser\n",
    "from nltk import Tree\n",
    "\n",
    "import re\n",
    "import num2words\n",
    "import json"
   ]
  },
  {
   "cell_type": "code",
   "execution_count": 6,
   "metadata": {
    "colab": {
     "base_uri": "https://localhost:8080/"
    },
    "executionInfo": {
     "elapsed": 6,
     "status": "ok",
     "timestamp": 1678535829379,
     "user": {
      "displayName": "bel hello",
      "userId": "14145485794765337692"
     },
     "user_tz": -480
    },
    "id": "2lm2HNfGVwuF",
    "outputId": "8fdbbe7c-6242-4961-e8dc-8308489b9e6f"
   },
   "outputs": [
    {
     "name": "stderr",
     "output_type": "stream",
     "text": [
      "[nltk_data] Downloading package stopwords to /root/nltk_data...\n",
      "[nltk_data]   Package stopwords is already up-to-date!\n",
      "[nltk_data] Downloading package punkt to /root/nltk_data...\n",
      "[nltk_data]   Package punkt is already up-to-date!\n",
      "[nltk_data] Downloading package averaged_perceptron_tagger to\n",
      "[nltk_data]     /root/nltk_data...\n",
      "[nltk_data]   Package averaged_perceptron_tagger is already up-to-\n",
      "[nltk_data]       date!\n",
      "[nltk_data] Downloading package wordnet to /root/nltk_data...\n",
      "[nltk_data]   Package wordnet is already up-to-date!\n",
      "[nltk_data] Downloading package omw-1.4 to /root/nltk_data...\n",
      "[nltk_data]   Package omw-1.4 is already up-to-date!\n",
      "[nltk_data] Downloading package maxent_ne_chunker to\n",
      "[nltk_data]     /root/nltk_data...\n",
      "[nltk_data]   Package maxent_ne_chunker is already up-to-date!\n",
      "[nltk_data] Downloading package words to /root/nltk_data...\n",
      "[nltk_data]   Package words is already up-to-date!\n"
     ]
    },
    {
     "data": {
      "text/plain": [
       "True"
      ]
     },
     "execution_count": 6,
     "metadata": {},
     "output_type": "execute_result"
    }
   ],
   "source": [
    "nltk.download('stopwords')\n",
    "nltk.download('punkt')\n",
    "nltk.download('averaged_perceptron_tagger')\n",
    "nltk.download('wordnet')\n",
    "nltk.download('omw-1.4')\n",
    "nltk.download('maxent_ne_chunker')\n",
    "nltk.download('words')"
   ]
  },
  {
   "cell_type": "markdown",
   "metadata": {
    "id": "ntIFHR7mUQhu"
   },
   "source": [
    "Intialise Classes for Product Review Identification and Segmentation"
   ]
  },
  {
   "cell_type": "code",
   "execution_count": 7,
   "metadata": {
    "executionInfo": {
     "elapsed": 4,
     "status": "ok",
     "timestamp": 1678535829380,
     "user": {
      "displayName": "bel hello",
      "userId": "14145485794765337692"
     },
     "user_tz": -480
    },
    "id": "W80RtDhVkcwE"
   },
   "outputs": [],
   "source": [
    "class ProductIdentifier:\n",
    "  def __init__(self):\n",
    "    pass\n",
    "\n",
    "  def remove_non_ascii(self, text):\n",
    "    return re.sub(r'[^\\x00-\\x7F]+',' ', text)\n",
    "\n",
    "  def GetNounsWithNLTK(self, text, chunk_func=ne_chunk):\n",
    "    chunked = chunk_func(pos_tag(word_tokenize(text)))\n",
    "    continuous_chunk = []\n",
    "    current_chunk = []\n",
    "\n",
    "    for subtree in chunked:\n",
    "      if type(subtree) == Tree:\n",
    "        current_chunk.append(\" \".join([token for token, pos in subtree.leaves()]))\n",
    "      elif current_chunk:\n",
    "        named_entity = \" \".join(current_chunk)\n",
    "        if named_entity not in continuous_chunk:\n",
    "          continuous_chunk.append(named_entity)\n",
    "          current_chunk = []\n",
    "      else:\n",
    "        continue\n",
    "\n",
    "    return continuous_chunk\n",
    "\n",
    "  def get_uppercased_word_series(self, text):\n",
    "    temp_lst = []\n",
    "    uppercased_word_lst = []\n",
    "    word_lst = nltk.word_tokenize(text)\n",
    "    for i in range(len(word_lst)):\n",
    "      word = word_lst[i]\n",
    "      starts_with_uppercase = word[0].isupper()\n",
    "      if starts_with_uppercase:\n",
    "        temp_lst.append(word)\n",
    "        if (i == len(word_lst)-1):\n",
    "          if len(temp_lst) >= 2:\n",
    "            uppercased_word_lst.append(\" \".join(temp_lst))\n",
    "        continue\n",
    "      else:\n",
    "        if len(temp_lst) >= 2:\n",
    "          uppercased_word_lst.append(\" \".join(temp_lst))\n",
    "        temp_lst = []\n",
    "    return list(set(uppercased_word_lst))\n",
    "\n",
    "  def Check_If_NP_Is_Known_Product(self,np, product_lexicon):\n",
    "    for product in product_lexicon:\n",
    "      if np == product:\n",
    "        return True\n",
    "    return False\n",
    "\n",
    "  def Check_If_NP_Has_Product_Indicator(self, np, product_indicators):\n",
    "    for product in product_indicators:\n",
    "      similarity = fuzz.partial_ratio(np.lower(),product.lower())\n",
    "      if similarity >= 80:\n",
    "        return True\n",
    "    return False\n",
    "\n",
    "  def Check_If_NP_Is_Product(self, np, product_indicators, product_lexicon):\n",
    "    if self.Check_If_NP_Is_Known_Product(np, product_lexicon):\n",
    "      return True\n",
    "    elif self.Check_If_NP_Has_Product_Indicator(np, product_indicators):\n",
    "      return True\n",
    "    else:\n",
    "      return False\n",
    "\n",
    "  def is_not_substring_of_another_product(self,product, product_lst):\n",
    "    for comparison_product in product_lst:\n",
    "      if product.lower() == comparison_product.lower():\n",
    "        continue\n",
    "      if product.lower() in comparison_product.lower():\n",
    "        return False\n",
    "    return True\n",
    "\n",
    "  def detect_products_from_transcript(self, review_dict, product_indicators, product_lexicon):\n",
    "    text = review_dict[\"transcript_text\"]\n",
    "    #sometimes nltk ne chunker misses out\n",
    "    nouns_in_transcript = self.GetNounsWithNLTK(text)\n",
    "    #parse for a series of uppercase\n",
    "    uppercased_series_lst = self.get_uppercased_word_series(text)\n",
    "\n",
    "    #nouns_in_transcript.extend(np_lst)\n",
    "    nouns_in_transcript.extend(uppercased_series_lst)\n",
    "\n",
    "    #only keep if len > 2 \n",
    "    nouns_in_transcript = list(filter(lambda noun_phrase: len(nltk.word_tokenize(noun_phrase))>=2, nouns_in_transcript))\n",
    "\n",
    "    #keep if match with brand name or contain a product term\n",
    "    nouns_in_transcript = list(filter(lambda noun_phrase: self.Check_If_NP_Is_Product(noun_phrase, product_indicators, product_lexicon), nouns_in_transcript))\n",
    "\n",
    "    #filter the products\n",
    "    nouns_in_transcript = list(filter(lambda product: self.is_not_substring_of_another_product(product, nouns_in_transcript), nouns_in_transcript))\n",
    "\n",
    "    return list(set(nouns_in_transcript))\n",
    "\n",
    "\n",
    "  def contains_url(self,text):\n",
    "    regex = r\"(?i)\\b((?:https?://|www\\d{0,3}[.]|[a-z0-9.\\-]+[.][a-z]{2,4}/)(?:[^\\s()<>]+|\\(([^\\s()<>]+|(\\([^\\s()<>]+\\)))*\\))+(?:\\(([^\\s()<>]+|(\\([^\\s()<>]+\\)))*\\)|[^\\s`!()\\[\\]{};:'\\\".,<>?«»“”‘’]))\"\n",
    "    url = re.findall(regex, text)\n",
    "    if url != []:\n",
    "      return True\n",
    "    else:\n",
    "      return False\n",
    "\n",
    "  def remove_url(self,text):\n",
    "    regex = r\"(?i)\\b((?:https?://|www\\d{0,3}[.]|[a-z0-9.\\-]+[.][a-z]{2,4}/)(?:[^\\s()<>]+|\\(([^\\s()<>]+|(\\([^\\s()<>]+\\)))*\\))+(?:\\(([^\\s()<>]+|(\\([^\\s()<>]+\\)))*\\)|[^\\s`!()\\[\\]{};:'\\\".,<>?«»“”‘’]))\"\n",
    "    removed_url_text = re.sub(regex, \"\", text)\n",
    "    return removed_url_text\n",
    "\n",
    "  def clean_desc(self,text):\n",
    "    text = text.replace(\":\", \"\")\n",
    "    text = text.replace(\"*\", \"\")\n",
    "    return text\n",
    "\n",
    "  def get_products_from_desc(self,review_dict):\n",
    "    description = review_dict[\"description\"]\n",
    "    channel_title = review_dict[\"channel_title\"]\n",
    "    split_desc = description.split(\"\\n\")\n",
    "    desc_sentence_with_url = list(filter(lambda txt: self.contains_url(txt), split_desc))\n",
    "    #set higher threshold because even if e.g. \"mal\" \"ibu\" match seperately -- it raises the match score\n",
    "    desc_sentence_without_channel_url = list(filter(lambda txt: fuzz.partial_ratio(txt.lower(),channel_title.lower()) < 80, desc_sentence_with_url))\n",
    "    products = list(filter(lambda txt: self.Check_If_NP_Is_Product(txt, product_indicators, product_lexicon),desc_sentence_without_channel_url))\n",
    "    products = list(filter(lambda txt: self.is_not_substring_of_another_product(txt,products),products))\n",
    "    filtered_desc_product_lst = [self.clean_desc(self.remove_url(txt)) for txt in products]\n",
    "    return filtered_desc_product_lst\n",
    "  \n",
    "  def detect_products(self,review_dict, product_indicators, product_lexicon):\n",
    "    filtered_transcript_product_lst = self.detect_products_from_transcript(review_dict, product_indicators, product_lexicon)\n",
    "    filtered_desc_product_lst = self.get_products_from_desc(review_dict)\n",
    "    filtered_transcript_product_lst.extend(filtered_desc_product_lst)\n",
    "    filtered_product_lst = list(filter(lambda txt: self.is_not_substring_of_another_product(txt,filtered_transcript_product_lst),filtered_transcript_product_lst))\n",
    "    filtered_product_lst = list(set(filtered_product_lst))\n",
    "    return filtered_product_lst\n",
    "\n",
    "class CoreferenceResolver:\n",
    "  def __init__(self):\n",
    "    pass\n",
    "  \n",
    "  def GetCoreferenceWithSyntaxRules(self,text):\n",
    "    coref = []\n",
    "    words = nltk.word_tokenize(text)\n",
    "    tagged = nltk.pos_tag(words)\n",
    "    chunk_name_lst = [\"DT\",\"DT Ref\"]\n",
    "    grammar = r\"\"\"\n",
    "              DT Ref:\n",
    "              {<DT><CD>}\n",
    "          \"\"\"\n",
    "    chunkParser=nltk.RegexpParser(grammar)\n",
    "    tree = chunkParser.parse(tagged)\n",
    "    for subtree in tree.subtrees(filter=lambda t: t.label() in chunk_name_lst):\n",
    "      myPhrase = ''\n",
    "      for item in subtree.leaves():\n",
    "        myPhrase += ' ' + item[0]\n",
    "      coref.append(myPhrase.strip())\n",
    "    coref = list(filter(lambda x: len(x.split()) > 1, coref))\n",
    "    filtered_coref = list(set(coref))\n",
    "    return filtered_coref\n",
    "\n",
    "  def replace_all(self, text, dic):\n",
    "    for i, j in dic.items():\n",
    "        text = re.sub(r\"\\b%s\\b\" % i, j, text)\n",
    "        # r\"\\b%s\\b\"% enables replacing by whole word matches only\n",
    "    return text\n",
    "\n",
    "  def GetNPWithSyntaxRules(self, text):\n",
    "    nounphrases = []\n",
    "    words = nltk.word_tokenize(text)\n",
    "    tagged = nltk.pos_tag(words)\n",
    "    chunk_name_lst = [\"NP\"]\n",
    "    grammar = r\"\"\"  NP:\n",
    "              {<NN|NNS|NNP|NNPS>+}\n",
    "          \"\"\"\n",
    "    chunkParser=nltk.RegexpParser(grammar)\n",
    "    tree = chunkParser.parse(tagged)\n",
    "    for subtree in tree.subtrees(filter=lambda t: t.label() in chunk_name_lst):\n",
    "        myPhrase = ''\n",
    "        for item in subtree.leaves():\n",
    "            myPhrase += ' ' + item[0]\n",
    "        nounphrases.append(myPhrase.strip())\n",
    "    nounphrases = list(filter(lambda x: len(x.split()) > 1, nounphrases))\n",
    "    return nounphrases\n",
    "\n",
    "  def detect_matching_product_name(self, sentence, product_lst):\n",
    "    np_lst = self.GetNPWithSyntaxRules(sentence)\n",
    "    for np in np_lst:\n",
    "      for product in product_lst:\n",
    "        similarity_with_identified_products = fuzz.partial_ratio(np.lower(),product.lower())\n",
    "        if similarity_with_identified_products >= 80:\n",
    "          return (np, product)\n",
    "    else:\n",
    "      return None\n",
    "\n",
    "\n",
    "  def resolve(self, sample_sentences, product_lst):\n",
    "    curr_product_name = None\n",
    "    resolved_combined_sentence_list = []\n",
    "    for sentence in sample_sentences:\n",
    "      #update current product name\n",
    "      potentially_new_product_name_pair = self.detect_matching_product_name(sentence, product_lst)\n",
    "      if potentially_new_product_name_pair != None and potentially_new_product_name_pair != curr_product_name:\n",
    "        #must identify the product name better\n",
    "        phrase = potentially_new_product_name_pair[0]\n",
    "        curr_product_name = potentially_new_product_name_pair[1]\n",
    "        #pos_tag sentence --> assign determiners after the product name to the product name\n",
    "        substr_before_product = sentence.split(phrase,1)[0] + curr_product_name\n",
    "        substr_after_product = sentence.split(phrase,1)[-1]\n",
    "        replacements = {'This':curr_product_name,'this':curr_product_name,'it':curr_product_name, 'It':curr_product_name}\n",
    "        substr_after_product = self.replace_all(substr_after_product, replacements)\n",
    "        resolved_combined_sentence_list.append(substr_before_product + substr_after_product)\n",
    "      \n",
    "      elif curr_product_name != None:\n",
    "        #replace all references with the curr_product_name\n",
    "        replacements = {'This':curr_product_name,'this':curr_product_name,'it':curr_product_name, 'It':curr_product_name}\n",
    "        sentence = self.replace_all(sentence, replacements)\n",
    "        resolved_combined_sentence_list.append(sentence)\n",
    "      \n",
    "      else:\n",
    "        resolved_combined_sentence_list.append(sentence)\n",
    "    \n",
    "    return resolved_combined_sentence_list\n",
    "\n",
    "  def resolve_sentences(self,sample_sentences, product_lst):\n",
    "    sample_sentences = [sentence.replace(\"\\n\", \" \") for sentence in sample_sentences]\n",
    "    resolved_list = self.resolve(sample_sentences, product_lst)\n",
    "    return resolved_list\n",
    "\n",
    "class TranscriptSegmenter:\n",
    "  def __init__(self):\n",
    "    self.product_identifier = ProductIdentifier()\n",
    "    self.coreference_resolver = CoreferenceResolver()\n",
    "\n",
    "  def get_sentence_list_from_transcript(self, transcript):\n",
    "    phrases = nltk.sent_tokenize(transcript)\n",
    "    pos_tagged = [pos_tag(nltk.word_tokenize(sentence.lower())) for sentence in phrases]\n",
    "    new_combined_sentence_list = []\n",
    "    for i in range(len(phrases)):\n",
    "      tagged_phrase = pos_tagged[i]\n",
    "      tag_of_first_word = tagged_phrase[0][1]\n",
    "      conjunctions_lst = [\"IN\", \"CC\", \"WDT\", \"TO\", \"WRB\", \"VBG\", \"VBZ\", \"RB\"]\n",
    "      end_lst = [\"IN\", \"CC\", \"WDT\", \"TO\", \"WRB\", \"VBG\", \"VBZ\", \"DT\", \"RB\"]\n",
    "      join_sentence = False\n",
    "      if i >= 1:\n",
    "        last_tag_in_prev_sentence = pos_tagged[i-1][-1][1]\n",
    "        if last_tag_in_prev_sentence in end_lst:\n",
    "          join_sentence = True\n",
    "      if tag_of_first_word in conjunctions_lst:\n",
    "        join_sentence = True\n",
    "\n",
    "      if join_sentence:\n",
    "        #lowercase the first letter to reduce noise when doing NP identification e.g. \"Which is so beautiful\" --> Which to which\n",
    "        sub_clause = phrases[i].replace(phrases[i][0],phrases[i][0].lower(),1)\n",
    "        new_combined_sentence_list[-1] = new_combined_sentence_list[-1] + \" \" + sub_clause\n",
    "      else:\n",
    "        new_combined_sentence_list.append(phrases[i])\n",
    "    return new_combined_sentence_list\n",
    "\n",
    "  def segment_transcript(self, filtered_product_lst, resolved_list, new_combined_sentence_list):\n",
    "    product_review_dict = {}\n",
    "    for i in range(len(resolved_list)):\n",
    "      resolved_sentence = resolved_list[i]\n",
    "      for product in filtered_product_lst:\n",
    "        if product in resolved_sentence:\n",
    "          if product in product_review_dict:\n",
    "            product_review_dict[product][\"resolved\"] = product_review_dict[product][\"resolved\"] + resolved_sentence\n",
    "            product_review_dict[product][\"original\"] = product_review_dict[product][\"original\"] + new_combined_sentence_list[i]\n",
    "          else:\n",
    "            product_review_dict[product] = {\"resolved\":resolved_sentence, \"original\":new_combined_sentence_list[i]}\n",
    "    \n",
    "    return product_review_dict\n",
    "\n",
    "  def split_transcript_by_detected_products(self, review_dict, product_indicators, product_lexicon):\n",
    "    transcript = review_dict[\"transcript_text\"]\n",
    "    filtered_product_lst = self.product_identifier.detect_products(review_dict, product_indicators, product_lexicon)\n",
    "    sample_sentences = self.get_sentence_list_from_transcript(transcript)\n",
    "    resolved_lst = self.coreference_resolver.resolve_sentences(sample_sentences, filtered_product_lst)\n",
    "    product_review_dict = self.segment_transcript(filtered_product_lst, resolved_lst, sample_sentences)\n",
    "    return product_review_dict\n",
    "\n",
    "  #Case of video having chapters\n",
    "\n",
    "  def process_raw_transcript(self, raw_transcript):\n",
    "    text_list = [segment[\"text\"] for segment in raw_transcript]\n",
    "    text = \" \".join(text_list)\n",
    "    text = re.sub(\"\\n\", \" \", text)\n",
    "    #remove non-ascii characters -- to remove foreign lang characters\n",
    "    text = self.product_identifier.remove_non_ascii(text)\n",
    "    return text\n",
    "\n",
    "  def split_transcript_by_chapters(self, raw_transcript, chapters):\n",
    "    starts = [round(segment[\"start\"]) for segment in raw_transcript]\n",
    "    product_review_dict = {}\n",
    "    chapter_index_list = []\n",
    "    for chapter in chapters:\n",
    "      time_in_sec = round(chapter[\"time_in_min\"] * 60)\n",
    "      #get a index list of chapters \n",
    "      new_insertion_index = bisect.bisect_left(starts, time_in_sec)\n",
    "      chapter_index_list.append(new_insertion_index)\n",
    "    chapter_index_list.append(len(raw_transcript)-1)\n",
    "    for i in range(len(chapter_index_list)-1):\n",
    "      title = chapters[i][\"title\"]\n",
    "      start_index = chapter_index_list[i]\n",
    "      end_index = chapter_index_list[i+1]\n",
    "      original_raw_transcript = self.process_raw_transcript(raw_transcript[start_index:end_index])\n",
    "      sample_sentences = [segment[\"text\"] for segment in raw_transcript[start_index:end_index]]\n",
    "      resolved_raw_transcript = self.coreference_resolver.resolve_sentences(sample_sentences, [title])\n",
    "      product_review_dict[title] = {\"resolved\":resolved_raw_transcript, \"original\":original_raw_transcript}\n",
    "    return product_review_dict\n",
    "\n",
    "\n",
    "  def get_product_review_dict(self, review_dict, product_indicator, product_lexicon):\n",
    "    chapters = sample_review_dict[\"chapters\"]\n",
    "    product_review_dict = {}\n",
    "    if chapters == []:\n",
    "      product_review_dict = self.split_transcript_by_detected_products(review_dict, product_indicator, product_lexicon)\n",
    "    else:\n",
    "      raw_transcript = sample_review_dict[\"transcript_raw\"]\n",
    "      product_review_dict = self.split_transcript_by_chapters(raw_transcript, chapters)\n",
    "    return product_review_dict\n"
   ]
  },
  {
   "cell_type": "markdown",
   "metadata": {
    "id": "jWQZZLavdKXK"
   },
   "source": [
    "Load Youtube Data"
   ]
  },
  {
   "cell_type": "code",
   "execution_count": 8,
   "metadata": {
    "executionInfo": {
     "elapsed": 4,
     "status": "ok",
     "timestamp": 1678535829380,
     "user": {
      "displayName": "bel hello",
      "userId": "14145485794765337692"
     },
     "user_tz": -480
    },
    "id": "6T73mlgljGzM"
   },
   "outputs": [],
   "source": [
    "import bisect\n",
    "import json\n",
    "from fuzzywuzzy import fuzz"
   ]
  },
  {
   "cell_type": "code",
   "execution_count": 9,
   "metadata": {
    "executionInfo": {
     "elapsed": 5,
     "status": "ok",
     "timestamp": 1678535830055,
     "user": {
      "displayName": "bel hello",
      "userId": "14145485794765337692"
     },
     "user_tz": -480
    },
    "id": "vdlLE_u4gGbb"
   },
   "outputs": [],
   "source": [
    "#Load data scraped using various Youtube API\n",
    "with open('youtube_data.json', 'r') as f:\n",
    "  reviews = json.load(f)"
   ]
  },
  {
   "cell_type": "markdown",
   "metadata": {
    "id": "vhc1l0DTcVfM"
   },
   "source": [
    "Demo"
   ]
  },
  {
   "cell_type": "code",
   "execution_count": 10,
   "metadata": {
    "executionInfo": {
     "elapsed": 4,
     "status": "ok",
     "timestamp": 1678535830055,
     "user": {
      "displayName": "bel hello",
      "userId": "14145485794765337692"
     },
     "user_tz": -480
    },
    "id": "iDcmoMkdcQgc"
   },
   "outputs": [],
   "source": [
    "product_indicators = pd.read_csv(\"Category Lexicon.csv\")[\"Category\"].to_list()\n",
    "product_lexicon = pd.read_csv(\"Product Lexicon.csv\")[\"Product\"].to_list()"
   ]
  },
  {
   "cell_type": "code",
   "execution_count": 11,
   "metadata": {
    "executionInfo": {
     "elapsed": 4,
     "status": "ok",
     "timestamp": 1678535830055,
     "user": {
      "displayName": "bel hello",
      "userId": "14145485794765337692"
     },
     "user_tz": -480
    },
    "id": "j0awCOg7bRdP"
   },
   "outputs": [],
   "source": [
    "transcript_segmenter = TranscriptSegmenter()"
   ]
  },
  {
   "cell_type": "code",
   "execution_count": 12,
   "metadata": {
    "colab": {
     "base_uri": "https://localhost:8080/"
    },
    "executionInfo": {
     "elapsed": 2178,
     "status": "ok",
     "timestamp": 1678535832229,
     "user": {
      "displayName": "bel hello",
      "userId": "14145485794765337692"
     },
     "user_tz": -480
    },
    "id": "2mCIE9KUG3ii",
    "outputId": "bed1b926-7520-4f1c-a251-79cd2a721d07"
   },
   "outputs": [
    {
     "name": "stdout",
     "output_type": "stream",
     "text": [
      "Happy New Year\n",
      "- Hello, my lovelies, and Happy New Year.Today, it's all about the best affordable makeup of 2021 from my rendition, my opinion, my makeup that I just kept going towards, kept reaching towards, and I just couldn't get enough of.This right here is by e.l.f.I don't usually like primers, but this one I actually (laughs) really, really enjoyed.\n",
      "Primer elf Oil Control Lotion \n",
      "This is their Oil Control Liquid Lotion with tea tree oil.This might put you off if you have dry skin, but I found that this just helped balance the oil throughout the day, especially in a humid, warm, hot climate, definitely towards the spring and summertime, but I really enjoyed this throughout the entire year, and I would mostly focus in areas where I would get extra shiny, like right here, the T-zone, or just even use it all over my face if I knew it was gonna be really hot and humid that day. and it also smells really nice. but it doesn't really mattify you.It just gives a really nice, clean base to begin your makeup.This does have a little bit of a tackiness, so I find that my makeup, it adheres better with this lotion/primer, but I really enjoyed this product, and like I said, don't let it steer you away if you have super dry skin. just make sure you prep your skin with your skincare, and then use this on top before you apply your makeup. for foundation, this was the product that just kept me excited to use it over and over again.\n",
      "L'Oreal True Match Hyaluronic Tinted Serum\n",
      "This is the L'Oreal True Match Hyaluronic Tinted Serum.This right here is not like your typical foundation, where it gives you a crazy amount of coverage, but something about this, it gives you the coverage.It gives you that beautiful, healthy look to your skin without making it look shiny, oily throughout the day, and it's just a beautiful product. but I do like to wear this on its own, and I do like the dropper.You can apply it with your fingers, but I actually really like a dampened sponge with this, and it just blends so nicely. and it somehow it looks like your skin, but giving a really good, light coverage and just color correcting everything.I love the way this product looks on my skin. if my skin's having a good day, a bad day, I find that this just looks great regardless.(laughs) I love this for an everyday type of a base, it's phenomenal.The very first time I looked at it and reviewed it, in the packaging, in the bottle, it looks iridescent.It looks like it has this pearly, glittery finish, but I don't know, somehow, magically, it looks incredible, and it just gives you the perfect amount of radiance to your skin without looking like a highlighter or an illuminator, because in the bottle, it looks very much so towards the highlighter, illuminator, like an illuminator for your skin.This product, I can't get enough of it.\n",
      "Eyebrow Winky Lux Micro Universal Brow Pencil \n",
      "Okay, let's move on to brows, Winky Lux.I don't know how many times I've repurchased this pencil, but this particular pencil, it's the micro one. and this is their universal shade.You have a little spoolie on one end, and then you have the pencil on the other end. just something about the formula, the way it applies, the way it blends, the way lasts all day long, and the color, it's really, really great.It's one of my favorite pencils from the drugstore.\n",
      "Eyebrow Gel NYX The Brow Glue \n",
      "It's not the cheapest, but I really, really, really enjoyed this pencil in 2021. so for a brow gel, I don't like many brow gels from the drugstore.I find that they're either too waxy and they just make your brows fall down, especially if you have stubborn brows, or they just don't do anything, honestly. i do like this one.This is a newer one from the drugstore.This is by NYX, this is their The Brow Glue. if you like the laminated effect for your brows, you might really enjoy this, but I find that you have to work in layers with this product. first, do a really light layer.Give it a little bit of time to get tacky and dry down, and then go in with a very light second layer on top to really comb and give your brows the shape you want them to last all day long, and this product, it stays on my brows all day long. and it gives just the perfect amount of crusty brows, (laughs) even though we don't like crusty brows, but with this type of a product, you will get a little bit.Okay, so for concealers, it's the same thing with an eyebrow gel.\n",
      "Maybelline Age Rewind Concealer\n",
      "There were a lot of concealers that I used from the drugstore, but they were more of the L'Oreal Infallible concealer, the Cover Girl concealer, the Maybelline Age Rewind Concealer, classic, but this right here, I have to say, ever since I tried it, I can't stop using it.\n",
      "Me Concealer Serum\n",
      "The NYX Bear with Me Concealer Serum, and there is a reason why it went viral.\n",
      "The NYX Bear\n",
      "The NYX Bear with Me Concealer Serum, and there is a reason why it went viral.It's a good concealer. not just good, it's a phenomenal concealer.I am in the shade Vanilla, and it's the perfect color for me, which is very rare, especially from the drugstore.I have two shades I (laughs) usually use, And I like to use my fingers first to get it where I want it to be, it's so lightweight, but it still provides you coverage.It's super lightweight under the eyes.It looks so pretty.It's so stretchy and fluid, where it just goes where you want it to go.You have no issues blending this concealer out at all, but it lasts all day long.It doesn't really crease under the eyes.It doesn't make your under-eyes look weird, crepey, dry, or oily, somehow.(laughs) It just looks really, really nice under the eyes, and I like to apply it with a brush first and then go in with a sponge if I need to.\n",
      "Setting Powder Maybelline Fit Me Loose Finishing Powder (Fair Light) \n",
      "You don't have to set this concealer, but I find that, if you have an eye mask underneath or an eye moisturizer underneath, I like to set it just a little bit using a loose finishing powder, and this right here, I have rediscovered in 2021, the Maybelline Fit Me in shade number 10, or Fair Light.It's perfect for my skin tone.I like that it has a little bit more of a neutral undertone, and I like to use a little brush to work it in there and do a very light dusting over this concealer. and I'll focus it most right under the eyes if I'm wearing mascara right here so it doesn't smudge or it doesn't move and transfer. and this setting powder, it's just a really good setting powder.It never makes my skin look crepey, dried out.\n",
      "Eyeshadow Primer Wet n Wild PhotoFocus Base  \n",
      "I feel like it looks really good all day long. for eyeshadow primer, there were two that I used, Milani and Wet N Wild, either one.Both are very, very similar, but I feel like I used the Milani a little bit more. has a thicker consistency to it, oh, that's too much, and it looks like it's going to color correct or add some kind of coverage, but it really doesn't.It just gives a really nice base to your eyelids for your eyeshadow.It does blend out really nice.It's not super, super thick, like a paste.It just warms up. for eyeshadows, there weren't too many standouts that I used throughout the year, but this is the one brand I just kept coming back to in these two shades.This is the e.l.f., their Bite-Sized eyeshadow palette.They stay on all day with a really good eyeshadow primer, and they're just phenomenal, especially for the price.I'm gonna take my finger and go in with this beautiful metallic.It's a beautiful, pewter, taupey shade.I'm gonna take this shadow right here on a small little fluffy brush and work that into the crease and just help blend it all together, soften it up a little bit.I'm gonna take a little bit more of that metallic shade on a little brush (bottle spritzes) and get it wet.\n",
      "Eyeshadow elf Bite Size Palette (Truffles, Rose Water) \n",
      "I like Truffles and Rose Water. very versatile, different looks you can create. just very easy eyeshadows to work with. very pigmented, blendable.\n",
      "Gel Eyeliner Milani Stay Put Eyeliner \n",
      "I want a little bit more intensity. for eyeliner, I feel like, if it was a gel, I either stuck with Milani or Revlon. i really like Milani, their Stay Put eyeliner, honestly, in any shade that they have available, but I'm gonna use, today, After Dark, which is number one.It's just a nice matte black eyeliner, and this one, I like that it's super creamy.\n",
      "Mascara Primer L’Oreal Voluminous Primer \n",
      "It has that kohl consistency mixed in with gel, but it stays put once it sets, and I do like to work one eye at a time just because, like I said, once it sets, it sets, and I'm just using an angled brush to give a nice wing For mascara primer, classic, L'Oreal Voluminous Primer.I rediscovered it this year again, and it's just good. gets the job done. i do like to let it get tacky a little bit before the mascara to give it some kind of grip, but it's just a classic mascara primer. for mascara, this should be no surprise, (laughs) Maybelline Lash Sensational mascara.I've tried so many new mascaras from the drugstore this past year, and I found myself just going back to this one and just comparing everything to this mascara.It doesn't smudge on me, it doesn't transfer, it doesn't flake.It can flake if it's a very, very old tube, (laughs) just like any other mascara, but just something about this, it's so easy to layer and to build volume, but it also separates your lashes and it also lengthens your lashes at the same time, and I think it is definitely because of the wand, because of the bristles, the way the bristles are shaped.\n",
      "L'Oreal Voluminous Primer\n",
      "It has that kohl consistency mixed in with gel, but it stays put once it sets, and I do like to work one eye at a time just because, like I said, once it sets, it sets, and I'm just using an angled brush to give a nice wing For mascara primer, classic, L'Oreal Voluminous Primer.\n",
      "Cream Bronzer elf Putty Bronzer (Tan Lines) \n",
      "I really enjoy this mascara. for cream bronzer, this has to be no secret, e.l.f.Putty Bronzer in Tan Lines.It's just such a good (laughs) product, it's so good.It's one of my favorites from the drugstore, from pro-grade pricing to luxury.It's just so good.The only thing I will complain about is, if you're using a bigger brush, I wish this pot was a (laughs) little bigger, but you can use a smaller brush like this, and it fits perfectly in here.I like this color.I like the way it blends.I like that it's buildable, depending on how much product you pick up.I like that you can use it with a brush.I like that you can use it with a dampened sponge, with your fingers.I mean, you can just do so many things with this little product right here, and I actually do like the size of this product because it's a great for traveling, but it's also great to keep in your makeup bag, and it doesn't take up too much space.It's so good, and I like to stamp this product on with a brush. and I do use it to actually carve my cheekbones out And my face because I find that the color, it's that perfect warmth, but neutral, where it doesn't look dirty on my skin, and I do like to layer this product instead of going really heavy handed with it, just layer it and just place in areas where I need a little bit of definition.\n",
      "CC Cream\n",
      "I feel like e.l.f., in 2021, really stepped up their game with their CC Cream, with their bronzer, their blushes, I mean, their highlighters, their primers.\n",
      "Cream Blush Elf Putty Blush (Tahiti) \n",
      "They did a really good job. for cream blush, e.l.f., their Putty Blush in shade Tahiti.It looks intimidating, but just on the skin, it looks so pretty, and again, I like to apply this with more of a dense foundation brush.I'm just gonna work it into the brush and just start tapping this.2021 was the year of cream products for my skin, for my blush, for my contour, for my bronzer, for the highlighter, but I do like to top it with a powder product on top just to add longevity. but you can see, just working a tiny little bit, it just brings back life onto my cheeks, but in just that perfectly, I don't know.This blush right here is so easy to work with and layer. for my powder, contour/bronzer, Juvia's Place.This has a special place in my heart.\n",
      "Bronzer Juvia’s Place Bronzer Palette (Light) \n",
      "This is their bronzer palette in shade Light.I like that I can use this for my skin tone when I'm pale and when I have a little bit more of a tan, but I do like to actually mix the two shades together just to get more of a custom shade for my skin.This powder is just so easy to work with.I like how soft and buttery and how blendable, how buildable the shades are, just so easy to work with, and I've used this with so many different bases, and it just works with everything.\n",
      "Blush Milani Powder Blush (Blossomtime Rose) \n",
      "I haven't found one product that it hasn't worked with. for my powder blush, this is the one in this particular shade.Milani, and this is their Powder Blush in shade number 11, Blossomtime Rose.I have, I think, two backups (laughs) of this because I love it so much.It has, I don't know if you can even see with the light, it has this iridescent, two-dimensional tone to it.It's peachy, it's rosy.It's so stunning with hint of a little bit of a gold sheen to it.It's so pretty.\n",
      "Highlighter Catrice More Than Glow Highlighter (Supreme Rose Beam) \n",
      "Oh my gosh, it's so pretty, and it's so easy to use, and just the way it sits on top of my cheeks, it doesn't exaggerate anything, but it just adds something special to my cheekbones on top of any blush. for highlighter, Catrice More Than Glow highlighter in shade number 20, Supreme Rose Beam.This right here, it's such an oldie, but a goodie, and it's just one of my favorites.I find that it gives the perfect iciness and a highlighter look to your face without looking dry, without exaggerating any kind of texture on my skin, and I do like this color, as well.It's definitely a little bit more icy and pink and more cool-toned, but I find that a little goes a long way and it really balances out everything else on my face.It balances everything out, and it's a very easy highlighter to use.I mean, you can make it look super wet and dewy, or you can really just tone it down.I like to use it with a brush first and then go in with my dampened sponge.\n",
      "Lip Liner NYX Lip Pencil (Nude Truffle) \n",
      "I tried so many lip products out from the drugstore, from luxury down to mid-grade, and I found that, this past year, having Emorett and just wanting to just cuddle and kiss him, I didn't wear too many lip products besides a good lip liner and either a lip gloss, a lip oil, or a lip balm.That's (laughs) what I really gravitated towards on an everyday basis, so for lip liners from the drugstore, these two are here on my favorites in these shades.The first one is by NYX, and this right here is their lip pencil in shade N Truffle.I like this one so much.I repurchased this one so many times.\n",
      "Lip Liner Milani Color Statement Lip Liner (04 All Natural) \n",
      "It's just a really good everyday neutral beige lip liner (laughs) that you can go really intense with to just outline and really color in your lips, or just do really soft strokes on your lips and just get the most minimal amount of color, but your lips still look really beautiful, defined, and just full of life. and then the other one, this right here is by Milani.This is their Color Statement Lipliner in shade number four, All Natural.I find that this one's a little bit more rosy instead of more n and more beigey with the NYX.It just depends what kind of lip statement you wanna go with, but I find that these two lip pencils, the formula is really stunning.They last all day long, and they're very easy to pair with so many lip colors, depending what color you're going with.\n",
      "Lip Gloss Milani Keep it Full Maxxx Lip Plumper (110 Little Secret) \n",
      "Let's go with Milani. honestly, I would just go like this, And just really softly blend it to the center of my lips, but it's like my lip color, but a little bit warmer and deeper. for lip gloss, (laughs) this right here is what I really liked from the drugstore.I love how big (laughs) and jumbo this is, and I like the shade 110, Little Secret.It has a good amount of pigment to it.I like the sensation that it gives.It's not super, super plumping, where it just feels uncomfortable, but it makes your lips just look really luscious and delicious.I'm gonna leave it here.\n",
      "Maxxx Nourishing Lip Plumper\n",
      "It's the Milani and it's their Keep It Full, their Maxxx Nourishing Lip Plumper. i really like this one a lot.\n"
     ]
    }
   ],
   "source": [
    "sample_review_id = \"8qvjvbYvYsA\"\n",
    "sample_review_dict = reviews[sample_review_id]\n",
    "product_review_dict = transcript_segmenter.get_product_review_dict(sample_review_dict, product_indicators, product_lexicon)\n",
    "for k, v in product_review_dict.items():\n",
    "  print(k)\n",
    "  print(v[\"original\"].replace(\"\\n\", \" \"))"
   ]
  },
  {
   "cell_type": "code",
   "execution_count": 13,
   "metadata": {
    "colab": {
     "base_uri": "https://localhost:8080/"
    },
    "executionInfo": {
     "elapsed": 7,
     "status": "ok",
     "timestamp": 1678535832230,
     "user": {
      "displayName": "bel hello",
      "userId": "14145485794765337692"
     },
     "user_tz": -480
    },
    "id": "kFWUnUrhHRCj",
    "outputId": "6e1f0bb6-756e-4910-80e6-c7fc8a00baea"
   },
   "outputs": [
    {
     "name": "stdout",
     "output_type": "stream",
     "text": [
      "CLEANSING BALM\n",
      "but does not leave a greasy residue. So I put, I have makeup on right now, so I'm going to put it all over my face and my lips. I'm not scared of it, even on my eyes. And then I will take a little bio-friendly pad, 'cause I don't use the cotton pads anymore, and warm water. I put it on the pad, hold it between my fingers like this and do the first layer of removal, and you will see how it takes it off immediately. I used to use very, very hot water. I have a tendency to have more dry skin than oily skin, so that's what I love about this cleanser is it really keeps your face moisturized. And I usually finish with just a regular wash cloth that I wet. And my mother always used to say, moisturizer and cleanser, keeping your face clean. She used to say soap and water, and so I used to use bubbly soap because I thought that that squeaky, dry skin feeling meant that my face was very clean. But because of this, if you notice, just warm water literally took off all the makeup and you can see how clean it makes your face. But it doesn't make your face feel oily, and it doesn't dry it out, that sort of really dry, that kind of dry feeling that I find some soaps do. Sometimes I have to say I... Okay, so I had my eyelashes dyed, so they look like they are still dark, but I have been known to go to sleep with not taking my eye makeup off, which is really bad. But sometimes if I wear a waterproof mascara, I don't take the time at night, but that's not good for you. Although I do look at this routine now, whereas I used to look at it as a chore that I had to do for just, for my work or for something, now I look at it as really self-care, and the ritual of it before I go to sleep at night is actually calming. So you saw the first one, which was the cleanser. The next one is the Chebula, which is an unbelievable active ingredient, and it's called Immunity Serum. And I'm going to take this, it's in a little dropper also by True Botanicals. And I'm going to put it in my hand like this, and then I am going to take this Vitamin C Booster.\n",
      "TRUE BOTANICALS VITAMIN C BOOSTER\n",
      "Now, when it's in this powder form, it stays active and fresh a lot longer than when it's already in a product. So what they did was they separated it out and then Vitamin C Booster is really just like, this will stay potent until the last little drop of powder is taken out of this jar. So, I will put a little bit in like that. I mix them together like that. I mix them together. It dissolves entirely. You can put it in with the oil, but I like to put it in with the serum because I feel like it gets a little closer to my face or my skin, or my... I don't know, somehow I just like, I like the way it feels in the serum. So I put it everywhere. But my mom always said, it's good to give yourself a little facial. Little teeny facial every night. It doesn't get tacky or sticky, but I can feel like, oh, now I can feel that I can put another product on it because my skin is already starting to absorb the serum. So I just use the second and third with the booster. The fourth product that I'm going to use is the Pure Radiance Oil by True Botanicals. And look at that color, I love the color of that, and the smell is just heavenly. This Radiance Oil smells like jasmine, it has neroli I think it is, or neroli, and then rose. I put that all over my face, my lips, my nose, even on top of my eyes. Sometimes my daytime is a little quicker than my nighttime. I spend a little bit more time at night taking off my makeup because usually it's being out and out in the elements all day and also I've had makeup on, so I spend more time at night. I see a couple of dermatologists, one mostly for like sunspots and for mole checks and cancer, things like that, and Fraxel. And then I see another one who does like more spot therapy and light therapy on my skin. And I'm willing to try anything. The last product that I'm going to be using is called Resurrection Radiance Eye Cream.\n",
      "TRUE BOTANICALS RESURRECTION RADIANCE EYE CREAM\n",
      "Now, I love an eye cream. This one is delicious. It's just, it's thick without being greasy, it is... I like to put a little bit on my hand and I like to warm it up a little bit, and the warmth somehow dissipates it much more smoothly. And I pat first like that. And then sometimes if I'm in the mood in the morning, I usually take one of my little tools and then go like that with it 'cause my eyes kind of can get puffy. They get puffy very easily. I have allergies. If I was going to a desert island, well, I would have to bring a product that had a sunscreen in it. (chuckles) But if I was going to be on a desert island, I think the thing that I would want the most is the Radiance Oil. Because it can be used on my hair, it can be used... I sometimes put it on my lips, I definitely put it on my eyebrows and I feel like I could use multipurpose with it. Although I do really love this eye cream, I might have to sneak the eye cream in to my little sack that I'm taking to the island. (laughs) There's so many trends right now it's hard to keep track of them. I haven't seen anything that's really crazy. I mean, I remember hearing that for bags people were putting Preparation H under their eyes. I have not tried it, but I guess it takes down swelling, (laughs) so maybe I should try it. (laughs) That was probably the craziest, the craziest thing that I've ever heard. Yeah, so I feel like now my face just feels so moisturized. It feels like it's gotten a little attention, but it also feels so clean but not dry, so. So, that is it. You can see how healthy and moisturized and ready to go to bed my face is.\n"
     ]
    }
   ],
   "source": [
    "sample_review_id = \"wheUpE7tpKA\"\n",
    "sample_review_dict = reviews[sample_review_id]\n",
    "product_review_dict = transcript_segmenter.get_product_review_dict(sample_review_dict, product_indicators, product_lexicon)\n",
    "for k, v in product_review_dict.items():\n",
    "  print(k)\n",
    "  print(v[\"original\"].replace(\"\\n\", \" \"))"
   ]
  },
  {
   "cell_type": "markdown",
   "metadata": {
    "id": "lg0r0vLecTWq"
   },
   "source": [
    "Process of segmenting the text transcript\n",
    "- For videos with chapters, we will use the chapters to segment the transcript. This process below is the algorithm for videos without chapters"
   ]
  },
  {
   "cell_type": "code",
   "execution_count": 14,
   "metadata": {
    "executionInfo": {
     "elapsed": 5,
     "status": "ok",
     "timestamp": 1678535832230,
     "user": {
      "displayName": "bel hello",
      "userId": "14145485794765337692"
     },
     "user_tz": -480
    },
    "id": "0b3XLcyfdRQx"
   },
   "outputs": [],
   "source": [
    "sample_review_id = \"8qvjvbYvYsA\"\n",
    "sample_review_dict = reviews[sample_review_id]\n",
    "transcript = sample_review_dict[\"transcript_text\"]"
   ]
  },
  {
   "cell_type": "markdown",
   "metadata": {
    "id": "miciAherc0G3"
   },
   "source": [
    "Change from Iteration 2: Parse for uppercased phrases e.g. \"True Botanical Cleansing Serum\" due to loopholes when filtering with product indicators and the variety of makeup product names (not just series of noun)"
   ]
  },
  {
   "cell_type": "code",
   "execution_count": 15,
   "metadata": {
    "colab": {
     "base_uri": "https://localhost:8080/"
    },
    "executionInfo": {
     "elapsed": 1981,
     "status": "ok",
     "timestamp": 1678535834207,
     "user": {
      "displayName": "bel hello",
      "userId": "14145485794765337692"
     },
     "user_tz": -480
    },
    "id": "otYN7qppJwqE",
    "outputId": "946f4ec1-62fa-4671-8f3b-fb1109aedd59"
   },
   "outputs": [
    {
     "data": {
      "text/plain": [
       "['Maxxx Nourishing Lip Plumper',\n",
       " 'Mascara Primer L’Oreal Voluminous Primer ',\n",
       " 'CC Cream',\n",
       " 'Lip Liner NYX Lip Pencil (Nude Truffle) ',\n",
       " 'Bronzer Juvia’s Place Bronzer Palette (Light) ',\n",
       " 'Eyebrow Winky Lux Micro Universal Brow Pencil ',\n",
       " 'Mascara Maybelline Lash Sensational ',\n",
       " 'Concealer NYX Serum Concealer (Vanilla) ',\n",
       " 'Primer elf Oil Control Lotion ',\n",
       " 'Me Concealer Serum',\n",
       " 'Lip Gloss Milani Keep it Full Maxxx Lip Plumper (110 Little Secret) ',\n",
       " 'Maybelline Age Rewind Concealer',\n",
       " \"L'Oreal Voluminous Primer\",\n",
       " 'Foundation L’Oreal Skin Serum (0.5-2 Very Light) ',\n",
       " 'The NYX Bear',\n",
       " \"L'Oreal True Match Hyaluronic Tinted Serum\",\n",
       " 'Lip Liner Milani Color Statement Lip Liner (04 All Natural) ',\n",
       " 'Happy New Year',\n",
       " 'Cream Blush Elf Putty Blush (Tahiti) ',\n",
       " 'Highlighter Catrice More Than Glow Highlighter (Supreme Rose Beam) ',\n",
       " 'Gel Eyeliner Milani Stay Put Eyeliner ',\n",
       " 'Milani Blush',\n",
       " 'Eyebrow Gel NYX The Brow Glue ',\n",
       " 'Eyeshadow Primer Wet n Wild PhotoFocus Base  ',\n",
       " 'Eyeshadow elf Bite Size Palette (Truffles, Rose Water) ',\n",
       " 'Setting Powder Maybelline Fit Me Loose Finishing Powder (Fair Light) ',\n",
       " 'Gel Eyeliner Revlon Vinyl Eyeliner ',\n",
       " 'Eyeshadow Primer Milani Eyeshadow Primer ',\n",
       " 'Blush Milani Powder Blush (Blossomtime Rose) ',\n",
       " 'Color Statement Lipliner',\n",
       " 'Cream Bronzer elf Putty Bronzer (Tan Lines) ']"
      ]
     },
     "execution_count": 15,
     "metadata": {},
     "output_type": "execute_result"
    }
   ],
   "source": [
    "product_identifier = ProductIdentifier()\n",
    "#Get products from transcript and description using syntax parsing rules\n",
    "filtered_product_lst = product_identifier.detect_products(sample_review_dict, product_indicators, product_lexicon)\n",
    "filtered_product_lst"
   ]
  },
  {
   "cell_type": "markdown",
   "metadata": {
    "id": "3U7JsEg5dCjw"
   },
   "source": [
    "Same as Iteration 2: Manually join and process the sub-sentences in the transcript"
   ]
  },
  {
   "cell_type": "code",
   "execution_count": 16,
   "metadata": {
    "colab": {
     "base_uri": "https://localhost:8080/"
    },
    "executionInfo": {
     "elapsed": 6,
     "status": "ok",
     "timestamp": 1678535834207,
     "user": {
      "displayName": "bel hello",
      "userId": "14145485794765337692"
     },
     "user_tz": -480
    },
    "id": "H8mNDlZ9J7EB",
    "outputId": "76043958-5790-4991-eb67-143df0dc757c"
   },
   "outputs": [
    {
     "data": {
      "text/plain": [
       "['- Hello, my lovelies, and Happy New Year.',\n",
       " \"Today, it's all about the\\nbest affordable makeup of 2021\\nfrom my rendition, my opinion, my makeup\\nthat I just kept going\\ntowards, kept reaching towards,\\nand I just couldn't get enough of.\",\n",
       " 'Some of them are newer products,\\neither the beginning of the year, mid,\\nor even towards the end of the year,\\nand then some of them are\\njust rediscovered loves.',\n",
       " \"Let's begin, starting\\nfirst with the primer.\",\n",
       " 'This right here is by e.l.f.',\n",
       " \"I don't usually like primers,\\nbut this one I actually\\n(laughs) really, really enjoyed.\",\n",
       " 'This is their Oil Control\\nLiquid Lotion with tea tree oil.',\n",
       " \"This might put you off\\nif you have dry skin,\\nbut I found that this just helped balance\\nthe oil throughout the\\nday, especially in a humid,\\nwarm, hot climate,\\ndefinitely towards the\\nspring and summertime,\\nbut I really enjoyed this\\nthroughout the entire year,\\nand I would mostly focus in areas\\nwhere I would get extra shiny,\\nlike right here, the T-zone,\\nor just even use it all over my face\\nif I knew it was gonna be\\nreally hot and humid that day. and it also smells really nice. but it doesn't really mattify you.\",\n",
       " 'It just gives a really nice, clean base\\nto begin your makeup.',\n",
       " \"This does have a little\\nbit of a tackiness,\\nso I find that my\\nmakeup, it adheres better\\nwith this lotion/primer, but\\nI really enjoyed this product,\\nand like I said, don't\\nlet it steer you away\\nif you have super dry skin. just make sure you prep your\\nskin with your skincare,\\nand then use this on top\\nbefore you apply your makeup. for foundation, this was the product\\nthat just kept me excited to\\nuse it over and over again.\",\n",
       " \"This is the L'Oreal True\\nMatch Hyaluronic Tinted Serum.\",\n",
       " \"I'm in Shade 0.5 to two.\",\n",
       " 'This right here is not like\\nyour typical foundation,\\nwhere it gives you a\\ncrazy amount of coverage,\\nbut something about this,\\nit gives you the coverage.',\n",
       " \"It gives you that beautiful,\\nhealthy look to your skin\\nwithout making it look shiny,\\noily throughout the day,\\nand it's just a beautiful product. but I do like to wear this on its own,\\nand I do like the dropper.\",\n",
       " 'You can apply it with your fingers,\\nbut I actually really like\\na dampened sponge with this,\\nand it just blends so nicely. and it somehow it looks like your skin,\\nbut giving a really good, light coverage\\nand just color correcting everything.',\n",
       " \"I love the way this\\nproduct looks on my skin. if my skin's having a good day, a bad day,\\nI find that this just looks\\ngreat regardless.\",\n",
       " \"(laughs)\\nI love this for an everyday\\ntype of a base, it's phenomenal.\",\n",
       " 'The very first time I looked\\nat it and reviewed it,\\nin the packaging, in the\\nbottle, it looks iridescent.',\n",
       " \"It looks like it has this\\npearly, glittery finish,\\nbut I don't know, somehow,\\nmagically, it looks incredible,\\nand it just gives you the\\nperfect amount of radiance\\nto your skin without looking\\nlike a highlighter or an\\nilluminator, because in the bottle,\\nit looks very much so\\ntowards the highlighter, illuminator,\\nlike an illuminator for your skin.\",\n",
       " \"This product, I can't get enough of it.\",\n",
       " \"Okay, let's move on to brows, Winky Lux.\",\n",
       " \"I don't know how many times\\nI've repurchased this pencil,\\nbut this particular\\npencil, it's the micro one. and this is their universal shade.\",\n",
       " \"You have a little spoolie on one end,\\nand then you have the\\npencil on the other end. just something about the formula,\\nthe way it applies, the way it blends,\\nthe way lasts all day long, and the color,\\nit's really, really great.\",\n",
       " \"It's one of my favorite\\npencils from the drugstore.\",\n",
       " \"It's not the cheapest,\\nbut I really, really, really enjoyed\\nthis pencil in 2021. so for a brow gel,\\nI don't like many brow\\ngels from the drugstore.\",\n",
       " \"I find that they're either too waxy\\nand they just make your brows fall down,\\nespecially if you have stubborn brows,\\nor they just don't do anything, honestly. i do like this one.\",\n",
       " 'This is a newer one from the drugstore.',\n",
       " 'This is by NYX, this\\nis their The Brow Glue. if you like the laminated\\neffect for your brows,\\nyou might really enjoy this,\\nbut I find that you have\\nto work in layers with this product. first, do a really light layer.',\n",
       " \"Give it a little bit of time\\nto get tacky and dry down,\\nand then go in with a\\nvery light second layer\\non top to really comb\\nand give your brows\\nthe shape you want them\\nto last all day long,\\nand this product, it stays\\non my brows all day long. and it gives just the perfect\\namount of crusty brows,\\n(laughs) even though we\\ndon't like crusty brows,\\nbut with this type of a product,\\nyou will get a little bit.\",\n",
       " \"Okay, so for concealers,\\nit's the same thing with an eyebrow gel.\",\n",
       " \"There were a lot of concealers\\nthat I used from the drugstore,\\nbut they were more of the\\nL'Oreal Infallible concealer,\\nthe Cover Girl concealer,\\nthe Maybelline Age Rewind\\nConcealer, classic,\\nbut this right here, I have to say,\\never since I tried it,\\nI can't stop using it.\",\n",
       " 'The NYX Bear with Me Concealer Serum,\\nand there is a reason why it went viral.',\n",
       " \"It's a good concealer. not just good, it's a\\nphenomenal concealer.\",\n",
       " \"I am in the shade Vanilla,\\nand it's the perfect color\\nfor me, which is very rare,\\nespecially from the drugstore.\",\n",
       " 'I feel like I have to really\\ncreate my own concoctions,\\n(laughs) not even from the drugstore.',\n",
       " \"I have two shades I (laughs) usually use,\\nAnd I like to use my fingers first\\nto get it where I want it to be,\\nit's so lightweight, but it\\nstill provides you coverage.\",\n",
       " \"It's super lightweight under the eyes.\",\n",
       " 'It looks so pretty.',\n",
       " \"It's so stretchy and fluid,\\nwhere it just goes\\nwhere you want it to go.\",\n",
       " 'You have no issues blending\\nthis concealer out at all,\\nbut it lasts all day long.',\n",
       " \"It doesn't really crease under the eyes.\",\n",
       " \"It doesn't make your\\nunder-eyes look weird, crepey,\\ndry, or oily, somehow.\",\n",
       " '(laughs)\\nIt just looks really,\\nreally nice under the eyes,\\nand I like to apply it with a brush first\\nand then go in with a sponge if I need to.',\n",
       " \"You don't have to set this concealer,\\nbut I find that, if you\\nhave an eye mask underneath\\nor an eye moisturizer underneath, I like\\nto set it just a little bit\\nusing a loose finishing powder,\\nand this right here, I\\nhave rediscovered in 2021,\\nthe Maybelline Fit Me in shade\\nnumber 10, or Fair Light.\",\n",
       " \"It's perfect for my skin tone.\",\n",
       " \"I like that it has a little bit\\nmore of a neutral undertone,\\nand I like to use a little\\nbrush to work it in there\\nand do a very light dusting\\nover this concealer. and I'll focus it most\\nright under the eyes\\nif I'm wearing mascara right\\nhere so it doesn't smudge\\nor it doesn't move and transfer. and this setting powder,\\nit's just a really good setting powder.\",\n",
       " 'A little goes a long way.',\n",
       " 'It never makes my skin\\nlook crepey, dried out.',\n",
       " 'I feel like it looks\\nreally good all day long. for eyeshadow primer,\\nthere were two that I used,\\nMilani and Wet N Wild, either one.',\n",
       " \"Both are very, very similar,\\nbut I feel like I used the\\nMilani a little bit more. has a thicker consistency to it,\\noh, that's too much,\\nand it looks like it's\\ngoing to color correct\\nor add some kind of coverage,\\nbut it really doesn't.\",\n",
       " 'It just gives a really nice base\\nto your eyelids for your eyeshadow.',\n",
       " 'It does blend out really nice.',\n",
       " \"It's not super, super thick, like a paste.\",\n",
       " \"It just warms up. for eyeshadows, there\\nweren't too many standouts\\nthat I used throughout the year,\\nbut this is the one brand\\nI just kept coming back to\\nin these two shades.\",\n",
       " 'This is the e.l.f., their\\nBite-Sized eyeshadow palette.',\n",
       " 'I like Truffles and Rose Water. very versatile, different\\nlooks you can create. just very easy eyeshadows to work with. very pigmented, blendable.',\n",
       " \"They stay on all day with a\\nreally good eyeshadow primer,\\nand they're just phenomenal,\\nespecially for the price.\",\n",
       " \"You can't beat them.\",\n",
       " \"I'm gonna take my finger\\nand go in with this beautiful metallic.\",\n",
       " \"It's a beautiful, pewter, taupey shade.\",\n",
       " \"I'm gonna take a small...\\nOoh, geez, that went all over my shirt.\",\n",
       " \"(laughing) That's great, whoops.\",\n",
       " \"I'm gonna take this shadow right here\\non a small little fluffy brush\\nand work that into the crease\\nand just help blend it all together,\\nsoften it up a little bit.\",\n",
       " \"I'm gonna take a little bit\\nmore of that metallic shade\\non a little brush\\n(bottle spritzes)\\nand get it wet.\",\n",
       " \"I want a little bit more intensity. for eyeliner, I feel\\nlike, if it was a gel,\\nI either stuck with Milani or Revlon. i really like Milani,\\ntheir Stay Put eyeliner,\\nhonestly, in any shade\\nthat they have available,\\nbut I'm gonna use, today, After\\nDark, which is number one.\",\n",
       " \"It's just a nice matte black eyeliner,\\nand this one, I like\\nthat it's super creamy.\",\n",
       " \"It has that kohl consistency\\nmixed in with gel,\\nbut it stays put once it sets,\\nand I do like to work one eye at a time\\njust because, like I said,\\nonce it sets, it sets,\\nand I'm just using an angled brush\\nto give a nice wing\\nFor mascara primer, classic,\\nL'Oreal Voluminous Primer.\",\n",
       " \"I rediscovered it this year\\nagain, and it's just good. gets the job done. i do like to let it get tacky a little bit\\nbefore the mascara to\\ngive it some kind of grip,\\nbut it's just a classic mascara primer. for mascara, this should\\nbe no surprise, (laughs)\\nMaybelline Lash Sensational mascara.\",\n",
       " \"I've tried so many new mascaras\\nfrom the drugstore this past year,\\nand I found myself just\\ngoing back to this one\\nand just comparing\\neverything to this mascara.\",\n",
       " \"It doesn't smudge on me,\\nit doesn't transfer, it doesn't flake.\",\n",
       " \"It can flake if it's a very,\\nvery old tube, (laughs)\\njust like any other mascara,\\nbut just something about this,\\nit's so easy to layer and to build volume,\\nbut it also separates your lashes\\nand it also lengthens your\\nlashes at the same time,\\nand I think it is definitely\\nbecause of the wand,\\nbecause of the bristles, the\\nway the bristles are shaped.\",\n",
       " 'I really enjoy this mascara. for cream bronzer, this\\nhas to be no secret,\\ne.l.f.',\n",
       " 'Putty Bronzer in Tan Lines.',\n",
       " \"It's just such a good (laughs)\\nproduct, it's so good.\",\n",
       " \"It's one of my favorites\\nfrom the drugstore,\\nfrom pro-grade pricing to luxury.\",\n",
       " \"It's just so good.\",\n",
       " \"The only thing I will complain about is,\\nif you're using a bigger brush,\\nI wish this pot was a\\n(laughs) little bigger,\\nbut you can use a smaller brush like this,\\nand it fits perfectly in here.\",\n",
       " 'I like this color.',\n",
       " 'I like the way it blends.',\n",
       " \"I like that it's buildable,\\ndepending on how much product you pick up.\",\n",
       " 'I like that you can use it with a brush.',\n",
       " 'I like that you can use\\nit with a dampened sponge,\\nwith your fingers.',\n",
       " \"I mean, you can just do so many things\\nwith this little product right here,\\nand I actually do like\\nthe size of this product\\nbecause it's a great for traveling,\\nbut it's also great to\\nkeep in your makeup bag,\\nand it doesn't take up too much space.\",\n",
       " \"It's so good, and I like\\nto stamp this product on with a brush. and I do use it to actually\\ncarve my cheekbones out\\nAnd my face because I find that the color,\\nit's that perfect warmth,\\nbut neutral, where it doesn't\\nlook dirty on my skin,\\nand I do like to layer this product\\ninstead of going really\\nheavy handed with it,\\njust layer it and just place in areas\\nwhere I need a little bit of definition.\",\n",
       " 'I feel like e.l.f., in 2021,\\nreally stepped up their game\\nwith their CC Cream,\\nwith their bronzer, their blushes,\\nI mean, their highlighters, their primers.',\n",
       " 'They did a really good job. for cream blush, e.l.f., their\\nPutty Blush in shade Tahiti.',\n",
       " 'It looks intimidating,\\nbut just on the skin, it looks so pretty,\\nand again, I like to apply this\\nwith more of a dense foundation brush.',\n",
       " \"I'm just gonna work it into the brush\\nand just start tapping this.\",\n",
       " \"2021 was the year of cream\\nproducts for my skin,\\nfor my blush, for my\\ncontour, for my bronzer,\\nfor the highlighter,\\nbut I do like to top it\\nwith a powder product on\\ntop just to add longevity. but you can see, just\\nworking a tiny little bit,\\nit just brings back life onto my cheeks,\\nbut in just that perfectly, I don't know.\",\n",
       " \"This blush right here is so\\neasy to work with and layer. for my powder, contour/bronzer, Juvia's Place.\",\n",
       " 'This has a special place in my heart.',\n",
       " 'This is their bronzer\\npalette in shade Light.',\n",
       " \"I like that I can use\\nthis for my skin tone\\nwhen I'm pale and when I have\\na little bit more of a tan,\\nbut I do like to actually\\nmix the two shades together\\njust to get more of a\\ncustom shade for my skin.\",\n",
       " 'This powder is just so easy to work with.',\n",
       " 'I love the tones.',\n",
       " \"I like how soft and buttery\\nand how blendable, how\\nbuildable the shades are,\\njust so easy to work with,\\nand I've used this with\\nso many different bases,\\nand it just works with everything.\",\n",
       " \"I haven't found one product\\nthat it hasn't worked with. for my powder blush, this is the one\\nin this particular shade.\",\n",
       " 'Milani, and this is their Powder Blush\\nin shade number 11, Blossomtime Rose.',\n",
       " 'I have, I think, two\\nbackups (laughs) of this\\nbecause I love it so much.',\n",
       " \"It has, I don't know if you can\\neven see with the light,\\nit has this iridescent,\\ntwo-dimensional tone to it.\",\n",
       " \"It's peachy, it's rosy.\",\n",
       " \"It's so stunning with hint\\nof a little bit of a gold sheen to it.\",\n",
       " \"It's so pretty.\",\n",
       " \"Oh my gosh, it's so pretty,\\nand it's so easy to use,\\nand just the way it sits\\non top of my cheeks,\\nit doesn't exaggerate anything,\\nbut it just adds something\\nspecial to my cheekbones\\non top of any blush. for highlighter, Catrice\\nMore Than Glow highlighter\\nin shade number 20, Supreme Rose Beam.\",\n",
       " \"This right here, it's such\\nan oldie, but a goodie,\\nand it's just one of my favorites.\",\n",
       " 'I find that it gives the perfect iciness\\nand a highlighter look to\\nyour face without looking dry,\\nwithout exaggerating any\\nkind of texture on my skin,\\nand I do like this color, as well.',\n",
       " \"It's definitely a little\\nbit more icy and pink\\nand more cool-toned,\\nbut I find that a little goes a long way\\nand it really balances out\\neverything else on my face.\",\n",
       " \"Let's say my cheeks look a little warm.\",\n",
       " \"It balances everything out,\\nand it's a very easy highlighter to use.\",\n",
       " 'I mean, you can make it\\nlook super wet and dewy,\\nor you can really just tone it down.',\n",
       " 'I like to use it with a brush first\\nand then go in with my dampened sponge.',\n",
       " 'I mean, look at that, that\\'s insane. definitely looks very wet and\\ndewy on the skin with a brush,\\nbut just to help melt everything together,\\njust go in with a dampened sponge,\\nand just tap right on top. so for lips, I was really\\nthinking to myself,\\n\"What were the products that\\nI used most consistently\\n\"and the shades or whatever else?\"',\n",
       " \"I tried so many lip products\\nout from the drugstore,\\nfrom luxury down to mid-grade,\\nand I found that, this past year,\\nhaving Emorett and just wanting\\nto just cuddle and kiss him,\\nI didn't wear too many lip\\nproducts besides a good lip liner\\nand either a lip gloss,\\na lip oil, or a lip balm.\",\n",
       " \"That's (laughs) what I\\nreally gravitated towards\\non an everyday basis, so for\\nlip liners from the drugstore,\\nthese two are here on my\\nfavorites in these shades.\",\n",
       " 'The first one is by NYX,\\nand this right here is their lip pencil\\nin shade N Truffle.',\n",
       " 'I like this one so much.',\n",
       " 'I repurchased this one so many times.',\n",
       " \"It's just a really good\\neveryday neutral beige lip liner\\n(laughs) that you can\\ngo really intense with\\nto just outline and\\nreally color in your lips,\\nor just do really soft\\nstrokes on your lips\\nand just get the most\\nminimal amount of color,\\nbut your lips still look\\nreally beautiful, defined,\\nand just full of life. and then the other one, this\\nright here is by Milani.\",\n",
       " 'This is their Color Statement Lipliner\\nin shade number four, All Natural.',\n",
       " \"I find that this one's\\na little bit more rosy\\ninstead of more n and\\nmore beigey with the NYX.\",\n",
       " 'It just depends\\nwhat kind of lip statement\\nyou wanna go with,\\nbut I find that these two lip pencils,\\nthe formula is really stunning.',\n",
       " \"They last all day long,\\nand they're very easy to\\npair with so many lip colors,\\ndepending what color you're going with.\",\n",
       " \"I think, today, probably go with,\\nI don't even know, either one.\",\n",
       " '(laughs)\\nMore pink or more beige?',\n",
       " '- Go more pink.',\n",
       " \"- Let's go more pink.\",\n",
       " \"Let's go with Milani. honestly, I would just go like this,\\nAnd just really softly blend it\\nto the center of my lips,\\nbut it's like my lip color,\\nbut a little bit warmer and deeper. for lip gloss, (laughs) this right here is\\nwhat I really liked from the drugstore.\",\n",
       " \"It's the Milani\\nand it's their Keep It Full,\\ntheir Maxxx Nourishing Lip Plumper. i really like this one a lot.\",\n",
       " 'I love how big (laughs) and jumbo this is,\\nand I like the shade 110, Little Secret.',\n",
       " 'It has a good amount of pigment to it.',\n",
       " 'I like the smell.',\n",
       " 'I like the sensation that it gives.',\n",
       " \"It's not super, super plumping,\\nwhere it just feels\\nuncomfortable, but it makes\\nyour lips just look really\\nluscious and delicious.\",\n",
       " '(laughs)\\nAnd that completes\\nmy Affordable Best of Makeup 2021.',\n",
       " 'I love all of these products.',\n",
       " \"Some of them were new\\nlaunches, new releases,\\nbut they've just been a\\nstaple in my makeup routine,\\nand then others, I've just rediscovered\\nor just kept using over the years\\nand there's nothing to\\nreplace them (laughs) with.\",\n",
       " \"I'm gonna leave it here.\",\n",
       " \"Thank you for watching,\\nspending time with me,\\nand I'll see you in the next one\\nvery soon, and Happy 2022. so exciting, bye.\",\n",
       " '(Blows kiss)']"
      ]
     },
     "execution_count": 16,
     "metadata": {},
     "output_type": "execute_result"
    }
   ],
   "source": [
    "#Do some manual joining of transcript sub-sentences as the transcript splits by the captions so \n",
    "#e.g. \"This is a wonderful primer\" --> \"This is\", \"A wonderful primer\"\n",
    "transcript_segmenter = TranscriptSegmenter()\n",
    "sample_sentences = transcript_segmenter.get_sentence_list_from_transcript(transcript)\n",
    "sample_sentences"
   ]
  },
  {
   "cell_type": "markdown",
   "metadata": {
    "id": "uQV_CmSjdI6_"
   },
   "source": [
    "Change from Iteration 2: Add manual coreference resolution due to weaknesses in model based coreference as we are looking to specificially resolve only for product names\n",
    "- Existing models tend to be too slow or cannot handle large text chunks (e.g. AllenNLP)\n",
    "- There are fast models like fastcoref package but they do not identify the product name to resolve \n",
    "- e.g. might change \"this\" to \"this pencil\" instead of \"Nyx Eyebrow Pencil\""
   ]
  },
  {
   "cell_type": "code",
   "execution_count": 17,
   "metadata": {
    "colab": {
     "base_uri": "https://localhost:8080/"
    },
    "executionInfo": {
     "elapsed": 641,
     "status": "ok",
     "timestamp": 1678535834845,
     "user": {
      "displayName": "bel hello",
      "userId": "14145485794765337692"
     },
     "user_tz": -480
    },
    "id": "_ntwLxWDKCMd",
    "outputId": "196ca954-5494-4343-cc8f-9c950f97daa8"
   },
   "outputs": [
    {
     "data": {
      "text/plain": [
       "['- Hello, my lovelies, and Happy New Year.',\n",
       " \"Today, Happy New Year's all about the best affordable makeup of 2021 from my rendition, my opinion, my makeup that I just kept going towards, kept reaching towards, and I just couldn't get enough of.\",\n",
       " 'Some of them are newer products, either the beginning of the year, mid, or even towards the end of the year, and then some of them are just rediscovered loves.',\n",
       " \"Let's begin, starting first with the primer.\",\n",
       " 'Happy New Year right here is by e.l.f.',\n",
       " \"I don't usually like primers, but Happy New Year one I actually (laughs) really, really enjoyed.\",\n",
       " 'This is their Primer elf Oil Control Lotion  with tea tree oil.',\n",
       " \"Primer elf Oil Control Lotion  might put you off if you have dry skin, but I found that Primer elf Oil Control Lotion  just helped balance the oil throughout the day, especially in a humid, warm, hot climate, definitely towards the spring and summertime, but I really enjoyed Primer elf Oil Control Lotion  throughout the entire year, and I would mostly focus in areas where I would get extra shiny, like right here, the T-zone, or just even use Primer elf Oil Control Lotion  all over my face if I knew Primer elf Oil Control Lotion  was gonna be really hot and humid that day. and Primer elf Oil Control Lotion  also smells really nice. but Primer elf Oil Control Lotion  doesn't really mattify you.\",\n",
       " 'Primer elf Oil Control Lotion  just gives a really nice, clean base to begin your makeup.',\n",
       " \"Primer elf Oil Control Lotion  does have a little bit of a tackiness, so I find that my makeup, Primer elf Oil Control Lotion  adheres better with Primer elf Oil Control Lotion  lotion/primer, but I really enjoyed Primer elf Oil Control Lotion  product, and like I said, don't let Primer elf Oil Control Lotion  steer you away if you have super dry skin. just make sure you prep your skin with your skincare, and then use Primer elf Oil Control Lotion  on top before you apply your makeup. for foundation, Primer elf Oil Control Lotion  was the product that just kept me excited to use Primer elf Oil Control Lotion  over and over again.\",\n",
       " \"This is the L'Oreal True Match Hyaluronic Tinted Serum.\",\n",
       " \"I'm in Shade 0.5 to two.\",\n",
       " \"L'Oreal True Match Hyaluronic Tinted Serum right here is not like your typical foundation, where L'Oreal True Match Hyaluronic Tinted Serum gives you a crazy amount of coverage, but something about L'Oreal True Match Hyaluronic Tinted Serum, L'Oreal True Match Hyaluronic Tinted Serum gives you the coverage.\",\n",
       " \"L'Oreal True Match Hyaluronic Tinted Serum gives you that beautiful, healthy look to your skin without making L'Oreal True Match Hyaluronic Tinted Serum look shiny, oily throughout the day, and L'Oreal True Match Hyaluronic Tinted Serum's just a beautiful product. but I do like to wear L'Oreal True Match Hyaluronic Tinted Serum on its own, and I do like the dropper.\",\n",
       " \"You can apply L'Oreal True Match Hyaluronic Tinted Serum with your fingers, but I actually really like a dampened sponge with L'Oreal True Match Hyaluronic Tinted Serum, and L'Oreal True Match Hyaluronic Tinted Serum just blends so nicely. and L'Oreal True Match Hyaluronic Tinted Serum somehow L'Oreal True Match Hyaluronic Tinted Serum looks like your skin, but giving a really good, light coverage and just color correcting everything.\",\n",
       " \"I love the way L'Oreal True Match Hyaluronic Tinted Serum product looks on my skin. if my skin's having a good day, a bad day, I find that L'Oreal True Match Hyaluronic Tinted Serum just looks great regardless.\",\n",
       " \"(laughs) I love L'Oreal True Match Hyaluronic Tinted Serum for an everyday type of a base, L'Oreal True Match Hyaluronic Tinted Serum's phenomenal.\",\n",
       " \"The very first time I looked at L'Oreal True Match Hyaluronic Tinted Serum and reviewed L'Oreal True Match Hyaluronic Tinted Serum, in the packaging, in the bottle, L'Oreal True Match Hyaluronic Tinted Serum looks iridescent.\",\n",
       " \"L'Oreal True Match Hyaluronic Tinted Serum looks like L'Oreal True Match Hyaluronic Tinted Serum has L'Oreal True Match Hyaluronic Tinted Serum pearly, glittery finish, but I don't know, somehow, magically, L'Oreal True Match Hyaluronic Tinted Serum looks incredible, and L'Oreal True Match Hyaluronic Tinted Serum just gives you the perfect amount of radiance to your skin without looking like a highlighter or an illuminator, because in the bottle, L'Oreal True Match Hyaluronic Tinted Serum looks very much so towards the highlighter, illuminator, like an illuminator for your skin.\",\n",
       " \"L'Oreal True Match Hyaluronic Tinted Serum product, I can't get enough of L'Oreal True Match Hyaluronic Tinted Serum.\",\n",
       " \"Okay, let's move on to brows, Eyebrow Winky Lux Micro Universal Brow Pencil .\",\n",
       " \"I don't know how many times I've repurchased Eyebrow Winky Lux Micro Universal Brow Pencil  pencil, but Eyebrow Winky Lux Micro Universal Brow Pencil  particular pencil, Eyebrow Winky Lux Micro Universal Brow Pencil 's the micro one. and Eyebrow Winky Lux Micro Universal Brow Pencil  is their universal shade.\",\n",
       " \"You have a little spoolie on one end, and then you have the pencil on the other end. just something about the formula, the way Eyebrow Winky Lux Micro Universal Brow Pencil  applies, the way Eyebrow Winky Lux Micro Universal Brow Pencil  blends, the way lasts all day long, and the color, Eyebrow Winky Lux Micro Universal Brow Pencil 's really, really great.\",\n",
       " \"Eyebrow Winky Lux Micro Universal Brow Pencil 's one of my favorite pencils from the drugstore.\",\n",
       " \"It's not the cheapest, but I really, really, really enjoyed this pencil in 2021. so for a Eyebrow Gel NYX The Brow Glue , I don't like many brow gels from the drugstore.\",\n",
       " \"I find that they're either too waxy and they just make your brows fall down, especially if you have stubborn brows, or they just don't do anything, honestly. i do like Eyebrow Gel NYX The Brow Glue  one.\",\n",
       " 'Eyebrow Gel NYX The Brow Glue  is a newer one from the drugstore.',\n",
       " 'This is by NYX, this is their The Eyebrow Gel NYX The Brow Glue . if you like the laminated effect for your brows, you might really enjoy Eyebrow Gel NYX The Brow Glue , but I find that you have to work in layers with Eyebrow Gel NYX The Brow Glue  product. first, do a really light layer.',\n",
       " \"Give Eyebrow Gel NYX The Brow Glue  a little bit of time to get tacky and dry down, and then go in with a very light second layer on top to really comb and give your brows the shape you want them to last all day long, and Eyebrow Gel NYX The Brow Glue  product, Eyebrow Gel NYX The Brow Glue  stays on my brows all day long. and Eyebrow Gel NYX The Brow Glue  gives just the perfect amount of crusty brows, (laughs) even though we don't like crusty brows, but with Eyebrow Gel NYX The Brow Glue  type of a product, you will get a little bit.\",\n",
       " \"Okay, so for concealers, it's the same thing with an Eyebrow Gel NYX The Brow Glue .\",\n",
       " \"There were a lot of concealers that I used from the drugstore, but they were more of the L'Oreal Infallible concealer, the Cover Girl concealer, the Maybelline Age Rewind Concealer, classic, but Maybelline Age Rewind Concealer right here, I have to say, ever since I tried Maybelline Age Rewind Concealer, I can't stop using Maybelline Age Rewind Concealer.\",\n",
       " 'The The NYX Bear with Me Concealer Serum, and there is a reason why The NYX Bear went viral.',\n",
       " \"The NYX Bear's a good concealer. not just good, The NYX Bear's a phenomenal concealer.\",\n",
       " \"I am in the shade Vanilla, and The NYX Bear's the perfect color for me, which is very rare, especially from the drugstore.\",\n",
       " 'I feel like I have to really create my own concoctions, (laughs) not even from the drugstore.',\n",
       " \"I have two shades I (laughs) usually use, And I like to use my fingers first to get The NYX Bear where I want The NYX Bear to be, The NYX Bear's so lightweight, but The NYX Bear still provides you coverage.\",\n",
       " \"The NYX Bear's super lightweight under the eyes.\",\n",
       " 'The NYX Bear looks so pretty.',\n",
       " \"The NYX Bear's so stretchy and fluid, where The NYX Bear just goes where you want The NYX Bear to go.\",\n",
       " 'You have no issues blending The NYX Bear concealer out at all, but The NYX Bear lasts all day long.',\n",
       " \"The NYX Bear doesn't really crease under the eyes.\",\n",
       " \"The NYX Bear doesn't make your under-eyes look weird, crepey, dry, or oily, somehow.\",\n",
       " '(laughs) The NYX Bear just looks really, really nice under the eyes, and I like to apply The NYX Bear with a brush first and then go in with a sponge if I need to.',\n",
       " \"You don't have to set this concealer, but I find that, if you have an eye mask underneath or an eye moisturizer underneath, I like to set it just a little bit using a loose Setting Powder Maybelline Fit Me Loose Finishing Powder (Fair Light) , and Setting Powder Maybelline Fit Me Loose Finishing Powder (Fair Light)  right here, I have rediscovered in 2021, the Maybelline Fit Me in shade number 10, or Fair Light.\",\n",
       " \"Setting Powder Maybelline Fit Me Loose Finishing Powder (Fair Light) 's perfect for my skin tone.\",\n",
       " \"I like that it has a little bit more of a neutral undertone, and I like to use a little brush to work it in there and do a very light dusting over this concealer. and I'll focus it most right under the eyes if I'm wearing mascara right here so it doesn't smudge or it doesn't move and transfer. and this Setting Powder Maybelline Fit Me Loose Finishing Powder (Fair Light) , Setting Powder Maybelline Fit Me Loose Finishing Powder (Fair Light) 's just a really good setting powder.\",\n",
       " 'A little goes a long way.',\n",
       " 'Setting Powder Maybelline Fit Me Loose Finishing Powder (Fair Light)  never makes my skin look crepey, dried out.',\n",
       " 'I feel like it looks really good all day long. for eyeshadow primer, there were two that I used, Milani and Eyeshadow Primer Wet n Wild PhotoFocus Base  , either one.',\n",
       " \"Both are very, very similar, but I feel like I used the Milani a little bit more. has a thicker consistency to Eyeshadow Primer Wet n Wild PhotoFocus Base  , oh, that's too much, and Eyeshadow Primer Wet n Wild PhotoFocus Base   looks like Eyeshadow Primer Wet n Wild PhotoFocus Base  's going to color correct or add some kind of coverage, but Eyeshadow Primer Wet n Wild PhotoFocus Base   really doesn't.\",\n",
       " 'Eyeshadow Primer Wet n Wild PhotoFocus Base   just gives a really nice base to your eyelids for your eyeshadow.',\n",
       " 'Eyeshadow Primer Wet n Wild PhotoFocus Base   does blend out really nice.',\n",
       " \"Eyeshadow Primer Wet n Wild PhotoFocus Base  's not super, super thick, like a paste.\",\n",
       " \"Eyeshadow Primer Wet n Wild PhotoFocus Base   just warms up. for eyeshadows, there weren't too many standouts that I used throughout the year, but Eyeshadow Primer Wet n Wild PhotoFocus Base   is the one brand I just kept coming back to in these two shades.\",\n",
       " 'Eyeshadow Primer Wet n Wild PhotoFocus Base   is the e.l.f., their Bite-Sized eyeshadow palette.',\n",
       " 'I like Truffles and Eyeshadow elf Bite Size Palette (Truffles, Rose Water) . very versatile, different looks you can create. just very easy eyeshadows to work with. very pigmented, blendable.',\n",
       " \"They stay on all day with a really good Eyeshadow Primer Wet n Wild PhotoFocus Base  , and they're just phenomenal, especially for the price.\",\n",
       " \"You can't beat them.\",\n",
       " \"I'm gonna take my finger and go in with Eyeshadow Primer Wet n Wild PhotoFocus Base   beautiful metallic.\",\n",
       " \"Eyeshadow Primer Wet n Wild PhotoFocus Base  's a beautiful, pewter, taupey shade.\",\n",
       " \"I'm gonna take a small... Ooh, geez, that went all over my shirt.\",\n",
       " \"(laughing) That's great, whoops.\",\n",
       " \"I'm gonna take Eyeshadow Primer Wet n Wild PhotoFocus Base   shadow right here on a small little fluffy brush and work that into the crease and just help blend Eyeshadow Primer Wet n Wild PhotoFocus Base   all together, soften Eyeshadow Primer Wet n Wild PhotoFocus Base   up a little bit.\",\n",
       " \"I'm gonna take a little bit more of that metallic shade on a little brush (bottle spritzes) and get Eyeshadow Primer Wet n Wild PhotoFocus Base   wet.\",\n",
       " \"I want a little bit more intensity. for eyeliner, I feel like, if it was a gel, I either stuck with Milani or Revlon. i really like Milani, their Gel Eyeliner Milani Stay Put Eyeliner , honestly, in any shade that they have available, but I'm gonna use, today, After Dark, which is number one.\",\n",
       " \"Gel Eyeliner Milani Stay Put Eyeliner 's just a nice matte black eyeliner, and Gel Eyeliner Milani Stay Put Eyeliner  one, I like that Gel Eyeliner Milani Stay Put Eyeliner 's super creamy.\",\n",
       " \"It has that kohl consistency mixed in with gel, but it stays put once it sets, and I do like to work one eye at a time just because, like I said, once it sets, it sets, and I'm just using an angled brush to give a nice wing For Mascara Primer L’Oreal Voluminous Primer , classic, L'Oreal Voluminous Primer.\",\n",
       " \"I rediscovered it this year again, and it's just good. gets the job done. i do like to let it get tacky a little bit before the mascara to give it some kind of grip, but it's just a classic Mascara Primer L’Oreal Voluminous Primer . for mascara, Mascara Primer L’Oreal Voluminous Primer  should be no surprise, (laughs) Maybelline Lash Sensational mascara.\",\n",
       " \"I've tried so many new mascaras from the drugstore Mascara Primer L’Oreal Voluminous Primer  past year, and I found myself just going back to Mascara Primer L’Oreal Voluminous Primer  one and just comparing everything to Mascara Primer L’Oreal Voluminous Primer  mascara.\",\n",
       " \"Mascara Primer L’Oreal Voluminous Primer  doesn't smudge on me, Mascara Primer L’Oreal Voluminous Primer  doesn't transfer, Mascara Primer L’Oreal Voluminous Primer  doesn't flake.\",\n",
       " \"Mascara Primer L’Oreal Voluminous Primer  can flake if Mascara Primer L’Oreal Voluminous Primer 's a very, very old tube, (laughs) just like any other mascara, but just something about Mascara Primer L’Oreal Voluminous Primer , Mascara Primer L’Oreal Voluminous Primer 's so easy to layer and to build volume, but Mascara Primer L’Oreal Voluminous Primer  also separates your lashes and Mascara Primer L’Oreal Voluminous Primer  also lengthens your lashes at the same time, and I think Mascara Primer L’Oreal Voluminous Primer  is definitely because of the wand, because of the bristles, the way the bristles are shaped.\",\n",
       " 'I really enjoy this mascara. for Cream Bronzer elf Putty Bronzer (Tan Lines) , Cream Bronzer elf Putty Bronzer (Tan Lines)  has to be no secret, e.l.f.',\n",
       " 'Cream Bronzer elf Putty Bronzer (Tan Lines)  in Tan Lines.',\n",
       " \"Cream Bronzer elf Putty Bronzer (Tan Lines) 's just such a good (laughs) product, Cream Bronzer elf Putty Bronzer (Tan Lines) 's so good.\",\n",
       " \"Cream Bronzer elf Putty Bronzer (Tan Lines) 's one of my favorites from the drugstore, from pro-grade pricing to luxury.\",\n",
       " \"Cream Bronzer elf Putty Bronzer (Tan Lines) 's just so good.\",\n",
       " \"The only thing I will complain about is, if you're using a bigger brush, I wish Cream Bronzer elf Putty Bronzer (Tan Lines)  pot was a (laughs) little bigger, but you can use a smaller brush like Cream Bronzer elf Putty Bronzer (Tan Lines) , and Cream Bronzer elf Putty Bronzer (Tan Lines)  fits perfectly in here.\",\n",
       " 'I like Cream Bronzer elf Putty Bronzer (Tan Lines)  color.',\n",
       " 'I like the way Cream Bronzer elf Putty Bronzer (Tan Lines)  blends.',\n",
       " \"I like that Cream Bronzer elf Putty Bronzer (Tan Lines) 's buildable, depending on how much product you pick up.\",\n",
       " 'I like that you can use Cream Bronzer elf Putty Bronzer (Tan Lines)  with a brush.',\n",
       " 'I like that you can use Cream Bronzer elf Putty Bronzer (Tan Lines)  with a dampened sponge, with your fingers.',\n",
       " \"I mean, you can just do so many things with Cream Bronzer elf Putty Bronzer (Tan Lines)  little product right here, and I actually do like the size of Cream Bronzer elf Putty Bronzer (Tan Lines)  product because Cream Bronzer elf Putty Bronzer (Tan Lines) 's a great for traveling, but Cream Bronzer elf Putty Bronzer (Tan Lines) 's also great to keep in your makeup bag, and Cream Bronzer elf Putty Bronzer (Tan Lines)  doesn't take up too much space.\",\n",
       " \"Cream Bronzer elf Putty Bronzer (Tan Lines) 's so good, and I like to stamp Cream Bronzer elf Putty Bronzer (Tan Lines)  product on with a brush. and I do use Cream Bronzer elf Putty Bronzer (Tan Lines)  to actually carve my cheekbones out And my face because I find that the color, Cream Bronzer elf Putty Bronzer (Tan Lines) 's that perfect warmth, but neutral, where Cream Bronzer elf Putty Bronzer (Tan Lines)  doesn't look dirty on my skin, and I do like to layer Cream Bronzer elf Putty Bronzer (Tan Lines)  product instead of going really heavy handed with Cream Bronzer elf Putty Bronzer (Tan Lines) , just layer Cream Bronzer elf Putty Bronzer (Tan Lines)  and just place in areas where I need a little bit of definition.\",\n",
       " 'I feel like e.l.f., in 2021, really stepped up their game with their CC Cream, with their bronzer, their blushes, I mean, their highlighters, their primers.',\n",
       " 'They did a really good job. for Cream Blush Elf Putty Blush (Tahiti) , e.l.f., their Putty Blush in shade Tahiti.',\n",
       " 'Cream Blush Elf Putty Blush (Tahiti)  looks intimidating, but just on the skin, Cream Blush Elf Putty Blush (Tahiti)  looks so pretty, and again, I like to apply Cream Blush Elf Putty Blush (Tahiti)  with more of a dense foundation brush.',\n",
       " \"I'm just gonna work Cream Blush Elf Putty Blush (Tahiti)  into the brush and just start tapping Cream Blush Elf Putty Blush (Tahiti) .\",\n",
       " \"2021 was the year of cream products for my skin, for my blush, for my contour, for my bronzer, for the highlighter, but I do like to top Cream Blush Elf Putty Blush (Tahiti)  with a powder product on top just to add longevity. but you can see, just working a tiny little bit, Cream Blush Elf Putty Blush (Tahiti)  just brings back life onto my cheeks, but in just that perfectly, I don't know.\",\n",
       " \"Cream Blush Elf Putty Blush (Tahiti)  blush right here is so easy to work with and layer. for my powder, contour/bronzer, Juvia's Place.\",\n",
       " 'Cream Blush Elf Putty Blush (Tahiti)  has a special place in my heart.',\n",
       " 'This is their Bronzer Juvia’s Place Bronzer Palette (Light)  in shade Light.',\n",
       " \"I like that I can use Bronzer Juvia’s Place Bronzer Palette (Light)  for my skin tone when I'm pale and when I have a little bit more of a tan, but I do like to actually mix the two shades together just to get more of a custom shade for my skin.\",\n",
       " 'Bronzer Juvia’s Place Bronzer Palette (Light)  powder is just so easy to work with.',\n",
       " 'I love the tones.',\n",
       " \"I like how soft and buttery and how blendable, how buildable the shades are, just so easy to work with, and I've used Bronzer Juvia’s Place Bronzer Palette (Light)  with so many different bases, and Bronzer Juvia’s Place Bronzer Palette (Light)  just works with everything.\",\n",
       " \"I haven't found one product that it hasn't worked with. for my Blush Milani Powder Blush (Blossomtime Rose) , Blush Milani Powder Blush (Blossomtime Rose)  is the one in Blush Milani Powder Blush (Blossomtime Rose)  particular shade.\",\n",
       " 'Milani, and this is their Blush Milani Powder Blush (Blossomtime Rose)  in shade number 11, Blossomtime Rose.',\n",
       " 'I have, I think, two backups (laughs) of Blush Milani Powder Blush (Blossomtime Rose)  because I love Blush Milani Powder Blush (Blossomtime Rose)  so much.',\n",
       " \"Blush Milani Powder Blush (Blossomtime Rose)  has, I don't know if you can even see with the light, Blush Milani Powder Blush (Blossomtime Rose)  has Blush Milani Powder Blush (Blossomtime Rose)  iridescent, two-dimensional tone to Blush Milani Powder Blush (Blossomtime Rose) .\",\n",
       " \"Blush Milani Powder Blush (Blossomtime Rose) 's peachy, Blush Milani Powder Blush (Blossomtime Rose) 's rosy.\",\n",
       " \"Blush Milani Powder Blush (Blossomtime Rose) 's so stunning with hint of a little bit of a gold sheen to Blush Milani Powder Blush (Blossomtime Rose) .\",\n",
       " \"Blush Milani Powder Blush (Blossomtime Rose) 's so pretty.\",\n",
       " \"Oh my gosh, it's so pretty, and it's so easy to use, and just the way it sits on top of my cheeks, it doesn't exaggerate anything, but it just adds something special to my cheekbones on top of any blush. for highlighter, Catrice More Highlighter Catrice More Than Glow Highlighter (Supreme Rose Beam)  in shade number 20, Supreme Rose Beam.\",\n",
       " \"Highlighter Catrice More Than Glow Highlighter (Supreme Rose Beam)  right here, Highlighter Catrice More Than Glow Highlighter (Supreme Rose Beam) 's such an oldie, but a goodie, and Highlighter Catrice More Than Glow Highlighter (Supreme Rose Beam) 's just one of my favorites.\",\n",
       " 'I find that Highlighter Catrice More Than Glow Highlighter (Supreme Rose Beam)  gives the perfect iciness and a highlighter look to your face without looking dry, without exaggerating any kind of texture on my skin, and I do like Highlighter Catrice More Than Glow Highlighter (Supreme Rose Beam)  color, as well.',\n",
       " \"Highlighter Catrice More Than Glow Highlighter (Supreme Rose Beam) 's definitely a little bit more icy and pink and more cool-toned, but I find that a little goes a long way and Highlighter Catrice More Than Glow Highlighter (Supreme Rose Beam)  really balances out everything else on my face.\",\n",
       " \"Let's say my cheeks look a little warm.\",\n",
       " \"Highlighter Catrice More Than Glow Highlighter (Supreme Rose Beam)  balances everything out, and Highlighter Catrice More Than Glow Highlighter (Supreme Rose Beam) 's a very easy highlighter to use.\",\n",
       " 'I mean, you can make Highlighter Catrice More Than Glow Highlighter (Supreme Rose Beam)  look super wet and dewy, or you can really just tone Highlighter Catrice More Than Glow Highlighter (Supreme Rose Beam)  down.',\n",
       " 'I like to use Highlighter Catrice More Than Glow Highlighter (Supreme Rose Beam)  with a brush first and then go in with my dampened sponge.',\n",
       " 'I mean, look at that, that\\'s insane. definitely looks very wet and dewy on the skin with a brush, but just to help melt everything together, just go in with a dampened sponge, and just tap right on top. so for lips, I was really thinking to myself, \"What were the products that I used most consistently \"and the shades or whatever else?\"',\n",
       " \"I tried so many lip products out from the drugstore, from luxury down to mid-grade, and I found that, this past year, having Emorett and just wanting to just cuddle and kiss him, I didn't wear too many lip products besides a good Lip Liner NYX Lip Pencil (Nude Truffle)  and either a lip gloss, a lip oil, or a lip balm.\",\n",
       " \"That's (laughs) what I really gravitated towards on an everyday basis, so for Lip Liner NYX Lip Pencil (Nude Truffle)  from the drugstore, these two are here on my favorites in these shades.\",\n",
       " 'The first one is by NYX, and this right here is their lip pencil in shade Lip Liner NYX Lip Pencil (Nude Truffle) .',\n",
       " 'I like Lip Liner NYX Lip Pencil (Nude Truffle)  one so much.',\n",
       " 'I repurchased Lip Liner NYX Lip Pencil (Nude Truffle)  one so many times.',\n",
       " \"It's just a really good everyday neutral Lip Liner Milani Color Statement Lip Liner (04 All Natural)  (laughs) that you can go really intense with to just outline and really color in your lips, or just do really soft strokes on your lips and just get the most minimal amount of color, but your lips still look really beautiful, defined, and just full of life. and then the other one, Lip Liner Milani Color Statement Lip Liner (04 All Natural)  right here is by Milani.\",\n",
       " 'This is their Lip Liner Milani Color Statement Lip Liner (04 All Natural)  in shade number four, All Natural.',\n",
       " \"I find that Lip Liner Milani Color Statement Lip Liner (04 All Natural)  one's a little bit more rosy instead of more n and more beigey with the NYX.\",\n",
       " 'It just depends what kind of Lip Liner Milani Color Statement Lip Liner (04 All Natural)  you wanna go with, but I find that these two lip pencils, the formula is really stunning.',\n",
       " \"They last all day long, and they're very easy to pair with so many Lip Liner Milani Color Statement Lip Liner (04 All Natural) , depending what color you're going with.\",\n",
       " \"I think, today, probably go with, I don't even know, either one.\",\n",
       " '(laughs) More pink or more beige?',\n",
       " '- Go more pink.',\n",
       " \"- Let's go more pink.\",\n",
       " \"Let's go with Milani. honestly, I would just go like this, And just really softly blend it to the center of my lips, but it's like my lip color, but a little bit warmer and deeper. for Lip Gloss Milani Keep it Full Maxxx Lip Plumper (110 Little Secret) , (laughs) Lip Gloss Milani Keep Lip Gloss Milani Keep it Full Maxxx Lip Plumper (110 Little Secret)  Full Maxxx Lip Plumper (110 Little Secret)  right here is what I really liked from the drugstore.\",\n",
       " \"It's the Milani and it's their Keep It Full, their Maxxx Nourishing Lip Plumper. i really like Maxxx Nourishing Lip Plumper one a lot.\",\n",
       " 'I love how big (laughs) and jumbo this is, and I like the shade 110, Lip Gloss Milani Keep it Full Maxxx Lip Plumper (110 Little Secret) .',\n",
       " 'Lip Gloss Milani Keep it Full Maxxx Lip Plumper (110 Little Secret)  has a good amount of pigment to Lip Gloss Milani Keep it Full Maxxx Lip Plumper (110 Little Secret) .',\n",
       " 'I like the smell.',\n",
       " 'I like the sensation that Lip Gloss Milani Keep it Full Maxxx Lip Plumper (110 Little Secret)  gives.',\n",
       " \"Lip Gloss Milani Keep it Full Maxxx Lip Plumper (110 Little Secret) 's not super, super plumping, where Lip Gloss Milani Keep it Full Maxxx Lip Plumper (110 Little Secret)  just feels uncomfortable, but Lip Gloss Milani Keep it Full Maxxx Lip Plumper (110 Little Secret)  makes your lips just look really luscious and delicious.\",\n",
       " '(laughs) And that completes my Affordable Best of Makeup 2021.',\n",
       " 'I love all of these products.',\n",
       " \"Some of them were new launches, new releases, but they've just been a staple in my makeup routine, and then others, I've just rediscovered or just kept using over the years and there's nothing to replace them (laughs) with.\",\n",
       " \"I'm gonna leave Lip Gloss Milani Keep it Full Maxxx Lip Plumper (110 Little Secret)  here.\",\n",
       " \"Thank you for watching, spending time with me, and I'll see you in the next one very soon, and Happy 2022. so exciting, bye.\",\n",
       " '(Blows kiss)']"
      ]
     },
     "execution_count": 17,
     "metadata": {},
     "output_type": "execute_result"
    }
   ],
   "source": [
    "#Conduct coreference resolution to better differentiate the sentences in the transcript\n",
    "coreference_resolver = CoreferenceResolver()\n",
    "resolved_lst = coreference_resolver.resolve_sentences(sample_sentences, filtered_product_lst)\n",
    "resolved_lst"
   ]
  },
  {
   "cell_type": "markdown",
   "metadata": {
    "id": "xFMrZJJ-dXzg"
   },
   "source": [
    "Change from Iteration 2: Directly join sentences that mention the product name together as chunking is not very accurate as number of chunks increases. Usually in a video, they are also doing a makeup tutorial along with the review so this confuses the chunking process"
   ]
  },
  {
   "cell_type": "code",
   "execution_count": 18,
   "metadata": {
    "colab": {
     "base_uri": "https://localhost:8080/"
    },
    "executionInfo": {
     "elapsed": 13,
     "status": "ok",
     "timestamp": 1678535834847,
     "user": {
      "displayName": "bel hello",
      "userId": "14145485794765337692"
     },
     "user_tz": -480
    },
    "id": "IqCPD8A9K1Kp",
    "outputId": "7da1b216-992c-423c-823e-a06ff827a070"
   },
   "outputs": [
    {
     "name": "stdout",
     "output_type": "stream",
     "text": [
      "Product name: Happy New Year\n",
      "Associated Chunk: - Hello, my lovelies, and Happy New Year.Today, it's all about the best affordable makeup of 2021 from my rendition, my opinion, my makeup that I just kept going towards, kept reaching towards, and I just couldn't get enough of.This right here is by e.l.f.I don't usually like primers, but this one I actually (laughs) really, really enjoyed.\n",
      "Product name: Primer elf Oil Control Lotion \n",
      "Associated Chunk: This is their Oil Control Liquid Lotion with tea tree oil.This might put you off if you have dry skin, but I found that this just helped balance the oil throughout the day, especially in a humid, warm, hot climate, definitely towards the spring and summertime, but I really enjoyed this throughout the entire year, and I would mostly focus in areas where I would get extra shiny, like right here, the T-zone, or just even use it all over my face if I knew it was gonna be really hot and humid that day. and it also smells really nice. but it doesn't really mattify you.It just gives a really nice, clean base to begin your makeup.This does have a little bit of a tackiness, so I find that my makeup, it adheres better with this lotion/primer, but I really enjoyed this product, and like I said, don't let it steer you away if you have super dry skin. just make sure you prep your skin with your skincare, and then use this on top before you apply your makeup. for foundation, this was the product that just kept me excited to use it over and over again.\n",
      "Product name: L'Oreal True Match Hyaluronic Tinted Serum\n",
      "Associated Chunk: This is the L'Oreal True Match Hyaluronic Tinted Serum.This right here is not like your typical foundation, where it gives you a crazy amount of coverage, but something about this, it gives you the coverage.It gives you that beautiful, healthy look to your skin without making it look shiny, oily throughout the day, and it's just a beautiful product. but I do like to wear this on its own, and I do like the dropper.You can apply it with your fingers, but I actually really like a dampened sponge with this, and it just blends so nicely. and it somehow it looks like your skin, but giving a really good, light coverage and just color correcting everything.I love the way this product looks on my skin. if my skin's having a good day, a bad day, I find that this just looks great regardless.(laughs) I love this for an everyday type of a base, it's phenomenal.The very first time I looked at it and reviewed it, in the packaging, in the bottle, it looks iridescent.It looks like it has this pearly, glittery finish, but I don't know, somehow, magically, it looks incredible, and it just gives you the perfect amount of radiance to your skin without looking like a highlighter or an illuminator, because in the bottle, it looks very much so towards the highlighter, illuminator, like an illuminator for your skin.This product, I can't get enough of it.\n",
      "Product name: Eyebrow Winky Lux Micro Universal Brow Pencil \n",
      "Associated Chunk: Okay, let's move on to brows, Winky Lux.I don't know how many times I've repurchased this pencil, but this particular pencil, it's the micro one. and this is their universal shade.You have a little spoolie on one end, and then you have the pencil on the other end. just something about the formula, the way it applies, the way it blends, the way lasts all day long, and the color, it's really, really great.It's one of my favorite pencils from the drugstore.\n",
      "Product name: Eyebrow Gel NYX The Brow Glue \n",
      "Associated Chunk: It's not the cheapest, but I really, really, really enjoyed this pencil in 2021. so for a brow gel, I don't like many brow gels from the drugstore.I find that they're either too waxy and they just make your brows fall down, especially if you have stubborn brows, or they just don't do anything, honestly. i do like this one.This is a newer one from the drugstore.This is by NYX, this is their The Brow Glue. if you like the laminated effect for your brows, you might really enjoy this, but I find that you have to work in layers with this product. first, do a really light layer.Give it a little bit of time to get tacky and dry down, and then go in with a very light second layer on top to really comb and give your brows the shape you want them to last all day long, and this product, it stays on my brows all day long. and it gives just the perfect amount of crusty brows, (laughs) even though we don't like crusty brows, but with this type of a product, you will get a little bit.Okay, so for concealers, it's the same thing with an eyebrow gel.\n",
      "Product name: Maybelline Age Rewind Concealer\n",
      "Associated Chunk: There were a lot of concealers that I used from the drugstore, but they were more of the L'Oreal Infallible concealer, the Cover Girl concealer, the Maybelline Age Rewind Concealer, classic, but this right here, I have to say, ever since I tried it, I can't stop using it.\n",
      "Product name: Me Concealer Serum\n",
      "Associated Chunk: The NYX Bear with Me Concealer Serum, and there is a reason why it went viral.\n",
      "Product name: The NYX Bear\n",
      "Associated Chunk: The NYX Bear with Me Concealer Serum, and there is a reason why it went viral.It's a good concealer. not just good, it's a phenomenal concealer.I am in the shade Vanilla, and it's the perfect color for me, which is very rare, especially from the drugstore.I have two shades I (laughs) usually use, And I like to use my fingers first to get it where I want it to be, it's so lightweight, but it still provides you coverage.It's super lightweight under the eyes.It looks so pretty.It's so stretchy and fluid, where it just goes where you want it to go.You have no issues blending this concealer out at all, but it lasts all day long.It doesn't really crease under the eyes.It doesn't make your under-eyes look weird, crepey, dry, or oily, somehow.(laughs) It just looks really, really nice under the eyes, and I like to apply it with a brush first and then go in with a sponge if I need to.\n",
      "Product name: Setting Powder Maybelline Fit Me Loose Finishing Powder (Fair Light) \n",
      "Associated Chunk: You don't have to set this concealer, but I find that, if you have an eye mask underneath or an eye moisturizer underneath, I like to set it just a little bit using a loose finishing powder, and this right here, I have rediscovered in 2021, the Maybelline Fit Me in shade number 10, or Fair Light.It's perfect for my skin tone.I like that it has a little bit more of a neutral undertone, and I like to use a little brush to work it in there and do a very light dusting over this concealer. and I'll focus it most right under the eyes if I'm wearing mascara right here so it doesn't smudge or it doesn't move and transfer. and this setting powder, it's just a really good setting powder.It never makes my skin look crepey, dried out.\n",
      "Product name: Eyeshadow Primer Wet n Wild PhotoFocus Base  \n",
      "Associated Chunk: I feel like it looks really good all day long. for eyeshadow primer, there were two that I used, Milani and Wet N Wild, either one.Both are very, very similar, but I feel like I used the Milani a little bit more. has a thicker consistency to it, oh, that's too much, and it looks like it's going to color correct or add some kind of coverage, but it really doesn't.It just gives a really nice base to your eyelids for your eyeshadow.It does blend out really nice.It's not super, super thick, like a paste.It just warms up. for eyeshadows, there weren't too many standouts that I used throughout the year, but this is the one brand I just kept coming back to in these two shades.This is the e.l.f., their Bite-Sized eyeshadow palette.They stay on all day with a really good eyeshadow primer, and they're just phenomenal, especially for the price.I'm gonna take my finger and go in with this beautiful metallic.It's a beautiful, pewter, taupey shade.I'm gonna take this shadow right here on a small little fluffy brush and work that into the crease and just help blend it all together, soften it up a little bit.I'm gonna take a little bit more of that metallic shade on a little brush (bottle spritzes) and get it wet.\n",
      "Product name: Eyeshadow elf Bite Size Palette (Truffles, Rose Water) \n",
      "Associated Chunk: I like Truffles and Rose Water. very versatile, different looks you can create. just very easy eyeshadows to work with. very pigmented, blendable.\n",
      "Product name: Gel Eyeliner Milani Stay Put Eyeliner \n",
      "Associated Chunk: I want a little bit more intensity. for eyeliner, I feel like, if it was a gel, I either stuck with Milani or Revlon. i really like Milani, their Stay Put eyeliner, honestly, in any shade that they have available, but I'm gonna use, today, After Dark, which is number one.It's just a nice matte black eyeliner, and this one, I like that it's super creamy.\n",
      "Product name: Mascara Primer L’Oreal Voluminous Primer \n",
      "Associated Chunk: It has that kohl consistency mixed in with gel, but it stays put once it sets, and I do like to work one eye at a time just because, like I said, once it sets, it sets, and I'm just using an angled brush to give a nice wing For mascara primer, classic, L'Oreal Voluminous Primer.I rediscovered it this year again, and it's just good. gets the job done. i do like to let it get tacky a little bit before the mascara to give it some kind of grip, but it's just a classic mascara primer. for mascara, this should be no surprise, (laughs) Maybelline Lash Sensational mascara.I've tried so many new mascaras from the drugstore this past year, and I found myself just going back to this one and just comparing everything to this mascara.It doesn't smudge on me, it doesn't transfer, it doesn't flake.It can flake if it's a very, very old tube, (laughs) just like any other mascara, but just something about this, it's so easy to layer and to build volume, but it also separates your lashes and it also lengthens your lashes at the same time, and I think it is definitely because of the wand, because of the bristles, the way the bristles are shaped.\n",
      "Product name: L'Oreal Voluminous Primer\n",
      "Associated Chunk: It has that kohl consistency mixed in with gel, but it stays put once it sets, and I do like to work one eye at a time just because, like I said, once it sets, it sets, and I'm just using an angled brush to give a nice wing For mascara primer, classic, L'Oreal Voluminous Primer.\n",
      "Product name: Cream Bronzer elf Putty Bronzer (Tan Lines) \n",
      "Associated Chunk: I really enjoy this mascara. for cream bronzer, this has to be no secret, e.l.f.Putty Bronzer in Tan Lines.It's just such a good (laughs) product, it's so good.It's one of my favorites from the drugstore, from pro-grade pricing to luxury.It's just so good.The only thing I will complain about is, if you're using a bigger brush, I wish this pot was a (laughs) little bigger, but you can use a smaller brush like this, and it fits perfectly in here.I like this color.I like the way it blends.I like that it's buildable, depending on how much product you pick up.I like that you can use it with a brush.I like that you can use it with a dampened sponge, with your fingers.I mean, you can just do so many things with this little product right here, and I actually do like the size of this product because it's a great for traveling, but it's also great to keep in your makeup bag, and it doesn't take up too much space.It's so good, and I like to stamp this product on with a brush. and I do use it to actually carve my cheekbones out And my face because I find that the color, it's that perfect warmth, but neutral, where it doesn't look dirty on my skin, and I do like to layer this product instead of going really heavy handed with it, just layer it and just place in areas where I need a little bit of definition.\n",
      "Product name: CC Cream\n",
      "Associated Chunk: I feel like e.l.f., in 2021, really stepped up their game with their CC Cream, with their bronzer, their blushes, I mean, their highlighters, their primers.\n",
      "Product name: Cream Blush Elf Putty Blush (Tahiti) \n",
      "Associated Chunk: They did a really good job. for cream blush, e.l.f., their Putty Blush in shade Tahiti.It looks intimidating, but just on the skin, it looks so pretty, and again, I like to apply this with more of a dense foundation brush.I'm just gonna work it into the brush and just start tapping this.2021 was the year of cream products for my skin, for my blush, for my contour, for my bronzer, for the highlighter, but I do like to top it with a powder product on top just to add longevity. but you can see, just working a tiny little bit, it just brings back life onto my cheeks, but in just that perfectly, I don't know.This blush right here is so easy to work with and layer. for my powder, contour/bronzer, Juvia's Place.This has a special place in my heart.\n",
      "Product name: Bronzer Juvia’s Place Bronzer Palette (Light) \n",
      "Associated Chunk: This is their bronzer palette in shade Light.I like that I can use this for my skin tone when I'm pale and when I have a little bit more of a tan, but I do like to actually mix the two shades together just to get more of a custom shade for my skin.This powder is just so easy to work with.I like how soft and buttery and how blendable, how buildable the shades are, just so easy to work with, and I've used this with so many different bases, and it just works with everything.\n",
      "Product name: Blush Milani Powder Blush (Blossomtime Rose) \n",
      "Associated Chunk: I haven't found one product that it hasn't worked with. for my powder blush, this is the one in this particular shade.Milani, and this is their Powder Blush in shade number 11, Blossomtime Rose.I have, I think, two backups (laughs) of this because I love it so much.It has, I don't know if you can even see with the light, it has this iridescent, two-dimensional tone to it.It's peachy, it's rosy.It's so stunning with hint of a little bit of a gold sheen to it.It's so pretty.\n",
      "Product name: Highlighter Catrice More Than Glow Highlighter (Supreme Rose Beam) \n",
      "Associated Chunk: Oh my gosh, it's so pretty, and it's so easy to use, and just the way it sits on top of my cheeks, it doesn't exaggerate anything, but it just adds something special to my cheekbones on top of any blush. for highlighter, Catrice More Than Glow highlighter in shade number 20, Supreme Rose Beam.This right here, it's such an oldie, but a goodie, and it's just one of my favorites.I find that it gives the perfect iciness and a highlighter look to your face without looking dry, without exaggerating any kind of texture on my skin, and I do like this color, as well.It's definitely a little bit more icy and pink and more cool-toned, but I find that a little goes a long way and it really balances out everything else on my face.It balances everything out, and it's a very easy highlighter to use.I mean, you can make it look super wet and dewy, or you can really just tone it down.I like to use it with a brush first and then go in with my dampened sponge.\n",
      "Product name: Lip Liner NYX Lip Pencil (Nude Truffle) \n",
      "Associated Chunk: I tried so many lip products out from the drugstore, from luxury down to mid-grade, and I found that, this past year, having Emorett and just wanting to just cuddle and kiss him, I didn't wear too many lip products besides a good lip liner and either a lip gloss, a lip oil, or a lip balm.That's (laughs) what I really gravitated towards on an everyday basis, so for lip liners from the drugstore, these two are here on my favorites in these shades.The first one is by NYX, and this right here is their lip pencil in shade N Truffle.I like this one so much.I repurchased this one so many times.\n",
      "Product name: Lip Liner Milani Color Statement Lip Liner (04 All Natural) \n",
      "Associated Chunk: It's just a really good everyday neutral beige lip liner (laughs) that you can go really intense with to just outline and really color in your lips, or just do really soft strokes on your lips and just get the most minimal amount of color, but your lips still look really beautiful, defined, and just full of life. and then the other one, this right here is by Milani.This is their Color Statement Lipliner in shade number four, All Natural.I find that this one's a little bit more rosy instead of more n and more beigey with the NYX.It just depends what kind of lip statement you wanna go with, but I find that these two lip pencils, the formula is really stunning.They last all day long, and they're very easy to pair with so many lip colors, depending what color you're going with.\n",
      "Product name: Lip Gloss Milani Keep it Full Maxxx Lip Plumper (110 Little Secret) \n",
      "Associated Chunk: Let's go with Milani. honestly, I would just go like this, And just really softly blend it to the center of my lips, but it's like my lip color, but a little bit warmer and deeper. for lip gloss, (laughs) this right here is what I really liked from the drugstore.I love how big (laughs) and jumbo this is, and I like the shade 110, Little Secret.It has a good amount of pigment to it.I like the sensation that it gives.It's not super, super plumping, where it just feels uncomfortable, but it makes your lips just look really luscious and delicious.I'm gonna leave it here.\n",
      "Product name: Maxxx Nourishing Lip Plumper\n",
      "Associated Chunk: It's the Milani and it's their Keep It Full, their Maxxx Nourishing Lip Plumper. i really like this one a lot.\n"
     ]
    }
   ],
   "source": [
    "#For each product, find the sentences that contain mention of the product and join them together to form a segment\n",
    "\n",
    "product_review_dict = transcript_segmenter.segment_transcript(filtered_product_lst, resolved_lst, sample_sentences)\n",
    "for k, v in product_review_dict.items():\n",
    "  original_chunk = v[\"original\"].replace(\"\\n\", \" \")\n",
    "  print(f\"Product name: {k}\")\n",
    "  print(f\"Associated Chunk: {original_chunk}\")"
   ]
  }
 ],
 "metadata": {
  "colab": {
   "authorship_tag": "ABX9TyOXkH9/nt3mYXrJCbKS8cYt",
   "provenance": [
    {
     "file_id": "1n3UKjT3OQQhgSSzgPXVV41cPLm1VcYci",
     "timestamp": 1678521039732
    },
    {
     "file_id": "1vM36DwbvXyWlAIjmbVfevvtOh-ZNUeuj",
     "timestamp": 1678340160592
    },
    {
     "file_id": "1NnueS5Mm9Ashjv8CZ8srV-Po8Wi-4Tc3",
     "timestamp": 1677679513975
    }
   ]
  },
  "kernelspec": {
   "display_name": "Python 3",
   "language": "python",
   "name": "python3"
  },
  "language_info": {
   "codemirror_mode": {
    "name": "ipython",
    "version": 3
   },
   "file_extension": ".py",
   "mimetype": "text/x-python",
   "name": "python",
   "nbconvert_exporter": "python",
   "pygments_lexer": "ipython3",
   "version": "3.8.8"
  }
 },
 "nbformat": 4,
 "nbformat_minor": 1
}
