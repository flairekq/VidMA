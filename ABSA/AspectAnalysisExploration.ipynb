{
 "cells": [
  {
   "cell_type": "code",
   "execution_count": 104,
   "metadata": {
    "executionInfo": {
     "elapsed": 594,
     "status": "ok",
     "timestamp": 1679817824443,
     "user": {
      "displayName": "bel hello",
      "userId": "14145485794765337692"
     },
     "user_tz": -480
    },
    "id": "qMvZUdHqAJ99"
   },
   "outputs": [],
   "source": [
    "from google.colab import drive\n",
    "import os\n",
    "import pandas as pd"
   ]
  },
  {
   "cell_type": "code",
   "execution_count": 106,
   "metadata": {
    "executionInfo": {
     "elapsed": 5,
     "status": "ok",
     "timestamp": 1679817827844,
     "user": {
      "displayName": "bel hello",
      "userId": "14145485794765337692"
     },
     "user_tz": -480
    },
    "id": "2-g7y5LOl6K0"
   },
   "outputs": [],
   "source": [
    "current_directory = \"/data\"\n",
    "os.chdir(current_directory)"
   ]
  },
  {
   "cell_type": "code",
   "execution_count": null,
   "metadata": {
    "id": "hCuoWxrZVf0I"
   },
   "outputs": [],
   "source": [
    "!pip install ntlk\n",
    "!pip install num2words\n",
    "!pip install fuzzywuzzy\n",
    "!pip install python-Levenshtein\n",
    "!pip install textblob"
   ]
  },
  {
   "cell_type": "code",
   "execution_count": 110,
   "metadata": {
    "executionInfo": {
     "elapsed": 297,
     "status": "ok",
     "timestamp": 1679817890632,
     "user": {
      "displayName": "bel hello",
      "userId": "14145485794765337692"
     },
     "user_tz": -480
    },
    "id": "DJxa8D2k_qsg"
   },
   "outputs": [],
   "source": [
    "import pandas as pd\n",
    "import numpy as np\n",
    "\n",
    "import nltk\n",
    "from nltk.corpus import stopwords\n",
    "from nltk.corpus import wordnet\n",
    "from nltk.stem.wordnet import WordNetLemmatizer \n",
    "from nltk.stem import PorterStemmer\n",
    "from nltk import word_tokenize, sent_tokenize, pos_tag, ne_chunk\n",
    "from nltk import RegexpParser\n",
    "from nltk import Tree\n",
    "\n",
    "import textblob\n",
    "from textblob import TextBlob\n",
    "import re\n",
    "import num2words\n",
    "import json\n",
    "from fuzzywuzzy import utils"
   ]
  },
  {
   "cell_type": "code",
   "execution_count": null,
   "metadata": {
    "id": "2lm2HNfGVwuF"
   },
   "outputs": [],
   "source": [
    "nltk.download('stopwords')\n",
    "nltk.download('punkt')\n",
    "nltk.download('averaged_perceptron_tagger')\n",
    "nltk.download('wordnet')\n",
    "nltk.download('omw-1.4')\n",
    "nltk.download('maxent_ne_chunker')\n",
    "nltk.download('words')"
   ]
  },
  {
   "cell_type": "markdown",
   "metadata": {
    "id": "ntIFHR7mUQhu"
   },
   "source": [
    "Intialise Classes for Product Review Identification and Segmentation"
   ]
  },
  {
   "cell_type": "code",
   "execution_count": null,
   "metadata": {
    "id": "ldbe3A957Aol"
   },
   "outputs": [],
   "source": [
    "!pip install transformers\n",
    "!pip install sentencepiece\n",
    "!pip install deepmultilingualpunctuation\n",
    "from deepmultilingualpunctuation import PunctuationModel"
   ]
  },
  {
   "cell_type": "code",
   "execution_count": null,
   "metadata": {
    "id": "QRYvj2Fp_RX2"
   },
   "outputs": [],
   "source": [
    "#For segmentation of transcript into product reviews\n",
    "!pip install ruptures\n",
    "!pip install sentence_transformers\n",
    "import ruptures as rpt\n",
    "from ruptures.base import BaseCost\n",
    "from sentence_transformers import SentenceTransformer, util"
   ]
  },
  {
   "cell_type": "code",
   "execution_count": 8,
   "metadata": {
    "executionInfo": {
     "elapsed": 15,
     "status": "ok",
     "timestamp": 1679807106189,
     "user": {
      "displayName": "bel hello",
      "userId": "14145485794765337692"
     },
     "user_tz": -480
    },
    "id": "Mxf-bQqS7KZr"
   },
   "outputs": [],
   "source": [
    "import math\n",
    "\n",
    "class ProductIdentifier:\n",
    "  def __init__(self):\n",
    "    pass\n",
    "\n",
    "  def remove_non_ascii(self, text):\n",
    "    return re.sub(r'[^\\x00-\\x7F]+',' ', text)\n",
    "\n",
    "  def GetNounsWithNLTK(self, text, chunk_func=ne_chunk):\n",
    "    chunked = chunk_func(pos_tag(word_tokenize(text)))\n",
    "    continuous_chunk = []\n",
    "    current_chunk = []\n",
    "\n",
    "    for subtree in chunked:\n",
    "      if type(subtree) == Tree:\n",
    "        current_chunk.append(\" \".join([token for token, pos in subtree.leaves()]))\n",
    "      elif current_chunk:\n",
    "        named_entity = \" \".join(current_chunk)\n",
    "        if named_entity not in continuous_chunk:\n",
    "          continuous_chunk.append(named_entity)\n",
    "          current_chunk = []\n",
    "      else:\n",
    "        continue\n",
    "\n",
    "    return continuous_chunk\n",
    "\n",
    "  def get_uppercased_word_series(self, text):\n",
    "    temp_lst = []\n",
    "    uppercased_word_lst = []\n",
    "    word_lst = nltk.word_tokenize(text)\n",
    "    for i in range(len(word_lst)):\n",
    "      word = word_lst[i]\n",
    "      starts_with_uppercase = word[0].isupper()\n",
    "      if starts_with_uppercase:\n",
    "        temp_lst.append(word)\n",
    "        if (i == len(word_lst)-1):\n",
    "          if len(temp_lst) >= 2:\n",
    "            uppercased_word_lst.append(\" \".join(temp_lst))\n",
    "        continue\n",
    "      else:\n",
    "        if len(temp_lst) >= 2:\n",
    "          uppercased_word_lst.append(\" \".join(temp_lst))\n",
    "        temp_lst = []\n",
    "    return list(set(uppercased_word_lst))\n",
    "\n",
    "  def Check_If_NP_Is_Known_Product(self,np, product_lexicon):\n",
    "    for product in product_lexicon:\n",
    "      if np == product:\n",
    "        return True\n",
    "    return False\n",
    "\n",
    "  def Check_If_NP_Has_Product_Indicator(self, np, product_indicators):\n",
    "    for product in product_indicators:\n",
    "      similarity = fuzz.partial_ratio(np.lower(),product.lower())\n",
    "      if similarity >= 80:\n",
    "        return True\n",
    "    return False\n",
    "\n",
    "  def Check_If_NP_Is_Product(self, np, product_indicators, product_lexicon):\n",
    "    if self.Check_If_NP_Is_Known_Product(np, product_lexicon):\n",
    "      return True\n",
    "    elif self.Check_If_NP_Has_Product_Indicator(np, product_indicators):\n",
    "      return True\n",
    "    else:\n",
    "      return False\n",
    "\n",
    "  def is_not_substring_of_another_product(self,product, product_lst):\n",
    "    for comparison_product in product_lst:\n",
    "      if product.lower() == comparison_product.lower():\n",
    "        continue\n",
    "      if product.lower() in comparison_product.lower():\n",
    "        return False\n",
    "    return True\n",
    "\n",
    "  def detect_products_from_transcript(self, text, product_indicators, product_lexicon):\n",
    "    #sometimes nltk ne chunker misses out\n",
    "    nouns_in_transcript = self.GetNounsWithNLTK(text)\n",
    "    #parse for a series of uppercase\n",
    "    uppercased_series_lst = self.get_uppercased_word_series(text)\n",
    "\n",
    "    #nouns_in_transcript.extend(np_lst)\n",
    "    nouns_in_transcript.extend(uppercased_series_lst)\n",
    "\n",
    "    #only keep if len > 2 \n",
    "    nouns_in_transcript = list(filter(lambda noun_phrase: len(nltk.word_tokenize(noun_phrase))>=2, nouns_in_transcript))\n",
    "\n",
    "    #keep if match with brand name or contain a product term\n",
    "    nouns_in_transcript = list(filter(lambda noun_phrase: self.Check_If_NP_Is_Product(noun_phrase, product_indicators, product_lexicon), nouns_in_transcript))\n",
    "\n",
    "    #filter the products\n",
    "    nouns_in_transcript = list(filter(lambda product: self.is_not_substring_of_another_product(product, nouns_in_transcript), nouns_in_transcript))\n",
    "\n",
    "    return list(set(nouns_in_transcript))\n",
    "\n",
    "\n",
    "  def contains_url(self,text):\n",
    "    regex = r\"(?i)\\b((?:https?://|www\\d{0,3}[.]|[a-z0-9.\\-]+[.][a-z]{2,4}/)(?:[^\\s()<>]+|\\(([^\\s()<>]+|(\\([^\\s()<>]+\\)))*\\))+(?:\\(([^\\s()<>]+|(\\([^\\s()<>]+\\)))*\\)|[^\\s`!()\\[\\]{};:'\\\".,<>?«»“”‘’]))\"\n",
    "    url = re.findall(regex, text)\n",
    "    if url != []:\n",
    "      return True\n",
    "    else:\n",
    "      return False\n",
    "\n",
    "  def remove_url(self,text):\n",
    "    regex = r\"(?i)\\b((?:https?://|www\\d{0,3}[.]|[a-z0-9.\\-]+[.][a-z]{2,4}/)(?:[^\\s()<>]+|\\(([^\\s()<>]+|(\\([^\\s()<>]+\\)))*\\))+(?:\\(([^\\s()<>]+|(\\([^\\s()<>]+\\)))*\\)|[^\\s`!()\\[\\]{};:'\\\".,<>?«»“”‘’]))\"\n",
    "    removed_url_text = re.sub(regex, \"\", text)\n",
    "    return removed_url_text\n",
    "\n",
    "  def clean_desc(self,text):\n",
    "    text = text.replace(\":\", \"\")\n",
    "    text = text.replace(\"*\", \"\")\n",
    "    text = self.remove_non_ascii(text)\n",
    "    text = self.remove_url(text)\n",
    "    text = re.sub(r'#\\S+', '', text)\n",
    "    text = text.replace(\"https\",\"\")\n",
    "    return text.strip()\n",
    "\n",
    "  def GetNounPhrasesWithSyntaxRules(self, text):\n",
    "    nounphrases = []\n",
    "    words = nltk.word_tokenize(text)\n",
    "    tagged = nltk.pos_tag(words)\n",
    "    chunk_name_lst = [\"NP\"]\n",
    "    grammar = r\"\"\"  NP:\n",
    "              {<NN|NNS|NNP|NNPS>+}\n",
    "          \"\"\"\n",
    "    chunkParser=nltk.RegexpParser(grammar)\n",
    "    tree = chunkParser.parse(tagged)\n",
    "    for subtree in tree.subtrees(filter=lambda t: t.label() in chunk_name_lst):\n",
    "        myPhrase = ''\n",
    "        for item in subtree.leaves():\n",
    "            myPhrase += ' ' + item[0]\n",
    "        nounphrases.append(myPhrase.strip())\n",
    "    nounphrases = list(filter(lambda x: len(x.split()) > 1, nounphrases))\n",
    "    return nounphrases\n",
    "  \n",
    "  def GetNPWithSyntaxRules(self, text):\n",
    "    nounphrases = []\n",
    "    words = nltk.word_tokenize(text)\n",
    "    tagged = nltk.pos_tag(words)\n",
    "    chunk_name_lst = [\"NP\",\"Product\"]\n",
    "    grammar = r\"\"\"  NP:\n",
    "              {<NN|NNS|NNP|NNPS>+}\n",
    "              Product:\n",
    "              {<NN.*|NNS.*|NNP.*|NNPS.*><NN|VBZ|JJ|JJS|JJR|NNS|NNP|NNPS|VBD|CD|RB>+}\n",
    "          \"\"\"\n",
    "    chunkParser=nltk.RegexpParser(grammar)\n",
    "    tree = chunkParser.parse(tagged)\n",
    "    for subtree in tree.subtrees(filter=lambda t: t.label() in chunk_name_lst):\n",
    "        myPhrase = ''\n",
    "        for item in subtree.leaves():\n",
    "            myPhrase += ' ' + item[0]\n",
    "        nounphrases.append(myPhrase.strip())\n",
    "    nounphrases = list(filter(lambda x: len(x.split()) > 1, nounphrases))\n",
    "    return nounphrases\n",
    "\n",
    "  def get_products_from_desc(self,description):\n",
    "    if description == None:\n",
    "      return []\n",
    "    split_desc = description.split(\"\\n\")\n",
    "    #set higher threshold because even if e.g. \"mal\" \"ibu\" match seperately -- it raises the match score\n",
    "    products = []\n",
    "    for sent in split_desc:\n",
    "      if sent != \"\":\n",
    "        products.extend(self.GetNPWithSyntaxRules(sent))\n",
    "    products = [self.clean_desc(txt) for txt in products]\n",
    "    products = list(filter(lambda txt: self.Check_If_NP_Is_Product(txt, product_indicators, product_lexicon),products))\n",
    "    products = list(filter(lambda txt: self.is_not_substring_of_another_product(txt,products),products))\n",
    "    return products\n",
    "  \n",
    "  def detect_products(self,text,description,product_indicators, product_lexicon):\n",
    "    #filtered_transcript_product_lst = self.detect_products_from_transcript(text, product_indicators, product_lexicon)\n",
    "    filtered_transcript_product_lst = self.get_products_from_desc(description)\n",
    "    #filtered_transcript_product_lst.extend(filtered_desc_product_lst)\n",
    "    filtered_product_lst = list(filter(lambda txt: self.is_not_substring_of_another_product(txt,filtered_transcript_product_lst),filtered_transcript_product_lst))\n",
    "    filtered_product_lst = list(set(filtered_product_lst))\n",
    "    return filtered_product_lst\n",
    "\n",
    "class CoreferenceResolver:\n",
    "  def __init__(self):\n",
    "    self.product_identifier = ProductIdentifier()\n",
    "  \n",
    "  def GetCoreferenceWithSyntaxRules(self,text):\n",
    "    coref = []\n",
    "    words = nltk.word_tokenize(text)\n",
    "    tagged = nltk.pos_tag(words)\n",
    "    chunk_name_lst = [\"DT\",\"DT Ref\"]\n",
    "    grammar = r\"\"\"\n",
    "              DT Ref:\n",
    "              {<DT><CD>}\n",
    "          \"\"\"\n",
    "    chunkParser=nltk.RegexpParser(grammar)\n",
    "    tree = chunkParser.parse(tagged)\n",
    "    for subtree in tree.subtrees(filter=lambda t: t.label() in chunk_name_lst):\n",
    "      myPhrase = ''\n",
    "      for item in subtree.leaves():\n",
    "        myPhrase += ' ' + item[0]\n",
    "      coref.append(myPhrase.strip())\n",
    "    coref = list(filter(lambda x: len(x.split()) > 1, coref))\n",
    "    filtered_coref = list(set(coref))\n",
    "    return filtered_coref\n",
    "\n",
    "  def replace_all(self, text, dic):\n",
    "    for i, j in dic.items():\n",
    "        text = re.sub(r\"\\b%s\\b\" % i, j, text)\n",
    "        # r\"\\b%s\\b\"% enables replacing by whole word matches only\n",
    "    return text\n",
    "\n",
    "  def detect_matching_product_name(self, sentence, product_lst,product_indicators, product_lexicon):\n",
    "    np_lst = self.product_identifier.GetNPWithSyntaxRules(sentence)\n",
    "    for np in np_lst:\n",
    "      for product in product_lst:\n",
    "        similarity_with_identified_products = fuzz.partial_ratio(np.lower(),product.lower())\n",
    "        if similarity_with_identified_products >= 80 or np in product:\n",
    "          return (np,product)\n",
    "    for np in np_lst:\n",
    "      if self.product_identifier.Check_If_NP_Is_Product(np, product_indicators, product_lexicon):\n",
    "        return (np,np)\n",
    "    return None\n",
    "\n",
    "\n",
    "  def resolve(self, sample_sentences, product_lst, product_indicators, product_lexicon):\n",
    "    curr_product_name = None\n",
    "    resolved_combined_sentence_list = []\n",
    "    for sentence in sample_sentences:\n",
    "      #update current product name\n",
    "      potentially_new_product_name_pair = self.detect_matching_product_name(sentence, product_lst,product_indicators, product_lexicon)\n",
    "      if potentially_new_product_name_pair != None and potentially_new_product_name_pair != curr_product_name:\n",
    "        #must identify the product name better\n",
    "        phrase = potentially_new_product_name_pair[0]\n",
    "        curr_product_name = potentially_new_product_name_pair[1]\n",
    "        #pos_tag sentence --> assign determiners after the product name to the product name\n",
    "        substr_before_product = sentence.split(phrase,1)[0] + curr_product_name\n",
    "        substr_after_product = sentence.split(phrase,1)[-1]\n",
    "        replacements = {'This':curr_product_name,'this':curr_product_name,'it':curr_product_name, 'It':curr_product_name}\n",
    "        substr_after_product = self.replace_all(substr_after_product, replacements)\n",
    "        resolved_combined_sentence_list.append(substr_before_product + substr_after_product)\n",
    "      \n",
    "      elif curr_product_name != None:\n",
    "        #replace all references with the curr_product_name\n",
    "        replacements = {'This':curr_product_name,'this':curr_product_name,'it':curr_product_name, 'It':curr_product_name}\n",
    "        sentence = self.replace_all(sentence, replacements)\n",
    "        resolved_combined_sentence_list.append(sentence)\n",
    "      \n",
    "      else:\n",
    "        resolved_combined_sentence_list.append(sentence)\n",
    "    \n",
    "    return resolved_combined_sentence_list\n",
    "\n",
    "  def resolve_sentences(self,sample_sentences, product_lst,product_indicators, product_lexicon):\n",
    "    sample_sentences = [sentence.replace(\"\\n\", \" \") for sentence in sample_sentences]\n",
    "    resolved_list = self.resolve(sample_sentences, product_lst,product_indicators, product_lexicon)\n",
    "    return resolved_list\n",
    "\n",
    "#Define cost function for segmentation\n",
    "class CosineCost(BaseCost):\n",
    "    \"\"\"Cost derived from the cosine similarity.\"\"\"\n",
    "\n",
    "    # The 2 following attributes must be specified for compatibility.\n",
    "    model = \"custom_cosine\"\n",
    "    min_size = 2\n",
    "\n",
    "    def fit(self, signal):\n",
    "        \"\"\"Set the internal parameter.\"\"\"\n",
    "        self.signal = signal\n",
    "        self.gram = util.cos_sim(signal, signal)\n",
    "        return self\n",
    "\n",
    "    def error(self, start, end) -> float:\n",
    "        \"\"\"Return the approximation cost on the segment [start:end].\n",
    "\n",
    "        Args:\n",
    "            start (int): start of the segment\n",
    "            end (int): end of the segment\n",
    "        Returns:\n",
    "            segment cost\n",
    "        Raises:\n",
    "            NotEnoughPoints: when the segment is too short (less than `min_size` samples).\n",
    "        \"\"\"\n",
    "        if end - start < self.min_size:\n",
    "            raise NotEnoughPoints\n",
    "        sub_gram = self.gram[start:end, start:end]\n",
    "        val = sub_gram.diagonal().sum()\n",
    "        val -= sub_gram.sum() / (end - start)\n",
    "        return val\n",
    "\n",
    "class TranscriptSegmenter:\n",
    "  def __init__(self):\n",
    "    self.product_identifier = ProductIdentifier()\n",
    "    self.coreference_resolver = CoreferenceResolver()\n",
    "    self.punctuator = PunctuationModel()\n",
    "    self.segmentation_cost_function_class = CosineCost()\n",
    "    self.sentence_embedding_model = SentenceTransformer('all-MiniLM-L6-v2')\n",
    "\n",
    "  def further_split_sentence(self, nltk_sent_tokenized_list):\n",
    "    #use punctuator to improve splitting\n",
    "    final_sent_lst = []\n",
    "    for sent in nltk_sent_tokenized_list:\n",
    "      punctuated_sent = self.punctuator.restore_punctuation(sent)\n",
    "      split_sent = punctuated_sent.split(\".\")\n",
    "      final_sent_lst.extend(split_sent)\n",
    "    return final_sent_lst\n",
    "\n",
    "  def get_sentence_list_from_transcript(self, transcript):\n",
    "    transcript = self.product_identifier.remove_non_ascii(transcript)\n",
    "    phrases = self.further_split_sentence(nltk.sent_tokenize(transcript))\n",
    "    if len(phrases) == 0:\n",
    "      return []\n",
    "    phrases = list(filter(lambda phrase: phrase != \"\", phrases))\n",
    "    pos_tagged = [pos_tag(nltk.word_tokenize(sentence.lower())) for sentence in phrases]\n",
    "    new_combined_sentence_list = [\"\"]\n",
    "    for i in range(len(phrases)):\n",
    "      tagged_phrase = pos_tagged[i]\n",
    "      tag_of_first_word = tagged_phrase[0][1]\n",
    "      conjunctions_lst = [\"IN\", \"CC\", \"WDT\", \"TO\", \"WRB\", \"VBG\", \"VBZ\", \"RB\"]\n",
    "      end_lst = [\"IN\", \"CC\", \"WDT\", \"TO\", \"WRB\", \"VBG\", \"VBZ\", \"DT\", \"RB\"]\n",
    "      join_sentence = False\n",
    "      if i >= 1:\n",
    "        last_tag_in_prev_sentence = pos_tagged[i-1][-1][1]\n",
    "        if last_tag_in_prev_sentence in end_lst:\n",
    "          join_sentence = True\n",
    "      if tag_of_first_word in conjunctions_lst:\n",
    "        join_sentence = True\n",
    "\n",
    "      if join_sentence:\n",
    "        #lowercase the first letter to reduce noise when doing NP identification e.g. \"Which is so beautiful\" --> Which to which\n",
    "        sub_clause = phrases[i].replace(phrases[i][0],phrases[i][0].lower(),1)\n",
    "        new_combined_sentence_list[-1] = new_combined_sentence_list[-1] + \" \" + sub_clause\n",
    "      else:\n",
    "        new_combined_sentence_list.append(phrases[i])\n",
    "    return new_combined_sentence_list\n",
    "\n",
    "  def segment_transcript_ruptures(self, filtered_product_lst, resolved_sentences, original_sentences, product_indicators, product_lexicon):\n",
    "    #Find breaks where similarity between chunks is the lowest\n",
    "    num_products = len(filtered_product_lst)\n",
    "    embeddings = self.sentence_embedding_model.encode(resolved_sentences, convert_to_tensor=True)\n",
    "    n_bkps = num_products-1+2  # e.g. there are 9 change points (10 text segments) + intro and outrp\n",
    "    min_size = 2\n",
    "    jump = 1\n",
    "    #to create valid segmentation paramters\n",
    "    if n_bkps > len(embeddings) or n_bkps * math.ceil(min_size/ jump) * jump + min_size > len(embeddings): \n",
    "      n_bkps = round(math.ceil(min_size/ jump) * jump + min_size)\n",
    "    algo = rpt.Dynp(custom_cost=self.segmentation_cost_function_class, min_size=min_size, jump=jump).fit(embeddings)\n",
    "    predicted_bkps = algo.predict(n_bkps=n_bkps)\n",
    "    iteration_lst = predicted_bkps\n",
    "    iteration_lst.insert(0, 0)\n",
    "\n",
    "    chunk_lst = []\n",
    "    product_review_dict = {}\n",
    "    for i in range(len(iteration_lst)-1):\n",
    "      chunk_resolved = \" \".join(resolved_sentences[iteration_lst[i]:iteration_lst[i+1]])\n",
    "      chunk_org = \" \".join(original_sentences[iteration_lst[i]:iteration_lst[i+1]])\n",
    "      product = self.coreference_resolver.detect_matching_product_name(chunk_resolved, filtered_product_lst,product_indicators, product_lexicon)\n",
    "      if product != None:\n",
    "        product_review_dict[product[1]] = {\"original\":chunk_org}\n",
    "    return product_review_dict\n",
    "\n",
    "  def segment_transcript(self, filtered_product_lst, resolved_list, new_combined_sentence_list):\n",
    "    product_review_dict = {}\n",
    "    for i in range(len(resolved_list)):\n",
    "      resolved_sentence = resolved_list[i]\n",
    "      for product in filtered_product_lst:\n",
    "        if product in resolved_sentence:\n",
    "          if product in product_review_dict:\n",
    "            #product_review_dict[product][\"resolved\"] = product_review_dict[product][\"resolved\"] + resolved_sentence\n",
    "            product_review_dict[product][\"original\"] = product_review_dict[product][\"original\"] + new_combined_sentence_list[i]\n",
    "          else:\n",
    "            product_review_dict[product] = {\"original\":new_combined_sentence_list[i]}\n",
    "    \n",
    "    return product_review_dict\n",
    "\n",
    "  def split_transcript_by_detected_products(self, review_dict, product_indicators, product_lexicon):\n",
    "    transcript = review_dict[\"transcript_text\"]\n",
    "    description = review_dict[\"description\"]\n",
    "    filtered_product_lst = self.product_identifier.detect_products(transcript, description, product_indicators, product_lexicon)\n",
    "    sample_sentences = self.get_sentence_list_from_transcript(transcript)\n",
    "    resolved_lst = self.coreference_resolver.resolve_sentences(sample_sentences, filtered_product_lst,product_indicators, product_lexicon)\n",
    "    #product_review_dict = self.segment_transcript(filtered_product_lst, resolved_lst, sample_sentences)\n",
    "    product_review_dict = self.segment_transcript_ruptures(filtered_product_lst, resolved_lst, sample_sentences, product_indicators, product_lexicon)\n",
    "    return product_review_dict\n",
    "\n",
    "  #Case of video having chapters\n",
    "\n",
    "  def process_raw_transcript(self, raw_transcript):\n",
    "    text_list = [segment[\"text\"] for segment in raw_transcript]\n",
    "    text = \" \".join(text_list)\n",
    "    text = re.sub(\"\\n\", \" \", text)\n",
    "    #remove non-ascii characters -- to remove foreign lang characters\n",
    "    text = self.product_identifier.remove_non_ascii(text)\n",
    "    return text\n",
    "\n",
    "  def split_transcript_by_chapters(self, raw_transcript, chapters):\n",
    "    starts = [round(segment[\"start\"]) for segment in raw_transcript]\n",
    "    product_review_dict = {}\n",
    "    chapter_index_list = []\n",
    "    for chapter in chapters:\n",
    "      time_in_sec = round(chapter[\"time_in_min\"] * 60)\n",
    "      #get a index list of chapters \n",
    "      new_insertion_index = bisect.bisect_left(starts, time_in_sec)\n",
    "      chapter_index_list.append(new_insertion_index)\n",
    "    chapter_index_list.append(len(raw_transcript)-1)\n",
    "    for i in range(len(chapter_index_list)-1):\n",
    "      title = chapters[i][\"title\"]\n",
    "      start_index = chapter_index_list[i]\n",
    "      end_index = chapter_index_list[i+1]\n",
    "      original_raw_transcript = self.process_raw_transcript(raw_transcript[start_index:end_index])\n",
    "      sample_sentences = [segment[\"text\"] for segment in raw_transcript[start_index:end_index]]\n",
    "      #resolved_raw_transcript = self.coreference_resolver.resolve_sentences(sample_sentences, [title])\n",
    "      product_review_dict[title] = {\"original\":original_raw_transcript}\n",
    "    return product_review_dict\n",
    "\n",
    "\n",
    "  def get_product_review_dict(self, review_dict, product_indicator, product_lexicon):\n",
    "    chapters = sample_review_dict[\"chapters\"]\n",
    "    product_review_dict = {}\n",
    "    if chapters == []:\n",
    "      product_review_dict = self.split_transcript_by_detected_products(review_dict, product_indicator, product_lexicon)\n",
    "    else:\n",
    "      raw_transcript = sample_review_dict[\"transcript_raw\"]\n",
    "      product_review_dict = self.split_transcript_by_chapters(raw_transcript, chapters)\n",
    "    return product_review_dict\n"
   ]
  },
  {
   "cell_type": "markdown",
   "metadata": {
    "id": "jWQZZLavdKXK"
   },
   "source": [
    "Load a sample review from Youtube Data for experimentation"
   ]
  },
  {
   "cell_type": "code",
   "execution_count": 9,
   "metadata": {
    "executionInfo": {
     "elapsed": 14,
     "status": "ok",
     "timestamp": 1679807106189,
     "user": {
      "displayName": "bel hello",
      "userId": "14145485794765337692"
     },
     "user_tz": -480
    },
    "id": "6T73mlgljGzM"
   },
   "outputs": [],
   "source": [
    "import bisect\n",
    "import json\n",
    "from fuzzywuzzy import fuzz"
   ]
  },
  {
   "cell_type": "code",
   "execution_count": 10,
   "metadata": {
    "executionInfo": {
     "elapsed": 13,
     "status": "ok",
     "timestamp": 1679807106189,
     "user": {
      "displayName": "bel hello",
      "userId": "14145485794765337692"
     },
     "user_tz": -480
    },
    "id": "vdlLE_u4gGbb"
   },
   "outputs": [],
   "source": [
    "#Load data scraped using various Youtube API\n",
    "with open('DemoData.json', 'r') as f:\n",
    "  reviews = json.load(f)"
   ]
  },
  {
   "cell_type": "code",
   "execution_count": 11,
   "metadata": {
    "colab": {
     "base_uri": "https://localhost:8080/"
    },
    "executionInfo": {
     "elapsed": 14,
     "status": "ok",
     "timestamp": 1679807106190,
     "user": {
      "displayName": "bel hello",
      "userId": "14145485794765337692"
     },
     "user_tz": -480
    },
    "id": "JdFk9WK-B8I9",
    "outputId": "9481a5ad-63c8-49ea-e744-14aaa54850a9"
   },
   "outputs": [
    {
     "data": {
      "text/plain": [
       "{'UKISS Volume Booster Lash Primer Mascara': {'original': 'It is cheap and easy to use\\n, this pink one from UKISS Eyelash primer\\nIt is a\\nfan-shaped brush and it is\\nalso black. after you apply it, it feels like a\\nvery light mascara,\\nbut it can keep your curls lasting all day long, and it\\nwill not faint or fall off.I feel It is\\nbetter\\nthan the Aidu yarn I used before.It\\nmakes your eyelashes distinct.I\\ncan feel at ease when I go\\nout with it, especially when\\n \\nI go out to play.'},\n",
       " 'Make Up For Ever MATTE VELVET SKIN COMPACT Y225': {'original': 'forever Changed make up for ever\\nMatte Velvet Skin\\nthis me I have used\\nmany boxes, and the\\niron sheet is the best proof.I can t think of a second\\nblemish eraser\\n. once you apply it on all your blemish lines, the\\nspots will disappear.The\\nonly and only flaw\\nI can find out about this powder\\nis that its oil control power is not very high\\n. so I recommend that you use the sandwich method,\\nloose powder and then loose powder\\n, so you can put on a layer of your favorite,\\nany transparent loose powder.I guarantee that it can make his makeup look 10 layers higher\\n. even in summer, oily skin doesn t\\nhave to worry about oil.'},\n",
       " 'CATKIN SUMMER PALACE LIGHT LOOSE POWDER ': {'original': \"then I use this Catkin's loose powder, I think it s a complete replacement for NARS. whether it s\\nbrightening or oil control, there\\n s not much difference\\n.It s been revised and upgraded.I think it s an old version.\"},\n",
       " 'CLINIQUE Even Better All-Over Concealer': {'original': 'Let  s use concealer first to cover up some dark circles. for\\nsmall skin blemishes,\\nClinique  s Even Better Concealer\\nis too moisturizing and light, and\\nat the same time it is a medium-to-high concealer , especially under the eyes.Some essences\\nand antioxidant ingredients are added in it,\\nso I have never said that it makes my eyes dry , dry lines,\\nor dull skin after removing makeup.There is a sponge head in the\\n \\nfront . if you touch up makeup outside, you can use it to blend.This is WN01 flax, which looks\\nlike my face\\n.I have a little acne marks, and the acne marks on the\\ncheeks can also be covered with it.It\\nis a very versatile concealer.Use loose powder and loose powder to superimpose it like this.It s\\nnot a problem,\\nbecause we ve already used concealer,\\nso I ll use loose powder to set the eyes first,\\nso that it will be smoother when I put on the powder.It s like\\nabsorbing some oil to fill some skin lines\\n.'},\n",
       " 'Jane iredale Flocked Sponge Makeup Blender': {'original': \"It is the foundation of Jane Iredale's family,\\nmineral foundation The\\npowder puff is\\nsuper easy to use and super multi-functional.I use it to apply loose powder and powder .It is a sponge puff, but after applying makeup, you\\nThe skin is super clear, I don t think it s the accumulation of powder, I\\ncan evenly spread the powder on the face,\\nthis powder puff is so easy to use,\\nif you don t buy any base makeup products today,\\ngo buy\\na powder puff, it can save your old base makeup.\"},\n",
       " 'Physicians Formula Dream Team Palette Face Palette': {'original': 'It is a\\npowder product from Physicians Formula.The\\nfirst powder I used in college, the\\nfull concealer powder, is from their family. later, I bought this blue package and it is\\nalso very easy to use\\n \\n.It can create an almost full-concealer makeup.It is\\na substitute for make up for ever. then this year I used their products,\\nsuch as blush and contouring.'},\n",
       " 'Physicians Formula Murumuru Butter Bronzer Palette': {'original': 'I love the butter series of Murumuru\\nButter in this series . then\\n \\nthese color palettes are all limited color palettes.You can buy them without thinking\\nbecause it\\n s so worth it.The greatest hit is a bronzing palette.Wow, this\\ngrooming is so beautiful, it\\nbreaks my dirty impression of yellow grooming.This grooming looks like it was\\nsun -baked Bronze blush that\\nAsians can also use.This is also very good-looking\\nmurumuru butter blush.I use these two to superimpose a very\\nhealthy and natural red bean paste color. then this loose powder is not a loose powder\\nbut a powder cake.It evens out the skin tone and smoothes the skin, and it has a\\nparticularly good effect of reducing pores visually.It s\\nso easy to use.It s\\nvery beautiful. i hope I can buy a single one.It s called tropical sands\\n.'},\n",
       " 'Bobbi Brown Long-Wear Cream Eyeshadow Stick': {'original': \"I have recommended\\nBobbi Brown s golden pink\\nmany times.The\\nperfect eye socket\\nand the brightening of the front 1/3 of\\nthe eye can enlarge the eyes all at once. and people like us who wear contact lenses\\nI can't use sequined eye shadows.Every time\\nI use sequined eye shadows on the eye area\\n, there will always be powder flying into it,\\nand if you wear contact lenses, it will be very abrasive\\n. so now I basically use all\\neye shadows.\"},\n",
       " 'ROSE INC Satin & Shimmer Duet Powder & Cream': {'original': 'The eyeshadow\\n \\nI have been using before using Rose Inc\\nis also very good-looking.It is a super\\ncheap eyeliner.I have used it for many years and\\nbought one after another.It is not waterproof .'},\n",
       " 'NYX SLIM EYE PENCIL - Dark Brown': {'original': 'Let me\\nfirst say that if\\n \\nyour eyes are prone to dizziness like inner double eyeliner, it\\nmay not be suitable for it\\n, but if you just have a very daily\\nwork makeup and you don t want to look abrupt, if you\\nwant to draw a very natural brown eyeliner,\\nit is very suitable for\\nNYX The eye pencil\\nis a very traditional eyeliner.It is cut off\\nwith a pencil sharpener. basically, you have to sharpen it twice .It s dark brown\\n903.It\\n s super beautiful and looks good in everyday life\\n.I also like it because it s an ordinary pen\\nso it s very hard.It  s not the kind that breaks off when you draw it.No need I am worried that when you draw the inner eyeliner, if you accidentally\\ndraw it off or the scum falls into the eyes, it\\ncan save your unusable mascara.'},\n",
       " 'Pure Desire Lip Gloss': {'original': 'The\\nlip gloss is glossy and bright,\\nand it doesn t dry out the lips. after using\\nit for a few months, it feels very good\\n.05\\n\"Pure Desire Lip Gloss\" ceiling\\nis well-deserved.Beautiful pink,\\nvery juicy\\nmouth pouty, and\\na little lip plumping effect\\n, a bit cool on the upper lip,\\nbut not that kind\\n, you know, I used Buxom\\n s super mint before, it s not\\nsuper spicy,\\nit s very clear The cool feeling of this\\ncolor is really good .It looks good on any of your lipsticks.I like it very much.It is not the kind that is very sheer\\nDivine rose\\nis a pink lip gloss with a little shimmer.I often wear\\nthis color alone\\n.I usually\\ntake\\nmy children to school\\nor usually Going to the supermarket or something, I\\nseem to be using this color 80% of the time.Divine Rose\\nPat McGrath does not have a cool feeling,\\n \\nbut it also has the effect of\\nplumping the lips.'},\n",
       " 'PAT McGRATH LABS LUST Lip Gloss': {'original': \"Pat McGrath's covering power is very good.\"}}"
      ]
     },
     "execution_count": 11,
     "metadata": {},
     "output_type": "execute_result"
    }
   ],
   "source": [
    "video_id_lst = [video_id for video_id, review in reviews.items()]\n",
    "key = video_id_lst[0]\n",
    "sample_review_dict = reviews[key]\n",
    "sample_review_dict"
   ]
  },
  {
   "cell_type": "code",
   "execution_count": 12,
   "metadata": {
    "colab": {
     "base_uri": "https://localhost:8080/",
     "height": 70
    },
    "executionInfo": {
     "elapsed": 538,
     "status": "ok",
     "timestamp": 1679807106715,
     "user": {
      "displayName": "bel hello",
      "userId": "14145485794765337692"
     },
     "user_tz": -480
    },
    "id": "eDxzPrHyFs60",
    "outputId": "bb7aa596-b4ee-4429-e368-81e8c22fa03b"
   },
   "outputs": [
    {
     "data": {
      "application/vnd.google.colaboratory.intrinsic+json": {
       "type": "string"
      },
      "text/plain": [
       "'Let me\\nfirst say that if\\n \\nyour eyes are prone to dizziness like inner double eyeliner, it\\nmay not be suitable for it\\n, but if you just have a very daily\\nwork makeup and you don t want to look abrupt, if you\\nwant to draw a very natural brown eyeliner,\\nit is very suitable for\\nNYX The eye pencil\\nis a very traditional eyeliner.It is cut off\\nwith a pencil sharpener. basically, you have to sharpen it twice .It s dark brown\\n903.It\\n s super beautiful and looks good in everyday life\\n.I also like it because it s an ordinary pen\\nso it s very hard.It  s not the kind that breaks off when you draw it.No need I am worried that when you draw the inner eyeliner, if you accidentally\\ndraw it off or the scum falls into the eyes, it\\ncan save your unusable mascara.'"
      ]
     },
     "execution_count": 12,
     "metadata": {},
     "output_type": "execute_result"
    }
   ],
   "source": [
    "sample_review = sample_review_dict['NYX SLIM EYE PENCIL - Dark Brown'][\"original\"]\n",
    "sample_review"
   ]
  },
  {
   "cell_type": "markdown",
   "metadata": {
    "id": "vhc1l0DTcVfM"
   },
   "source": [
    "Initialise Code from PRI to reuse some useful functions in syntax parsing "
   ]
  },
  {
   "cell_type": "code",
   "execution_count": 15,
   "metadata": {
    "colab": {
     "base_uri": "https://localhost:8080/"
    },
    "executionInfo": {
     "elapsed": 37566,
     "status": "ok",
     "timestamp": 1679807219695,
     "user": {
      "displayName": "bel hello",
      "userId": "14145485794765337692"
     },
     "user_tz": -480
    },
    "id": "iDcmoMkdcQgc",
    "outputId": "7327c339-55e2-468c-fee8-f26386d8f38f"
   },
   "outputs": [
    {
     "name": "stderr",
     "output_type": "stream",
     "text": [
      "/usr/local/lib/python3.9/dist-packages/transformers/pipelines/token_classification.py:159: UserWarning: `grouped_entities` is deprecated and will be removed in version v5.0.0, defaulted to `aggregation_strategy=\"none\"` instead.\n",
      "  warnings.warn(\n"
     ]
    }
   ],
   "source": [
    "def get_beauty_lexicon(path):\n",
    "    beauty_lexicon = []\n",
    "    df = pd.read_csv(path)\n",
    "    beauty_lexicon = df[\"Lexicon\"].unique().tolist()\n",
    "    return beauty_lexicon\n",
    "\n",
    "product_indicators = get_beauty_lexicon(\"beauty_lexicon.csv\")\n",
    "product_lexicon = pd.read_csv(\"Product Lexicon.csv\")[\"Product\"].to_list()\n",
    "\n",
    "#will take longer on initial load due to loading of punctuator model\n",
    "product_identifier = ProductIdentifier()\n",
    "coreference_resolver = CoreferenceResolver()\n",
    "transcript_segmenter = TranscriptSegmenter()"
   ]
  },
  {
   "cell_type": "markdown",
   "metadata": {
    "id": "F7ZSH9QnQquw"
   },
   "source": [
    "# Aspect Extraction\n",
    "\n",
    "Starting with rule based syntax parsing"
   ]
  },
  {
   "cell_type": "markdown",
   "metadata": {
    "id": "Ij3V3AiFiTBI"
   },
   "source": [
    "For improved perforamnce, we could conduct coreference resolution to make the entity more obvious so that aspect extraction could be smoother. But, the output quality depends so we will omit this step e.g. inner eyeliner is propagated instead of \"eye pencil\""
   ]
  },
  {
   "cell_type": "code",
   "execution_count": null,
   "metadata": {
    "id": "oENWNgiyhEXx"
   },
   "outputs": [],
   "source": [
    "!pip install fastcoref"
   ]
  },
  {
   "cell_type": "code",
   "execution_count": 18,
   "metadata": {
    "colab": {
     "base_uri": "https://localhost:8080/"
    },
    "executionInfo": {
     "elapsed": 6286,
     "status": "ok",
     "timestamp": 1679801276211,
     "user": {
      "displayName": "bel hello",
      "userId": "14145485794765337692"
     },
     "user_tz": -480
    },
    "id": "eYz0lPflg8Wc",
    "outputId": "a2443745-a9e0-45ef-9e24-b29806c90e51"
   },
   "outputs": [
    {
     "name": "stderr",
     "output_type": "stream",
     "text": [
      "/usr/local/lib/python3.9/dist-packages/torch/cuda/__init__.py:497: UserWarning: Can't initialize NVML\n",
      "  warnings.warn(\"Can't initialize NVML\")\n"
     ]
    }
   ],
   "source": [
    "from fastcoref import spacy_component\n",
    "import spacy"
   ]
  },
  {
   "cell_type": "code",
   "execution_count": 30,
   "metadata": {
    "colab": {
     "base_uri": "https://localhost:8080/"
    },
    "executionInfo": {
     "elapsed": 4523,
     "status": "ok",
     "timestamp": 1679803209653,
     "user": {
      "displayName": "bel hello",
      "userId": "14145485794765337692"
     },
     "user_tz": -480
    },
    "id": "cd76KtqYhS99",
    "outputId": "726fa02f-4333-4aa6-cc01-5493a2830316"
   },
   "outputs": [
    {
     "data": {
      "text/plain": [
       "<fastcoref.spacy_component.spacy_component.FastCorefResolver at 0x7fe44a97a280>"
      ]
     },
     "execution_count": 30,
     "metadata": {},
     "output_type": "execute_result"
    }
   ],
   "source": [
    "nlp = spacy.load(\"en_core_web_sm\")\n",
    "nlp.add_pipe(\"fastcoref\")"
   ]
  },
  {
   "cell_type": "code",
   "execution_count": 31,
   "metadata": {
    "colab": {
     "base_uri": "https://localhost:8080/",
     "height": 134,
     "referenced_widgets": [
      "36cc227125d142e39847355fa35bdb2b",
      "b2c6e0ba157144dfa611258c5a4d76f3",
      "ff01929882414c6ba4138f2e256c4188",
      "2e8209756e074b33a502379038a3a626",
      "037a38412e3444269190d62d9233de6f",
      "3b6cee774a794ccaaac267178639a7f6",
      "7cbf3cb6e507451086862e68ebf48c38",
      "ab04927adb3c4390815125aea7ac5469",
      "0f9ad55ebf3842eca835b8c3bf39741c",
      "f4b0af43c4c64ca9910b525501a2d27a",
      "d52addaa48cb4cc7805a90902854cea9",
      "71ddd7c06ef64691936bab14b7d3bdfa",
      "b74434d643274373ac3d0477c14165f9",
      "e3dff365f8a846a29c56f8dd2eab3ef2",
      "9fc0e220fb434298a108abb8d9b29361",
      "69cfda262657401aba0b045e7259bb1b",
      "3097e283e14548419d1a6d4921ec26bc",
      "35977eeab2954b3ab5d554a3e44ceb06",
      "3460e4b29d7843c8a23ead51b92430fa",
      "5dcd07e4060f4b29b29a7596e7bddedf",
      "b9af9d4bd5d843b2a2ee3c5db38b8179",
      "47fcd9c4b181484a8bca7256047ec5f8"
     ]
    },
    "executionInfo": {
     "elapsed": 1559,
     "status": "ok",
     "timestamp": 1679803430655,
     "user": {
      "displayName": "bel hello",
      "userId": "14145485794765337692"
     },
     "user_tz": -480
    },
    "id": "j4gLM7keg9mX",
    "outputId": "6f8df435-4f8c-4ef3-ad64-c71892f84d93"
   },
   "outputs": [
    {
     "data": {
      "application/vnd.jupyter.widget-view+json": {
       "model_id": "36cc227125d142e39847355fa35bdb2b",
       "version_major": 2,
       "version_minor": 0
      },
      "text/plain": [
       "Map:   0%|          | 0/1 [00:00<?, ? examples/s]"
      ]
     },
     "metadata": {},
     "output_type": "display_data"
    },
    {
     "data": {
      "application/vnd.jupyter.widget-view+json": {
       "model_id": "71ddd7c06ef64691936bab14b7d3bdfa",
       "version_major": 2,
       "version_minor": 0
      },
      "text/plain": [
       "Inference:   0%|          | 0/1 [00:00<?, ?it/s]"
      ]
     },
     "metadata": {},
     "output_type": "display_data"
    },
    {
     "data": {
      "application/vnd.google.colaboratory.intrinsic+json": {
       "type": "string"
      },
      "text/plain": [
       "'Let me\\nfirst say that if\\n \\nyour eyes are prone to dizziness like inner double eyeliner, it\\nmay not be suitable for it\\n, but if you just have a very daily\\nwork makeup and you don t want to look abrupt, if you\\nwant to draw a very natural brown eyeliner,\\na very natural brown eyeliner is very suitable for\\nNYX The eye pencil\\nis a very traditional eyeliner.The eye pencil is cut off\\nwith a pencil sharpener. basically, you have to sharpen The eye pencil twice .It s dark brown\\n903.It\\n s super beautiful and looks good in everyday life\\n.I also like The eye pencil because The eye pencil s an ordinary pen\\nso The eye pencil s very hard.The eye pencil  s not the kind that breaks off when you draw The eye pencil.No need I am worried that when you draw the inner eyeliner, if you accidentally\\ndraw the inner eyeliner off or the scum falls into the eyes, it\\ncan save your unusable mascara.'"
      ]
     },
     "execution_count": 31,
     "metadata": {},
     "output_type": "execute_result"
    }
   ],
   "source": [
    "docs = nlp.pipe([sample_review], component_cfg={\"fastcoref\": {'resolve_text': True}})\n",
    "coresolved_text_lst = [doc._.resolved_text for doc in docs] \n",
    "coresolved_text = coresolved_text_lst[0]\n",
    "coresolved_text"
   ]
  },
  {
   "cell_type": "markdown",
   "metadata": {
    "id": "H0xSzEVniOBx"
   },
   "source": [
    "For improved performance, we will punctuate the transcript for better sentence tokenizing as we want to keep sentence with opinions only. "
   ]
  },
  {
   "cell_type": "code",
   "execution_count": 16,
   "metadata": {
    "colab": {
     "base_uri": "https://localhost:8080/"
    },
    "executionInfo": {
     "elapsed": 8047,
     "status": "ok",
     "timestamp": 1679807396339,
     "user": {
      "displayName": "bel hello",
      "userId": "14145485794765337692"
     },
     "user_tz": -480
    },
    "id": "0UfzQa_TaQdJ",
    "outputId": "df014e3e-b7bd-4902-b841-2b76a074477a"
   },
   "outputs": [
    {
     "data": {
      "text/plain": [
       "['Let me first say that if your eyes are prone to dizziness, like inner double eyeliner, it may not be suitable for it',\n",
       " ' but if you just have a very daily work makeup and you don t want to look abrupt, if you want to draw a very natural brown eyeliner, it is very suitable',\n",
       " ' for NYX, The eye pencil is a very traditional eyeliner',\n",
       " 'It is cut off with a pencil sharpener',\n",
       " 'basically, you have to sharpen it twice',\n",
       " 'It s dark brown: 903',\n",
       " 'It s super beautiful and looks good in everyday life',\n",
       " 'I also like it because it s an ordinary pen, so it s very hard',\n",
       " 'It s not the kind that breaks off when you draw it',\n",
       " 'No need',\n",
       " ' I am worried that when you draw the inner eyeliner, if you accidentally draw it off or the scum falls into the eyes, it can save your unusable mascara']"
      ]
     },
     "execution_count": 16,
     "metadata": {},
     "output_type": "execute_result"
    }
   ],
   "source": [
    "sentence_lst = list(filter(lambda txt: txt != \"\", sample_review.split(\".\")))\n",
    "processed_sentence_lst = list(filter(lambda txt: txt != \"\", transcript_segmenter.further_split_sentence(sentence_lst)))\n",
    "processed_sentence_lst"
   ]
  },
  {
   "cell_type": "markdown",
   "metadata": {
    "id": "0pkwqC2tib0v"
   },
   "source": [
    "To filter our search and obtain cleaner aspects, we only search in sentences that are considered subjective/have an opinion"
   ]
  },
  {
   "cell_type": "code",
   "execution_count": 27,
   "metadata": {
    "colab": {
     "base_uri": "https://localhost:8080/"
    },
    "executionInfo": {
     "elapsed": 291,
     "status": "ok",
     "timestamp": 1679807997230,
     "user": {
      "displayName": "bel hello",
      "userId": "14145485794765337692"
     },
     "user_tz": -480
    },
    "id": "D4WkVK7pQqDG",
    "outputId": "aef1ce41-4116-482f-efef-a65fca91ace2"
   },
   "outputs": [
    {
     "data": {
      "text/plain": [
       "['Let me first say that if your eyes are prone to dizziness, like inner double eyeliner, it may not be suitable for it',\n",
       " ' but if you just have a very daily work makeup and you don t want to look abrupt, if you want to draw a very natural brown eyeliner, it is very suitable',\n",
       " ' for NYX, The eye pencil is a very traditional eyeliner',\n",
       " 'It s dark brown: 903',\n",
       " 'It s super beautiful and looks good in everyday life',\n",
       " 'I also like it because it s an ordinary pen, so it s very hard',\n",
       " 'It s not the kind that breaks off when you draw it']"
      ]
     },
     "execution_count": 27,
     "metadata": {},
     "output_type": "execute_result"
    }
   ],
   "source": [
    "#extract sentences that contains opinions (subjective)\n",
    "def filter_to_sentences_that_contains_opinions(sentence_lst):\n",
    "  filtered_sentence_lst = []\n",
    "  for sent in sentence_lst:\n",
    "    subj_score = TextBlob(sent).sentiment.subjectivity\n",
    "    if subj_score >= 0.3:\n",
    "      filtered_sentence_lst.append(sent)\n",
    "  return filtered_sentence_lst\n",
    "\n",
    "opinion_sentence_lst = filter_to_sentences_that_contains_opinions(processed_sentence_lst)\n",
    "opinions = \" \".join(opinion_sentence_lst)\n",
    "opinion_sentence_lst"
   ]
  },
  {
   "cell_type": "markdown",
   "metadata": {
    "id": "4PijvJ8BAXT4"
   },
   "source": [
    "Experiment: Basic Syntax Parsing (assume aspects can only be noun phrases)\n",
    "\n",
    "As it is rule-based, you will likely identify other non-aspect related noun phrase e.g. the entity itself. Another issue is that aspects are not limited to noun phrases. In the case of this sample review, there are not really any explicit aspects. For example, \"super beautiful\" would refer to the look of the product, \"hard\" refers to the product quality but these are adjectives and not noun phrases"
   ]
  },
  {
   "cell_type": "code",
   "execution_count": 28,
   "metadata": {
    "colab": {
     "base_uri": "https://localhost:8080/"
    },
    "executionInfo": {
     "elapsed": 297,
     "status": "ok",
     "timestamp": 1679808001762,
     "user": {
      "displayName": "bel hello",
      "userId": "14145485794765337692"
     },
     "user_tz": -480
    },
    "id": "JMIEL6fVAZ8y",
    "outputId": "1eac4403-1e32-444c-f4c3-02d844df0754"
   },
   "outputs": [
    {
     "data": {
      "text/plain": [
       "['work makeup', 'eye pencil', 'brown eyeliner']"
      ]
     },
     "execution_count": 28,
     "metadata": {},
     "output_type": "execute_result"
    }
   ],
   "source": [
    "#syntax parsing output -- simple understanding of aspects as NP\n",
    "noun_phrases = []\n",
    "for sent in opinion_sentence_lst:\n",
    "  noun_phrases.extend(product_identifier.GetNounPhrasesWithSyntaxRules(sent))\n",
    "\n",
    "noun_phrases = list(set(noun_phrases))\n",
    "noun_phrases"
   ]
  },
  {
   "cell_type": "markdown",
   "metadata": {
    "id": "U1a-pxzoq00Z"
   },
   "source": [
    "Experiment: Dependency Parsing in Opinions -- look at verbs, adjectives etc that modify the target entity (e.g. shades wear --> wear can be considered an aspect even though it is a verb or 'matte lipstick' --> matte can be considered an aspect. This could help us to identify aspects beyond those in noun phrases."
   ]
  },
  {
   "cell_type": "code",
   "execution_count": null,
   "metadata": {
    "id": "8NJEjg00k86r"
   },
   "outputs": [],
   "source": [
    "!pip install stanza"
   ]
  },
  {
   "cell_type": "code",
   "execution_count": 30,
   "metadata": {
    "colab": {
     "base_uri": "https://localhost:8080/",
     "height": 101,
     "referenced_widgets": [
      "b6b6998e3695439a94c296091e9121e5",
      "799f0608b56043faa10fae32b0e3b42b",
      "fd842676dffd4784bcd36a5939947e05",
      "9fda96f6b6c248bb844fde32f652012b",
      "3d42fc46e3454a959fed416db277df6f",
      "693348711db14927b301d3816109aa19",
      "d02dea3fe2c3405a9a8e2cdb4b1e7932",
      "3bdc61d10bc64751833b2007af3e50cf",
      "376af4d67b7c4f7698a8db7b40ad31f7",
      "fca3a92445ab43159a388465ff2e49aa",
      "ce18b260936542fa97eeaac9a3120267"
     ]
    },
    "executionInfo": {
     "elapsed": 22312,
     "status": "ok",
     "timestamp": 1679808031859,
     "user": {
      "displayName": "bel hello",
      "userId": "14145485794765337692"
     },
     "user_tz": -480
    },
    "id": "njc2kRrulZXS",
    "outputId": "a3a680ac-7138-419b-ab01-04edf18eed51"
   },
   "outputs": [
    {
     "data": {
      "application/vnd.jupyter.widget-view+json": {
       "model_id": "b6b6998e3695439a94c296091e9121e5",
       "version_major": 2,
       "version_minor": 0
      },
      "text/plain": [
       "Downloading https://raw.githubusercontent.com/stanfordnlp/stanza-resources/main/resources_1.5.0.json:   0%|   …"
      ]
     },
     "metadata": {},
     "output_type": "display_data"
    },
    {
     "name": "stderr",
     "output_type": "stream",
     "text": [
      "INFO:stanza:Downloading default packages for language: en (English) ...\n",
      "INFO:stanza:File exists: /root/stanza_resources/en/default.zip\n",
      "INFO:stanza:Finished downloading models and saved to /root/stanza_resources.\n"
     ]
    }
   ],
   "source": [
    "import stanza\n",
    "stanza.download('en')"
   ]
  },
  {
   "cell_type": "code",
   "execution_count": null,
   "metadata": {
    "id": "28HeMPqgpDQ-"
   },
   "outputs": [],
   "source": [
    "nlp = stanza.Pipeline('en',processors = 'tokenize,mwt,pos,lemma,depparse')"
   ]
  },
  {
   "cell_type": "markdown",
   "metadata": {
    "id": "tMpJ89eBJ9kK"
   },
   "source": [
    "We try to identify the product-related nouns in the sentences and use it as a target when doing dependency parsing to find the related adj/verbs to the target/entity. There seems to be better results as this output is more like what we would expect to be aspects of the eyeliner like \"hard\", \"draw\" (how easy it is to use), \"brown\" (shade), \"beautiful\" (look)"
   ]
  },
  {
   "cell_type": "code",
   "execution_count": 33,
   "metadata": {
    "colab": {
     "base_uri": "https://localhost:8080/"
    },
    "executionInfo": {
     "elapsed": 15535,
     "status": "ok",
     "timestamp": 1679808078682,
     "user": {
      "displayName": "bel hello",
      "userId": "14145485794765337692"
     },
     "user_tz": -480
    },
    "id": "7gNyHbowpFEI",
    "outputId": "a9247c81-2735-4ab0-c895-00f866b0bc77"
   },
   "outputs": [
    {
     "data": {
      "text/plain": [
       "{'beautiful', 'brown', 'draw', 'hard', 'kind', 'like', 'pen', 'suitable'}"
      ]
     },
     "execution_count": 33,
     "metadata": {},
     "output_type": "execute_result"
    }
   ],
   "source": [
    "target_list = [np.lower() for np in noun_phrases]\n",
    "target_list.extend([\"it\", \"this\"])\n",
    "aspect_set = set()\n",
    "\n",
    "for sent in opinion_sentence_lst:\n",
    "  doc = nlp(sent.lower())\n",
    "  # Convert sentence object to dictionary \n",
    "  sent_dict = doc.sentences[0].to_dict()\n",
    "  for word in sent_dict:\n",
    "    if word[\"text\"] in target_list:\n",
    "      aspect_set.add(str(sent_dict[word['head']-1]['text']))\n",
    "\n",
    "aspect_set"
   ]
  },
  {
   "cell_type": "markdown",
   "metadata": {
    "id": "SGxDy10DQFLJ"
   },
   "source": [
    "At this point, we have tried several methods for aspect extraction but the output has to be cleaned. \n",
    "\n",
    "Generally aspect are in a part-whole relationship with the entity e.g. shades have a colour. In a paper, they suggest to use PMI score using \"<entity> has <candidate_aspect>\" with a corpus to test the meronymy relationship. This idea could similarly be replicated with using BERT to get the probability of the candidate aspect filling in the blank to reduce effort in scraping a corpus.\n",
    "\n",
    "However, this method would likely be quite hard because you would need to have a lot of different sentence patterns to check the candidate aspects. Aspects are very dynamic e.g. in this case <entity> has <aspect> is not really applicable -- it is more of a <entity> is <aspect> "
   ]
  },
  {
   "cell_type": "code",
   "execution_count": 45,
   "metadata": {
    "colab": {
     "base_uri": "https://localhost:8080/"
    },
    "executionInfo": {
     "elapsed": 14296,
     "status": "ok",
     "timestamp": 1679808666644,
     "user": {
      "displayName": "bel hello",
      "userId": "14145485794765337692"
     },
     "user_tz": -480
    },
    "id": "j1S-32hEfqi_",
    "outputId": "accd0c6d-7ebf-4365-c52d-a6d3786db061"
   },
   "outputs": [
    {
     "name": "stderr",
     "output_type": "stream",
     "text": [
      "Some weights of the model checkpoint at bert-large-uncased were not used when initializing BertForMaskedLM: ['cls.seq_relationship.bias', 'cls.seq_relationship.weight']\n",
      "- This IS expected if you are initializing BertForMaskedLM from the checkpoint of a model trained on another task or with another architecture (e.g. initializing a BertForSequenceClassification model from a BertForPreTraining model).\n",
      "- This IS NOT expected if you are initializing BertForMaskedLM from the checkpoint of a model that you expect to be exactly identical (initializing a BertForSequenceClassification model from a BertForSequenceClassification model).\n"
     ]
    }
   ],
   "source": [
    "#https://stackoverflow.com/questions/70501324/how-to-predict-the-probability-of-an-empty-string-using-bert\n",
    "\n",
    "from transformers import BertTokenizer, BertForMaskedLM\n",
    "import torch\n",
    "from torch.nn import functional as F\n",
    "\n",
    "# Load BERT tokenizer and pre-trained model\n",
    "tokenizer = BertTokenizer.from_pretrained('bert-large-uncased')\n",
    "model = BertForMaskedLM.from_pretrained('bert-large-uncased', return_dict=True)"
   ]
  },
  {
   "cell_type": "code",
   "execution_count": 56,
   "metadata": {
    "colab": {
     "base_uri": "https://localhost:8080/",
     "height": 52
    },
    "executionInfo": {
     "elapsed": 6,
     "status": "ok",
     "timestamp": 1679809415135,
     "user": {
      "displayName": "bel hello",
      "userId": "14145485794765337692"
     },
     "user_tz": -480
    },
    "id": "S-2YVMo0cXSx",
    "outputId": "042498e3-f95d-4cb8-c924-61b0b5cf9d55"
   },
   "outputs": [
    {
     "data": {
      "application/vnd.google.colaboratory.intrinsic+json": {
       "type": "string"
      },
      "text/plain": [
       "'Let me first say that if your eyes are prone to dizziness, like inner double eyeliner, it may not be suitable for it  but if you just have a very daily work makeup and you don t want to look abrupt, if you want to draw a very natural brown eyeliner, it is very suitable  for NYX, The eye pencil is a very traditional eyeliner It s dark brown: 903 It s super beautiful and looks good in everyday life I also like it because it s an ordinary pen, so it s very hard It s not the kind that breaks off when you draw it'"
      ]
     },
     "execution_count": 56,
     "metadata": {},
     "output_type": "execute_result"
    }
   ],
   "source": [
    "opinions"
   ]
  },
  {
   "cell_type": "code",
   "execution_count": 64,
   "metadata": {
    "colab": {
     "base_uri": "https://localhost:8080/"
    },
    "executionInfo": {
     "elapsed": 3717,
     "status": "ok",
     "timestamp": 1679809693694,
     "user": {
      "displayName": "bel hello",
      "userId": "14145485794765337692"
     },
     "user_tz": -480
    },
    "id": "uu0lMEbmgid7",
    "outputId": "44a97c4d-45b8-40d7-fb2d-8f0fb82eba37"
   },
   "outputs": [
    {
     "data": {
      "text/plain": [
       "{'eyes': 2.2090755e-05, 'brown': 2.1609048e-05}"
      ]
     },
     "execution_count": 64,
     "metadata": {},
     "output_type": "execute_result"
    }
   ],
   "source": [
    "targets = [\"eyes\", \"brown\"]\n",
    "entity = 'eye pencil'\n",
    "sentence = opinions + \"{entity} is [MASK]\"\n",
    "\n",
    "# Using BERT, compute probability over its entire vocabulary, returning logits\n",
    "input = tokenizer.encode_plus(sentence, return_tensors = \"pt\") \n",
    "mask_index = torch.where(input[\"input_ids\"][0] == tokenizer.mask_token_id)[0] \n",
    "with torch.no_grad():\n",
    "    output = model(**input) \n",
    "\n",
    "# Run softmax over the logits to get the probabilities\n",
    "softmax = F.softmax(output.logits[0], dim=-1)\n",
    "\n",
    "# Find the words' probabilities in this probability distribution\n",
    "target_probabilities = {t: softmax[mask_index, tokenizer.vocab[t]].numpy()[0] for t in targets}\n",
    "target_probabilities"
   ]
  },
  {
   "cell_type": "markdown",
   "metadata": {
    "id": "XVCChzvRdjx4"
   },
   "source": [
    "Another better way to extract the meronyms could be with a knowledge graph, but KGs like WordNet do not really have much information on the aspects of makeup products"
   ]
  },
  {
   "cell_type": "code",
   "execution_count": 55,
   "metadata": {
    "colab": {
     "base_uri": "https://localhost:8080/"
    },
    "executionInfo": {
     "elapsed": 284,
     "status": "ok",
     "timestamp": 1679809385612,
     "user": {
      "displayName": "bel hello",
      "userId": "14145485794765337692"
     },
     "user_tz": -480
    },
    "id": "3TjsGOJzFCp1",
    "outputId": "5cf5ff2b-ef90-447c-aa4b-717b95e0372d"
   },
   "outputs": [
    {
     "name": "stdout",
     "output_type": "stream",
     "text": [
      "\tLemma: eyeliner.n.01\n",
      "\tDefinition: makeup applied to emphasize the shape of the eyes\n",
      "\tExample: []\n",
      "\tMeronyms/Aspects: []\n",
      "\tVerbs involved: []\n"
     ]
    }
   ],
   "source": [
    "from nltk.corpus import wordnet as wn\n",
    "\n",
    "entity_synset = wn.synsets('eyeliner')\n",
    "for synset in entity_synset:\n",
    "  print(\"\\tLemma: {}\".format(synset.name()))\n",
    "  print(\"\\tDefinition: {}\".format(synset.definition()))\n",
    "  print(\"\\tExample: {}\".format(synset.examples()))\n",
    "  print(\"\\tMeronyms/Aspects: {}\".format(synset.part_meronyms()))\n",
    "  print(\"\\tVerbs involved: {}\".format(synset.entailments()))\n",
    "\n",
    "\n",
    "entity_synset = wn.synsets('eye pencil')\n",
    "for synset in entity_synset:\n",
    "  print(\"\\nLemma: {}\".format(synset.name()))\n",
    "  print(\"\\tDefinition: {}\".format(synset.definition()))\n",
    "  print(\"\\tExample: {}\".format(synset.examples()))\n",
    "  print(\"\\tMeronyms/Aspects: {}\".format(synset.part_meronyms()))\n",
    "  print(\"\\tVerbs involved: {}\".format(synset.entailments()))"
   ]
  },
  {
   "cell_type": "markdown",
   "metadata": {
    "id": "4nsfqIcpASWP"
   },
   "source": [
    "# Aspect Categorisation Experiment\n",
    "\n",
    "Unsupervised Aspect Identification with Multi-grained LDA (Global topic is the product while local topic is likely aspects of the product)"
   ]
  },
  {
   "cell_type": "code",
   "execution_count": 38,
   "metadata": {
    "colab": {
     "base_uri": "https://localhost:8080/"
    },
    "executionInfo": {
     "elapsed": 32704,
     "status": "ok",
     "timestamp": 1679808192537,
     "user": {
      "displayName": "bel hello",
      "userId": "14145485794765337692"
     },
     "user_tz": -480
    },
    "id": "zUP-paZpBUtI",
    "outputId": "1a92df53-7b41-486b-9e58-8aa244612bf3"
   },
   "outputs": [
    {
     "name": "stdout",
     "output_type": "stream",
     "text": [
      "Looking in indexes: https://pypi.org/simple, https://us-python.pkg.dev/colab-wheels/public/simple/\n",
      "Requirement already satisfied: tomotopy in /usr/local/lib/python3.9/dist-packages (0.12.4)\n",
      "Requirement already satisfied: numpy>=1.11.0 in /usr/local/lib/python3.9/dist-packages (from tomotopy) (1.22.4)\n",
      "Looking in indexes: https://pypi.org/simple, https://us-python.pkg.dev/colab-wheels/public/simple/\n",
      "Requirement already satisfied: contractions in /usr/local/lib/python3.9/dist-packages (0.1.73)\n",
      "Requirement already satisfied: textsearch>=0.0.21 in /usr/local/lib/python3.9/dist-packages (from contractions) (0.0.24)\n",
      "Requirement already satisfied: anyascii in /usr/local/lib/python3.9/dist-packages (from textsearch>=0.0.21->contractions) (0.3.2)\n",
      "Requirement already satisfied: pyahocorasick in /usr/local/lib/python3.9/dist-packages (from textsearch>=0.0.21->contractions) (2.0.0)\n",
      "Looking in indexes: https://pypi.org/simple, https://us-python.pkg.dev/colab-wheels/public/simple/\n",
      "Requirement already satisfied: demoji in /usr/local/lib/python3.9/dist-packages (1.1.0)\n",
      "Looking in indexes: https://pypi.org/simple, https://us-python.pkg.dev/colab-wheels/public/simple/\n",
      "Requirement already satisfied: stop-words in /usr/local/lib/python3.9/dist-packages (2018.7.23)\n"
     ]
    }
   ],
   "source": [
    "!pip install tomotopy\n",
    "!pip install contractions\n",
    "!pip install demoji\n",
    "!pip install stop-words"
   ]
  },
  {
   "cell_type": "code",
   "execution_count": 39,
   "metadata": {
    "executionInfo": {
     "elapsed": 344,
     "status": "ok",
     "timestamp": 1679808215243,
     "user": {
      "displayName": "bel hello",
      "userId": "14145485794765337692"
     },
     "user_tz": -480
    },
    "id": "-jRmLkN_LGmy"
   },
   "outputs": [],
   "source": [
    "import contractions\n",
    "import demoji\n",
    "import string\n",
    "from stop_words import get_stop_words"
   ]
  },
  {
   "cell_type": "markdown",
   "metadata": {
    "id": "uHbPzKWWi0Ks"
   },
   "source": [
    "We need to clean the text in order to reduce noise in MG-LDA"
   ]
  },
  {
   "cell_type": "code",
   "execution_count": 40,
   "metadata": {
    "executionInfo": {
     "elapsed": 271,
     "status": "ok",
     "timestamp": 1679808217830,
     "user": {
      "displayName": "bel hello",
      "userId": "14145485794765337692"
     },
     "user_tz": -480
    },
    "id": "HHGQ182BK1cY"
   },
   "outputs": [],
   "source": [
    "#https://towardsdatascience.com/nlp-preprocessing-and-latent-dirichlet-allocation-lda-topic-modeling-with-gensim-713d516c6c7d\n",
    "\n",
    "def preprocess(text):\n",
    "    # convert to lowercase\n",
    "    text = ' '.join([w.lower() for w in text.split()])\n",
    "    \n",
    "    # remove emojis\n",
    "    text = demoji.replace(text, \"\")\n",
    "    \n",
    "    # expand contractions  \n",
    "    text = ' '.join([contractions.fix(word) for word in text.split()])\n",
    "\n",
    "    # remove punctuation\n",
    "    text = ''.join([i for i in text if i not in string.punctuation])\n",
    "    \n",
    "    # remove numbers\n",
    "    text = ' '.join(re.sub(\"[^a-zA-Z]+\", \" \", text).split())\n",
    "\n",
    "    # lemmatization\n",
    "    text = ' '.join([WordNetLemmatizer().lemmatize(w) for w in text.split()])\n",
    "\n",
    "    # remove stopwords\n",
    "    eng_stop_words = get_stop_words('en')\n",
    "    eng_stop_words.extend([\"buy\",\"come\",\"can\",\"go\",\"guy\",\"going\",\"includes\",\"video\",\"definitely\"])\n",
    "    text = ' '.join([w for w in text.split() if w not in eng_stop_words])\n",
    "\n",
    "    # remove short words\n",
    "    text = ' '.join([w.strip() for w in text.split() if len(w.strip()) >= 3])\n",
    "\n",
    "    return text"
   ]
  },
  {
   "cell_type": "markdown",
   "metadata": {
    "id": "J3lberOni4DP"
   },
   "source": [
    "Conduct MG-LDA to identify local-topics\n",
    "\n",
    "We take it as there is one global topic (the product) and we try to get the local topics (aspects of product)\n",
    "\n",
    "The below example uses n-grams -- as can be seen the output is not clean"
   ]
  },
  {
   "cell_type": "code",
   "execution_count": 41,
   "metadata": {
    "colab": {
     "base_uri": "https://localhost:8080/"
    },
    "executionInfo": {
     "elapsed": 4258,
     "status": "ok",
     "timestamp": 1679808224661,
     "user": {
      "displayName": "bel hello",
      "userId": "14145485794765337692"
     },
     "user_tz": -480
    },
    "id": "cScYdh-9Os_f",
    "outputId": "00a178c4-89fe-41d2-f8e1-99f232b47f0a"
   },
   "outputs": [
    {
     "name": "stdout",
     "output_type": "stream",
     "text": [
      "Starting training model\n",
      "Iteration: 0\tLog-likelihood: -6.3203561677095985\n",
      "Iteration: 10\tLog-likelihood: -6.138840347194137\n",
      "Iteration: 20\tLog-likelihood: -5.917335346702319\n",
      "Iteration: 30\tLog-likelihood: -5.816921235602469\n",
      "Iteration: 40\tLog-likelihood: -5.816399355672706\n",
      "Iteration: 50\tLog-likelihood: -5.853330853914556\n",
      "Iteration: 60\tLog-likelihood: -6.036464096106684\n",
      "Iteration: 70\tLog-likelihood: -5.984031322773379\n",
      "Iteration: 80\tLog-likelihood: -6.129509185034877\n",
      "Iteration: 90\tLog-likelihood: -5.827661758184266\n",
      "Top 10 words of global topic #0\n",
      "[('draw', 0.11840354651212692), ('suitable', 0.10362157970666885), ('may', 0.07405765354633331), ('just', 0.07405765354633331), ('nyx', 0.059275686740875244)]\n",
      "Top 10 words of local topic #0\n",
      "[('want', 0.21470136940479279), ('don', 0.122817762196064), ('super beautiful', 0.09218988567590714), ('dark brown', 0.09218988567590714), ('like inner', 0.06156201660633087)]\n",
      "Top 10 words of local topic #1\n",
      "[('eye', 0.18988943099975586), ('look abrupt', 0.0951026901602745), ('like', 0.0951026901602745), ('prone', 0.0951026901602745), ('look', 0.06350710988044739)]\n",
      "Top 10 words of local topic #2\n",
      "[('break', 0.15046904981136322), ('also like', 0.11294559389352798), ('eye pencil', 0.11294559389352798), ('dizziness', 0.11294559389352798), ('brown eyeliner', 0.07542213797569275)]\n"
     ]
    }
   ],
   "source": [
    "#https://dougfenstermacher.com/blog/nlp-exploration-topic-models\n",
    "import tomotopy as tp\n",
    "from nltk.util import ngrams\n",
    "\n",
    "def extract_ngrams(sent_list, num):\n",
    "  ngram_lst = []\n",
    "  for sent in sent_list:\n",
    "    n_grams = ngrams(nltk.word_tokenize(sent), num)\n",
    "    ngram_lst.extend([ ' '.join(grams) for grams in n_grams])\n",
    "  return ngram_lst\n",
    "\n",
    "# k_g is th number of global topics, while k_l is the number of local topics\n",
    "mdl = tp.MGLDAModel(k_g=1, k_l=3)\n",
    "\n",
    "#for unigrams -- only keep nouns, verbs and adj\n",
    "unigrams = [pos[0] for pos in nltk.pos_tag(nltk.word_tokenize(opinions)) if pos[1] in [\"JJ\",\"JJS\",\"JJR\",\"NN\",\"NNP\",\"NNS\",\"NNPS\",\"VBP\",\"RBR\",\"RBS\"]]\n",
    "#to add other candidate aspects (verbs, adjectives that affect the target entity)\n",
    "final_lst = []\n",
    "final_lst.extend(extract_ngrams(opinion_sentence_lst,2))\n",
    "final_lst.extend(extract_ngrams(opinion_sentence_lst,3))\n",
    "final_lst = [preprocess(x) for x in final_lst if preprocess(x) != '']\n",
    "mdl.add_doc(final_lst)\n",
    "\n",
    "print('Starting training model')\n",
    "iterations = 10\n",
    "for i in range(0, 100, iterations):\n",
    "        mdl.train(iterations)\n",
    "        print('Iteration: {}\\tLog-likelihood: {}'.format(i, mdl.ll_per_word))\n",
    "\n",
    "for k in range(mdl.k_g):\n",
    "    print('Top 10 words of global topic #{}'.format(k))\n",
    "    print(mdl.get_topic_words(k, top_n=5))\n",
    "\n",
    "for k in range(mdl.k_l):\n",
    "    print('Top 10 words of local topic #{}'.format(k))\n",
    "    print(mdl.get_topic_words(mdl.k_g + k, top_n=5))"
   ]
  },
  {
   "cell_type": "markdown",
   "metadata": {
    "id": "UTh_ucOd3do-"
   },
   "source": [
    "Issue: LDA output is very unclean\n",
    "\n",
    "To take into account textual context and get multi-word aspects, we could use LDA modelling. However, using n-grams affects the data cleanliness a lot so we could try to extract key phrases instead. \n",
    "\n",
    "Experiment: Use keyphrases instead of n-grams using keyphrase extraction. N-grams tend to be very unclean \n",
    "\n",
    "Another benefiting of using keyphrases is that we could potentially extract multi-word aspects. An issue with dependency parsing is that it does not take into account textual context but focuses more on word relations \"colour transfer\" --> colour is said to modify transfer when we want an output that is like \"colour transfer\" has a relationship with \"shades\" since it is describing the quality of the shades. Dependency parsing will only output one word as a candidate aspect. \n"
   ]
  },
  {
   "cell_type": "code",
   "execution_count": null,
   "metadata": {
    "id": "9y-ob58Ge6SR"
   },
   "outputs": [],
   "source": [
    "!pip install keyphrase-vectorizers\n",
    "!pip install keybert"
   ]
  },
  {
   "cell_type": "code",
   "execution_count": 65,
   "metadata": {
    "colab": {
     "base_uri": "https://localhost:8080/"
    },
    "executionInfo": {
     "elapsed": 2267,
     "status": "ok",
     "timestamp": 1679810078970,
     "user": {
      "displayName": "bel hello",
      "userId": "14145485794765337692"
     },
     "user_tz": -480
    },
    "id": "8vHGv8Px3hXY",
    "outputId": "3d4916a5-9cef-454d-db72-acb78e46e4b2"
   },
   "outputs": [
    {
     "data": {
      "text/plain": [
       "['inner double eyeliner',\n",
       " 'dizziness',\n",
       " 'eyes',\n",
       " 'natural brown eyeliner',\n",
       " 'daily work makeup',\n",
       " 'traditional eyeliner',\n",
       " 'eye pencil',\n",
       " 'nyx',\n",
       " 'dark brown',\n",
       " 'everyday life',\n",
       " 'ordinary pen',\n",
       " 'kind']"
      ]
     },
     "execution_count": 65,
     "metadata": {},
     "output_type": "execute_result"
    }
   ],
   "source": [
    "from keyphrase_vectorizers import KeyphraseCountVectorizer\n",
    "from keybert import KeyBERT\n",
    "\n",
    "kw_model = KeyBERT()\n",
    "docs = opinion_sentence_lst\n",
    "keyword_lst = kw_model.extract_keywords(docs=docs, vectorizer=KeyphraseCountVectorizer())\n",
    "\n",
    "keyword_ngrams = []\n",
    "for keyword_in_sent in keyword_lst:\n",
    "  keyword_ngrams.extend([tup[0] for tup in keyword_in_sent])\n",
    "\n",
    "keyword_ngrams"
   ]
  },
  {
   "cell_type": "markdown",
   "metadata": {
    "id": "xtRVZujBPQRc"
   },
   "source": [
    "Conduct MG-LDA to identify local-topics --  We will use the keyphrases (in place of bi/trigrams). We will also filter the unigrams to nouns, verb and adjectives. For example, \"and\" (conjunction) will not be an aspect\n",
    "\n",
    "We take it as there is one global topic (the product) and we try to get the local topics (aspects of product)\n",
    "\n",
    "We will feed in our existing candidate aspects for categorisation\n",
    "\n",
    "```\n",
    "Top 5 words of local topic #0\n",
    "[('kind', 0.2891450524330139), ('beautiful', 0.19308356940746307), ('don', 0.09702209383249283), ('inner', 0.09702209383249283), ('good', 0.09702209383249283)]\n",
    "Top 5 words of local topic #1\n",
    "[('suitable', 0.10234614461660385), ('eye', 0.10234614461660385), ('brown', 0.10234614461660385), ('draw', 0.0683441013097763), ('nyx', 0.0683441013097763)]\n",
    "Top 5 words of local topic #2\n",
    "[('life', 0.024390242993831635), ('work', 0.024390242993831635), ('makeup', 0.024390242993831635), ('don', 0.024390242993831635), ('natural', 0.024390242993831635)]\n",
    "\n",
    "```\n",
    "\n",
    "Based on this output, the topics are not very distinct but we can tell for e.g. that local topic #0 is more about how the eyeliner looks while topic #2 is more about situations to use the eyeliner\n",
    "\n",
    "MG-LDA will likely be more useful as a preprocessing step to identify all explicit aspects e.g. if we have many reviews on eyeliners then we use that to get the explicit aspects/implicit aspects for eyeliners. At a single review level, it is not effective"
   ]
  },
  {
   "cell_type": "code",
   "execution_count": 44,
   "metadata": {
    "colab": {
     "base_uri": "https://localhost:8080/"
    },
    "executionInfo": {
     "elapsed": 308,
     "status": "ok",
     "timestamp": 1679808430514,
     "user": {
      "displayName": "bel hello",
      "userId": "14145485794765337692"
     },
     "user_tz": -480
    },
    "id": "jzLqgeIHASFk",
    "outputId": "855e8244-c36d-4d84-c6b7-9b20e6b320ef"
   },
   "outputs": [
    {
     "name": "stdout",
     "output_type": "stream",
     "text": [
      "Starting training model\n",
      "Iteration: 0\tLog-likelihood: -7.007761180103788\n",
      "Iteration: 10\tLog-likelihood: -6.706633264768933\n",
      "Iteration: 20\tLog-likelihood: -6.740691520747375\n",
      "Iteration: 30\tLog-likelihood: -6.45677791496514\n",
      "Iteration: 40\tLog-likelihood: -6.549222372713145\n",
      "Iteration: 50\tLog-likelihood: -6.647469017132796\n",
      "Iteration: 60\tLog-likelihood: -6.456146418141072\n",
      "Iteration: 70\tLog-likelihood: -6.622024891729435\n",
      "Iteration: 80\tLog-likelihood: -6.607997152175562\n",
      "Iteration: 90\tLog-likelihood: -6.454510537835223\n",
      "Top 5 words of global topic #0\n",
      "[('eyeliner', 0.15507470071315765), ('eye pencil', 0.103554867208004), ('hard', 0.103554867208004), ('pen', 0.103554867208004), ('want', 0.103554867208004), ('dizziness', 0.05203503370285034), ('pencil', 0.05203503370285034), ('super', 0.05203503370285034)]\n",
      "Top 5 words of local topic #0\n",
      "[('kind', 0.2891450524330139), ('beautiful', 0.19308356940746307), ('don', 0.09702209383249283), ('inner', 0.09702209383249283), ('good', 0.09702209383249283)]\n",
      "Top 5 words of local topic #1\n",
      "[('suitable', 0.10234614461660385), ('eye', 0.10234614461660385), ('brown', 0.10234614461660385), ('draw', 0.0683441013097763), ('nyx', 0.0683441013097763)]\n",
      "Top 5 words of local topic #2\n",
      "[('life', 0.024390242993831635), ('work', 0.024390242993831635), ('makeup', 0.024390242993831635), ('don', 0.024390242993831635), ('natural', 0.024390242993831635)]\n"
     ]
    }
   ],
   "source": [
    "#https://dougfenstermacher.com/blog/nlp-exploration-topic-models\n",
    "import tomotopy as tp\n",
    "from nltk.util import ngrams\n",
    "\n",
    "def extract_ngrams(sent_list, num):\n",
    "  ngram_lst = []\n",
    "  for sent in sent_list:\n",
    "    n_grams = ngrams(nltk.word_tokenize(sent), num)\n",
    "    ngram_lst.extend([ ' '.join(grams) for grams in n_grams])\n",
    "  return ngram_lst\n",
    "\n",
    "# k_g is th number of global topics, while k_l is the number of local topics\n",
    "mdl = tp.MGLDAModel(k_g=1, k_l=3)\n",
    "\n",
    "#for unigrams -- only keep nouns, verbs and adj\n",
    "unigrams = [pos[0] for pos in nltk.pos_tag(nltk.word_tokenize(opinions)) if pos[1] in [\"JJ\",\"JJS\",\"JJR\",\"NN\",\"NNP\",\"NNS\",\"NNPS\",\"VBP\",\"RBR\",\"RBS\"]]\n",
    "#to add other candidate aspects (verbs, adjectives that affect the target entity)\n",
    "final_lst = []\n",
    "final_lst.extend(noun_phrases)\n",
    "final_lst.extend(list(aspect_set))\n",
    "final_lst.extend(unigrams)\n",
    "final_lst.extend(keyword_ngrams)\n",
    "final_lst = [preprocess(x) for x in final_lst if preprocess(x) != '']\n",
    "mdl.add_doc(final_lst)\n",
    "\n",
    "print('Starting training model')\n",
    "iterations = 10\n",
    "for i in range(0, 100, iterations):\n",
    "        mdl.train(iterations)\n",
    "        print('Iteration: {}\\tLog-likelihood: {}'.format(i, mdl.ll_per_word))\n",
    "\n",
    "for k in range(mdl.k_g):\n",
    "    print('Top 5 words of global topic #{}'.format(k))\n",
    "    print(mdl.get_topic_words(k, top_n=8))\n",
    "\n",
    "for k in range(mdl.k_l):\n",
    "    print('Top 5 words of local topic #{}'.format(k))\n",
    "    print(mdl.get_topic_words(mdl.k_g + k, top_n=5))"
   ]
  },
  {
   "cell_type": "markdown",
   "metadata": {
    "id": "erwFqJjmfEhK"
   },
   "source": [
    "# Aspect Categorisation -- Clustering Word2Vec Vectors\n",
    "\n",
    "E.g. \"brown\" and \"dark brown\" are about colour so they will likely have similar semantic meaning -- which can be captured by word2vec. We can then cluster similar candidate aspects together to form categories.\n",
    "\n",
    "The clusters appear to be better than with MG-LDA"
   ]
  },
  {
   "cell_type": "code",
   "execution_count": 66,
   "metadata": {
    "colab": {
     "base_uri": "https://localhost:8080/"
    },
    "executionInfo": {
     "elapsed": 912101,
     "status": "ok",
     "timestamp": 1679811915872,
     "user": {
      "displayName": "bel hello",
      "userId": "14145485794765337692"
     },
     "user_tz": -480
    },
    "id": "G1WmFLhlfJG6",
    "outputId": "03197d5d-3aa3-46ac-9684-9a985854b014"
   },
   "outputs": [
    {
     "name": "stderr",
     "output_type": "stream",
     "text": [
      ".vector_cache/glove.840B.300d.zip: 2.18GB [06:50, 5.31MB/s]                            \n",
      "100%|█████████▉| 2196016/2196017 [05:50<00:00, 6272.88it/s]\n"
     ]
    },
    {
     "name": "stdout",
     "output_type": "stream",
     "text": [
      "There are 2196017 words in the vocabulary\n"
     ]
    }
   ],
   "source": [
    "#https://github.com/bentrevett/pytorch-sentiment-analysis/blob/master/B%20-%20A%20Closer%20Look%20at%20Word%20Embeddings.ipynb\n",
    "\n",
    "import torchtext.vocab\n",
    "\n",
    "glove = torchtext.vocab.GloVe(name = '840B', dim = 300)\n",
    "\n",
    "print(f'There are {len(glove.itos)} words in the vocabulary')\n"
   ]
  },
  {
   "cell_type": "markdown",
   "metadata": {
    "id": "KnKn_GefDSAp"
   },
   "source": [
    "Get all the candidate aspects so far -- remove those that are likely to be the entity rather than an aspect of an entity"
   ]
  },
  {
   "cell_type": "code",
   "execution_count": 135,
   "metadata": {
    "colab": {
     "base_uri": "https://localhost:8080/"
    },
    "executionInfo": {
     "elapsed": 347,
     "status": "ok",
     "timestamp": 1679819649785,
     "user": {
      "displayName": "bel hello",
      "userId": "14145485794765337692"
     },
     "user_tz": -480
    },
    "id": "LS6xPa9oimya",
    "outputId": "288d7947-a42d-4674-ffeb-9e00955cc6b9"
   },
   "outputs": [
    {
     "data": {
      "text/plain": [
       "['like',\n",
       " 'nyx',\n",
       " 'dizziness',\n",
       " 'suitable',\n",
       " 'eye pencil',\n",
       " 'everyday life',\n",
       " 'dark brown',\n",
       " 'hard',\n",
       " 'draw',\n",
       " 'ordinary pen',\n",
       " 'pen',\n",
       " 'kind',\n",
       " 'beautiful']"
      ]
     },
     "execution_count": 135,
     "metadata": {},
     "output_type": "execute_result"
    }
   ],
   "source": [
    "candidate_aspects = []\n",
    "candidate_aspects.extend(noun_phrases)\n",
    "candidate_aspects.extend(list(aspect_set))\n",
    "candidate_aspects.extend(keyword_ngrams)\n",
    "candidate_aspects = list(set(candidate_aspects))\n",
    "candidate_aspects = list(filter(lambda np: not product_identifier.Check_If_NP_Is_Product(np, product_indicators, product_lexicon), candidate_aspects))\n",
    "candidate_aspects "
   ]
  },
  {
   "cell_type": "code",
   "execution_count": 136,
   "metadata": {
    "executionInfo": {
     "elapsed": 286,
     "status": "ok",
     "timestamp": 1679819660270,
     "user": {
      "displayName": "bel hello",
      "userId": "14145485794765337692"
     },
     "user_tz": -480
    },
    "id": "9yFkDXamnfoh"
   },
   "outputs": [],
   "source": [
    "def get_vector(embeddings, txt):\n",
    "  embedding = 0\n",
    "  for word in nltk.word_tokenize(txt):\n",
    "    assert word in embeddings.stoi, f'*{word}* is not in the vocab!'\n",
    "    embedding += embeddings.vectors[embeddings.stoi[word]]\n",
    "  return embedding / len(nltk.word_tokenize(txt))\n",
    "\n",
    "word_vector = get_vector(glove, 'natural brown eyeliner')"
   ]
  },
  {
   "cell_type": "code",
   "execution_count": 137,
   "metadata": {
    "executionInfo": {
     "elapsed": 284,
     "status": "ok",
     "timestamp": 1679819661838,
     "user": {
      "displayName": "bel hello",
      "userId": "14145485794765337692"
     },
     "user_tz": -480
    },
    "id": "6WJZDrGXnga9"
   },
   "outputs": [],
   "source": [
    "compiled_arr = np.zeros((len(candidate_aspects), 300))\n",
    "for i in range(len(candidate_aspects)):\n",
    "  aspect = candidate_aspects[i]\n",
    "  compiled_arr[i] = get_vector(glove, aspect).numpy()"
   ]
  },
  {
   "cell_type": "code",
   "execution_count": 138,
   "metadata": {
    "colab": {
     "base_uri": "https://localhost:8080/",
     "height": 110
    },
    "executionInfo": {
     "elapsed": 505,
     "status": "ok",
     "timestamp": 1679819663760,
     "user": {
      "displayName": "bel hello",
      "userId": "14145485794765337692"
     },
     "user_tz": -480
    },
    "id": "otMZLFBfpGkN",
    "outputId": "80336c5b-fcc1-4a67-d829-58ce309f054b"
   },
   "outputs": [
    {
     "data": {
      "text/html": [
       "\n",
       "  <div id=\"df-65c3770c-f65a-497e-bad3-cb5901cb6b91\">\n",
       "    <div class=\"colab-df-container\">\n",
       "      <div>\n",
       "<style scoped>\n",
       "    .dataframe tbody tr th:only-of-type {\n",
       "        vertical-align: middle;\n",
       "    }\n",
       "\n",
       "    .dataframe tbody tr th {\n",
       "        vertical-align: top;\n",
       "    }\n",
       "\n",
       "    .dataframe thead th {\n",
       "        text-align: right;\n",
       "    }\n",
       "</style>\n",
       "<table border=\"1\" class=\"dataframe\">\n",
       "  <thead>\n",
       "    <tr style=\"text-align: right;\">\n",
       "      <th></th>\n",
       "      <th>0</th>\n",
       "      <th>1</th>\n",
       "      <th>2</th>\n",
       "      <th>3</th>\n",
       "      <th>4</th>\n",
       "      <th>5</th>\n",
       "      <th>6</th>\n",
       "      <th>7</th>\n",
       "      <th>8</th>\n",
       "      <th>9</th>\n",
       "      <th>...</th>\n",
       "      <th>290</th>\n",
       "      <th>291</th>\n",
       "      <th>292</th>\n",
       "      <th>293</th>\n",
       "      <th>294</th>\n",
       "      <th>295</th>\n",
       "      <th>296</th>\n",
       "      <th>297</th>\n",
       "      <th>298</th>\n",
       "      <th>299</th>\n",
       "    </tr>\n",
       "  </thead>\n",
       "  <tbody>\n",
       "    <tr>\n",
       "      <th>like</th>\n",
       "      <td>-0.18417</td>\n",
       "      <td>0.055115</td>\n",
       "      <td>-0.36953</td>\n",
       "      <td>-0.20895</td>\n",
       "      <td>0.25672</td>\n",
       "      <td>0.30142</td>\n",
       "      <td>0.16299</td>\n",
       "      <td>-0.16437</td>\n",
       "      <td>-0.070268</td>\n",
       "      <td>2.1638</td>\n",
       "      <td>...</td>\n",
       "      <td>0.029923</td>\n",
       "      <td>0.19484</td>\n",
       "      <td>-0.13368</td>\n",
       "      <td>0.00285</td>\n",
       "      <td>-0.30414</td>\n",
       "      <td>0.28539</td>\n",
       "      <td>-0.33109</td>\n",
       "      <td>-0.23808</td>\n",
       "      <td>0.37132</td>\n",
       "      <td>0.36197</td>\n",
       "    </tr>\n",
       "  </tbody>\n",
       "</table>\n",
       "<p>1 rows × 300 columns</p>\n",
       "</div>\n",
       "      <button class=\"colab-df-convert\" onclick=\"convertToInteractive('df-65c3770c-f65a-497e-bad3-cb5901cb6b91')\"\n",
       "              title=\"Convert this dataframe to an interactive table.\"\n",
       "              style=\"display:none;\">\n",
       "        \n",
       "  <svg xmlns=\"http://www.w3.org/2000/svg\" height=\"24px\"viewBox=\"0 0 24 24\"\n",
       "       width=\"24px\">\n",
       "    <path d=\"M0 0h24v24H0V0z\" fill=\"none\"/>\n",
       "    <path d=\"M18.56 5.44l.94 2.06.94-2.06 2.06-.94-2.06-.94-.94-2.06-.94 2.06-2.06.94zm-11 1L8.5 8.5l.94-2.06 2.06-.94-2.06-.94L8.5 2.5l-.94 2.06-2.06.94zm10 10l.94 2.06.94-2.06 2.06-.94-2.06-.94-.94-2.06-.94 2.06-2.06.94z\"/><path d=\"M17.41 7.96l-1.37-1.37c-.4-.4-.92-.59-1.43-.59-.52 0-1.04.2-1.43.59L10.3 9.45l-7.72 7.72c-.78.78-.78 2.05 0 2.83L4 21.41c.39.39.9.59 1.41.59.51 0 1.02-.2 1.41-.59l7.78-7.78 2.81-2.81c.8-.78.8-2.07 0-2.86zM5.41 20L4 18.59l7.72-7.72 1.47 1.35L5.41 20z\"/>\n",
       "  </svg>\n",
       "      </button>\n",
       "      \n",
       "  <style>\n",
       "    .colab-df-container {\n",
       "      display:flex;\n",
       "      flex-wrap:wrap;\n",
       "      gap: 12px;\n",
       "    }\n",
       "\n",
       "    .colab-df-convert {\n",
       "      background-color: #E8F0FE;\n",
       "      border: none;\n",
       "      border-radius: 50%;\n",
       "      cursor: pointer;\n",
       "      display: none;\n",
       "      fill: #1967D2;\n",
       "      height: 32px;\n",
       "      padding: 0 0 0 0;\n",
       "      width: 32px;\n",
       "    }\n",
       "\n",
       "    .colab-df-convert:hover {\n",
       "      background-color: #E2EBFA;\n",
       "      box-shadow: 0px 1px 2px rgba(60, 64, 67, 0.3), 0px 1px 3px 1px rgba(60, 64, 67, 0.15);\n",
       "      fill: #174EA6;\n",
       "    }\n",
       "\n",
       "    [theme=dark] .colab-df-convert {\n",
       "      background-color: #3B4455;\n",
       "      fill: #D2E3FC;\n",
       "    }\n",
       "\n",
       "    [theme=dark] .colab-df-convert:hover {\n",
       "      background-color: #434B5C;\n",
       "      box-shadow: 0px 1px 3px 1px rgba(0, 0, 0, 0.15);\n",
       "      filter: drop-shadow(0px 1px 2px rgba(0, 0, 0, 0.3));\n",
       "      fill: #FFFFFF;\n",
       "    }\n",
       "  </style>\n",
       "\n",
       "      <script>\n",
       "        const buttonEl =\n",
       "          document.querySelector('#df-65c3770c-f65a-497e-bad3-cb5901cb6b91 button.colab-df-convert');\n",
       "        buttonEl.style.display =\n",
       "          google.colab.kernel.accessAllowed ? 'block' : 'none';\n",
       "\n",
       "        async function convertToInteractive(key) {\n",
       "          const element = document.querySelector('#df-65c3770c-f65a-497e-bad3-cb5901cb6b91');\n",
       "          const dataTable =\n",
       "            await google.colab.kernel.invokeFunction('convertToInteractive',\n",
       "                                                     [key], {});\n",
       "          if (!dataTable) return;\n",
       "\n",
       "          const docLinkHtml = 'Like what you see? Visit the ' +\n",
       "            '<a target=\"_blank\" href=https://colab.research.google.com/notebooks/data_table.ipynb>data table notebook</a>'\n",
       "            + ' to learn more about interactive tables.';\n",
       "          element.innerHTML = '';\n",
       "          dataTable['output_type'] = 'display_data';\n",
       "          await google.colab.output.renderOutput(dataTable, element);\n",
       "          const docLink = document.createElement('div');\n",
       "          docLink.innerHTML = docLinkHtml;\n",
       "          element.appendChild(docLink);\n",
       "        }\n",
       "      </script>\n",
       "    </div>\n",
       "  </div>\n",
       "  "
      ],
      "text/plain": [
       "          0         1        2        3        4        5        6        7    \\\n",
       "like -0.18417  0.055115 -0.36953 -0.20895  0.25672  0.30142  0.16299 -0.16437   \n",
       "\n",
       "           8       9    ...       290      291      292      293      294  \\\n",
       "like -0.070268  2.1638  ...  0.029923  0.19484 -0.13368  0.00285 -0.30414   \n",
       "\n",
       "          295      296      297      298      299  \n",
       "like  0.28539 -0.33109 -0.23808  0.37132  0.36197  \n",
       "\n",
       "[1 rows x 300 columns]"
      ]
     },
     "execution_count": 138,
     "metadata": {},
     "output_type": "execute_result"
    }
   ],
   "source": [
    "# create a dataframe where each row index is the candidate aspect and each row contains the 300D word2vec vector\n",
    "df = pd.DataFrame(compiled_arr)\n",
    "df.index = list(candidate_aspects)\n",
    "df.head(1)"
   ]
  },
  {
   "cell_type": "code",
   "execution_count": null,
   "metadata": {
    "id": "HiWAWWLYihZs"
   },
   "outputs": [],
   "source": [
    "!pip install pycaret"
   ]
  },
  {
   "cell_type": "code",
   "execution_count": 140,
   "metadata": {
    "colab": {
     "base_uri": "https://localhost:8080/",
     "height": 1000,
     "referenced_widgets": [
      "945ec6604fe24d9eb8a39a5a810265de",
      "d0c4d6c8295f451490d335f6da383951",
      "2141e189c3524eabac4a3d4d44c40d3f",
      "36ee51db1c334665a7f41922345029fb",
      "203094dc8fb746e4ae824a99ba0bb567",
      "d99fba59382141fe9d97e8a74be90c4c",
      "7b84bdc3d89842e2813d116e26a85aa6",
      "4925c29882a9432d9ca676745166cc1b",
      "dc8567121d26492ba6a784d79b4ce569",
      "6e3a850d71a04b389494a54dd9870835",
      "514c10b0ec9643419f2a6e3a85eafe09"
     ]
    },
    "executionInfo": {
     "elapsed": 4386,
     "status": "ok",
     "timestamp": 1679819684999,
     "user": {
      "displayName": "bel hello",
      "userId": "14145485794765337692"
     },
     "user_tz": -480
    },
    "id": "T6VlLjA3i-na",
    "outputId": "220ee347-2b26-4266-8808-810d8571f060"
   },
   "outputs": [
    {
     "data": {
      "text/html": [
       "<style type=\"text/css\">\n",
       "#T_8e0f8_row4_col1, #T_8e0f8_row8_col1 {\n",
       "  background-color: lightgreen;\n",
       "}\n",
       "</style>\n",
       "<table id=\"T_8e0f8\" class=\"dataframe\">\n",
       "  <thead>\n",
       "    <tr>\n",
       "      <th class=\"blank level0\" >&nbsp;</th>\n",
       "      <th id=\"T_8e0f8_level0_col0\" class=\"col_heading level0 col0\" >Description</th>\n",
       "      <th id=\"T_8e0f8_level0_col1\" class=\"col_heading level0 col1\" >Value</th>\n",
       "    </tr>\n",
       "  </thead>\n",
       "  <tbody>\n",
       "    <tr>\n",
       "      <th id=\"T_8e0f8_level0_row0\" class=\"row_heading level0 row0\" >0</th>\n",
       "      <td id=\"T_8e0f8_row0_col0\" class=\"data row0 col0\" >Session id</td>\n",
       "      <td id=\"T_8e0f8_row0_col1\" class=\"data row0 col1\" >123</td>\n",
       "    </tr>\n",
       "    <tr>\n",
       "      <th id=\"T_8e0f8_level0_row1\" class=\"row_heading level0 row1\" >1</th>\n",
       "      <td id=\"T_8e0f8_row1_col0\" class=\"data row1 col0\" >Original data shape</td>\n",
       "      <td id=\"T_8e0f8_row1_col1\" class=\"data row1 col1\" >(13, 300)</td>\n",
       "    </tr>\n",
       "    <tr>\n",
       "      <th id=\"T_8e0f8_level0_row2\" class=\"row_heading level0 row2\" >2</th>\n",
       "      <td id=\"T_8e0f8_row2_col0\" class=\"data row2 col0\" >Transformed data shape</td>\n",
       "      <td id=\"T_8e0f8_row2_col1\" class=\"data row2 col1\" >(13, 300)</td>\n",
       "    </tr>\n",
       "    <tr>\n",
       "      <th id=\"T_8e0f8_level0_row3\" class=\"row_heading level0 row3\" >3</th>\n",
       "      <td id=\"T_8e0f8_row3_col0\" class=\"data row3 col0\" >Numeric features</td>\n",
       "      <td id=\"T_8e0f8_row3_col1\" class=\"data row3 col1\" >300</td>\n",
       "    </tr>\n",
       "    <tr>\n",
       "      <th id=\"T_8e0f8_level0_row4\" class=\"row_heading level0 row4\" >4</th>\n",
       "      <td id=\"T_8e0f8_row4_col0\" class=\"data row4 col0\" >Preprocess</td>\n",
       "      <td id=\"T_8e0f8_row4_col1\" class=\"data row4 col1\" >True</td>\n",
       "    </tr>\n",
       "    <tr>\n",
       "      <th id=\"T_8e0f8_level0_row5\" class=\"row_heading level0 row5\" >5</th>\n",
       "      <td id=\"T_8e0f8_row5_col0\" class=\"data row5 col0\" >Imputation type</td>\n",
       "      <td id=\"T_8e0f8_row5_col1\" class=\"data row5 col1\" >simple</td>\n",
       "    </tr>\n",
       "    <tr>\n",
       "      <th id=\"T_8e0f8_level0_row6\" class=\"row_heading level0 row6\" >6</th>\n",
       "      <td id=\"T_8e0f8_row6_col0\" class=\"data row6 col0\" >Numeric imputation</td>\n",
       "      <td id=\"T_8e0f8_row6_col1\" class=\"data row6 col1\" >mean</td>\n",
       "    </tr>\n",
       "    <tr>\n",
       "      <th id=\"T_8e0f8_level0_row7\" class=\"row_heading level0 row7\" >7</th>\n",
       "      <td id=\"T_8e0f8_row7_col0\" class=\"data row7 col0\" >Categorical imputation</td>\n",
       "      <td id=\"T_8e0f8_row7_col1\" class=\"data row7 col1\" >mode</td>\n",
       "    </tr>\n",
       "    <tr>\n",
       "      <th id=\"T_8e0f8_level0_row8\" class=\"row_heading level0 row8\" >8</th>\n",
       "      <td id=\"T_8e0f8_row8_col0\" class=\"data row8 col0\" >Normalize</td>\n",
       "      <td id=\"T_8e0f8_row8_col1\" class=\"data row8 col1\" >True</td>\n",
       "    </tr>\n",
       "    <tr>\n",
       "      <th id=\"T_8e0f8_level0_row9\" class=\"row_heading level0 row9\" >9</th>\n",
       "      <td id=\"T_8e0f8_row9_col0\" class=\"data row9 col0\" >Normalize method</td>\n",
       "      <td id=\"T_8e0f8_row9_col1\" class=\"data row9 col1\" >zscore</td>\n",
       "    </tr>\n",
       "    <tr>\n",
       "      <th id=\"T_8e0f8_level0_row10\" class=\"row_heading level0 row10\" >10</th>\n",
       "      <td id=\"T_8e0f8_row10_col0\" class=\"data row10 col0\" >CPU Jobs</td>\n",
       "      <td id=\"T_8e0f8_row10_col1\" class=\"data row10 col1\" >-1</td>\n",
       "    </tr>\n",
       "    <tr>\n",
       "      <th id=\"T_8e0f8_level0_row11\" class=\"row_heading level0 row11\" >11</th>\n",
       "      <td id=\"T_8e0f8_row11_col0\" class=\"data row11 col0\" >Use GPU</td>\n",
       "      <td id=\"T_8e0f8_row11_col1\" class=\"data row11 col1\" >False</td>\n",
       "    </tr>\n",
       "    <tr>\n",
       "      <th id=\"T_8e0f8_level0_row12\" class=\"row_heading level0 row12\" >12</th>\n",
       "      <td id=\"T_8e0f8_row12_col0\" class=\"data row12 col0\" >Log Experiment</td>\n",
       "      <td id=\"T_8e0f8_row12_col1\" class=\"data row12 col1\" >False</td>\n",
       "    </tr>\n",
       "    <tr>\n",
       "      <th id=\"T_8e0f8_level0_row13\" class=\"row_heading level0 row13\" >13</th>\n",
       "      <td id=\"T_8e0f8_row13_col0\" class=\"data row13 col0\" >Experiment Name</td>\n",
       "      <td id=\"T_8e0f8_row13_col1\" class=\"data row13 col1\" >cluster-default-name</td>\n",
       "    </tr>\n",
       "    <tr>\n",
       "      <th id=\"T_8e0f8_level0_row14\" class=\"row_heading level0 row14\" >14</th>\n",
       "      <td id=\"T_8e0f8_row14_col0\" class=\"data row14 col0\" >USI</td>\n",
       "      <td id=\"T_8e0f8_row14_col1\" class=\"data row14 col1\" >042c</td>\n",
       "    </tr>\n",
       "  </tbody>\n",
       "</table>\n"
      ],
      "text/plain": [
       "<pandas.io.formats.style.Styler at 0x7f921e42ee20>"
      ]
     },
     "metadata": {},
     "output_type": "display_data"
    },
    {
     "data": {
      "text/html": [],
      "text/plain": [
       "<IPython.core.display.HTML object>"
      ]
     },
     "metadata": {},
     "output_type": "display_data"
    },
    {
     "data": {
      "text/html": [
       "<style type=\"text/css\">\n",
       "</style>\n",
       "<table id=\"T_ae485\" class=\"dataframe\">\n",
       "  <thead>\n",
       "    <tr>\n",
       "      <th class=\"blank level0\" >&nbsp;</th>\n",
       "      <th id=\"T_ae485_level0_col0\" class=\"col_heading level0 col0\" >Silhouette</th>\n",
       "      <th id=\"T_ae485_level0_col1\" class=\"col_heading level0 col1\" >Calinski-Harabasz</th>\n",
       "      <th id=\"T_ae485_level0_col2\" class=\"col_heading level0 col2\" >Davies-Bouldin</th>\n",
       "      <th id=\"T_ae485_level0_col3\" class=\"col_heading level0 col3\" >Homogeneity</th>\n",
       "      <th id=\"T_ae485_level0_col4\" class=\"col_heading level0 col4\" >Rand Index</th>\n",
       "      <th id=\"T_ae485_level0_col5\" class=\"col_heading level0 col5\" >Completeness</th>\n",
       "    </tr>\n",
       "  </thead>\n",
       "  <tbody>\n",
       "    <tr>\n",
       "      <th id=\"T_ae485_level0_row0\" class=\"row_heading level0 row0\" >0</th>\n",
       "      <td id=\"T_ae485_row0_col0\" class=\"data row0 col0\" >0.0866</td>\n",
       "      <td id=\"T_ae485_row0_col1\" class=\"data row0 col1\" >2.3363</td>\n",
       "      <td id=\"T_ae485_row0_col2\" class=\"data row0 col2\" >0.9680</td>\n",
       "      <td id=\"T_ae485_row0_col3\" class=\"data row0 col3\" >0</td>\n",
       "      <td id=\"T_ae485_row0_col4\" class=\"data row0 col4\" >0</td>\n",
       "      <td id=\"T_ae485_row0_col5\" class=\"data row0 col5\" >0</td>\n",
       "    </tr>\n",
       "  </tbody>\n",
       "</table>\n"
      ],
      "text/plain": [
       "<pandas.io.formats.style.Styler at 0x7f921e42eac0>"
      ]
     },
     "metadata": {},
     "output_type": "display_data"
    },
    {
     "data": {
      "application/vnd.jupyter.widget-view+json": {
       "model_id": "945ec6604fe24d9eb8a39a5a810265de",
       "version_major": 2,
       "version_minor": 0
      },
      "text/plain": [
       "Processing:   0%|          | 0/3 [00:00<?, ?it/s]"
      ]
     },
     "metadata": {
      "application/vnd.jupyter.widget-view+json": {
       "colab": {
        "custom_widget_manager": {
         "url": "https://ssl.gstatic.com/colaboratory-static/widgets/colab-cdn-widget-manager/b3e629b1971e1542/manager.min.js"
        }
       }
      }
     },
     "output_type": "display_data"
    },
    {
     "data": {
      "text/html": [],
      "text/plain": [
       "<IPython.core.display.HTML object>"
      ]
     },
     "metadata": {},
     "output_type": "display_data"
    },
    {
     "data": {
      "text/html": [],
      "text/plain": [
       "<IPython.core.display.HTML object>"
      ]
     },
     "metadata": {},
     "output_type": "display_data"
    },
    {
     "data": {
      "image/png": "[encoded data removed]",
      "text/plain": [
       "<Figure size 432x288 with 1 Axes>"
      ]
     },
     "metadata": {
      "needs_background": "light"
     },
     "output_type": "display_data"
    },
    {
     "data": {
      "text/html": [
       "\n",
       "  <div id=\"df-6f716eea-7c07-4c31-a7a0-cfca6b2b1d56\">\n",
       "    <div class=\"colab-df-container\">\n",
       "      <div>\n",
       "<style scoped>\n",
       "    .dataframe tbody tr th:only-of-type {\n",
       "        vertical-align: middle;\n",
       "    }\n",
       "\n",
       "    .dataframe tbody tr th {\n",
       "        vertical-align: top;\n",
       "    }\n",
       "\n",
       "    .dataframe thead th {\n",
       "        text-align: right;\n",
       "    }\n",
       "</style>\n",
       "<table border=\"1\" class=\"dataframe\">\n",
       "  <thead>\n",
       "    <tr style=\"text-align: right;\">\n",
       "      <th></th>\n",
       "      <th>0</th>\n",
       "      <th>1</th>\n",
       "      <th>2</th>\n",
       "      <th>3</th>\n",
       "      <th>4</th>\n",
       "      <th>5</th>\n",
       "      <th>6</th>\n",
       "      <th>7</th>\n",
       "      <th>8</th>\n",
       "      <th>9</th>\n",
       "      <th>...</th>\n",
       "      <th>291</th>\n",
       "      <th>292</th>\n",
       "      <th>293</th>\n",
       "      <th>294</th>\n",
       "      <th>295</th>\n",
       "      <th>296</th>\n",
       "      <th>297</th>\n",
       "      <th>298</th>\n",
       "      <th>299</th>\n",
       "      <th>Cluster</th>\n",
       "    </tr>\n",
       "  </thead>\n",
       "  <tbody>\n",
       "    <tr>\n",
       "      <th>like</th>\n",
       "      <td>-0.184170</td>\n",
       "      <td>0.055115</td>\n",
       "      <td>-0.369530</td>\n",
       "      <td>-0.208950</td>\n",
       "      <td>0.256720</td>\n",
       "      <td>0.301420</td>\n",
       "      <td>0.162990</td>\n",
       "      <td>-0.164370</td>\n",
       "      <td>-0.070268</td>\n",
       "      <td>2.163800</td>\n",
       "      <td>...</td>\n",
       "      <td>0.194840</td>\n",
       "      <td>-0.133680</td>\n",
       "      <td>0.002850</td>\n",
       "      <td>-0.304140</td>\n",
       "      <td>0.285390</td>\n",
       "      <td>-0.331090</td>\n",
       "      <td>-0.238080</td>\n",
       "      <td>0.371320</td>\n",
       "      <td>0.361970</td>\n",
       "      <td>Cluster 1</td>\n",
       "    </tr>\n",
       "    <tr>\n",
       "      <th>nyx</th>\n",
       "      <td>0.346560</td>\n",
       "      <td>-0.252490</td>\n",
       "      <td>-0.073986</td>\n",
       "      <td>0.184100</td>\n",
       "      <td>0.142460</td>\n",
       "      <td>-0.299730</td>\n",
       "      <td>0.293220</td>\n",
       "      <td>-0.084776</td>\n",
       "      <td>0.012599</td>\n",
       "      <td>-1.176400</td>\n",
       "      <td>...</td>\n",
       "      <td>0.653510</td>\n",
       "      <td>0.060576</td>\n",
       "      <td>-0.699980</td>\n",
       "      <td>0.130320</td>\n",
       "      <td>-0.330550</td>\n",
       "      <td>-0.144280</td>\n",
       "      <td>0.061876</td>\n",
       "      <td>0.379920</td>\n",
       "      <td>0.026868</td>\n",
       "      <td>Cluster 2</td>\n",
       "    </tr>\n",
       "    <tr>\n",
       "      <th>dizziness</th>\n",
       "      <td>-0.331900</td>\n",
       "      <td>0.020677</td>\n",
       "      <td>-0.438340</td>\n",
       "      <td>0.127330</td>\n",
       "      <td>-0.233720</td>\n",
       "      <td>-0.249320</td>\n",
       "      <td>-0.213190</td>\n",
       "      <td>0.364670</td>\n",
       "      <td>0.030782</td>\n",
       "      <td>0.642480</td>\n",
       "      <td>...</td>\n",
       "      <td>0.110460</td>\n",
       "      <td>0.325740</td>\n",
       "      <td>-0.101010</td>\n",
       "      <td>0.010371</td>\n",
       "      <td>-0.020455</td>\n",
       "      <td>-0.011124</td>\n",
       "      <td>-0.204030</td>\n",
       "      <td>0.208060</td>\n",
       "      <td>0.164850</td>\n",
       "      <td>Cluster 4</td>\n",
       "    </tr>\n",
       "    <tr>\n",
       "      <th>suitable</th>\n",
       "      <td>0.285530</td>\n",
       "      <td>0.454930</td>\n",
       "      <td>-0.480820</td>\n",
       "      <td>-0.175670</td>\n",
       "      <td>0.325580</td>\n",
       "      <td>-0.038095</td>\n",
       "      <td>-0.036584</td>\n",
       "      <td>-0.026114</td>\n",
       "      <td>-0.186170</td>\n",
       "      <td>1.059300</td>\n",
       "      <td>...</td>\n",
       "      <td>-0.396350</td>\n",
       "      <td>-0.200980</td>\n",
       "      <td>-0.130490</td>\n",
       "      <td>0.037491</td>\n",
       "      <td>0.236150</td>\n",
       "      <td>0.196870</td>\n",
       "      <td>-0.578910</td>\n",
       "      <td>-0.307590</td>\n",
       "      <td>0.259690</td>\n",
       "      <td>Cluster 1</td>\n",
       "    </tr>\n",
       "    <tr>\n",
       "      <th>eye pencil</th>\n",
       "      <td>-0.119493</td>\n",
       "      <td>-0.403165</td>\n",
       "      <td>-0.309195</td>\n",
       "      <td>-0.044201</td>\n",
       "      <td>-0.270409</td>\n",
       "      <td>-0.475295</td>\n",
       "      <td>-0.068888</td>\n",
       "      <td>0.394225</td>\n",
       "      <td>-0.151502</td>\n",
       "      <td>1.139345</td>\n",
       "      <td>...</td>\n",
       "      <td>0.400270</td>\n",
       "      <td>0.283989</td>\n",
       "      <td>-0.323695</td>\n",
       "      <td>-0.039411</td>\n",
       "      <td>0.061550</td>\n",
       "      <td>0.337230</td>\n",
       "      <td>0.013510</td>\n",
       "      <td>0.258905</td>\n",
       "      <td>0.131749</td>\n",
       "      <td>Cluster 3</td>\n",
       "    </tr>\n",
       "    <tr>\n",
       "      <th>everyday life</th>\n",
       "      <td>-0.041580</td>\n",
       "      <td>0.302071</td>\n",
       "      <td>-0.046845</td>\n",
       "      <td>-0.086540</td>\n",
       "      <td>-0.116200</td>\n",
       "      <td>0.238416</td>\n",
       "      <td>-0.244560</td>\n",
       "      <td>0.143131</td>\n",
       "      <td>0.196075</td>\n",
       "      <td>2.509650</td>\n",
       "      <td>...</td>\n",
       "      <td>-0.170305</td>\n",
       "      <td>-0.025975</td>\n",
       "      <td>-0.102521</td>\n",
       "      <td>-0.009406</td>\n",
       "      <td>0.136092</td>\n",
       "      <td>0.196734</td>\n",
       "      <td>0.022370</td>\n",
       "      <td>-0.231095</td>\n",
       "      <td>-0.195742</td>\n",
       "      <td>Cluster 1</td>\n",
       "    </tr>\n",
       "    <tr>\n",
       "      <th>dark brown</th>\n",
       "      <td>-0.068575</td>\n",
       "      <td>-0.044478</td>\n",
       "      <td>0.067533</td>\n",
       "      <td>0.137155</td>\n",
       "      <td>0.017004</td>\n",
       "      <td>0.015530</td>\n",
       "      <td>-0.474735</td>\n",
       "      <td>0.186290</td>\n",
       "      <td>-0.134455</td>\n",
       "      <td>1.071365</td>\n",
       "      <td>...</td>\n",
       "      <td>0.259955</td>\n",
       "      <td>0.063442</td>\n",
       "      <td>-0.641615</td>\n",
       "      <td>-0.389345</td>\n",
       "      <td>0.620380</td>\n",
       "      <td>0.324370</td>\n",
       "      <td>-0.260580</td>\n",
       "      <td>-0.194280</td>\n",
       "      <td>0.069498</td>\n",
       "      <td>Cluster 1</td>\n",
       "    </tr>\n",
       "    <tr>\n",
       "      <th>hard</th>\n",
       "      <td>-0.284700</td>\n",
       "      <td>0.060205</td>\n",
       "      <td>-0.331980</td>\n",
       "      <td>-0.065790</td>\n",
       "      <td>0.040930</td>\n",
       "      <td>-0.253090</td>\n",
       "      <td>0.066547</td>\n",
       "      <td>-0.158760</td>\n",
       "      <td>0.386600</td>\n",
       "      <td>2.146900</td>\n",
       "      <td>...</td>\n",
       "      <td>-0.074317</td>\n",
       "      <td>-0.048285</td>\n",
       "      <td>-0.497210</td>\n",
       "      <td>-0.118980</td>\n",
       "      <td>0.207990</td>\n",
       "      <td>0.308680</td>\n",
       "      <td>0.011521</td>\n",
       "      <td>0.154380</td>\n",
       "      <td>-0.456820</td>\n",
       "      <td>Cluster 1</td>\n",
       "    </tr>\n",
       "    <tr>\n",
       "      <th>draw</th>\n",
       "      <td>-0.190950</td>\n",
       "      <td>-0.037522</td>\n",
       "      <td>-0.038896</td>\n",
       "      <td>0.252180</td>\n",
       "      <td>-0.167930</td>\n",
       "      <td>-0.442570</td>\n",
       "      <td>-0.006465</td>\n",
       "      <td>0.898310</td>\n",
       "      <td>-0.322620</td>\n",
       "      <td>2.006100</td>\n",
       "      <td>...</td>\n",
       "      <td>-0.009304</td>\n",
       "      <td>-0.209300</td>\n",
       "      <td>-0.150730</td>\n",
       "      <td>-0.107040</td>\n",
       "      <td>0.032931</td>\n",
       "      <td>0.268420</td>\n",
       "      <td>-0.274050</td>\n",
       "      <td>0.424830</td>\n",
       "      <td>-0.019467</td>\n",
       "      <td>Cluster 0</td>\n",
       "    </tr>\n",
       "    <tr>\n",
       "      <th>ordinary pen</th>\n",
       "      <td>-0.100874</td>\n",
       "      <td>-0.030025</td>\n",
       "      <td>-0.351495</td>\n",
       "      <td>0.041805</td>\n",
       "      <td>-0.315140</td>\n",
       "      <td>0.052120</td>\n",
       "      <td>0.021635</td>\n",
       "      <td>-0.035889</td>\n",
       "      <td>-0.047203</td>\n",
       "      <td>1.408705</td>\n",
       "      <td>...</td>\n",
       "      <td>0.066167</td>\n",
       "      <td>0.231370</td>\n",
       "      <td>0.019587</td>\n",
       "      <td>0.107400</td>\n",
       "      <td>-0.003750</td>\n",
       "      <td>0.353967</td>\n",
       "      <td>-0.178180</td>\n",
       "      <td>-0.182701</td>\n",
       "      <td>0.114715</td>\n",
       "      <td>Cluster 3</td>\n",
       "    </tr>\n",
       "    <tr>\n",
       "      <th>pen</th>\n",
       "      <td>-0.052517</td>\n",
       "      <td>0.151050</td>\n",
       "      <td>-0.416240</td>\n",
       "      <td>-0.011362</td>\n",
       "      <td>-0.190140</td>\n",
       "      <td>-0.134280</td>\n",
       "      <td>0.177070</td>\n",
       "      <td>-0.100750</td>\n",
       "      <td>0.007785</td>\n",
       "      <td>0.931810</td>\n",
       "      <td>...</td>\n",
       "      <td>0.038438</td>\n",
       "      <td>0.310790</td>\n",
       "      <td>0.122940</td>\n",
       "      <td>0.473910</td>\n",
       "      <td>-0.086411</td>\n",
       "      <td>0.623850</td>\n",
       "      <td>0.115960</td>\n",
       "      <td>-0.407730</td>\n",
       "      <td>0.519230</td>\n",
       "      <td>Cluster 3</td>\n",
       "    </tr>\n",
       "    <tr>\n",
       "      <th>kind</th>\n",
       "      <td>-0.150970</td>\n",
       "      <td>0.297940</td>\n",
       "      <td>-0.093572</td>\n",
       "      <td>0.035572</td>\n",
       "      <td>0.039319</td>\n",
       "      <td>0.269860</td>\n",
       "      <td>0.121700</td>\n",
       "      <td>-0.392230</td>\n",
       "      <td>0.026304</td>\n",
       "      <td>2.431800</td>\n",
       "      <td>...</td>\n",
       "      <td>0.045415</td>\n",
       "      <td>-0.102930</td>\n",
       "      <td>-0.087615</td>\n",
       "      <td>0.133870</td>\n",
       "      <td>0.356780</td>\n",
       "      <td>0.037039</td>\n",
       "      <td>-0.091308</td>\n",
       "      <td>0.039360</td>\n",
       "      <td>0.325850</td>\n",
       "      <td>Cluster 1</td>\n",
       "    </tr>\n",
       "    <tr>\n",
       "      <th>beautiful</th>\n",
       "      <td>0.171200</td>\n",
       "      <td>0.534390</td>\n",
       "      <td>-0.348540</td>\n",
       "      <td>-0.097234</td>\n",
       "      <td>0.101800</td>\n",
       "      <td>-0.170860</td>\n",
       "      <td>0.295650</td>\n",
       "      <td>-0.041816</td>\n",
       "      <td>-0.516550</td>\n",
       "      <td>2.117200</td>\n",
       "      <td>...</td>\n",
       "      <td>0.104670</td>\n",
       "      <td>0.126310</td>\n",
       "      <td>0.120040</td>\n",
       "      <td>0.254380</td>\n",
       "      <td>0.247400</td>\n",
       "      <td>0.207670</td>\n",
       "      <td>0.172580</td>\n",
       "      <td>0.063875</td>\n",
       "      <td>0.350990</td>\n",
       "      <td>Cluster 1</td>\n",
       "    </tr>\n",
       "  </tbody>\n",
       "</table>\n",
       "<p>13 rows × 301 columns</p>\n",
       "</div>\n",
       "      <button class=\"colab-df-convert\" onclick=\"convertToInteractive('df-6f716eea-7c07-4c31-a7a0-cfca6b2b1d56')\"\n",
       "              title=\"Convert this dataframe to an interactive table.\"\n",
       "              style=\"display:none;\">\n",
       "        \n",
       "  <svg xmlns=\"http://www.w3.org/2000/svg\" height=\"24px\"viewBox=\"0 0 24 24\"\n",
       "       width=\"24px\">\n",
       "    <path d=\"M0 0h24v24H0V0z\" fill=\"none\"/>\n",
       "    <path d=\"M18.56 5.44l.94 2.06.94-2.06 2.06-.94-2.06-.94-.94-2.06-.94 2.06-2.06.94zm-11 1L8.5 8.5l.94-2.06 2.06-.94-2.06-.94L8.5 2.5l-.94 2.06-2.06.94zm10 10l.94 2.06.94-2.06 2.06-.94-2.06-.94-.94-2.06-.94 2.06-2.06.94z\"/><path d=\"M17.41 7.96l-1.37-1.37c-.4-.4-.92-.59-1.43-.59-.52 0-1.04.2-1.43.59L10.3 9.45l-7.72 7.72c-.78.78-.78 2.05 0 2.83L4 21.41c.39.39.9.59 1.41.59.51 0 1.02-.2 1.41-.59l7.78-7.78 2.81-2.81c.8-.78.8-2.07 0-2.86zM5.41 20L4 18.59l7.72-7.72 1.47 1.35L5.41 20z\"/>\n",
       "  </svg>\n",
       "      </button>\n",
       "      \n",
       "  <style>\n",
       "    .colab-df-container {\n",
       "      display:flex;\n",
       "      flex-wrap:wrap;\n",
       "      gap: 12px;\n",
       "    }\n",
       "\n",
       "    .colab-df-convert {\n",
       "      background-color: #E8F0FE;\n",
       "      border: none;\n",
       "      border-radius: 50%;\n",
       "      cursor: pointer;\n",
       "      display: none;\n",
       "      fill: #1967D2;\n",
       "      height: 32px;\n",
       "      padding: 0 0 0 0;\n",
       "      width: 32px;\n",
       "    }\n",
       "\n",
       "    .colab-df-convert:hover {\n",
       "      background-color: #E2EBFA;\n",
       "      box-shadow: 0px 1px 2px rgba(60, 64, 67, 0.3), 0px 1px 3px 1px rgba(60, 64, 67, 0.15);\n",
       "      fill: #174EA6;\n",
       "    }\n",
       "\n",
       "    [theme=dark] .colab-df-convert {\n",
       "      background-color: #3B4455;\n",
       "      fill: #D2E3FC;\n",
       "    }\n",
       "\n",
       "    [theme=dark] .colab-df-convert:hover {\n",
       "      background-color: #434B5C;\n",
       "      box-shadow: 0px 1px 3px 1px rgba(0, 0, 0, 0.15);\n",
       "      filter: drop-shadow(0px 1px 2px rgba(0, 0, 0, 0.3));\n",
       "      fill: #FFFFFF;\n",
       "    }\n",
       "  </style>\n",
       "\n",
       "      <script>\n",
       "        const buttonEl =\n",
       "          document.querySelector('#df-6f716eea-7c07-4c31-a7a0-cfca6b2b1d56 button.colab-df-convert');\n",
       "        buttonEl.style.display =\n",
       "          google.colab.kernel.accessAllowed ? 'block' : 'none';\n",
       "\n",
       "        async function convertToInteractive(key) {\n",
       "          const element = document.querySelector('#df-6f716eea-7c07-4c31-a7a0-cfca6b2b1d56');\n",
       "          const dataTable =\n",
       "            await google.colab.kernel.invokeFunction('convertToInteractive',\n",
       "                                                     [key], {});\n",
       "          if (!dataTable) return;\n",
       "\n",
       "          const docLinkHtml = 'Like what you see? Visit the ' +\n",
       "            '<a target=\"_blank\" href=https://colab.research.google.com/notebooks/data_table.ipynb>data table notebook</a>'\n",
       "            + ' to learn more about interactive tables.';\n",
       "          element.innerHTML = '';\n",
       "          dataTable['output_type'] = 'display_data';\n",
       "          await google.colab.output.renderOutput(dataTable, element);\n",
       "          const docLink = document.createElement('div');\n",
       "          docLink.innerHTML = docLinkHtml;\n",
       "          element.appendChild(docLink);\n",
       "        }\n",
       "      </script>\n",
       "    </div>\n",
       "  </div>\n",
       "  "
      ],
      "text/plain": [
       "                      0         1         2         3         4         5  \\\n",
       "like          -0.184170  0.055115 -0.369530 -0.208950  0.256720  0.301420   \n",
       "nyx            0.346560 -0.252490 -0.073986  0.184100  0.142460 -0.299730   \n",
       "dizziness     -0.331900  0.020677 -0.438340  0.127330 -0.233720 -0.249320   \n",
       "suitable       0.285530  0.454930 -0.480820 -0.175670  0.325580 -0.038095   \n",
       "eye pencil    -0.119493 -0.403165 -0.309195 -0.044201 -0.270409 -0.475295   \n",
       "everyday life -0.041580  0.302071 -0.046845 -0.086540 -0.116200  0.238416   \n",
       "dark brown    -0.068575 -0.044478  0.067533  0.137155  0.017004  0.015530   \n",
       "hard          -0.284700  0.060205 -0.331980 -0.065790  0.040930 -0.253090   \n",
       "draw          -0.190950 -0.037522 -0.038896  0.252180 -0.167930 -0.442570   \n",
       "ordinary pen  -0.100874 -0.030025 -0.351495  0.041805 -0.315140  0.052120   \n",
       "pen           -0.052517  0.151050 -0.416240 -0.011362 -0.190140 -0.134280   \n",
       "kind          -0.150970  0.297940 -0.093572  0.035572  0.039319  0.269860   \n",
       "beautiful      0.171200  0.534390 -0.348540 -0.097234  0.101800 -0.170860   \n",
       "\n",
       "                      6         7         8         9  ...       291  \\\n",
       "like           0.162990 -0.164370 -0.070268  2.163800  ...  0.194840   \n",
       "nyx            0.293220 -0.084776  0.012599 -1.176400  ...  0.653510   \n",
       "dizziness     -0.213190  0.364670  0.030782  0.642480  ...  0.110460   \n",
       "suitable      -0.036584 -0.026114 -0.186170  1.059300  ... -0.396350   \n",
       "eye pencil    -0.068888  0.394225 -0.151502  1.139345  ...  0.400270   \n",
       "everyday life -0.244560  0.143131  0.196075  2.509650  ... -0.170305   \n",
       "dark brown    -0.474735  0.186290 -0.134455  1.071365  ...  0.259955   \n",
       "hard           0.066547 -0.158760  0.386600  2.146900  ... -0.074317   \n",
       "draw          -0.006465  0.898310 -0.322620  2.006100  ... -0.009304   \n",
       "ordinary pen   0.021635 -0.035889 -0.047203  1.408705  ...  0.066167   \n",
       "pen            0.177070 -0.100750  0.007785  0.931810  ...  0.038438   \n",
       "kind           0.121700 -0.392230  0.026304  2.431800  ...  0.045415   \n",
       "beautiful      0.295650 -0.041816 -0.516550  2.117200  ...  0.104670   \n",
       "\n",
       "                    292       293       294       295       296       297  \\\n",
       "like          -0.133680  0.002850 -0.304140  0.285390 -0.331090 -0.238080   \n",
       "nyx            0.060576 -0.699980  0.130320 -0.330550 -0.144280  0.061876   \n",
       "dizziness      0.325740 -0.101010  0.010371 -0.020455 -0.011124 -0.204030   \n",
       "suitable      -0.200980 -0.130490  0.037491  0.236150  0.196870 -0.578910   \n",
       "eye pencil     0.283989 -0.323695 -0.039411  0.061550  0.337230  0.013510   \n",
       "everyday life -0.025975 -0.102521 -0.009406  0.136092  0.196734  0.022370   \n",
       "dark brown     0.063442 -0.641615 -0.389345  0.620380  0.324370 -0.260580   \n",
       "hard          -0.048285 -0.497210 -0.118980  0.207990  0.308680  0.011521   \n",
       "draw          -0.209300 -0.150730 -0.107040  0.032931  0.268420 -0.274050   \n",
       "ordinary pen   0.231370  0.019587  0.107400 -0.003750  0.353967 -0.178180   \n",
       "pen            0.310790  0.122940  0.473910 -0.086411  0.623850  0.115960   \n",
       "kind          -0.102930 -0.087615  0.133870  0.356780  0.037039 -0.091308   \n",
       "beautiful      0.126310  0.120040  0.254380  0.247400  0.207670  0.172580   \n",
       "\n",
       "                    298       299    Cluster  \n",
       "like           0.371320  0.361970  Cluster 1  \n",
       "nyx            0.379920  0.026868  Cluster 2  \n",
       "dizziness      0.208060  0.164850  Cluster 4  \n",
       "suitable      -0.307590  0.259690  Cluster 1  \n",
       "eye pencil     0.258905  0.131749  Cluster 3  \n",
       "everyday life -0.231095 -0.195742  Cluster 1  \n",
       "dark brown    -0.194280  0.069498  Cluster 1  \n",
       "hard           0.154380 -0.456820  Cluster 1  \n",
       "draw           0.424830 -0.019467  Cluster 0  \n",
       "ordinary pen  -0.182701  0.114715  Cluster 3  \n",
       "pen           -0.407730  0.519230  Cluster 3  \n",
       "kind           0.039360  0.325850  Cluster 1  \n",
       "beautiful      0.063875  0.350990  Cluster 1  \n",
       "\n",
       "[13 rows x 301 columns]"
      ]
     },
     "execution_count": 140,
     "metadata": {},
     "output_type": "execute_result"
    }
   ],
   "source": [
    "from pycaret.clustering import *\n",
    "exp_clu101 = setup(df, normalize = True, session_id = 123)\n",
    "kmeans = create_model('kmeans',num_clusters = 5)\n",
    "plot_model(kmeans, plot = 'elbow')\n",
    "kmean_results = assign_model(kmeans)\n",
    "kmean_results"
   ]
  },
  {
   "cell_type": "code",
   "execution_count": 141,
   "metadata": {
    "colab": {
     "base_uri": "https://localhost:8080/"
    },
    "executionInfo": {
     "elapsed": 309,
     "status": "ok",
     "timestamp": 1679819688194,
     "user": {
      "displayName": "bel hello",
      "userId": "14145485794765337692"
     },
     "user_tz": -480
    },
    "id": "4RSblAp1sw3v",
    "outputId": "8dc4d2d4-aac1-4ac1-e41a-2abe639c151b"
   },
   "outputs": [
    {
     "name": "stdout",
     "output_type": "stream",
     "text": [
      "Cluster 1\n",
      "['like', 'suitable', 'everyday life', 'dark brown', 'hard', 'kind', 'beautiful']\n",
      "Cluster 2\n",
      "['nyx']\n",
      "Cluster 4\n",
      "['dizziness']\n",
      "Cluster 3\n",
      "['eye pencil', 'ordinary pen', 'pen']\n",
      "Cluster 0\n",
      "['draw']\n"
     ]
    }
   ],
   "source": [
    "cluster_dict = {}\n",
    "for i in kmean_results.index:\n",
    "  cluster = kmean_results.loc[i][\"Cluster\"]\n",
    "  if cluster not in cluster_dict:\n",
    "    cluster_dict[cluster] = [i]\n",
    "  else:\n",
    "    cluster_dict[cluster].append(i)\n",
    "\n",
    "for k, v in cluster_dict.items():\n",
    "  print(k)\n",
    "  print(v)"
   ]
  },
  {
   "cell_type": "code",
   "execution_count": 142,
   "metadata": {
    "colab": {
     "base_uri": "https://localhost:8080/",
     "height": 617
    },
    "executionInfo": {
     "elapsed": 1309,
     "status": "ok",
     "timestamp": 1679819691933,
     "user": {
      "displayName": "bel hello",
      "userId": "14145485794765337692"
     },
     "user_tz": -480
    },
    "id": "CSueUG3AsPxH",
    "outputId": "f76593ac-0931-4cf8-9933-4d2a7ebfaddf"
   },
   "outputs": [
    {
     "data": {
      "text/html": [],
      "text/plain": [
       "<IPython.core.display.HTML object>"
      ]
     },
     "metadata": {},
     "output_type": "display_data"
    },
    {
     "data": {
      "text/html": [
       "<html>\n",
       "<head><meta charset=\"utf-8\" /></head>\n",
       "<body>\n",
       "    <div>            <script src=\"https://cdnjs.cloudflare.com/ajax/libs/mathjax/2.7.5/MathJax.js?config=TeX-AMS-MML_SVG\"></script><script type=\"text/javascript\">if (window.MathJax && window.MathJax.Hub && window.MathJax.Hub.Config) {window.MathJax.Hub.Config({SVG: {font: \"STIX-Web\"}});}</script>                <script type=\"text/javascript\">window.PlotlyConfig = {MathJaxConfig: 'local'};</script>\n",
       "        <script src=\"https://cdn.plot.ly/plotly-2.18.2.min.js\"></script>                <div id=\"2ad0eabb-2547-4bc1-823d-60a91a9071e6\" class=\"plotly-graph-div\" style=\"height:600px; width:100%;\"></div>            <script type=\"text/javascript\">                                    window.PLOTLYENV=window.PLOTLYENV || {};                                    if (document.getElementById(\"2ad0eabb-2547-4bc1-823d-60a91a9071e6\")) {                    Plotly.newPlot(                        \"2ad0eabb-2547-4bc1-823d-60a91a9071e6\",                        [{\"customdata\":[[null]],\"hovertemplate\":\"Cluster=Cluster 0<br>PCA1=%{x}<br>PCA2=%{y}<br>Feature=%{customdata[0]}<extra></extra>\",\"legendgroup\":\"Cluster 0\",\"marker\":{\"color\":\"#636efa\",\"opacity\":0.5,\"symbol\":\"circle\"},\"mode\":\"markers\",\"name\":\"Cluster 0\",\"orientation\":\"v\",\"showlegend\":true,\"x\":[-3.3745463],\"xaxis\":\"x\",\"y\":[-1.4847931],\"yaxis\":\"y\",\"type\":\"scatter\",\"textposition\":\"top center\"},{\"customdata\":[[null],[null],[null],[null],[null],[null],[null]],\"hovertemplate\":\"Cluster=Cluster 1<br>PCA1=%{x}<br>PCA2=%{y}<br>Feature=%{customdata[0]}<extra></extra>\",\"legendgroup\":\"Cluster 1\",\"marker\":{\"color\":\"#EF553B\",\"opacity\":0.5,\"symbol\":\"circle\"},\"mode\":\"markers\",\"name\":\"Cluster 1\",\"orientation\":\"v\",\"showlegend\":true,\"x\":[4.17555,2.1203756,3.111444,1.7854911,1.9982022,2.8096633,1.4604183],\"xaxis\":\"x\",\"y\":[-1.4155124,-8.159748,-2.7789023,1.8623887,-5.05182,-2.7839413,-8.568371],\"yaxis\":\"y\",\"type\":\"scatter\",\"textposition\":\"top center\"},{\"customdata\":[[null]],\"hovertemplate\":\"Cluster=Cluster 2<br>PCA1=%{x}<br>PCA2=%{y}<br>Feature=%{customdata[0]}<extra></extra>\",\"legendgroup\":\"Cluster 2\",\"marker\":{\"color\":\"#00cc96\",\"opacity\":0.5,\"symbol\":\"circle\"},\"mode\":\"markers\",\"name\":\"Cluster 2\",\"orientation\":\"v\",\"showlegend\":true,\"x\":[-13.902091],\"xaxis\":\"x\",\"y\":[15.606258],\"yaxis\":\"y\",\"type\":\"scatter\",\"textposition\":\"top center\"},{\"customdata\":[[null],[null],[null]],\"hovertemplate\":\"Cluster=Cluster 3<br>PCA1=%{x}<br>PCA2=%{y}<br>Feature=%{customdata[0]}<extra></extra>\",\"legendgroup\":\"Cluster 3\",\"marker\":{\"color\":\"#ab63fa\",\"opacity\":0.5,\"symbol\":\"circle\"},\"mode\":\"markers\",\"name\":\"Cluster 3\",\"orientation\":\"v\",\"showlegend\":true,\"x\":[-4.2691216,-4.3799276,-9.558819],\"xaxis\":\"x\",\"y\":[3.448585,-2.4096417,-2.3046694],\"yaxis\":\"y\",\"type\":\"scatter\",\"textposition\":\"top center\"},{\"customdata\":[[null]],\"hovertemplate\":\"Cluster=Cluster 4<br>PCA1=%{x}<br>PCA2=%{y}<br>Feature=%{customdata[0]}<extra></extra>\",\"legendgroup\":\"Cluster 4\",\"marker\":{\"color\":\"#FFA15A\",\"opacity\":0.5,\"symbol\":\"circle\"},\"mode\":\"markers\",\"name\":\"Cluster 4\",\"orientation\":\"v\",\"showlegend\":true,\"x\":[18.02337],\"xaxis\":\"x\",\"y\":[14.040159],\"yaxis\":\"y\",\"type\":\"scatter\",\"textposition\":\"top center\"}],                        {\"template\":{\"data\":{\"histogram2dcontour\":[{\"type\":\"histogram2dcontour\",\"colorbar\":{\"outlinewidth\":0,\"ticks\":\"\"},\"colorscale\":[[0.0,\"#0d0887\"],[0.1111111111111111,\"#46039f\"],[0.2222222222222222,\"#7201a8\"],[0.3333333333333333,\"#9c179e\"],[0.4444444444444444,\"#bd3786\"],[0.5555555555555556,\"#d8576b\"],[0.6666666666666666,\"#ed7953\"],[0.7777777777777778,\"#fb9f3a\"],[0.8888888888888888,\"#fdca26\"],[1.0,\"#f0f921\"]]}],\"choropleth\":[{\"type\":\"choropleth\",\"colorbar\":{\"outlinewidth\":0,\"ticks\":\"\"}}],\"histogram2d\":[{\"type\":\"histogram2d\",\"colorbar\":{\"outlinewidth\":0,\"ticks\":\"\"},\"colorscale\":[[0.0,\"#0d0887\"],[0.1111111111111111,\"#46039f\"],[0.2222222222222222,\"#7201a8\"],[0.3333333333333333,\"#9c179e\"],[0.4444444444444444,\"#bd3786\"],[0.5555555555555556,\"#d8576b\"],[0.6666666666666666,\"#ed7953\"],[0.7777777777777778,\"#fb9f3a\"],[0.8888888888888888,\"#fdca26\"],[1.0,\"#f0f921\"]]}],\"heatmap\":[{\"type\":\"heatmap\",\"colorbar\":{\"outlinewidth\":0,\"ticks\":\"\"},\"colorscale\":[[0.0,\"#0d0887\"],[0.1111111111111111,\"#46039f\"],[0.2222222222222222,\"#7201a8\"],[0.3333333333333333,\"#9c179e\"],[0.4444444444444444,\"#bd3786\"],[0.5555555555555556,\"#d8576b\"],[0.6666666666666666,\"#ed7953\"],[0.7777777777777778,\"#fb9f3a\"],[0.8888888888888888,\"#fdca26\"],[1.0,\"#f0f921\"]]}],\"heatmapgl\":[{\"type\":\"heatmapgl\",\"colorbar\":{\"outlinewidth\":0,\"ticks\":\"\"},\"colorscale\":[[0.0,\"#0d0887\"],[0.1111111111111111,\"#46039f\"],[0.2222222222222222,\"#7201a8\"],[0.3333333333333333,\"#9c179e\"],[0.4444444444444444,\"#bd3786\"],[0.5555555555555556,\"#d8576b\"],[0.6666666666666666,\"#ed7953\"],[0.7777777777777778,\"#fb9f3a\"],[0.8888888888888888,\"#fdca26\"],[1.0,\"#f0f921\"]]}],\"contourcarpet\":[{\"type\":\"contourcarpet\",\"colorbar\":{\"outlinewidth\":0,\"ticks\":\"\"}}],\"contour\":[{\"type\":\"contour\",\"colorbar\":{\"outlinewidth\":0,\"ticks\":\"\"},\"colorscale\":[[0.0,\"#0d0887\"],[0.1111111111111111,\"#46039f\"],[0.2222222222222222,\"#7201a8\"],[0.3333333333333333,\"#9c179e\"],[0.4444444444444444,\"#bd3786\"],[0.5555555555555556,\"#d8576b\"],[0.6666666666666666,\"#ed7953\"],[0.7777777777777778,\"#fb9f3a\"],[0.8888888888888888,\"#fdca26\"],[1.0,\"#f0f921\"]]}],\"surface\":[{\"type\":\"surface\",\"colorbar\":{\"outlinewidth\":0,\"ticks\":\"\"},\"colorscale\":[[0.0,\"#0d0887\"],[0.1111111111111111,\"#46039f\"],[0.2222222222222222,\"#7201a8\"],[0.3333333333333333,\"#9c179e\"],[0.4444444444444444,\"#bd3786\"],[0.5555555555555556,\"#d8576b\"],[0.6666666666666666,\"#ed7953\"],[0.7777777777777778,\"#fb9f3a\"],[0.8888888888888888,\"#fdca26\"],[1.0,\"#f0f921\"]]}],\"mesh3d\":[{\"type\":\"mesh3d\",\"colorbar\":{\"outlinewidth\":0,\"ticks\":\"\"}}],\"scatter\":[{\"fillpattern\":{\"fillmode\":\"overlay\",\"size\":10,\"solidity\":0.2},\"type\":\"scatter\"}],\"parcoords\":[{\"type\":\"parcoords\",\"line\":{\"colorbar\":{\"outlinewidth\":0,\"ticks\":\"\"}}}],\"scatterpolargl\":[{\"type\":\"scatterpolargl\",\"marker\":{\"colorbar\":{\"outlinewidth\":0,\"ticks\":\"\"}}}],\"bar\":[{\"error_x\":{\"color\":\"#2a3f5f\"},\"error_y\":{\"color\":\"#2a3f5f\"},\"marker\":{\"line\":{\"color\":\"#E5ECF6\",\"width\":0.5},\"pattern\":{\"fillmode\":\"overlay\",\"size\":10,\"solidity\":0.2}},\"type\":\"bar\"}],\"scattergeo\":[{\"type\":\"scattergeo\",\"marker\":{\"colorbar\":{\"outlinewidth\":0,\"ticks\":\"\"}}}],\"scatterpolar\":[{\"type\":\"scatterpolar\",\"marker\":{\"colorbar\":{\"outlinewidth\":0,\"ticks\":\"\"}}}],\"histogram\":[{\"marker\":{\"pattern\":{\"fillmode\":\"overlay\",\"size\":10,\"solidity\":0.2}},\"type\":\"histogram\"}],\"scattergl\":[{\"type\":\"scattergl\",\"marker\":{\"colorbar\":{\"outlinewidth\":0,\"ticks\":\"\"}}}],\"scatter3d\":[{\"type\":\"scatter3d\",\"line\":{\"colorbar\":{\"outlinewidth\":0,\"ticks\":\"\"}},\"marker\":{\"colorbar\":{\"outlinewidth\":0,\"ticks\":\"\"}}}],\"scattermapbox\":[{\"type\":\"scattermapbox\",\"marker\":{\"colorbar\":{\"outlinewidth\":0,\"ticks\":\"\"}}}],\"scatterternary\":[{\"type\":\"scatterternary\",\"marker\":{\"colorbar\":{\"outlinewidth\":0,\"ticks\":\"\"}}}],\"scattercarpet\":[{\"type\":\"scattercarpet\",\"marker\":{\"colorbar\":{\"outlinewidth\":0,\"ticks\":\"\"}}}],\"carpet\":[{\"aaxis\":{\"endlinecolor\":\"#2a3f5f\",\"gridcolor\":\"white\",\"linecolor\":\"white\",\"minorgridcolor\":\"white\",\"startlinecolor\":\"#2a3f5f\"},\"baxis\":{\"endlinecolor\":\"#2a3f5f\",\"gridcolor\":\"white\",\"linecolor\":\"white\",\"minorgridcolor\":\"white\",\"startlinecolor\":\"#2a3f5f\"},\"type\":\"carpet\"}],\"table\":[{\"cells\":{\"fill\":{\"color\":\"#EBF0F8\"},\"line\":{\"color\":\"white\"}},\"header\":{\"fill\":{\"color\":\"#C8D4E3\"},\"line\":{\"color\":\"white\"}},\"type\":\"table\"}],\"barpolar\":[{\"marker\":{\"line\":{\"color\":\"#E5ECF6\",\"width\":0.5},\"pattern\":{\"fillmode\":\"overlay\",\"size\":10,\"solidity\":0.2}},\"type\":\"barpolar\"}],\"pie\":[{\"automargin\":true,\"type\":\"pie\"}]},\"layout\":{\"autotypenumbers\":\"strict\",\"colorway\":[\"#636efa\",\"#EF553B\",\"#00cc96\",\"#ab63fa\",\"#FFA15A\",\"#19d3f3\",\"#FF6692\",\"#B6E880\",\"#FF97FF\",\"#FECB52\"],\"font\":{\"color\":\"#2a3f5f\"},\"hovermode\":\"closest\",\"hoverlabel\":{\"align\":\"left\"},\"paper_bgcolor\":\"white\",\"plot_bgcolor\":\"#E5ECF6\",\"polar\":{\"bgcolor\":\"#E5ECF6\",\"angularaxis\":{\"gridcolor\":\"white\",\"linecolor\":\"white\",\"ticks\":\"\"},\"radialaxis\":{\"gridcolor\":\"white\",\"linecolor\":\"white\",\"ticks\":\"\"}},\"ternary\":{\"bgcolor\":\"#E5ECF6\",\"aaxis\":{\"gridcolor\":\"white\",\"linecolor\":\"white\",\"ticks\":\"\"},\"baxis\":{\"gridcolor\":\"white\",\"linecolor\":\"white\",\"ticks\":\"\"},\"caxis\":{\"gridcolor\":\"white\",\"linecolor\":\"white\",\"ticks\":\"\"}},\"coloraxis\":{\"colorbar\":{\"outlinewidth\":0,\"ticks\":\"\"}},\"colorscale\":{\"sequential\":[[0.0,\"#0d0887\"],[0.1111111111111111,\"#46039f\"],[0.2222222222222222,\"#7201a8\"],[0.3333333333333333,\"#9c179e\"],[0.4444444444444444,\"#bd3786\"],[0.5555555555555556,\"#d8576b\"],[0.6666666666666666,\"#ed7953\"],[0.7777777777777778,\"#fb9f3a\"],[0.8888888888888888,\"#fdca26\"],[1.0,\"#f0f921\"]],\"sequentialminus\":[[0.0,\"#0d0887\"],[0.1111111111111111,\"#46039f\"],[0.2222222222222222,\"#7201a8\"],[0.3333333333333333,\"#9c179e\"],[0.4444444444444444,\"#bd3786\"],[0.5555555555555556,\"#d8576b\"],[0.6666666666666666,\"#ed7953\"],[0.7777777777777778,\"#fb9f3a\"],[0.8888888888888888,\"#fdca26\"],[1.0,\"#f0f921\"]],\"diverging\":[[0,\"#8e0152\"],[0.1,\"#c51b7d\"],[0.2,\"#de77ae\"],[0.3,\"#f1b6da\"],[0.4,\"#fde0ef\"],[0.5,\"#f7f7f7\"],[0.6,\"#e6f5d0\"],[0.7,\"#b8e186\"],[0.8,\"#7fbc41\"],[0.9,\"#4d9221\"],[1,\"#276419\"]]},\"xaxis\":{\"gridcolor\":\"white\",\"linecolor\":\"white\",\"ticks\":\"\",\"title\":{\"standoff\":15},\"zerolinecolor\":\"white\",\"automargin\":true,\"zerolinewidth\":2},\"yaxis\":{\"gridcolor\":\"white\",\"linecolor\":\"white\",\"ticks\":\"\",\"title\":{\"standoff\":15},\"zerolinecolor\":\"white\",\"automargin\":true,\"zerolinewidth\":2},\"scene\":{\"xaxis\":{\"backgroundcolor\":\"#E5ECF6\",\"gridcolor\":\"white\",\"linecolor\":\"white\",\"showbackground\":true,\"ticks\":\"\",\"zerolinecolor\":\"white\",\"gridwidth\":2},\"yaxis\":{\"backgroundcolor\":\"#E5ECF6\",\"gridcolor\":\"white\",\"linecolor\":\"white\",\"showbackground\":true,\"ticks\":\"\",\"zerolinecolor\":\"white\",\"gridwidth\":2},\"zaxis\":{\"backgroundcolor\":\"#E5ECF6\",\"gridcolor\":\"white\",\"linecolor\":\"white\",\"showbackground\":true,\"ticks\":\"\",\"zerolinecolor\":\"white\",\"gridwidth\":2}},\"shapedefaults\":{\"line\":{\"color\":\"#2a3f5f\"}},\"annotationdefaults\":{\"arrowcolor\":\"#2a3f5f\",\"arrowhead\":0,\"arrowwidth\":1},\"geo\":{\"bgcolor\":\"white\",\"landcolor\":\"#E5ECF6\",\"subunitcolor\":\"white\",\"showland\":true,\"showlakes\":true,\"lakecolor\":\"white\"},\"title\":{\"x\":0.05},\"mapbox\":{\"style\":\"light\"}}},\"xaxis\":{\"anchor\":\"y\",\"domain\":[0.0,1.0],\"title\":{\"text\":\"PCA1\"}},\"yaxis\":{\"anchor\":\"x\",\"domain\":[0.0,1.0],\"title\":{\"text\":\"PCA2\"}},\"legend\":{\"title\":{\"text\":\"Cluster\"},\"tracegroupgap\":0},\"margin\":{\"t\":60},\"plot_bgcolor\":\"rgb(240,240,240)\",\"title\":{\"text\":\"2D Cluster PCA Plot\"},\"height\":600},                        {\"responsive\": true}                    ).then(function(){\n",
       "                            \n",
       "var gd = document.getElementById('2ad0eabb-2547-4bc1-823d-60a91a9071e6');\n",
       "var x = new MutationObserver(function (mutations, observer) {{\n",
       "        var display = window.getComputedStyle(gd).display;\n",
       "        if (!display || display === 'none') {{\n",
       "            console.log([gd, 'removed!']);\n",
       "            Plotly.purge(gd);\n",
       "            observer.disconnect();\n",
       "        }}\n",
       "}});\n",
       "\n",
       "// Listen for the removal of the full notebook cells\n",
       "var notebookContainer = gd.closest('#notebook-container');\n",
       "if (notebookContainer) {{\n",
       "    x.observe(notebookContainer, {childList: true});\n",
       "}}\n",
       "\n",
       "// Listen for the clearing of the current output cell\n",
       "var outputEl = gd.closest('.output');\n",
       "if (outputEl) {{\n",
       "    x.observe(outputEl, {childList: true});\n",
       "}}\n",
       "\n",
       "                        })                };                            </script>        </div>\n",
       "</body>\n",
       "</html>"
      ]
     },
     "metadata": {},
     "output_type": "display_data"
    }
   ],
   "source": [
    "plot_model(kmeans)"
   ]
  },
  {
   "cell_type": "markdown",
   "metadata": {
    "id": "dmuLz34G-i7f"
   },
   "source": [
    "# Sentiment Analysis\n",
    "\n",
    "Following the categorisation step, we could parse the review that contain the explicit aspects then conduct sentiment analysis on the phrase with a pretrained model\n",
    "\n",
    "# Issues so far with Rule-based/Unsupervised Methods\n",
    "\n",
    "It is hard to clean the outputs and it is hard to extract the keypoint of the implicit aspects (e.g. beautiful --> look of product)\n",
    "Using a pretrained model results in lower accuracy as the model is not adapted to the makeup domain\n",
    "Analysing the phrase as a whole does not make the sentiment analysis aspect specific"
   ]
  },
  {
   "cell_type": "code",
   "execution_count": 132,
   "metadata": {
    "colab": {
     "base_uri": "https://localhost:8080/",
     "height": 180,
     "referenced_widgets": [
      "1f8c4f0178f84fb7bae87953064ee6c7",
      "a0db6cfe89cc497399a0b6334830eea0",
      "e6d91cf146174902bb0dc01c1d9e8e8c",
      "782a6505042748ab8dfe5b5d7c162b1a",
      "d39247f73c1544748ccb4e629f683eda",
      "542ef941fd684ba4811e12a686b0e098",
      "ebec093b8a944407b2e4ab26192a3a17",
      "25dabb42ef324afbb9289732bd72a7b8",
      "501cd9f4c59b48e1820df17bed294ae4",
      "83b8b485583a4f809f9c342aad800c52",
      "ba5058d038bb481f9739126c7f45e7d6",
      "85e73331b32c4375844d0f52db5c7e1d",
      "9e4187b939ab4fd491b6a2c597fd6abf",
      "6a6e338bcda44319817c31a7c0247390",
      "a3c591c7add249edbea4bf1105b80fc8",
      "079f5a68129246acba4e9e23e5a8beba",
      "d4567fb250df40aea0fcf95e377a000c",
      "b637ea12499b4471896c2c74af956068",
      "1890ed2066714047a526a6e72a37eb1e",
      "83c1ea57e504467ebd4b6a085ba48124",
      "07101581f3c9412eb2c34eb73152f421",
      "a8d43349cfa349b4a2501e2ce58bb22c",
      "f2db73588f1e4227a3fdcf3b652a1ead",
      "45e8a6b5079844d58d9df1f752475e06",
      "8de9803c42ba4a469520ec84910de88c",
      "b260728c604041249bf7d8dc6c299954",
      "87c9362de86a4b9bbe6eb69adc7dd095",
      "09ff9ec03d694af5bdd45df962aafb63",
      "de3b0949226f476990e6640466ab979b",
      "2fef2142de1b44eeb7a85774deab29bf",
      "410cf24aa7c64d4bb2ce0d1cc970e1db",
      "8a33c677e3d94fe88d1d81983027da07",
      "83cfb639180c48dd86520f75d5068395",
      "00ea06bd81ca46da85e8c0a867f5f439",
      "dcee6214ce134bb1b3c19d9d7112e28d",
      "57c4f2cb217048b486d22787c4279529",
      "d772c1eaf11c468aa0fb6b003953b2b0",
      "70bcc77ec32f498385b4031c0623c3cf",
      "2d122ebfccb84519ab4a0258bb8ead49",
      "45d82e79720b4512903df5012bcb064a",
      "9578aca8f4d7417eab8a43b75b22affc",
      "190e293f77ba4f529507b37c79553e20",
      "036483e9c5a046a1a8d7621f09c16da9",
      "fb7f86422a534fe4a602c9f73900e47f"
     ]
    },
    "executionInfo": {
     "elapsed": 8193,
     "status": "ok",
     "timestamp": 1679819298694,
     "user": {
      "displayName": "bel hello",
      "userId": "14145485794765337692"
     },
     "user_tz": -480
    },
    "id": "fa7GHmoKCB1m",
    "outputId": "44f5abfd-c3be-418e-b24e-1ade50b0aaf4"
   },
   "outputs": [
    {
     "name": "stderr",
     "output_type": "stream",
     "text": [
      "No model was supplied, defaulted to distilbert-base-uncased-finetuned-sst-2-english and revision af0f99b (https://huggingface.co/distilbert-base-uncased-finetuned-sst-2-english).\n",
      "Using a pipeline without specifying a model name and revision in production is not recommended.\n"
     ]
    },
    {
     "data": {
      "application/vnd.jupyter.widget-view+json": {
       "model_id": "1f8c4f0178f84fb7bae87953064ee6c7",
       "version_major": 2,
       "version_minor": 0
      },
      "text/plain": [
       "Downloading (…)lve/main/config.json:   0%|          | 0.00/629 [00:00<?, ?B/s]"
      ]
     },
     "metadata": {
      "application/vnd.jupyter.widget-view+json": {
       "colab": {
        "custom_widget_manager": {
         "url": "https://ssl.gstatic.com/colaboratory-static/widgets/colab-cdn-widget-manager/b3e629b1971e1542/manager.min.js"
        }
       }
      }
     },
     "output_type": "display_data"
    },
    {
     "data": {
      "application/vnd.jupyter.widget-view+json": {
       "model_id": "a8d43349cfa349b4a2501e2ce58bb22c",
       "version_major": 2,
       "version_minor": 0
      },
      "text/plain": [
       "Downloading pytorch_model.bin:   0%|          | 0.00/268M [00:00<?, ?B/s]"
      ]
     },
     "metadata": {
      "application/vnd.jupyter.widget-view+json": {
       "colab": {
        "custom_widget_manager": {
         "url": "https://ssl.gstatic.com/colaboratory-static/widgets/colab-cdn-widget-manager/b3e629b1971e1542/manager.min.js"
        }
       }
      }
     },
     "output_type": "display_data"
    },
    {
     "data": {
      "application/vnd.jupyter.widget-view+json": {
       "model_id": "83cfb639180c48dd86520f75d5068395",
       "version_major": 2,
       "version_minor": 0
      },
      "text/plain": [
       "Downloading (…)okenizer_config.json:   0%|          | 0.00/48.0 [00:00<?, ?B/s]"
      ]
     },
     "metadata": {
      "application/vnd.jupyter.widget-view+json": {
       "colab": {
        "custom_widget_manager": {
         "url": "https://ssl.gstatic.com/colaboratory-static/widgets/colab-cdn-widget-manager/b3e629b1971e1542/manager.min.js"
        }
       }
      }
     },
     "output_type": "display_data"
    },
    {
     "data": {
      "application/vnd.jupyter.widget-view+json": {
       "model_id": "fb7f86422a534fe4a602c9f73900e47f",
       "version_major": 2,
       "version_minor": 0
      },
      "text/plain": [
       "Downloading (…)solve/main/vocab.txt:   0%|          | 0.00/232k [00:00<?, ?B/s]"
      ]
     },
     "metadata": {
      "application/vnd.jupyter.widget-view+json": {
       "colab": {
        "custom_widget_manager": {
         "url": "https://ssl.gstatic.com/colaboratory-static/widgets/colab-cdn-widget-manager/b3e629b1971e1542/manager.min.js"
        }
       }
      }
     },
     "output_type": "display_data"
    }
   ],
   "source": [
    "from transformers import pipeline\n",
    "sentiment_pipeline = pipeline(\"sentiment-analysis\")"
   ]
  },
  {
   "cell_type": "code",
   "execution_count": 146,
   "metadata": {
    "colab": {
     "base_uri": "https://localhost:8080/"
    },
    "executionInfo": {
     "elapsed": 2207,
     "status": "ok",
     "timestamp": 1679819874301,
     "user": {
      "displayName": "bel hello",
      "userId": "14145485794765337692"
     },
     "user_tz": -480
    },
    "id": "D0ZyAjNj_RLO",
    "outputId": "39e46e8e-db5b-4a7f-91ed-a91b25ef0896"
   },
   "outputs": [
    {
     "name": "stdout",
     "output_type": "stream",
     "text": [
      "Cluster 1\n",
      "['like', 'suitable', 'everyday life', 'dark brown', 'hard', 'kind', 'beautiful']\n",
      "Let me first say that if your eyes are prone to dizziness, like inner double eyeliner, it may not be suitable for it\n",
      " but if you just have a very daily work makeup and you don t want to look abrupt, if you want to draw a very natural brown eyeliner, it is very suitable\n",
      "It s dark brown: 903\n",
      "It s super beautiful and looks good in everyday life\n",
      "I also like it because it s an ordinary pen, so it s very hard\n",
      "It s not the kind that breaks off when you draw it\n",
      "Polarity: [{'label': 'POSITIVE', 'score': 0.9986103773117065}]\n",
      "\n",
      "Cluster 2\n",
      "['nyx']\n",
      " for NYX, The eye pencil is a very traditional eyeliner\n",
      "Polarity: [{'label': 'POSITIVE', 'score': 0.9833393096923828}]\n",
      "\n",
      "Cluster 4\n",
      "['dizziness']\n",
      "Let me first say that if your eyes are prone to dizziness, like inner double eyeliner, it may not be suitable for it\n",
      "Polarity: [{'label': 'NEGATIVE', 'score': 0.9997455477714539}]\n",
      "\n",
      "Cluster 3\n",
      "['eye pencil', 'ordinary pen', 'pen']\n",
      " for NYX, The eye pencil is a very traditional eyeliner\n",
      "I also like it because it s an ordinary pen, so it s very hard\n",
      "Polarity: [{'label': 'NEGATIVE', 'score': 0.9367389678955078}]\n",
      "\n",
      "Cluster 0\n",
      "['draw']\n",
      " but if you just have a very daily work makeup and you don t want to look abrupt, if you want to draw a very natural brown eyeliner, it is very suitable\n",
      "It s not the kind that breaks off when you draw it\n",
      "Polarity: [{'label': 'POSITIVE', 'score': 0.9921801090240479}]\n",
      "\n"
     ]
    }
   ],
   "source": [
    "for cluster, candidate_aspect_lst in cluster_dict.items():\n",
    "  related_sentence_text = \"\\n\".join(list(filter(lambda sent: any(aspect in sent.lower() for aspect in candidate_aspect_lst), opinion_sentence_lst)))\n",
    "  print(cluster)\n",
    "  print(candidate_aspect_lst)\n",
    "  print(related_sentence_text)\n",
    "  polarity = sentiment_pipeline(related_sentence_text)\n",
    "  print(f\"Polarity: {polarity}\\n\")"
   ]
  },
  {
   "cell_type": "markdown",
   "metadata": {
    "id": "J4RNr3OVikfc"
   },
   "source": [
    "# Experiment: Supervised Learning\n",
    "\n",
    "ABSA using pre-trained PyABSA (Supervised). There are several other online models but there are issues loading them.\n",
    "\n",
    "The quality of the results vary but in this more challenging review where all the aspects are implicit, the model does not do well. It does better with explicit aspects."
   ]
  },
  {
   "cell_type": "code",
   "execution_count": null,
   "metadata": {
    "id": "RM7F7cdfgvnQ"
   },
   "outputs": [],
   "source": [
    "!pip install pyabsa==1.16.27"
   ]
  },
  {
   "cell_type": "code",
   "execution_count": 147,
   "metadata": {
    "colab": {
     "base_uri": "https://localhost:8080/",
     "height": 529,
     "referenced_widgets": [
      "2fa75c79a6e743db903f40ad92a2326b",
      "fd519513959d430297b3251f36befa13",
      "2c056a0f6d6e4901889fe8f8b611e2b3",
      "65a220a810d24ce49f2c77e49993aa86",
      "3b3792fdf7fd46689b2849acbd688d51",
      "b9a5bb217df0419f92436a0f4ef2b87e",
      "5da4ddf51a52407eb421298323ea9611",
      "8b0451352d834d71a37526c5e6c400e5",
      "b6e6a6f200d64ffcbf718f1ec0af9f3e",
      "f6ffcc60af7e410685a98c42b0e9b3d3",
      "8f151e32f032493b9ef4659c35d45cf4",
      "d4e49d8d88b44995872c8ede07454db3",
      "38d2d866085f42b19e33eeb549605d1b",
      "739da5607e4544ef98e8ee53f2861612",
      "62534738bb2a4e8fadc66529372a89b1",
      "cde6b201216b4e0bba5d4662a5b821f6",
      "a65cb8da059f465faa7cc3787bb26deb",
      "0d635fdf74fd4d83b80a13b0fa4221a5",
      "503aa47dbe72406d9cd35587e42305c1",
      "48eb11ea610347d0b40aaa814f56893b",
      "3493cc31dda04280a3a9f4487a3d870f",
      "88a41ad1b54d47d598427692bba5cc6e",
      "8c55c28140254e54a9dc14de8727981c",
      "614cf2735ef347a69116b9cf6a394a71",
      "e93468b954c04a27b0fdbba6a78dbb50",
      "1eb0d7b424934d978d1a5eaf88e5d97e",
      "be309318a82d4b78951e6a7d29f314e8",
      "3ef4925670344653bf41817eedfd9e4e",
      "40f84ca2feac4baaa271ce2a87aa11f6",
      "64a9024bb56a4358bd916cb35ba460b0",
      "08552c5969c14bd49d8866571e04f556",
      "af95167cfbd84e32a5fa35fcd43fc469",
      "64013ffa978640a884e8ab60a61c5fa4",
      "dba146d1c10b4ec3946ff4af6336adb0",
      "c264bbddeb664d13ae81ebca9c479972",
      "c2a3ef1cfa9c41a799e8dd740b5822d8",
      "8d4f52b1036f475d8e1fddff5bc8c38d",
      "d11c752026734074a05c4cf91bbb0126",
      "b607bd09e7a94b4f850ae0486920165b",
      "3da56ec5171c49ccbd2a88c533327c53",
      "263f355e035946359083d4afbca5fb21",
      "2d6f7787b89541c0892f9b672052ab37",
      "e7b314555c7745909090c3b593939fbf",
      "f40a4f28391b417bb6aece36c531c79c"
     ]
    },
    "executionInfo": {
     "elapsed": 42713,
     "status": "ok",
     "timestamp": 1679820117497,
     "user": {
      "displayName": "bel hello",
      "userId": "14145485794765337692"
     },
     "user_tz": -480
    },
    "id": "xevdNUoIi62r",
    "outputId": "8fa3affd-7e93-4b8e-aa31-40152034f8a7"
   },
   "outputs": [
    {
     "name": "stdout",
     "output_type": "stream",
     "text": [
      "No CUDA GPU found in your device\n",
      "Version 1.16.27 of pyabsa is outdated. Version 2.2.0 was released 3 days ago.\n",
      "PyABSA INFO: The PyABSA >= 2.0.0 version contains breaking changes, if you want to use the training and inference scripts (in demos directory), please do not upgrade to the >= 2.0.0 version\n",
      "check release notes at https://github.com/yangheng95/PyABSA/blob/release/release-note.json\n",
      "There may be some checkpoints available for early versions of PyABSA, see ATEPC\n",
      "Downloading checkpoint:english ...\n",
      "Notice: The pretrained model are used for testing, it is recommended to train the model on your own custom datasets\n"
     ]
    },
    {
     "name": "stderr",
     "output_type": "stream",
     "text": [
      "577MB [00:06, 89.03MB/s, Downloading checkpoint...]                         "
     ]
    },
    {
     "name": "stdout",
     "output_type": "stream",
     "text": [
      "Find zipped checkpoint: ./checkpoints/ATEPC_ENGLISH_CHECKPOINT/fast_lcf_atepc_English_cdw_apcacc_85.4_apcf1_82.53_atef1_80.19.zip, unzipping...\n"
     ]
    },
    {
     "name": "stderr",
     "output_type": "stream",
     "text": [
      "\n"
     ]
    },
    {
     "name": "stdout",
     "output_type": "stream",
     "text": [
      "Done.\n",
      "If the auto-downloading failed, please download it via browser: https://huggingface.co/spaces/yangheng/PyABSA-ATEPC/resolve/main/checkpoint/English/ATEPC/fast_lcf_atepc_English_cdw_apcacc_85.4_apcf1_82.53_atef1_80.19.zip \n",
      "Load aspect extractor from ./checkpoints/ATEPC_ENGLISH_CHECKPOINT\n",
      "config: ./checkpoints/ATEPC_ENGLISH_CHECKPOINT/fast_lcf_atepc.config\n",
      "state_dict: ./checkpoints/ATEPC_ENGLISH_CHECKPOINT/fast_lcf_atepc.state_dict\n",
      "model: None\n",
      "tokenizer: ./checkpoints/ATEPC_ENGLISH_CHECKPOINT/fast_lcf_atepc.tokenizer\n"
     ]
    },
    {
     "data": {
      "application/vnd.jupyter.widget-view+json": {
       "model_id": "2fa75c79a6e743db903f40ad92a2326b",
       "version_major": 2,
       "version_minor": 0
      },
      "text/plain": [
       "Downloading (…)lve/main/config.json:   0%|          | 0.00/579 [00:00<?, ?B/s]"
      ]
     },
     "metadata": {
      "application/vnd.jupyter.widget-view+json": {
       "colab": {
        "custom_widget_manager": {
         "url": "https://ssl.gstatic.com/colaboratory-static/widgets/colab-cdn-widget-manager/b3e629b1971e1542/manager.min.js"
        }
       }
      }
     },
     "output_type": "display_data"
    },
    {
     "data": {
      "application/vnd.jupyter.widget-view+json": {
       "model_id": "d4e49d8d88b44995872c8ede07454db3",
       "version_major": 2,
       "version_minor": 0
      },
      "text/plain": [
       "Downloading pytorch_model.bin:   0%|          | 0.00/371M [00:00<?, ?B/s]"
      ]
     },
     "metadata": {
      "application/vnd.jupyter.widget-view+json": {
       "colab": {
        "custom_widget_manager": {
         "url": "https://ssl.gstatic.com/colaboratory-static/widgets/colab-cdn-widget-manager/b3e629b1971e1542/manager.min.js"
        }
       }
      }
     },
     "output_type": "display_data"
    },
    {
     "name": "stderr",
     "output_type": "stream",
     "text": [
      "Some weights of the model checkpoint at microsoft/deberta-v3-base were not used when initializing DebertaV2Model: ['lm_predictions.lm_head.LayerNorm.bias', 'lm_predictions.lm_head.dense.bias', 'mask_predictions.dense.weight', 'mask_predictions.classifier.bias', 'lm_predictions.lm_head.LayerNorm.weight', 'lm_predictions.lm_head.bias', 'mask_predictions.LayerNorm.weight', 'mask_predictions.dense.bias', 'mask_predictions.classifier.weight', 'mask_predictions.LayerNorm.bias', 'lm_predictions.lm_head.dense.weight']\n",
      "- This IS expected if you are initializing DebertaV2Model from the checkpoint of a model trained on another task or with another architecture (e.g. initializing a BertForSequenceClassification model from a BertForPreTraining model).\n",
      "- This IS NOT expected if you are initializing DebertaV2Model from the checkpoint of a model that you expect to be exactly identical (initializing a BertForSequenceClassification model from a BertForSequenceClassification model).\n"
     ]
    },
    {
     "data": {
      "application/vnd.jupyter.widget-view+json": {
       "model_id": "64013ffa978640a884e8ab60a61c5fa4",
       "version_major": 2,
       "version_minor": 0
      },
      "text/plain": [
       "Downloading (…)okenizer_config.json:   0%|          | 0.00/52.0 [00:00<?, ?B/s]"
      ]
     },
     "metadata": {
      "application/vnd.jupyter.widget-view+json": {
       "colab": {
        "custom_widget_manager": {
         "url": "https://ssl.gstatic.com/colaboratory-static/widgets/colab-cdn-widget-manager/b3e629b1971e1542/manager.min.js"
        }
       }
      }
     },
     "output_type": "display_data"
    },
    {
     "data": {
      "application/vnd.jupyter.widget-view+json": {
       "model_id": "f40a4f28391b417bb6aece36c531c79c",
       "version_major": 2,
       "version_minor": 0
      },
      "text/plain": [
       "Downloading spm.model:   0%|          | 0.00/2.46M [00:00<?, ?B/s]"
      ]
     },
     "metadata": {
      "application/vnd.jupyter.widget-view+json": {
       "colab": {
        "custom_widget_manager": {
         "url": "https://ssl.gstatic.com/colaboratory-static/widgets/colab-cdn-widget-manager/b3e629b1971e1542/manager.min.js"
        }
       }
      }
     },
     "output_type": "display_data"
    },
    {
     "name": "stderr",
     "output_type": "stream",
     "text": [
      "Special tokens have been added in the vocabulary, make sure the associated word embeddings are fine-tuned or trained.\n",
      "Special tokens have been added in the vocabulary, make sure the associated word embeddings are fine-tuned or trained.\n"
     ]
    }
   ],
   "source": [
    "from pyabsa import ATEPCCheckpointManager\n",
    "\n",
    "aspect_extractor = ATEPCCheckpointManager.get_aspect_extractor(checkpoint='english')"
   ]
  },
  {
   "cell_type": "code",
   "execution_count": 148,
   "metadata": {
    "colab": {
     "base_uri": "https://localhost:8080/"
    },
    "executionInfo": {
     "elapsed": 8166,
     "status": "ok",
     "timestamp": 1679820125660,
     "user": {
      "displayName": "bel hello",
      "userId": "14145485794765337692"
     },
     "user_tz": -480
    },
    "id": "u7QTjN3ljBnj",
    "outputId": "e829c59c-eef2-4098-add6-7cb268d9351d"
   },
   "outputs": [
    {
     "name": "stdout",
     "output_type": "stream",
     "text": [
      "The results of aspect term extraction have been saved in /content/drive/MyDrive/NUS/Y3S2/CS4242/ABSA/Aspects/atepc_inference.result.json\n",
      "Example 0: Let me first say that if your eyes are prone to dizziness , like inner double eyeliner , it may not be suitable for it\n",
      "Example 1: but if you just have a very daily work <makeup:Neutral Confidence:0.9963132739067078> and you don t want to look abrupt , if you want to draw a very natural brown eyeliner , it is very suitable\n",
      "Example 2: for NYX , The eye pencil is a very traditional eyeliner\n",
      "Example 3: It s dark <brown:Negative Confidence:0.6555421948432922> : 903\n",
      "Example 4: It s super beautiful and <looks:Positive Confidence:0.9998313188552856> good in everyday life\n",
      "Example 5: I also like it because it s an ordinary <pen:Positive Confidence:0.9990274906158447> , so it s very hard\n",
      "Example 6: It s not the <kind:Negative Confidence:0.9939257502555847> that breaks off when you draw it\n"
     ]
    }
   ],
   "source": [
    "# You can inference from a list of setences or a DatasetItem from PyABSA \n",
    "examples = opinion_sentence_lst\n",
    "inference_source = examples\n",
    "atepc_result = aspect_extractor.extract_aspect(inference_source=inference_source,pred_sentiment=True)"
   ]
  },
  {
   "cell_type": "code",
   "execution_count": 149,
   "metadata": {
    "colab": {
     "base_uri": "https://localhost:8080/"
    },
    "executionInfo": {
     "elapsed": 5,
     "status": "ok",
     "timestamp": 1679820125660,
     "user": {
      "displayName": "bel hello",
      "userId": "14145485794765337692"
     },
     "user_tz": -480
    },
    "id": "TcO-hO8Hx0TZ",
    "outputId": "a920258f-1fcc-4337-ba96-0ae52bfe5559"
   },
   "outputs": [
    {
     "name": "stdout",
     "output_type": "stream",
     "text": [
      "Let me first say that if your eyes are prone to dizziness, like inner double eyeliner, it may not be suitable for it\n",
      "No aspect identified\n",
      "\n",
      "\n",
      " but if you just have a very daily work makeup and you don t want to look abrupt, if you want to draw a very natural brown eyeliner, it is very suitable\n",
      "['makeup']\n",
      "['Neutral']\n",
      "[0.9963132739067078]\n",
      "\n",
      "\n",
      " for NYX, The eye pencil is a very traditional eyeliner\n",
      "['eyeliner']\n",
      "['Neutral']\n",
      "[0.6889065504074097]\n",
      "\n",
      "\n",
      "It s dark brown: 903\n",
      "['brown']\n",
      "['Negative']\n",
      "[0.6555421948432922]\n",
      "\n",
      "\n",
      "It s super beautiful and looks good in everyday life\n",
      "['looks']\n",
      "['Positive']\n",
      "[0.9998313188552856]\n",
      "\n",
      "\n",
      "I also like it because it s an ordinary pen, so it s very hard\n",
      "['pen']\n",
      "['Positive']\n",
      "[0.9990274906158447]\n",
      "\n",
      "\n",
      "It s not the kind that breaks off when you draw it\n",
      "['kind']\n",
      "['Negative']\n",
      "[0.9939257502555847]\n",
      "\n",
      "\n"
     ]
    }
   ],
   "source": [
    "for i in range(len(examples)):\n",
    "  print(examples[i])\n",
    "  if atepc_result[i][\"aspect\"] != []:\n",
    "    print(atepc_result[i][\"aspect\"])\n",
    "    print(atepc_result[i][\"sentiment\"])\n",
    "    print(atepc_result[i][\"confidence\"])\n",
    "  else:\n",
    "    print(\"No aspect identified\")\n",
    "  print(\"\\n\")"
   ]
  },
  {
   "cell_type": "markdown",
   "metadata": {
    "id": "LTPWspH7KdaH"
   },
   "source": [
    "BEST OUTPUT: Using ChatGPT for ABSA\n",
    "\n",
    "Rule-based and unsupervised methods struggled at the level of explicit aspect extraction. Pre-trained ABSA models are able to identify explicit aspects better but still miss out non-noun phrase based aspects. However, GPT-3 is able to conduct both implicit/explicit aspect extraction along with accurate sentiment analysis based on 2 chain prompts after experimentation."
   ]
  },
  {
   "cell_type": "code",
   "execution_count": 150,
   "metadata": {
    "colab": {
     "base_uri": "https://localhost:8080/"
    },
    "executionInfo": {
     "elapsed": 9839,
     "status": "ok",
     "timestamp": 1679820229795,
     "user": {
      "displayName": "bel hello",
      "userId": "14145485794765337692"
     },
     "user_tz": -480
    },
    "id": "KKFarzS0fcZo",
    "outputId": "8a6694b1-8aa1-4c24-93bb-de2acfa234be"
   },
   "outputs": [
    {
     "name": "stdout",
     "output_type": "stream",
     "text": [
      "Looking in indexes: https://pypi.org/simple, https://us-python.pkg.dev/colab-wheels/public/simple/\n",
      "Collecting openai==0.27.0\n",
      "  Downloading openai-0.27.0-py3-none-any.whl (70 kB)\n",
      "\u001b[2K     \u001b[90m━━━━━━━━━━━━━━━━━━━━━━━━━━━━━━━━━━━━━━━━\u001b[0m \u001b[32m70.1/70.1 KB\u001b[0m \u001b[31m3.1 MB/s\u001b[0m eta \u001b[36m0:00:00\u001b[0m\n",
      "\u001b[?25hRequirement already satisfied: requests>=2.20 in /usr/local/lib/python3.9/dist-packages (from openai==0.27.0) (2.27.1)\n",
      "Requirement already satisfied: aiohttp in /usr/local/lib/python3.9/dist-packages (from openai==0.27.0) (3.8.4)\n",
      "Requirement already satisfied: tqdm in /usr/local/lib/python3.9/dist-packages (from openai==0.27.0) (4.65.0)\n",
      "Requirement already satisfied: urllib3<1.27,>=1.21.1 in /usr/local/lib/python3.9/dist-packages (from requests>=2.20->openai==0.27.0) (1.26.15)\n",
      "Requirement already satisfied: charset-normalizer~=2.0.0 in /usr/local/lib/python3.9/dist-packages (from requests>=2.20->openai==0.27.0) (2.0.12)\n",
      "Requirement already satisfied: idna<4,>=2.5 in /usr/local/lib/python3.9/dist-packages (from requests>=2.20->openai==0.27.0) (3.4)\n",
      "Requirement already satisfied: certifi>=2017.4.17 in /usr/local/lib/python3.9/dist-packages (from requests>=2.20->openai==0.27.0) (2022.12.7)\n",
      "Requirement already satisfied: multidict<7.0,>=4.5 in /usr/local/lib/python3.9/dist-packages (from aiohttp->openai==0.27.0) (6.0.4)\n",
      "Requirement already satisfied: async-timeout<5.0,>=4.0.0a3 in /usr/local/lib/python3.9/dist-packages (from aiohttp->openai==0.27.0) (4.0.2)\n",
      "Requirement already satisfied: aiosignal>=1.1.2 in /usr/local/lib/python3.9/dist-packages (from aiohttp->openai==0.27.0) (1.3.1)\n",
      "Requirement already satisfied: frozenlist>=1.1.1 in /usr/local/lib/python3.9/dist-packages (from aiohttp->openai==0.27.0) (1.3.3)\n",
      "Requirement already satisfied: attrs>=17.3.0 in /usr/local/lib/python3.9/dist-packages (from aiohttp->openai==0.27.0) (22.2.0)\n",
      "Requirement already satisfied: yarl<2.0,>=1.0 in /usr/local/lib/python3.9/dist-packages (from aiohttp->openai==0.27.0) (1.8.2)\n",
      "Installing collected packages: openai\n",
      "Successfully installed openai-0.27.0\n"
     ]
    }
   ],
   "source": [
    "!pip install openai==0.27.0"
   ]
  },
  {
   "cell_type": "code",
   "execution_count": 151,
   "metadata": {
    "colab": {
     "base_uri": "https://localhost:8080/"
    },
    "executionInfo": {
     "elapsed": 13116,
     "status": "ok",
     "timestamp": 1679820242903,
     "user": {
      "displayName": "bel hello",
      "userId": "14145485794765337692"
     },
     "user_tz": -480
    },
    "id": "J9NdRUV1qKiu",
    "outputId": "7bceea60-d044-467f-e881-eb7e8ea605d1"
   },
   "outputs": [
    {
     "name": "stdout",
     "output_type": "stream",
     "text": [
      "Looking in indexes: https://pypi.org/simple, https://us-python.pkg.dev/colab-wheels/public/simple/\n",
      "Collecting tiktoken\n",
      "  Downloading tiktoken-0.3.2-cp39-cp39-manylinux_2_17_x86_64.manylinux2014_x86_64.whl (1.7 MB)\n",
      "\u001b[2K     \u001b[90m━━━━━━━━━━━━━━━━━━━━━━━━━━━━━━━━━━━━━━━━\u001b[0m \u001b[32m1.7/1.7 MB\u001b[0m \u001b[31m15.8 MB/s\u001b[0m eta \u001b[36m0:00:00\u001b[0m\n",
      "\u001b[?25hRequirement already satisfied: requests>=2.26.0 in /usr/local/lib/python3.9/dist-packages (from tiktoken) (2.27.1)\n",
      "Requirement already satisfied: regex>=2022.1.18 in /usr/local/lib/python3.9/dist-packages (from tiktoken) (2022.10.31)\n",
      "Requirement already satisfied: urllib3<1.27,>=1.21.1 in /usr/local/lib/python3.9/dist-packages (from requests>=2.26.0->tiktoken) (1.26.15)\n",
      "Requirement already satisfied: charset-normalizer~=2.0.0 in /usr/local/lib/python3.9/dist-packages (from requests>=2.26.0->tiktoken) (2.0.12)\n",
      "Requirement already satisfied: idna<4,>=2.5 in /usr/local/lib/python3.9/dist-packages (from requests>=2.26.0->tiktoken) (3.4)\n",
      "Requirement already satisfied: certifi>=2017.4.17 in /usr/local/lib/python3.9/dist-packages (from requests>=2.26.0->tiktoken) (2022.12.7)\n",
      "Installing collected packages: tiktoken\n",
      "Successfully installed tiktoken-0.3.2\n"
     ]
    }
   ],
   "source": [
    "!pip install tiktoken"
   ]
  },
  {
   "cell_type": "code",
   "execution_count": 152,
   "metadata": {
    "executionInfo": {
     "elapsed": 301,
     "status": "ok",
     "timestamp": 1679820488268,
     "user": {
      "displayName": "bel hello",
      "userId": "14145485794765337692"
     },
     "user_tz": -480
    },
    "id": "l8Us0o9up5Qq"
   },
   "outputs": [],
   "source": [
    "import tiktoken\n",
    "\n",
    "def num_tokens_from_messages(messages, model=\"gpt-3.5-turbo-0301\"):\n",
    "  \"\"\"Returns the number of tokens used by a list of messages.\"\"\"\n",
    "  try:\n",
    "      encoding = tiktoken.encoding_for_model(model)\n",
    "  except KeyError:\n",
    "      encoding = tiktoken.get_encoding(\"cl100k_base\")\n",
    "  if model == \"gpt-3.5-turbo-0301\":  # note: future models may deviate from this\n",
    "      num_tokens = 0\n",
    "      for message in messages:\n",
    "          num_tokens += 4  # every message follows <im_start>{role/name}\\n{content}<im_end>\\n\n",
    "          for key, value in message.items():\n",
    "              num_tokens += len(encoding.encode(value))\n",
    "              if key == \"name\":  # if there's a name, the role is omitted\n",
    "                  num_tokens += -1  # role is always required and always 1 token\n",
    "      num_tokens += 2  # every reply is primed with <im_start>assistant\n",
    "      return num_tokens\n",
    "  else:\n",
    "      raise NotImplementedError(f\"\"\"num_tokens_from_messages() is not presently implemented for model {model}.\n",
    "  See https://github.com/openai/openai-python/blob/main/chatml.md for information on how messages are converted to tokens.\"\"\")"
   ]
  },
  {
   "cell_type": "code",
   "execution_count": 154,
   "metadata": {
    "colab": {
     "base_uri": "https://localhost:8080/"
    },
    "executionInfo": {
     "elapsed": 283,
     "status": "ok",
     "timestamp": 1679820514860,
     "user": {
      "displayName": "bel hello",
      "userId": "14145485794765337692"
     },
     "user_tz": -480
    },
    "id": "HDZ5GL96lxj9",
    "outputId": "ab65be0d-bef1-4915-fed3-b0896cc625c0"
   },
   "outputs": [
    {
     "name": "stdout",
     "output_type": "stream",
     "text": [
      "513\n",
      "754\n"
     ]
    }
   ],
   "source": [
    "#Reduce tokens to poll to reduce the costs by using only sentences with opinions\n",
    "opinions = \" \".join(opinion_sentence_lst)\n",
    "print(len(opinions))\n",
    "print(len(sample_review))"
   ]
  },
  {
   "cell_type": "code",
   "execution_count": 156,
   "metadata": {
    "colab": {
     "base_uri": "https://localhost:8080/"
    },
    "executionInfo": {
     "elapsed": 293,
     "status": "ok",
     "timestamp": 1679820586826,
     "user": {
      "displayName": "bel hello",
      "userId": "14145485794765337692"
     },
     "user_tz": -480
    },
    "id": "fOuI94dngSFA",
    "outputId": "0462bc2f-0880-450c-bde1-6c921d4a8f1f"
   },
   "outputs": [
    {
     "name": "stdout",
     "output_type": "stream",
     "text": [
      "225\n"
     ]
    }
   ],
   "source": [
    "prompt = \"Extract product names from the following text: \" + opinions\n",
    "second_prompt = \"For each product in the text, extract Aspect Opinion pairs then assign them a positive or negative sentiment.Your response should be in JSON.An example output for one aspect opinion pair is {'Sephora Lipstick': {'Aspect':'Shade', 'Opinion':'Positive', 'Explanation':'Amazing shades'}. Do not include this example.\"\n",
    "\n",
    "custom_msg = [\n",
    "          {\"role\": \"system\", \"content\": \"You are a helpful assistant that gets aspect opinion pairs.\"},\n",
    "          {\"role\": \"user\", \"content\": prompt},\n",
    "          {\"role\": \"user\", \"content\": second_prompt}\n",
    "      ]\n",
    "print(num_tokens_from_messages(custom_msg))"
   ]
  },
  {
   "cell_type": "code",
   "execution_count": 157,
   "metadata": {
    "executionInfo": {
     "elapsed": 8773,
     "status": "ok",
     "timestamp": 1679820599334,
     "user": {
      "displayName": "bel hello",
      "userId": "14145485794765337692"
     },
     "user_tz": -480
    },
    "id": "H2Z3KGzugAjw"
   },
   "outputs": [],
   "source": [
    "import openai\n",
    "\n",
    "# Set up the OpenAI API client\n",
    "openai.api_key = \"\"\n",
    "\n",
    "try:\n",
    "  # Generate a response\n",
    "\n",
    "  response = openai.ChatCompletion.create(\n",
    "    model=\"gpt-3.5-turbo\",\n",
    "    messages=custom_msg\n",
    "  )\n",
    "except Exception as e:\n",
    "    print(\"Error asking ChatGPT\", e)"
   ]
  },
  {
   "cell_type": "code",
   "execution_count": 158,
   "metadata": {
    "colab": {
     "base_uri": "https://localhost:8080/"
    },
    "executionInfo": {
     "elapsed": 286,
     "status": "ok",
     "timestamp": 1679820629080,
     "user": {
      "displayName": "bel hello",
      "userId": "14145485794765337692"
     },
     "user_tz": -480
    },
    "id": "p4-hd9t3k3AL",
    "outputId": "898a9a9e-df31-48d2-f490-0c26f2dd08dd"
   },
   "outputs": [
    {
     "name": "stdout",
     "output_type": "stream",
     "text": [
      "{\n",
      "\"NYX Eye Pencil\": [\n",
      "    {\"Aspect\": \"Suitability for sensitive eyes\", \"Opinion\": \"Negative\", \"Explanation\": \"may not be suitable for those with sensitive eyes or prone to dizziness\"},\n",
      "    {\"Aspect\": \"Color\", \"Opinion\": \"Positive\", \"Explanation\": \"very natural brown\"},\n",
      "    {\"Aspect\": \"Texture\", \"Opinion\": \"Positive\", \"Explanation\": \"very hard; not the kind that easily breaks off when you draw it\"}, \n",
      "    {\"Aspect\": \"Daily wear\", \"Opinion\": \"Positive\", \"Explanation\": \"super beautiful and looks good in everyday life\"}           \n",
      "]\n",
      "}\n"
     ]
    }
   ],
   "source": [
    "print(response['choices'][0][\"message\"][\"content\"])"
   ]
  },
  {
   "cell_type": "code",
   "execution_count": 159,
   "metadata": {
    "colab": {
     "base_uri": "https://localhost:8080/"
    },
    "executionInfo": {
     "elapsed": 372,
     "status": "ok",
     "timestamp": 1679820651982,
     "user": {
      "displayName": "bel hello",
      "userId": "14145485794765337692"
     },
     "user_tz": -480
    },
    "id": "WVmXO-z1gqYj",
    "outputId": "1afe5e27-e146-4cf8-909c-e21424a09db0"
   },
   "outputs": [
    {
     "data": {
      "text/plain": [
       "{'rqMqObrgFsc': {'NYX Eye Pencil': [{'Aspect': 'Suitability for sensitive eyes',\n",
       "    'Opinion': 'Negative',\n",
       "    'Explanation': 'may not be suitable for those with sensitive eyes or prone to dizziness'},\n",
       "   {'Aspect': 'Color',\n",
       "    'Opinion': 'Positive',\n",
       "    'Explanation': 'very natural brown'},\n",
       "   {'Aspect': 'Texture',\n",
       "    'Opinion': 'Positive',\n",
       "    'Explanation': 'very hard; not the kind that easily breaks off when you draw it'},\n",
       "   {'Aspect': 'Daily wear',\n",
       "    'Opinion': 'Positive',\n",
       "    'Explanation': 'super beautiful and looks good in everyday life'}]}}"
      ]
     },
     "execution_count": 159,
     "metadata": {},
     "output_type": "execute_result"
    }
   ],
   "source": [
    "import json\n",
    "def get_json_obj_from_chatgpt_response(response,review_id):\n",
    "  response_str = response['choices'][0][\"message\"][\"content\"]\n",
    "  jsonResponse = json.loads(response_str)\n",
    "  absa_dict_with_review_id = {review_id:jsonResponse}\n",
    "  return absa_dict_with_review_id\n",
    "\n",
    "review_id = \"rqMqObrgFsc\"\n",
    "\n",
    "absa_dict = get_json_obj_from_chatgpt_response(response, review_id)\n",
    "absa_dict"
   ]
  }
 ],
 "metadata": {
  "colab": {
   "provenance": [
    {
     "file_id": "1GLvlKvhzw0R1c70AnlQ5INKXs2b6lbJL",
     "timestamp": 1678625474195
    },
    {
     "file_id": "1n3UKjT3OQQhgSSzgPXVV41cPLm1VcYci",
     "timestamp": 1678521039732
    },
    {
     "file_id": "1vM36DwbvXyWlAIjmbVfevvtOh-ZNUeuj",
     "timestamp": 1678340160592
    },
    {
     "file_id": "1NnueS5Mm9Ashjv8CZ8srV-Po8Wi-4Tc3",
     "timestamp": 1677679513975
    }
   ]
  },
  "kernelspec": {
   "display_name": "Python 3",
   "language": "python",
   "name": "python3"
  },
  "language_info": {
   "codemirror_mode": {
    "name": "ipython",
    "version": 3
   },
   "file_extension": ".py",
   "mimetype": "text/x-python",
   "name": "python",
   "nbconvert_exporter": "python",
   "pygments_lexer": "ipython3",
   "version": "3.8.8"
  },
  "widgets": {
   "application/vnd.jupyter.widget-state+json": {
    "00ea06bd81ca46da85e8c0a867f5f439": {
     "model_module": "@jupyter-widgets/base",
     "model_module_version": "1.2.0",
     "model_name": "LayoutModel",
     "state": {
      "_model_module": "@jupyter-widgets/base",
      "_model_module_version": "1.2.0",
      "_model_name": "LayoutModel",
      "_view_count": null,
      "_view_module": "@jupyter-widgets/base",
      "_view_module_version": "1.2.0",
      "_view_name": "LayoutView",
      "align_content": null,
      "align_items": null,
      "align_self": null,
      "border": null,
      "bottom": null,
      "display": null,
      "flex": null,
      "flex_flow": null,
      "grid_area": null,
      "grid_auto_columns": null,
      "grid_auto_flow": null,
      "grid_auto_rows": null,
      "grid_column": null,
      "grid_gap": null,
      "grid_row": null,
      "grid_template_areas": null,
      "grid_template_columns": null,
      "grid_template_rows": null,
      "height": null,
      "justify_content": null,
      "justify_items": null,
      "left": null,
      "margin": null,
      "max_height": null,
      "max_width": null,
      "min_height": null,
      "min_width": null,
      "object_fit": null,
      "object_position": null,
      "order": null,
      "overflow": null,
      "overflow_x": null,
      "overflow_y": null,
      "padding": null,
      "right": null,
      "top": null,
      "visibility": null,
      "width": null
     }
    },
    "036483e9c5a046a1a8d7621f09c16da9": {
     "model_module": "@jupyter-widgets/base",
     "model_module_version": "1.2.0",
     "model_name": "LayoutModel",
     "state": {
      "_model_module": "@jupyter-widgets/base",
      "_model_module_version": "1.2.0",
      "_model_name": "LayoutModel",
      "_view_count": null,
      "_view_module": "@jupyter-widgets/base",
      "_view_module_version": "1.2.0",
      "_view_name": "LayoutView",
      "align_content": null,
      "align_items": null,
      "align_self": null,
      "border": null,
      "bottom": null,
      "display": null,
      "flex": null,
      "flex_flow": null,
      "grid_area": null,
      "grid_auto_columns": null,
      "grid_auto_flow": null,
      "grid_auto_rows": null,
      "grid_column": null,
      "grid_gap": null,
      "grid_row": null,
      "grid_template_areas": null,
      "grid_template_columns": null,
      "grid_template_rows": null,
      "height": null,
      "justify_content": null,
      "justify_items": null,
      "left": null,
      "margin": null,
      "max_height": null,
      "max_width": null,
      "min_height": null,
      "min_width": null,
      "object_fit": null,
      "object_position": null,
      "order": null,
      "overflow": null,
      "overflow_x": null,
      "overflow_y": null,
      "padding": null,
      "right": null,
      "top": null,
      "visibility": null,
      "width": null
     }
    },
    "037a38412e3444269190d62d9233de6f": {
     "model_module": "@jupyter-widgets/base",
     "model_module_version": "1.2.0",
     "model_name": "LayoutModel",
     "state": {
      "_model_module": "@jupyter-widgets/base",
      "_model_module_version": "1.2.0",
      "_model_name": "LayoutModel",
      "_view_count": null,
      "_view_module": "@jupyter-widgets/base",
      "_view_module_version": "1.2.0",
      "_view_name": "LayoutView",
      "align_content": null,
      "align_items": null,
      "align_self": null,
      "border": null,
      "bottom": null,
      "display": null,
      "flex": null,
      "flex_flow": null,
      "grid_area": null,
      "grid_auto_columns": null,
      "grid_auto_flow": null,
      "grid_auto_rows": null,
      "grid_column": null,
      "grid_gap": null,
      "grid_row": null,
      "grid_template_areas": null,
      "grid_template_columns": null,
      "grid_template_rows": null,
      "height": null,
      "justify_content": null,
      "justify_items": null,
      "left": null,
      "margin": null,
      "max_height": null,
      "max_width": null,
      "min_height": null,
      "min_width": null,
      "object_fit": null,
      "object_position": null,
      "order": null,
      "overflow": null,
      "overflow_x": null,
      "overflow_y": null,
      "padding": null,
      "right": null,
      "top": null,
      "visibility": "hidden",
      "width": null
     }
    },
    "07101581f3c9412eb2c34eb73152f421": {
     "model_module": "@jupyter-widgets/base",
     "model_module_version": "1.2.0",
     "model_name": "LayoutModel",
     "state": {
      "_model_module": "@jupyter-widgets/base",
      "_model_module_version": "1.2.0",
      "_model_name": "LayoutModel",
      "_view_count": null,
      "_view_module": "@jupyter-widgets/base",
      "_view_module_version": "1.2.0",
      "_view_name": "LayoutView",
      "align_content": null,
      "align_items": null,
      "align_self": null,
      "border": null,
      "bottom": null,
      "display": null,
      "flex": null,
      "flex_flow": null,
      "grid_area": null,
      "grid_auto_columns": null,
      "grid_auto_flow": null,
      "grid_auto_rows": null,
      "grid_column": null,
      "grid_gap": null,
      "grid_row": null,
      "grid_template_areas": null,
      "grid_template_columns": null,
      "grid_template_rows": null,
      "height": null,
      "justify_content": null,
      "justify_items": null,
      "left": null,
      "margin": null,
      "max_height": null,
      "max_width": null,
      "min_height": null,
      "min_width": null,
      "object_fit": null,
      "object_position": null,
      "order": null,
      "overflow": null,
      "overflow_x": null,
      "overflow_y": null,
      "padding": null,
      "right": null,
      "top": null,
      "visibility": null,
      "width": null
     }
    },
    "079f5a68129246acba4e9e23e5a8beba": {
     "model_module": "@jupyter-widgets/base",
     "model_module_version": "1.2.0",
     "model_name": "LayoutModel",
     "state": {
      "_model_module": "@jupyter-widgets/base",
      "_model_module_version": "1.2.0",
      "_model_name": "LayoutModel",
      "_view_count": null,
      "_view_module": "@jupyter-widgets/base",
      "_view_module_version": "1.2.0",
      "_view_name": "LayoutView",
      "align_content": null,
      "align_items": null,
      "align_self": null,
      "border": null,
      "bottom": null,
      "display": null,
      "flex": null,
      "flex_flow": null,
      "grid_area": null,
      "grid_auto_columns": null,
      "grid_auto_flow": null,
      "grid_auto_rows": null,
      "grid_column": null,
      "grid_gap": null,
      "grid_row": null,
      "grid_template_areas": null,
      "grid_template_columns": null,
      "grid_template_rows": null,
      "height": null,
      "justify_content": null,
      "justify_items": null,
      "left": null,
      "margin": null,
      "max_height": null,
      "max_width": null,
      "min_height": null,
      "min_width": null,
      "object_fit": null,
      "object_position": null,
      "order": null,
      "overflow": null,
      "overflow_x": null,
      "overflow_y": null,
      "padding": null,
      "right": null,
      "top": null,
      "visibility": null,
      "width": null
     }
    },
    "08552c5969c14bd49d8866571e04f556": {
     "model_module": "@jupyter-widgets/controls",
     "model_module_version": "1.5.0",
     "model_name": "HTMLModel",
     "state": {
      "_dom_classes": [],
      "_model_module": "@jupyter-widgets/controls",
      "_model_module_version": "1.5.0",
      "_model_name": "HTMLModel",
      "_view_count": null,
      "_view_module": "@jupyter-widgets/controls",
      "_view_module_version": "1.5.0",
      "_view_name": "HTMLView",
      "description": "",
      "description_tooltip": null,
      "layout": "IPY_MODEL_be309318a82d4b78951e6a7d29f314e8",
      "placeholder": "​",
      "style": "IPY_MODEL_3ef4925670344653bf41817eedfd9e4e",
      "value": " 52.0/52.0 [00:00&lt;00:00, 1.10kB/s]"
     }
    },
    "09ff9ec03d694af5bdd45df962aafb63": {
     "model_module": "@jupyter-widgets/controls",
     "model_module_version": "1.5.0",
     "model_name": "DescriptionStyleModel",
     "state": {
      "_model_module": "@jupyter-widgets/controls",
      "_model_module_version": "1.5.0",
      "_model_name": "DescriptionStyleModel",
      "_view_count": null,
      "_view_module": "@jupyter-widgets/base",
      "_view_module_version": "1.2.0",
      "_view_name": "StyleView",
      "description_width": ""
     }
    },
    "0d635fdf74fd4d83b80a13b0fa4221a5": {
     "model_module": "@jupyter-widgets/controls",
     "model_module_version": "1.5.0",
     "model_name": "DescriptionStyleModel",
     "state": {
      "_model_module": "@jupyter-widgets/controls",
      "_model_module_version": "1.5.0",
      "_model_name": "DescriptionStyleModel",
      "_view_count": null,
      "_view_module": "@jupyter-widgets/base",
      "_view_module_version": "1.2.0",
      "_view_name": "StyleView",
      "description_width": ""
     }
    },
    "0f9ad55ebf3842eca835b8c3bf39741c": {
     "model_module": "@jupyter-widgets/controls",
     "model_module_version": "1.5.0",
     "model_name": "ProgressStyleModel",
     "state": {
      "_model_module": "@jupyter-widgets/controls",
      "_model_module_version": "1.5.0",
      "_model_name": "ProgressStyleModel",
      "_view_count": null,
      "_view_module": "@jupyter-widgets/base",
      "_view_module_version": "1.2.0",
      "_view_name": "StyleView",
      "bar_color": null,
      "description_width": ""
     }
    },
    "1890ed2066714047a526a6e72a37eb1e": {
     "model_module": "@jupyter-widgets/controls",
     "model_module_version": "1.5.0",
     "model_name": "FloatProgressModel",
     "state": {
      "_dom_classes": [],
      "_model_module": "@jupyter-widgets/controls",
      "_model_module_version": "1.5.0",
      "_model_name": "FloatProgressModel",
      "_view_count": null,
      "_view_module": "@jupyter-widgets/controls",
      "_view_module_version": "1.5.0",
      "_view_name": "ProgressView",
      "bar_style": "success",
      "description": "",
      "description_tooltip": null,
      "layout": "IPY_MODEL_85e73331b32c4375844d0f52db5c7e1d",
      "max": 267844284,
      "min": 0,
      "orientation": "horizontal",
      "style": "IPY_MODEL_9e4187b939ab4fd491b6a2c597fd6abf",
      "value": 267844284
     }
    },
    "190e293f77ba4f529507b37c79553e20": {
     "model_module": "@jupyter-widgets/controls",
     "model_module_version": "1.5.0",
     "model_name": "HTMLModel",
     "state": {
      "_dom_classes": [],
      "_model_module": "@jupyter-widgets/controls",
      "_model_module_version": "1.5.0",
      "_model_name": "HTMLModel",
      "_view_count": null,
      "_view_module": "@jupyter-widgets/controls",
      "_view_module_version": "1.5.0",
      "_view_name": "HTMLView",
      "description": "",
      "description_tooltip": null,
      "layout": "IPY_MODEL_70bcc77ec32f498385b4031c0623c3cf",
      "placeholder": "​",
      "style": "IPY_MODEL_2d122ebfccb84519ab4a0258bb8ead49",
      "value": " 232k/232k [00:00&lt;00:00, 2.08MB/s]"
     }
    },
    "1eb0d7b424934d978d1a5eaf88e5d97e": {
     "model_module": "@jupyter-widgets/controls",
     "model_module_version": "1.5.0",
     "model_name": "DescriptionStyleModel",
     "state": {
      "_model_module": "@jupyter-widgets/controls",
      "_model_module_version": "1.5.0",
      "_model_name": "DescriptionStyleModel",
      "_view_count": null,
      "_view_module": "@jupyter-widgets/base",
      "_view_module_version": "1.2.0",
      "_view_name": "StyleView",
      "description_width": ""
     }
    },
    "1f8c4f0178f84fb7bae87953064ee6c7": {
     "model_module": "@jupyter-widgets/controls",
     "model_module_version": "1.5.0",
     "model_name": "HBoxModel",
     "state": {
      "_dom_classes": [],
      "_model_module": "@jupyter-widgets/controls",
      "_model_module_version": "1.5.0",
      "_model_name": "HBoxModel",
      "_view_count": null,
      "_view_module": "@jupyter-widgets/controls",
      "_view_module_version": "1.5.0",
      "_view_name": "HBoxView",
      "box_style": "",
      "children": [
       "IPY_MODEL_a0db6cfe89cc497399a0b6334830eea0",
       "IPY_MODEL_e6d91cf146174902bb0dc01c1d9e8e8c",
       "IPY_MODEL_782a6505042748ab8dfe5b5d7c162b1a"
      ],
      "layout": "IPY_MODEL_d39247f73c1544748ccb4e629f683eda"
     }
    },
    "203094dc8fb746e4ae824a99ba0bb567": {
     "model_module": "@jupyter-widgets/base",
     "model_module_version": "1.2.0",
     "model_name": "LayoutModel",
     "state": {
      "_model_module": "@jupyter-widgets/base",
      "_model_module_version": "1.2.0",
      "_model_name": "LayoutModel",
      "_view_count": null,
      "_view_module": "@jupyter-widgets/base",
      "_view_module_version": "1.2.0",
      "_view_name": "LayoutView",
      "align_content": null,
      "align_items": null,
      "align_self": null,
      "border": null,
      "bottom": null,
      "display": null,
      "flex": null,
      "flex_flow": null,
      "grid_area": null,
      "grid_auto_columns": null,
      "grid_auto_flow": null,
      "grid_auto_rows": null,
      "grid_column": null,
      "grid_gap": null,
      "grid_row": null,
      "grid_template_areas": null,
      "grid_template_columns": null,
      "grid_template_rows": null,
      "height": null,
      "justify_content": null,
      "justify_items": null,
      "left": null,
      "margin": null,
      "max_height": null,
      "max_width": null,
      "min_height": null,
      "min_width": null,
      "object_fit": null,
      "object_position": null,
      "order": null,
      "overflow": null,
      "overflow_x": null,
      "overflow_y": null,
      "padding": null,
      "right": null,
      "top": null,
      "visibility": "hidden",
      "width": null
     }
    },
    "2141e189c3524eabac4a3d4d44c40d3f": {
     "model_module": "@jupyter-widgets/controls",
     "model_module_version": "1.5.0",
     "model_name": "FloatProgressModel",
     "state": {
      "_dom_classes": [],
      "_model_module": "@jupyter-widgets/controls",
      "_model_module_version": "1.5.0",
      "_model_name": "FloatProgressModel",
      "_view_count": null,
      "_view_module": "@jupyter-widgets/controls",
      "_view_module_version": "1.5.0",
      "_view_name": "ProgressView",
      "bar_style": "",
      "description": "",
      "description_tooltip": null,
      "layout": "IPY_MODEL_4925c29882a9432d9ca676745166cc1b",
      "max": 3,
      "min": 0,
      "orientation": "horizontal",
      "style": "IPY_MODEL_dc8567121d26492ba6a784d79b4ce569",
      "value": 3
     }
    },
    "25dabb42ef324afbb9289732bd72a7b8": {
     "model_module": "@jupyter-widgets/base",
     "model_module_version": "1.2.0",
     "model_name": "LayoutModel",
     "state": {
      "_model_module": "@jupyter-widgets/base",
      "_model_module_version": "1.2.0",
      "_model_name": "LayoutModel",
      "_view_count": null,
      "_view_module": "@jupyter-widgets/base",
      "_view_module_version": "1.2.0",
      "_view_name": "LayoutView",
      "align_content": null,
      "align_items": null,
      "align_self": null,
      "border": null,
      "bottom": null,
      "display": null,
      "flex": null,
      "flex_flow": null,
      "grid_area": null,
      "grid_auto_columns": null,
      "grid_auto_flow": null,
      "grid_auto_rows": null,
      "grid_column": null,
      "grid_gap": null,
      "grid_row": null,
      "grid_template_areas": null,
      "grid_template_columns": null,
      "grid_template_rows": null,
      "height": null,
      "justify_content": null,
      "justify_items": null,
      "left": null,
      "margin": null,
      "max_height": null,
      "max_width": null,
      "min_height": null,
      "min_width": null,
      "object_fit": null,
      "object_position": null,
      "order": null,
      "overflow": null,
      "overflow_x": null,
      "overflow_y": null,
      "padding": null,
      "right": null,
      "top": null,
      "visibility": null,
      "width": null
     }
    },
    "263f355e035946359083d4afbca5fb21": {
     "model_module": "@jupyter-widgets/controls",
     "model_module_version": "1.5.0",
     "model_name": "FloatProgressModel",
     "state": {
      "_dom_classes": [],
      "_model_module": "@jupyter-widgets/controls",
      "_model_module_version": "1.5.0",
      "_model_name": "FloatProgressModel",
      "_view_count": null,
      "_view_module": "@jupyter-widgets/controls",
      "_view_module_version": "1.5.0",
      "_view_name": "ProgressView",
      "bar_style": "success",
      "description": "",
      "description_tooltip": null,
      "layout": "IPY_MODEL_dba146d1c10b4ec3946ff4af6336adb0",
      "max": 2464616,
      "min": 0,
      "orientation": "horizontal",
      "style": "IPY_MODEL_c264bbddeb664d13ae81ebca9c479972",
      "value": 2464616
     }
    },
    "2c056a0f6d6e4901889fe8f8b611e2b3": {
     "model_module": "@jupyter-widgets/controls",
     "model_module_version": "1.5.0",
     "model_name": "FloatProgressModel",
     "state": {
      "_dom_classes": [],
      "_model_module": "@jupyter-widgets/controls",
      "_model_module_version": "1.5.0",
      "_model_name": "FloatProgressModel",
      "_view_count": null,
      "_view_module": "@jupyter-widgets/controls",
      "_view_module_version": "1.5.0",
      "_view_name": "ProgressView",
      "bar_style": "success",
      "description": "",
      "description_tooltip": null,
      "layout": "IPY_MODEL_8b0451352d834d71a37526c5e6c400e5",
      "max": 579,
      "min": 0,
      "orientation": "horizontal",
      "style": "IPY_MODEL_b6e6a6f200d64ffcbf718f1ec0af9f3e",
      "value": 579
     }
    },
    "2d122ebfccb84519ab4a0258bb8ead49": {
     "model_module": "@jupyter-widgets/controls",
     "model_module_version": "1.5.0",
     "model_name": "DescriptionStyleModel",
     "state": {
      "_model_module": "@jupyter-widgets/controls",
      "_model_module_version": "1.5.0",
      "_model_name": "DescriptionStyleModel",
      "_view_count": null,
      "_view_module": "@jupyter-widgets/base",
      "_view_module_version": "1.2.0",
      "_view_name": "StyleView",
      "description_width": ""
     }
    },
    "2d6f7787b89541c0892f9b672052ab37": {
     "model_module": "@jupyter-widgets/controls",
     "model_module_version": "1.5.0",
     "model_name": "HTMLModel",
     "state": {
      "_dom_classes": [],
      "_model_module": "@jupyter-widgets/controls",
      "_model_module_version": "1.5.0",
      "_model_name": "HTMLModel",
      "_view_count": null,
      "_view_module": "@jupyter-widgets/controls",
      "_view_module_version": "1.5.0",
      "_view_name": "HTMLView",
      "description": "",
      "description_tooltip": null,
      "layout": "IPY_MODEL_d11c752026734074a05c4cf91bbb0126",
      "placeholder": "​",
      "style": "IPY_MODEL_b607bd09e7a94b4f850ae0486920165b",
      "value": " 2.46M/2.46M [00:00&lt;00:00, 24.6MB/s]"
     }
    },
    "2e8209756e074b33a502379038a3a626": {
     "model_module": "@jupyter-widgets/controls",
     "model_module_version": "1.5.0",
     "model_name": "HTMLModel",
     "state": {
      "_dom_classes": [],
      "_model_module": "@jupyter-widgets/controls",
      "_model_module_version": "1.5.0",
      "_model_name": "HTMLModel",
      "_view_count": null,
      "_view_module": "@jupyter-widgets/controls",
      "_view_module_version": "1.5.0",
      "_view_name": "HTMLView",
      "description": "",
      "description_tooltip": null,
      "layout": "IPY_MODEL_f4b0af43c4c64ca9910b525501a2d27a",
      "placeholder": "​",
      "style": "IPY_MODEL_d52addaa48cb4cc7805a90902854cea9",
      "value": " 0/1 [00:00&lt;?, ? examples/s]"
     }
    },
    "2fa75c79a6e743db903f40ad92a2326b": {
     "model_module": "@jupyter-widgets/controls",
     "model_module_version": "1.5.0",
     "model_name": "HBoxModel",
     "state": {
      "_dom_classes": [],
      "_model_module": "@jupyter-widgets/controls",
      "_model_module_version": "1.5.0",
      "_model_name": "HBoxModel",
      "_view_count": null,
      "_view_module": "@jupyter-widgets/controls",
      "_view_module_version": "1.5.0",
      "_view_name": "HBoxView",
      "box_style": "",
      "children": [
       "IPY_MODEL_fd519513959d430297b3251f36befa13",
       "IPY_MODEL_2c056a0f6d6e4901889fe8f8b611e2b3",
       "IPY_MODEL_65a220a810d24ce49f2c77e49993aa86"
      ],
      "layout": "IPY_MODEL_3b3792fdf7fd46689b2849acbd688d51"
     }
    },
    "2fef2142de1b44eeb7a85774deab29bf": {
     "model_module": "@jupyter-widgets/controls",
     "model_module_version": "1.5.0",
     "model_name": "FloatProgressModel",
     "state": {
      "_dom_classes": [],
      "_model_module": "@jupyter-widgets/controls",
      "_model_module_version": "1.5.0",
      "_model_name": "FloatProgressModel",
      "_view_count": null,
      "_view_module": "@jupyter-widgets/controls",
      "_view_module_version": "1.5.0",
      "_view_name": "ProgressView",
      "bar_style": "success",
      "description": "",
      "description_tooltip": null,
      "layout": "IPY_MODEL_f2db73588f1e4227a3fdcf3b652a1ead",
      "max": 48,
      "min": 0,
      "orientation": "horizontal",
      "style": "IPY_MODEL_45e8a6b5079844d58d9df1f752475e06",
      "value": 48
     }
    },
    "3097e283e14548419d1a6d4921ec26bc": {
     "model_module": "@jupyter-widgets/base",
     "model_module_version": "1.2.0",
     "model_name": "LayoutModel",
     "state": {
      "_model_module": "@jupyter-widgets/base",
      "_model_module_version": "1.2.0",
      "_model_name": "LayoutModel",
      "_view_count": null,
      "_view_module": "@jupyter-widgets/base",
      "_view_module_version": "1.2.0",
      "_view_name": "LayoutView",
      "align_content": null,
      "align_items": null,
      "align_self": null,
      "border": null,
      "bottom": null,
      "display": null,
      "flex": null,
      "flex_flow": null,
      "grid_area": null,
      "grid_auto_columns": null,
      "grid_auto_flow": null,
      "grid_auto_rows": null,
      "grid_column": null,
      "grid_gap": null,
      "grid_row": null,
      "grid_template_areas": null,
      "grid_template_columns": null,
      "grid_template_rows": null,
      "height": null,
      "justify_content": null,
      "justify_items": null,
      "left": null,
      "margin": null,
      "max_height": null,
      "max_width": null,
      "min_height": null,
      "min_width": null,
      "object_fit": null,
      "object_position": null,
      "order": null,
      "overflow": null,
      "overflow_x": null,
      "overflow_y": null,
      "padding": null,
      "right": null,
      "top": null,
      "visibility": null,
      "width": null
     }
    },
    "3460e4b29d7843c8a23ead51b92430fa": {
     "model_module": "@jupyter-widgets/base",
     "model_module_version": "1.2.0",
     "model_name": "LayoutModel",
     "state": {
      "_model_module": "@jupyter-widgets/base",
      "_model_module_version": "1.2.0",
      "_model_name": "LayoutModel",
      "_view_count": null,
      "_view_module": "@jupyter-widgets/base",
      "_view_module_version": "1.2.0",
      "_view_name": "LayoutView",
      "align_content": null,
      "align_items": null,
      "align_self": null,
      "border": null,
      "bottom": null,
      "display": null,
      "flex": null,
      "flex_flow": null,
      "grid_area": null,
      "grid_auto_columns": null,
      "grid_auto_flow": null,
      "grid_auto_rows": null,
      "grid_column": null,
      "grid_gap": null,
      "grid_row": null,
      "grid_template_areas": null,
      "grid_template_columns": null,
      "grid_template_rows": null,
      "height": null,
      "justify_content": null,
      "justify_items": null,
      "left": null,
      "margin": null,
      "max_height": null,
      "max_width": null,
      "min_height": null,
      "min_width": null,
      "object_fit": null,
      "object_position": null,
      "order": null,
      "overflow": null,
      "overflow_x": null,
      "overflow_y": null,
      "padding": null,
      "right": null,
      "top": null,
      "visibility": null,
      "width": null
     }
    },
    "3493cc31dda04280a3a9f4487a3d870f": {
     "model_module": "@jupyter-widgets/base",
     "model_module_version": "1.2.0",
     "model_name": "LayoutModel",
     "state": {
      "_model_module": "@jupyter-widgets/base",
      "_model_module_version": "1.2.0",
      "_model_name": "LayoutModel",
      "_view_count": null,
      "_view_module": "@jupyter-widgets/base",
      "_view_module_version": "1.2.0",
      "_view_name": "LayoutView",
      "align_content": null,
      "align_items": null,
      "align_self": null,
      "border": null,
      "bottom": null,
      "display": null,
      "flex": null,
      "flex_flow": null,
      "grid_area": null,
      "grid_auto_columns": null,
      "grid_auto_flow": null,
      "grid_auto_rows": null,
      "grid_column": null,
      "grid_gap": null,
      "grid_row": null,
      "grid_template_areas": null,
      "grid_template_columns": null,
      "grid_template_rows": null,
      "height": null,
      "justify_content": null,
      "justify_items": null,
      "left": null,
      "margin": null,
      "max_height": null,
      "max_width": null,
      "min_height": null,
      "min_width": null,
      "object_fit": null,
      "object_position": null,
      "order": null,
      "overflow": null,
      "overflow_x": null,
      "overflow_y": null,
      "padding": null,
      "right": null,
      "top": null,
      "visibility": null,
      "width": null
     }
    },
    "35977eeab2954b3ab5d554a3e44ceb06": {
     "model_module": "@jupyter-widgets/controls",
     "model_module_version": "1.5.0",
     "model_name": "DescriptionStyleModel",
     "state": {
      "_model_module": "@jupyter-widgets/controls",
      "_model_module_version": "1.5.0",
      "_model_name": "DescriptionStyleModel",
      "_view_count": null,
      "_view_module": "@jupyter-widgets/base",
      "_view_module_version": "1.2.0",
      "_view_name": "StyleView",
      "description_width": ""
     }
    },
    "36cc227125d142e39847355fa35bdb2b": {
     "model_module": "@jupyter-widgets/controls",
     "model_module_version": "1.5.0",
     "model_name": "HBoxModel",
     "state": {
      "_dom_classes": [],
      "_model_module": "@jupyter-widgets/controls",
      "_model_module_version": "1.5.0",
      "_model_name": "HBoxModel",
      "_view_count": null,
      "_view_module": "@jupyter-widgets/controls",
      "_view_module_version": "1.5.0",
      "_view_name": "HBoxView",
      "box_style": "",
      "children": [
       "IPY_MODEL_b2c6e0ba157144dfa611258c5a4d76f3",
       "IPY_MODEL_ff01929882414c6ba4138f2e256c4188",
       "IPY_MODEL_2e8209756e074b33a502379038a3a626"
      ],
      "layout": "IPY_MODEL_037a38412e3444269190d62d9233de6f"
     }
    },
    "36ee51db1c334665a7f41922345029fb": {
     "model_module": "@jupyter-widgets/controls",
     "model_module_version": "1.5.0",
     "model_name": "HTMLModel",
     "state": {
      "_dom_classes": [],
      "_model_module": "@jupyter-widgets/controls",
      "_model_module_version": "1.5.0",
      "_model_name": "HTMLModel",
      "_view_count": null,
      "_view_module": "@jupyter-widgets/controls",
      "_view_module_version": "1.5.0",
      "_view_name": "HTMLView",
      "description": "",
      "description_tooltip": null,
      "layout": "IPY_MODEL_6e3a850d71a04b389494a54dd9870835",
      "placeholder": "​",
      "style": "IPY_MODEL_514c10b0ec9643419f2a6e3a85eafe09",
      "value": " 0/3 [00:00&lt;?, ?it/s]"
     }
    },
    "376af4d67b7c4f7698a8db7b40ad31f7": {
     "model_module": "@jupyter-widgets/controls",
     "model_module_version": "1.5.0",
     "model_name": "ProgressStyleModel",
     "state": {
      "_model_module": "@jupyter-widgets/controls",
      "_model_module_version": "1.5.0",
      "_model_name": "ProgressStyleModel",
      "_view_count": null,
      "_view_module": "@jupyter-widgets/base",
      "_view_module_version": "1.2.0",
      "_view_name": "StyleView",
      "bar_color": null,
      "description_width": ""
     }
    },
    "38d2d866085f42b19e33eeb549605d1b": {
     "model_module": "@jupyter-widgets/controls",
     "model_module_version": "1.5.0",
     "model_name": "HTMLModel",
     "state": {
      "_dom_classes": [],
      "_model_module": "@jupyter-widgets/controls",
      "_model_module_version": "1.5.0",
      "_model_name": "HTMLModel",
      "_view_count": null,
      "_view_module": "@jupyter-widgets/controls",
      "_view_module_version": "1.5.0",
      "_view_name": "HTMLView",
      "description": "",
      "description_tooltip": null,
      "layout": "IPY_MODEL_a65cb8da059f465faa7cc3787bb26deb",
      "placeholder": "​",
      "style": "IPY_MODEL_0d635fdf74fd4d83b80a13b0fa4221a5",
      "value": "Downloading pytorch_model.bin: 100%"
     }
    },
    "3b3792fdf7fd46689b2849acbd688d51": {
     "model_module": "@jupyter-widgets/base",
     "model_module_version": "1.2.0",
     "model_name": "LayoutModel",
     "state": {
      "_model_module": "@jupyter-widgets/base",
      "_model_module_version": "1.2.0",
      "_model_name": "LayoutModel",
      "_view_count": null,
      "_view_module": "@jupyter-widgets/base",
      "_view_module_version": "1.2.0",
      "_view_name": "LayoutView",
      "align_content": null,
      "align_items": null,
      "align_self": null,
      "border": null,
      "bottom": null,
      "display": null,
      "flex": null,
      "flex_flow": null,
      "grid_area": null,
      "grid_auto_columns": null,
      "grid_auto_flow": null,
      "grid_auto_rows": null,
      "grid_column": null,
      "grid_gap": null,
      "grid_row": null,
      "grid_template_areas": null,
      "grid_template_columns": null,
      "grid_template_rows": null,
      "height": null,
      "justify_content": null,
      "justify_items": null,
      "left": null,
      "margin": null,
      "max_height": null,
      "max_width": null,
      "min_height": null,
      "min_width": null,
      "object_fit": null,
      "object_position": null,
      "order": null,
      "overflow": null,
      "overflow_x": null,
      "overflow_y": null,
      "padding": null,
      "right": null,
      "top": null,
      "visibility": null,
      "width": null
     }
    },
    "3b6cee774a794ccaaac267178639a7f6": {
     "model_module": "@jupyter-widgets/base",
     "model_module_version": "1.2.0",
     "model_name": "LayoutModel",
     "state": {
      "_model_module": "@jupyter-widgets/base",
      "_model_module_version": "1.2.0",
      "_model_name": "LayoutModel",
      "_view_count": null,
      "_view_module": "@jupyter-widgets/base",
      "_view_module_version": "1.2.0",
      "_view_name": "LayoutView",
      "align_content": null,
      "align_items": null,
      "align_self": null,
      "border": null,
      "bottom": null,
      "display": null,
      "flex": null,
      "flex_flow": null,
      "grid_area": null,
      "grid_auto_columns": null,
      "grid_auto_flow": null,
      "grid_auto_rows": null,
      "grid_column": null,
      "grid_gap": null,
      "grid_row": null,
      "grid_template_areas": null,
      "grid_template_columns": null,
      "grid_template_rows": null,
      "height": null,
      "justify_content": null,
      "justify_items": null,
      "left": null,
      "margin": null,
      "max_height": null,
      "max_width": null,
      "min_height": null,
      "min_width": null,
      "object_fit": null,
      "object_position": null,
      "order": null,
      "overflow": null,
      "overflow_x": null,
      "overflow_y": null,
      "padding": null,
      "right": null,
      "top": null,
      "visibility": null,
      "width": null
     }
    },
    "3bdc61d10bc64751833b2007af3e50cf": {
     "model_module": "@jupyter-widgets/base",
     "model_module_version": "1.2.0",
     "model_name": "LayoutModel",
     "state": {
      "_model_module": "@jupyter-widgets/base",
      "_model_module_version": "1.2.0",
      "_model_name": "LayoutModel",
      "_view_count": null,
      "_view_module": "@jupyter-widgets/base",
      "_view_module_version": "1.2.0",
      "_view_name": "LayoutView",
      "align_content": null,
      "align_items": null,
      "align_self": null,
      "border": null,
      "bottom": null,
      "display": null,
      "flex": null,
      "flex_flow": null,
      "grid_area": null,
      "grid_auto_columns": null,
      "grid_auto_flow": null,
      "grid_auto_rows": null,
      "grid_column": null,
      "grid_gap": null,
      "grid_row": null,
      "grid_template_areas": null,
      "grid_template_columns": null,
      "grid_template_rows": null,
      "height": null,
      "justify_content": null,
      "justify_items": null,
      "left": null,
      "margin": null,
      "max_height": null,
      "max_width": null,
      "min_height": null,
      "min_width": null,
      "object_fit": null,
      "object_position": null,
      "order": null,
      "overflow": null,
      "overflow_x": null,
      "overflow_y": null,
      "padding": null,
      "right": null,
      "top": null,
      "visibility": null,
      "width": null
     }
    },
    "3d42fc46e3454a959fed416db277df6f": {
     "model_module": "@jupyter-widgets/base",
     "model_module_version": "1.2.0",
     "model_name": "LayoutModel",
     "state": {
      "_model_module": "@jupyter-widgets/base",
      "_model_module_version": "1.2.0",
      "_model_name": "LayoutModel",
      "_view_count": null,
      "_view_module": "@jupyter-widgets/base",
      "_view_module_version": "1.2.0",
      "_view_name": "LayoutView",
      "align_content": null,
      "align_items": null,
      "align_self": null,
      "border": null,
      "bottom": null,
      "display": null,
      "flex": null,
      "flex_flow": null,
      "grid_area": null,
      "grid_auto_columns": null,
      "grid_auto_flow": null,
      "grid_auto_rows": null,
      "grid_column": null,
      "grid_gap": null,
      "grid_row": null,
      "grid_template_areas": null,
      "grid_template_columns": null,
      "grid_template_rows": null,
      "height": null,
      "justify_content": null,
      "justify_items": null,
      "left": null,
      "margin": null,
      "max_height": null,
      "max_width": null,
      "min_height": null,
      "min_width": null,
      "object_fit": null,
      "object_position": null,
      "order": null,
      "overflow": null,
      "overflow_x": null,
      "overflow_y": null,
      "padding": null,
      "right": null,
      "top": null,
      "visibility": null,
      "width": null
     }
    },
    "3da56ec5171c49ccbd2a88c533327c53": {
     "model_module": "@jupyter-widgets/controls",
     "model_module_version": "1.5.0",
     "model_name": "HTMLModel",
     "state": {
      "_dom_classes": [],
      "_model_module": "@jupyter-widgets/controls",
      "_model_module_version": "1.5.0",
      "_model_name": "HTMLModel",
      "_view_count": null,
      "_view_module": "@jupyter-widgets/controls",
      "_view_module_version": "1.5.0",
      "_view_name": "HTMLView",
      "description": "",
      "description_tooltip": null,
      "layout": "IPY_MODEL_c2a3ef1cfa9c41a799e8dd740b5822d8",
      "placeholder": "​",
      "style": "IPY_MODEL_8d4f52b1036f475d8e1fddff5bc8c38d",
      "value": "Downloading spm.model: 100%"
     }
    },
    "3ef4925670344653bf41817eedfd9e4e": {
     "model_module": "@jupyter-widgets/controls",
     "model_module_version": "1.5.0",
     "model_name": "DescriptionStyleModel",
     "state": {
      "_model_module": "@jupyter-widgets/controls",
      "_model_module_version": "1.5.0",
      "_model_name": "DescriptionStyleModel",
      "_view_count": null,
      "_view_module": "@jupyter-widgets/base",
      "_view_module_version": "1.2.0",
      "_view_name": "StyleView",
      "description_width": ""
     }
    },
    "40f84ca2feac4baaa271ce2a87aa11f6": {
     "model_module": "@jupyter-widgets/controls",
     "model_module_version": "1.5.0",
     "model_name": "HTMLModel",
     "state": {
      "_dom_classes": [],
      "_model_module": "@jupyter-widgets/controls",
      "_model_module_version": "1.5.0",
      "_model_name": "HTMLModel",
      "_view_count": null,
      "_view_module": "@jupyter-widgets/controls",
      "_view_module_version": "1.5.0",
      "_view_name": "HTMLView",
      "description": "",
      "description_tooltip": null,
      "layout": "IPY_MODEL_e93468b954c04a27b0fdbba6a78dbb50",
      "placeholder": "​",
      "style": "IPY_MODEL_1eb0d7b424934d978d1a5eaf88e5d97e",
      "value": "Downloading (…)okenizer_config.json: 100%"
     }
    },
    "410cf24aa7c64d4bb2ce0d1cc970e1db": {
     "model_module": "@jupyter-widgets/controls",
     "model_module_version": "1.5.0",
     "model_name": "HTMLModel",
     "state": {
      "_dom_classes": [],
      "_model_module": "@jupyter-widgets/controls",
      "_model_module_version": "1.5.0",
      "_model_name": "HTMLModel",
      "_view_count": null,
      "_view_module": "@jupyter-widgets/controls",
      "_view_module_version": "1.5.0",
      "_view_name": "HTMLView",
      "description": "",
      "description_tooltip": null,
      "layout": "IPY_MODEL_87c9362de86a4b9bbe6eb69adc7dd095",
      "placeholder": "​",
      "style": "IPY_MODEL_09ff9ec03d694af5bdd45df962aafb63",
      "value": " 48.0/48.0 [00:00&lt;00:00, 883B/s]"
     }
    },
    "45d82e79720b4512903df5012bcb064a": {
     "model_module": "@jupyter-widgets/controls",
     "model_module_version": "1.5.0",
     "model_name": "HTMLModel",
     "state": {
      "_dom_classes": [],
      "_model_module": "@jupyter-widgets/controls",
      "_model_module_version": "1.5.0",
      "_model_name": "HTMLModel",
      "_view_count": null,
      "_view_module": "@jupyter-widgets/controls",
      "_view_module_version": "1.5.0",
      "_view_name": "HTMLView",
      "description": "",
      "description_tooltip": null,
      "layout": "IPY_MODEL_57c4f2cb217048b486d22787c4279529",
      "placeholder": "​",
      "style": "IPY_MODEL_d772c1eaf11c468aa0fb6b003953b2b0",
      "value": "Downloading (…)solve/main/vocab.txt: 100%"
     }
    },
    "45e8a6b5079844d58d9df1f752475e06": {
     "model_module": "@jupyter-widgets/controls",
     "model_module_version": "1.5.0",
     "model_name": "ProgressStyleModel",
     "state": {
      "_model_module": "@jupyter-widgets/controls",
      "_model_module_version": "1.5.0",
      "_model_name": "ProgressStyleModel",
      "_view_count": null,
      "_view_module": "@jupyter-widgets/base",
      "_view_module_version": "1.2.0",
      "_view_name": "StyleView",
      "bar_color": null,
      "description_width": ""
     }
    },
    "47fcd9c4b181484a8bca7256047ec5f8": {
     "model_module": "@jupyter-widgets/controls",
     "model_module_version": "1.5.0",
     "model_name": "DescriptionStyleModel",
     "state": {
      "_model_module": "@jupyter-widgets/controls",
      "_model_module_version": "1.5.0",
      "_model_name": "DescriptionStyleModel",
      "_view_count": null,
      "_view_module": "@jupyter-widgets/base",
      "_view_module_version": "1.2.0",
      "_view_name": "StyleView",
      "description_width": ""
     }
    },
    "48eb11ea610347d0b40aaa814f56893b": {
     "model_module": "@jupyter-widgets/controls",
     "model_module_version": "1.5.0",
     "model_name": "ProgressStyleModel",
     "state": {
      "_model_module": "@jupyter-widgets/controls",
      "_model_module_version": "1.5.0",
      "_model_name": "ProgressStyleModel",
      "_view_count": null,
      "_view_module": "@jupyter-widgets/base",
      "_view_module_version": "1.2.0",
      "_view_name": "StyleView",
      "bar_color": null,
      "description_width": ""
     }
    },
    "4925c29882a9432d9ca676745166cc1b": {
     "model_module": "@jupyter-widgets/base",
     "model_module_version": "1.2.0",
     "model_name": "LayoutModel",
     "state": {
      "_model_module": "@jupyter-widgets/base",
      "_model_module_version": "1.2.0",
      "_model_name": "LayoutModel",
      "_view_count": null,
      "_view_module": "@jupyter-widgets/base",
      "_view_module_version": "1.2.0",
      "_view_name": "LayoutView",
      "align_content": null,
      "align_items": null,
      "align_self": null,
      "border": null,
      "bottom": null,
      "display": null,
      "flex": null,
      "flex_flow": null,
      "grid_area": null,
      "grid_auto_columns": null,
      "grid_auto_flow": null,
      "grid_auto_rows": null,
      "grid_column": null,
      "grid_gap": null,
      "grid_row": null,
      "grid_template_areas": null,
      "grid_template_columns": null,
      "grid_template_rows": null,
      "height": null,
      "justify_content": null,
      "justify_items": null,
      "left": null,
      "margin": null,
      "max_height": null,
      "max_width": null,
      "min_height": null,
      "min_width": null,
      "object_fit": null,
      "object_position": null,
      "order": null,
      "overflow": null,
      "overflow_x": null,
      "overflow_y": null,
      "padding": null,
      "right": null,
      "top": null,
      "visibility": null,
      "width": null
     }
    },
    "501cd9f4c59b48e1820df17bed294ae4": {
     "model_module": "@jupyter-widgets/controls",
     "model_module_version": "1.5.0",
     "model_name": "ProgressStyleModel",
     "state": {
      "_model_module": "@jupyter-widgets/controls",
      "_model_module_version": "1.5.0",
      "_model_name": "ProgressStyleModel",
      "_view_count": null,
      "_view_module": "@jupyter-widgets/base",
      "_view_module_version": "1.2.0",
      "_view_name": "StyleView",
      "bar_color": null,
      "description_width": ""
     }
    },
    "503aa47dbe72406d9cd35587e42305c1": {
     "model_module": "@jupyter-widgets/base",
     "model_module_version": "1.2.0",
     "model_name": "LayoutModel",
     "state": {
      "_model_module": "@jupyter-widgets/base",
      "_model_module_version": "1.2.0",
      "_model_name": "LayoutModel",
      "_view_count": null,
      "_view_module": "@jupyter-widgets/base",
      "_view_module_version": "1.2.0",
      "_view_name": "LayoutView",
      "align_content": null,
      "align_items": null,
      "align_self": null,
      "border": null,
      "bottom": null,
      "display": null,
      "flex": null,
      "flex_flow": null,
      "grid_area": null,
      "grid_auto_columns": null,
      "grid_auto_flow": null,
      "grid_auto_rows": null,
      "grid_column": null,
      "grid_gap": null,
      "grid_row": null,
      "grid_template_areas": null,
      "grid_template_columns": null,
      "grid_template_rows": null,
      "height": null,
      "justify_content": null,
      "justify_items": null,
      "left": null,
      "margin": null,
      "max_height": null,
      "max_width": null,
      "min_height": null,
      "min_width": null,
      "object_fit": null,
      "object_position": null,
      "order": null,
      "overflow": null,
      "overflow_x": null,
      "overflow_y": null,
      "padding": null,
      "right": null,
      "top": null,
      "visibility": null,
      "width": null
     }
    },
    "514c10b0ec9643419f2a6e3a85eafe09": {
     "model_module": "@jupyter-widgets/controls",
     "model_module_version": "1.5.0",
     "model_name": "DescriptionStyleModel",
     "state": {
      "_model_module": "@jupyter-widgets/controls",
      "_model_module_version": "1.5.0",
      "_model_name": "DescriptionStyleModel",
      "_view_count": null,
      "_view_module": "@jupyter-widgets/base",
      "_view_module_version": "1.2.0",
      "_view_name": "StyleView",
      "description_width": ""
     }
    },
    "542ef941fd684ba4811e12a686b0e098": {
     "model_module": "@jupyter-widgets/base",
     "model_module_version": "1.2.0",
     "model_name": "LayoutModel",
     "state": {
      "_model_module": "@jupyter-widgets/base",
      "_model_module_version": "1.2.0",
      "_model_name": "LayoutModel",
      "_view_count": null,
      "_view_module": "@jupyter-widgets/base",
      "_view_module_version": "1.2.0",
      "_view_name": "LayoutView",
      "align_content": null,
      "align_items": null,
      "align_self": null,
      "border": null,
      "bottom": null,
      "display": null,
      "flex": null,
      "flex_flow": null,
      "grid_area": null,
      "grid_auto_columns": null,
      "grid_auto_flow": null,
      "grid_auto_rows": null,
      "grid_column": null,
      "grid_gap": null,
      "grid_row": null,
      "grid_template_areas": null,
      "grid_template_columns": null,
      "grid_template_rows": null,
      "height": null,
      "justify_content": null,
      "justify_items": null,
      "left": null,
      "margin": null,
      "max_height": null,
      "max_width": null,
      "min_height": null,
      "min_width": null,
      "object_fit": null,
      "object_position": null,
      "order": null,
      "overflow": null,
      "overflow_x": null,
      "overflow_y": null,
      "padding": null,
      "right": null,
      "top": null,
      "visibility": null,
      "width": null
     }
    },
    "57c4f2cb217048b486d22787c4279529": {
     "model_module": "@jupyter-widgets/base",
     "model_module_version": "1.2.0",
     "model_name": "LayoutModel",
     "state": {
      "_model_module": "@jupyter-widgets/base",
      "_model_module_version": "1.2.0",
      "_model_name": "LayoutModel",
      "_view_count": null,
      "_view_module": "@jupyter-widgets/base",
      "_view_module_version": "1.2.0",
      "_view_name": "LayoutView",
      "align_content": null,
      "align_items": null,
      "align_self": null,
      "border": null,
      "bottom": null,
      "display": null,
      "flex": null,
      "flex_flow": null,
      "grid_area": null,
      "grid_auto_columns": null,
      "grid_auto_flow": null,
      "grid_auto_rows": null,
      "grid_column": null,
      "grid_gap": null,
      "grid_row": null,
      "grid_template_areas": null,
      "grid_template_columns": null,
      "grid_template_rows": null,
      "height": null,
      "justify_content": null,
      "justify_items": null,
      "left": null,
      "margin": null,
      "max_height": null,
      "max_width": null,
      "min_height": null,
      "min_width": null,
      "object_fit": null,
      "object_position": null,
      "order": null,
      "overflow": null,
      "overflow_x": null,
      "overflow_y": null,
      "padding": null,
      "right": null,
      "top": null,
      "visibility": null,
      "width": null
     }
    },
    "5da4ddf51a52407eb421298323ea9611": {
     "model_module": "@jupyter-widgets/controls",
     "model_module_version": "1.5.0",
     "model_name": "DescriptionStyleModel",
     "state": {
      "_model_module": "@jupyter-widgets/controls",
      "_model_module_version": "1.5.0",
      "_model_name": "DescriptionStyleModel",
      "_view_count": null,
      "_view_module": "@jupyter-widgets/base",
      "_view_module_version": "1.2.0",
      "_view_name": "StyleView",
      "description_width": ""
     }
    },
    "5dcd07e4060f4b29b29a7596e7bddedf": {
     "model_module": "@jupyter-widgets/controls",
     "model_module_version": "1.5.0",
     "model_name": "ProgressStyleModel",
     "state": {
      "_model_module": "@jupyter-widgets/controls",
      "_model_module_version": "1.5.0",
      "_model_name": "ProgressStyleModel",
      "_view_count": null,
      "_view_module": "@jupyter-widgets/base",
      "_view_module_version": "1.2.0",
      "_view_name": "StyleView",
      "bar_color": null,
      "description_width": ""
     }
    },
    "614cf2735ef347a69116b9cf6a394a71": {
     "model_module": "@jupyter-widgets/controls",
     "model_module_version": "1.5.0",
     "model_name": "ProgressStyleModel",
     "state": {
      "_model_module": "@jupyter-widgets/controls",
      "_model_module_version": "1.5.0",
      "_model_name": "ProgressStyleModel",
      "_view_count": null,
      "_view_module": "@jupyter-widgets/base",
      "_view_module_version": "1.2.0",
      "_view_name": "StyleView",
      "bar_color": null,
      "description_width": ""
     }
    },
    "62534738bb2a4e8fadc66529372a89b1": {
     "model_module": "@jupyter-widgets/controls",
     "model_module_version": "1.5.0",
     "model_name": "HTMLModel",
     "state": {
      "_dom_classes": [],
      "_model_module": "@jupyter-widgets/controls",
      "_model_module_version": "1.5.0",
      "_model_name": "HTMLModel",
      "_view_count": null,
      "_view_module": "@jupyter-widgets/controls",
      "_view_module_version": "1.5.0",
      "_view_name": "HTMLView",
      "description": "",
      "description_tooltip": null,
      "layout": "IPY_MODEL_3493cc31dda04280a3a9f4487a3d870f",
      "placeholder": "​",
      "style": "IPY_MODEL_88a41ad1b54d47d598427692bba5cc6e",
      "value": " 371M/371M [00:02&lt;00:00, 150MB/s]"
     }
    },
    "64013ffa978640a884e8ab60a61c5fa4": {
     "model_module": "@jupyter-widgets/controls",
     "model_module_version": "1.5.0",
     "model_name": "HBoxModel",
     "state": {
      "_dom_classes": [],
      "_model_module": "@jupyter-widgets/controls",
      "_model_module_version": "1.5.0",
      "_model_name": "HBoxModel",
      "_view_count": null,
      "_view_module": "@jupyter-widgets/controls",
      "_view_module_version": "1.5.0",
      "_view_name": "HBoxView",
      "box_style": "",
      "children": [
       "IPY_MODEL_40f84ca2feac4baaa271ce2a87aa11f6",
       "IPY_MODEL_64a9024bb56a4358bd916cb35ba460b0",
       "IPY_MODEL_08552c5969c14bd49d8866571e04f556"
      ],
      "layout": "IPY_MODEL_af95167cfbd84e32a5fa35fcd43fc469"
     }
    },
    "64a9024bb56a4358bd916cb35ba460b0": {
     "model_module": "@jupyter-widgets/controls",
     "model_module_version": "1.5.0",
     "model_name": "FloatProgressModel",
     "state": {
      "_dom_classes": [],
      "_model_module": "@jupyter-widgets/controls",
      "_model_module_version": "1.5.0",
      "_model_name": "FloatProgressModel",
      "_view_count": null,
      "_view_module": "@jupyter-widgets/controls",
      "_view_module_version": "1.5.0",
      "_view_name": "ProgressView",
      "bar_style": "success",
      "description": "",
      "description_tooltip": null,
      "layout": "IPY_MODEL_8c55c28140254e54a9dc14de8727981c",
      "max": 52,
      "min": 0,
      "orientation": "horizontal",
      "style": "IPY_MODEL_614cf2735ef347a69116b9cf6a394a71",
      "value": 52
     }
    },
    "65a220a810d24ce49f2c77e49993aa86": {
     "model_module": "@jupyter-widgets/controls",
     "model_module_version": "1.5.0",
     "model_name": "HTMLModel",
     "state": {
      "_dom_classes": [],
      "_model_module": "@jupyter-widgets/controls",
      "_model_module_version": "1.5.0",
      "_model_name": "HTMLModel",
      "_view_count": null,
      "_view_module": "@jupyter-widgets/controls",
      "_view_module_version": "1.5.0",
      "_view_name": "HTMLView",
      "description": "",
      "description_tooltip": null,
      "layout": "IPY_MODEL_f6ffcc60af7e410685a98c42b0e9b3d3",
      "placeholder": "​",
      "style": "IPY_MODEL_8f151e32f032493b9ef4659c35d45cf4",
      "value": " 579/579 [00:00&lt;00:00, 17.8kB/s]"
     }
    },
    "693348711db14927b301d3816109aa19": {
     "model_module": "@jupyter-widgets/base",
     "model_module_version": "1.2.0",
     "model_name": "LayoutModel",
     "state": {
      "_model_module": "@jupyter-widgets/base",
      "_model_module_version": "1.2.0",
      "_model_name": "LayoutModel",
      "_view_count": null,
      "_view_module": "@jupyter-widgets/base",
      "_view_module_version": "1.2.0",
      "_view_name": "LayoutView",
      "align_content": null,
      "align_items": null,
      "align_self": null,
      "border": null,
      "bottom": null,
      "display": null,
      "flex": null,
      "flex_flow": null,
      "grid_area": null,
      "grid_auto_columns": null,
      "grid_auto_flow": null,
      "grid_auto_rows": null,
      "grid_column": null,
      "grid_gap": null,
      "grid_row": null,
      "grid_template_areas": null,
      "grid_template_columns": null,
      "grid_template_rows": null,
      "height": null,
      "justify_content": null,
      "justify_items": null,
      "left": null,
      "margin": null,
      "max_height": null,
      "max_width": null,
      "min_height": null,
      "min_width": null,
      "object_fit": null,
      "object_position": null,
      "order": null,
      "overflow": null,
      "overflow_x": null,
      "overflow_y": null,
      "padding": null,
      "right": null,
      "top": null,
      "visibility": null,
      "width": null
     }
    },
    "69cfda262657401aba0b045e7259bb1b": {
     "model_module": "@jupyter-widgets/base",
     "model_module_version": "1.2.0",
     "model_name": "LayoutModel",
     "state": {
      "_model_module": "@jupyter-widgets/base",
      "_model_module_version": "1.2.0",
      "_model_name": "LayoutModel",
      "_view_count": null,
      "_view_module": "@jupyter-widgets/base",
      "_view_module_version": "1.2.0",
      "_view_name": "LayoutView",
      "align_content": null,
      "align_items": null,
      "align_self": null,
      "border": null,
      "bottom": null,
      "display": null,
      "flex": null,
      "flex_flow": null,
      "grid_area": null,
      "grid_auto_columns": null,
      "grid_auto_flow": null,
      "grid_auto_rows": null,
      "grid_column": null,
      "grid_gap": null,
      "grid_row": null,
      "grid_template_areas": null,
      "grid_template_columns": null,
      "grid_template_rows": null,
      "height": null,
      "justify_content": null,
      "justify_items": null,
      "left": null,
      "margin": null,
      "max_height": null,
      "max_width": null,
      "min_height": null,
      "min_width": null,
      "object_fit": null,
      "object_position": null,
      "order": null,
      "overflow": null,
      "overflow_x": null,
      "overflow_y": null,
      "padding": null,
      "right": null,
      "top": null,
      "visibility": null,
      "width": null
     }
    },
    "6a6e338bcda44319817c31a7c0247390": {
     "model_module": "@jupyter-widgets/base",
     "model_module_version": "1.2.0",
     "model_name": "LayoutModel",
     "state": {
      "_model_module": "@jupyter-widgets/base",
      "_model_module_version": "1.2.0",
      "_model_name": "LayoutModel",
      "_view_count": null,
      "_view_module": "@jupyter-widgets/base",
      "_view_module_version": "1.2.0",
      "_view_name": "LayoutView",
      "align_content": null,
      "align_items": null,
      "align_self": null,
      "border": null,
      "bottom": null,
      "display": null,
      "flex": null,
      "flex_flow": null,
      "grid_area": null,
      "grid_auto_columns": null,
      "grid_auto_flow": null,
      "grid_auto_rows": null,
      "grid_column": null,
      "grid_gap": null,
      "grid_row": null,
      "grid_template_areas": null,
      "grid_template_columns": null,
      "grid_template_rows": null,
      "height": null,
      "justify_content": null,
      "justify_items": null,
      "left": null,
      "margin": null,
      "max_height": null,
      "max_width": null,
      "min_height": null,
      "min_width": null,
      "object_fit": null,
      "object_position": null,
      "order": null,
      "overflow": null,
      "overflow_x": null,
      "overflow_y": null,
      "padding": null,
      "right": null,
      "top": null,
      "visibility": null,
      "width": null
     }
    },
    "6e3a850d71a04b389494a54dd9870835": {
     "model_module": "@jupyter-widgets/base",
     "model_module_version": "1.2.0",
     "model_name": "LayoutModel",
     "state": {
      "_model_module": "@jupyter-widgets/base",
      "_model_module_version": "1.2.0",
      "_model_name": "LayoutModel",
      "_view_count": null,
      "_view_module": "@jupyter-widgets/base",
      "_view_module_version": "1.2.0",
      "_view_name": "LayoutView",
      "align_content": null,
      "align_items": null,
      "align_self": null,
      "border": null,
      "bottom": null,
      "display": null,
      "flex": null,
      "flex_flow": null,
      "grid_area": null,
      "grid_auto_columns": null,
      "grid_auto_flow": null,
      "grid_auto_rows": null,
      "grid_column": null,
      "grid_gap": null,
      "grid_row": null,
      "grid_template_areas": null,
      "grid_template_columns": null,
      "grid_template_rows": null,
      "height": null,
      "justify_content": null,
      "justify_items": null,
      "left": null,
      "margin": null,
      "max_height": null,
      "max_width": null,
      "min_height": null,
      "min_width": null,
      "object_fit": null,
      "object_position": null,
      "order": null,
      "overflow": null,
      "overflow_x": null,
      "overflow_y": null,
      "padding": null,
      "right": null,
      "top": null,
      "visibility": null,
      "width": null
     }
    },
    "70bcc77ec32f498385b4031c0623c3cf": {
     "model_module": "@jupyter-widgets/base",
     "model_module_version": "1.2.0",
     "model_name": "LayoutModel",
     "state": {
      "_model_module": "@jupyter-widgets/base",
      "_model_module_version": "1.2.0",
      "_model_name": "LayoutModel",
      "_view_count": null,
      "_view_module": "@jupyter-widgets/base",
      "_view_module_version": "1.2.0",
      "_view_name": "LayoutView",
      "align_content": null,
      "align_items": null,
      "align_self": null,
      "border": null,
      "bottom": null,
      "display": null,
      "flex": null,
      "flex_flow": null,
      "grid_area": null,
      "grid_auto_columns": null,
      "grid_auto_flow": null,
      "grid_auto_rows": null,
      "grid_column": null,
      "grid_gap": null,
      "grid_row": null,
      "grid_template_areas": null,
      "grid_template_columns": null,
      "grid_template_rows": null,
      "height": null,
      "justify_content": null,
      "justify_items": null,
      "left": null,
      "margin": null,
      "max_height": null,
      "max_width": null,
      "min_height": null,
      "min_width": null,
      "object_fit": null,
      "object_position": null,
      "order": null,
      "overflow": null,
      "overflow_x": null,
      "overflow_y": null,
      "padding": null,
      "right": null,
      "top": null,
      "visibility": null,
      "width": null
     }
    },
    "71ddd7c06ef64691936bab14b7d3bdfa": {
     "model_module": "@jupyter-widgets/controls",
     "model_module_version": "1.5.0",
     "model_name": "HBoxModel",
     "state": {
      "_dom_classes": [],
      "_model_module": "@jupyter-widgets/controls",
      "_model_module_version": "1.5.0",
      "_model_name": "HBoxModel",
      "_view_count": null,
      "_view_module": "@jupyter-widgets/controls",
      "_view_module_version": "1.5.0",
      "_view_name": "HBoxView",
      "box_style": "",
      "children": [
       "IPY_MODEL_b74434d643274373ac3d0477c14165f9",
       "IPY_MODEL_e3dff365f8a846a29c56f8dd2eab3ef2",
       "IPY_MODEL_9fc0e220fb434298a108abb8d9b29361"
      ],
      "layout": "IPY_MODEL_69cfda262657401aba0b045e7259bb1b"
     }
    },
    "739da5607e4544ef98e8ee53f2861612": {
     "model_module": "@jupyter-widgets/controls",
     "model_module_version": "1.5.0",
     "model_name": "FloatProgressModel",
     "state": {
      "_dom_classes": [],
      "_model_module": "@jupyter-widgets/controls",
      "_model_module_version": "1.5.0",
      "_model_name": "FloatProgressModel",
      "_view_count": null,
      "_view_module": "@jupyter-widgets/controls",
      "_view_module_version": "1.5.0",
      "_view_name": "ProgressView",
      "bar_style": "success",
      "description": "",
      "description_tooltip": null,
      "layout": "IPY_MODEL_503aa47dbe72406d9cd35587e42305c1",
      "max": 371146213,
      "min": 0,
      "orientation": "horizontal",
      "style": "IPY_MODEL_48eb11ea610347d0b40aaa814f56893b",
      "value": 371146213
     }
    },
    "782a6505042748ab8dfe5b5d7c162b1a": {
     "model_module": "@jupyter-widgets/controls",
     "model_module_version": "1.5.0",
     "model_name": "HTMLModel",
     "state": {
      "_dom_classes": [],
      "_model_module": "@jupyter-widgets/controls",
      "_model_module_version": "1.5.0",
      "_model_name": "HTMLModel",
      "_view_count": null,
      "_view_module": "@jupyter-widgets/controls",
      "_view_module_version": "1.5.0",
      "_view_name": "HTMLView",
      "description": "",
      "description_tooltip": null,
      "layout": "IPY_MODEL_83b8b485583a4f809f9c342aad800c52",
      "placeholder": "​",
      "style": "IPY_MODEL_ba5058d038bb481f9739126c7f45e7d6",
      "value": " 629/629 [00:00&lt;00:00, 10.5kB/s]"
     }
    },
    "799f0608b56043faa10fae32b0e3b42b": {
     "model_module": "@jupyter-widgets/controls",
     "model_module_version": "1.5.0",
     "model_name": "HTMLModel",
     "state": {
      "_dom_classes": [],
      "_model_module": "@jupyter-widgets/controls",
      "_model_module_version": "1.5.0",
      "_model_name": "HTMLModel",
      "_view_count": null,
      "_view_module": "@jupyter-widgets/controls",
      "_view_module_version": "1.5.0",
      "_view_name": "HTMLView",
      "description": "",
      "description_tooltip": null,
      "layout": "IPY_MODEL_693348711db14927b301d3816109aa19",
      "placeholder": "​",
      "style": "IPY_MODEL_d02dea3fe2c3405a9a8e2cdb4b1e7932",
      "value": "Downloading https://raw.githubusercontent.com/stanfordnlp/stanza-resources/main/resources_1.5.0.json: "
     }
    },
    "7b84bdc3d89842e2813d116e26a85aa6": {
     "model_module": "@jupyter-widgets/controls",
     "model_module_version": "1.5.0",
     "model_name": "DescriptionStyleModel",
     "state": {
      "_model_module": "@jupyter-widgets/controls",
      "_model_module_version": "1.5.0",
      "_model_name": "DescriptionStyleModel",
      "_view_count": null,
      "_view_module": "@jupyter-widgets/base",
      "_view_module_version": "1.2.0",
      "_view_name": "StyleView",
      "description_width": ""
     }
    },
    "7cbf3cb6e507451086862e68ebf48c38": {
     "model_module": "@jupyter-widgets/controls",
     "model_module_version": "1.5.0",
     "model_name": "DescriptionStyleModel",
     "state": {
      "_model_module": "@jupyter-widgets/controls",
      "_model_module_version": "1.5.0",
      "_model_name": "DescriptionStyleModel",
      "_view_count": null,
      "_view_module": "@jupyter-widgets/base",
      "_view_module_version": "1.2.0",
      "_view_name": "StyleView",
      "description_width": ""
     }
    },
    "83b8b485583a4f809f9c342aad800c52": {
     "model_module": "@jupyter-widgets/base",
     "model_module_version": "1.2.0",
     "model_name": "LayoutModel",
     "state": {
      "_model_module": "@jupyter-widgets/base",
      "_model_module_version": "1.2.0",
      "_model_name": "LayoutModel",
      "_view_count": null,
      "_view_module": "@jupyter-widgets/base",
      "_view_module_version": "1.2.0",
      "_view_name": "LayoutView",
      "align_content": null,
      "align_items": null,
      "align_self": null,
      "border": null,
      "bottom": null,
      "display": null,
      "flex": null,
      "flex_flow": null,
      "grid_area": null,
      "grid_auto_columns": null,
      "grid_auto_flow": null,
      "grid_auto_rows": null,
      "grid_column": null,
      "grid_gap": null,
      "grid_row": null,
      "grid_template_areas": null,
      "grid_template_columns": null,
      "grid_template_rows": null,
      "height": null,
      "justify_content": null,
      "justify_items": null,
      "left": null,
      "margin": null,
      "max_height": null,
      "max_width": null,
      "min_height": null,
      "min_width": null,
      "object_fit": null,
      "object_position": null,
      "order": null,
      "overflow": null,
      "overflow_x": null,
      "overflow_y": null,
      "padding": null,
      "right": null,
      "top": null,
      "visibility": null,
      "width": null
     }
    },
    "83c1ea57e504467ebd4b6a085ba48124": {
     "model_module": "@jupyter-widgets/controls",
     "model_module_version": "1.5.0",
     "model_name": "HTMLModel",
     "state": {
      "_dom_classes": [],
      "_model_module": "@jupyter-widgets/controls",
      "_model_module_version": "1.5.0",
      "_model_name": "HTMLModel",
      "_view_count": null,
      "_view_module": "@jupyter-widgets/controls",
      "_view_module_version": "1.5.0",
      "_view_name": "HTMLView",
      "description": "",
      "description_tooltip": null,
      "layout": "IPY_MODEL_079f5a68129246acba4e9e23e5a8beba",
      "placeholder": "​",
      "style": "IPY_MODEL_d4567fb250df40aea0fcf95e377a000c",
      "value": " 268M/268M [00:02&lt;00:00, 137MB/s]"
     }
    },
    "83cfb639180c48dd86520f75d5068395": {
     "model_module": "@jupyter-widgets/controls",
     "model_module_version": "1.5.0",
     "model_name": "HBoxModel",
     "state": {
      "_dom_classes": [],
      "_model_module": "@jupyter-widgets/controls",
      "_model_module_version": "1.5.0",
      "_model_name": "HBoxModel",
      "_view_count": null,
      "_view_module": "@jupyter-widgets/controls",
      "_view_module_version": "1.5.0",
      "_view_name": "HBoxView",
      "box_style": "",
      "children": [
       "IPY_MODEL_de3b0949226f476990e6640466ab979b",
       "IPY_MODEL_2fef2142de1b44eeb7a85774deab29bf",
       "IPY_MODEL_410cf24aa7c64d4bb2ce0d1cc970e1db"
      ],
      "layout": "IPY_MODEL_8a33c677e3d94fe88d1d81983027da07"
     }
    },
    "85e73331b32c4375844d0f52db5c7e1d": {
     "model_module": "@jupyter-widgets/base",
     "model_module_version": "1.2.0",
     "model_name": "LayoutModel",
     "state": {
      "_model_module": "@jupyter-widgets/base",
      "_model_module_version": "1.2.0",
      "_model_name": "LayoutModel",
      "_view_count": null,
      "_view_module": "@jupyter-widgets/base",
      "_view_module_version": "1.2.0",
      "_view_name": "LayoutView",
      "align_content": null,
      "align_items": null,
      "align_self": null,
      "border": null,
      "bottom": null,
      "display": null,
      "flex": null,
      "flex_flow": null,
      "grid_area": null,
      "grid_auto_columns": null,
      "grid_auto_flow": null,
      "grid_auto_rows": null,
      "grid_column": null,
      "grid_gap": null,
      "grid_row": null,
      "grid_template_areas": null,
      "grid_template_columns": null,
      "grid_template_rows": null,
      "height": null,
      "justify_content": null,
      "justify_items": null,
      "left": null,
      "margin": null,
      "max_height": null,
      "max_width": null,
      "min_height": null,
      "min_width": null,
      "object_fit": null,
      "object_position": null,
      "order": null,
      "overflow": null,
      "overflow_x": null,
      "overflow_y": null,
      "padding": null,
      "right": null,
      "top": null,
      "visibility": null,
      "width": null
     }
    },
    "87c9362de86a4b9bbe6eb69adc7dd095": {
     "model_module": "@jupyter-widgets/base",
     "model_module_version": "1.2.0",
     "model_name": "LayoutModel",
     "state": {
      "_model_module": "@jupyter-widgets/base",
      "_model_module_version": "1.2.0",
      "_model_name": "LayoutModel",
      "_view_count": null,
      "_view_module": "@jupyter-widgets/base",
      "_view_module_version": "1.2.0",
      "_view_name": "LayoutView",
      "align_content": null,
      "align_items": null,
      "align_self": null,
      "border": null,
      "bottom": null,
      "display": null,
      "flex": null,
      "flex_flow": null,
      "grid_area": null,
      "grid_auto_columns": null,
      "grid_auto_flow": null,
      "grid_auto_rows": null,
      "grid_column": null,
      "grid_gap": null,
      "grid_row": null,
      "grid_template_areas": null,
      "grid_template_columns": null,
      "grid_template_rows": null,
      "height": null,
      "justify_content": null,
      "justify_items": null,
      "left": null,
      "margin": null,
      "max_height": null,
      "max_width": null,
      "min_height": null,
      "min_width": null,
      "object_fit": null,
      "object_position": null,
      "order": null,
      "overflow": null,
      "overflow_x": null,
      "overflow_y": null,
      "padding": null,
      "right": null,
      "top": null,
      "visibility": null,
      "width": null
     }
    },
    "88a41ad1b54d47d598427692bba5cc6e": {
     "model_module": "@jupyter-widgets/controls",
     "model_module_version": "1.5.0",
     "model_name": "DescriptionStyleModel",
     "state": {
      "_model_module": "@jupyter-widgets/controls",
      "_model_module_version": "1.5.0",
      "_model_name": "DescriptionStyleModel",
      "_view_count": null,
      "_view_module": "@jupyter-widgets/base",
      "_view_module_version": "1.2.0",
      "_view_name": "StyleView",
      "description_width": ""
     }
    },
    "8a33c677e3d94fe88d1d81983027da07": {
     "model_module": "@jupyter-widgets/base",
     "model_module_version": "1.2.0",
     "model_name": "LayoutModel",
     "state": {
      "_model_module": "@jupyter-widgets/base",
      "_model_module_version": "1.2.0",
      "_model_name": "LayoutModel",
      "_view_count": null,
      "_view_module": "@jupyter-widgets/base",
      "_view_module_version": "1.2.0",
      "_view_name": "LayoutView",
      "align_content": null,
      "align_items": null,
      "align_self": null,
      "border": null,
      "bottom": null,
      "display": null,
      "flex": null,
      "flex_flow": null,
      "grid_area": null,
      "grid_auto_columns": null,
      "grid_auto_flow": null,
      "grid_auto_rows": null,
      "grid_column": null,
      "grid_gap": null,
      "grid_row": null,
      "grid_template_areas": null,
      "grid_template_columns": null,
      "grid_template_rows": null,
      "height": null,
      "justify_content": null,
      "justify_items": null,
      "left": null,
      "margin": null,
      "max_height": null,
      "max_width": null,
      "min_height": null,
      "min_width": null,
      "object_fit": null,
      "object_position": null,
      "order": null,
      "overflow": null,
      "overflow_x": null,
      "overflow_y": null,
      "padding": null,
      "right": null,
      "top": null,
      "visibility": null,
      "width": null
     }
    },
    "8b0451352d834d71a37526c5e6c400e5": {
     "model_module": "@jupyter-widgets/base",
     "model_module_version": "1.2.0",
     "model_name": "LayoutModel",
     "state": {
      "_model_module": "@jupyter-widgets/base",
      "_model_module_version": "1.2.0",
      "_model_name": "LayoutModel",
      "_view_count": null,
      "_view_module": "@jupyter-widgets/base",
      "_view_module_version": "1.2.0",
      "_view_name": "LayoutView",
      "align_content": null,
      "align_items": null,
      "align_self": null,
      "border": null,
      "bottom": null,
      "display": null,
      "flex": null,
      "flex_flow": null,
      "grid_area": null,
      "grid_auto_columns": null,
      "grid_auto_flow": null,
      "grid_auto_rows": null,
      "grid_column": null,
      "grid_gap": null,
      "grid_row": null,
      "grid_template_areas": null,
      "grid_template_columns": null,
      "grid_template_rows": null,
      "height": null,
      "justify_content": null,
      "justify_items": null,
      "left": null,
      "margin": null,
      "max_height": null,
      "max_width": null,
      "min_height": null,
      "min_width": null,
      "object_fit": null,
      "object_position": null,
      "order": null,
      "overflow": null,
      "overflow_x": null,
      "overflow_y": null,
      "padding": null,
      "right": null,
      "top": null,
      "visibility": null,
      "width": null
     }
    },
    "8c55c28140254e54a9dc14de8727981c": {
     "model_module": "@jupyter-widgets/base",
     "model_module_version": "1.2.0",
     "model_name": "LayoutModel",
     "state": {
      "_model_module": "@jupyter-widgets/base",
      "_model_module_version": "1.2.0",
      "_model_name": "LayoutModel",
      "_view_count": null,
      "_view_module": "@jupyter-widgets/base",
      "_view_module_version": "1.2.0",
      "_view_name": "LayoutView",
      "align_content": null,
      "align_items": null,
      "align_self": null,
      "border": null,
      "bottom": null,
      "display": null,
      "flex": null,
      "flex_flow": null,
      "grid_area": null,
      "grid_auto_columns": null,
      "grid_auto_flow": null,
      "grid_auto_rows": null,
      "grid_column": null,
      "grid_gap": null,
      "grid_row": null,
      "grid_template_areas": null,
      "grid_template_columns": null,
      "grid_template_rows": null,
      "height": null,
      "justify_content": null,
      "justify_items": null,
      "left": null,
      "margin": null,
      "max_height": null,
      "max_width": null,
      "min_height": null,
      "min_width": null,
      "object_fit": null,
      "object_position": null,
      "order": null,
      "overflow": null,
      "overflow_x": null,
      "overflow_y": null,
      "padding": null,
      "right": null,
      "top": null,
      "visibility": null,
      "width": null
     }
    },
    "8d4f52b1036f475d8e1fddff5bc8c38d": {
     "model_module": "@jupyter-widgets/controls",
     "model_module_version": "1.5.0",
     "model_name": "DescriptionStyleModel",
     "state": {
      "_model_module": "@jupyter-widgets/controls",
      "_model_module_version": "1.5.0",
      "_model_name": "DescriptionStyleModel",
      "_view_count": null,
      "_view_module": "@jupyter-widgets/base",
      "_view_module_version": "1.2.0",
      "_view_name": "StyleView",
      "description_width": ""
     }
    },
    "8de9803c42ba4a469520ec84910de88c": {
     "model_module": "@jupyter-widgets/base",
     "model_module_version": "1.2.0",
     "model_name": "LayoutModel",
     "state": {
      "_model_module": "@jupyter-widgets/base",
      "_model_module_version": "1.2.0",
      "_model_name": "LayoutModel",
      "_view_count": null,
      "_view_module": "@jupyter-widgets/base",
      "_view_module_version": "1.2.0",
      "_view_name": "LayoutView",
      "align_content": null,
      "align_items": null,
      "align_self": null,
      "border": null,
      "bottom": null,
      "display": null,
      "flex": null,
      "flex_flow": null,
      "grid_area": null,
      "grid_auto_columns": null,
      "grid_auto_flow": null,
      "grid_auto_rows": null,
      "grid_column": null,
      "grid_gap": null,
      "grid_row": null,
      "grid_template_areas": null,
      "grid_template_columns": null,
      "grid_template_rows": null,
      "height": null,
      "justify_content": null,
      "justify_items": null,
      "left": null,
      "margin": null,
      "max_height": null,
      "max_width": null,
      "min_height": null,
      "min_width": null,
      "object_fit": null,
      "object_position": null,
      "order": null,
      "overflow": null,
      "overflow_x": null,
      "overflow_y": null,
      "padding": null,
      "right": null,
      "top": null,
      "visibility": null,
      "width": null
     }
    },
    "8f151e32f032493b9ef4659c35d45cf4": {
     "model_module": "@jupyter-widgets/controls",
     "model_module_version": "1.5.0",
     "model_name": "DescriptionStyleModel",
     "state": {
      "_model_module": "@jupyter-widgets/controls",
      "_model_module_version": "1.5.0",
      "_model_name": "DescriptionStyleModel",
      "_view_count": null,
      "_view_module": "@jupyter-widgets/base",
      "_view_module_version": "1.2.0",
      "_view_name": "StyleView",
      "description_width": ""
     }
    },
    "945ec6604fe24d9eb8a39a5a810265de": {
     "model_module": "@jupyter-widgets/controls",
     "model_module_version": "1.5.0",
     "model_name": "HBoxModel",
     "state": {
      "_dom_classes": [],
      "_model_module": "@jupyter-widgets/controls",
      "_model_module_version": "1.5.0",
      "_model_name": "HBoxModel",
      "_view_count": null,
      "_view_module": "@jupyter-widgets/controls",
      "_view_module_version": "1.5.0",
      "_view_name": "HBoxView",
      "box_style": "",
      "children": [
       "IPY_MODEL_d0c4d6c8295f451490d335f6da383951",
       "IPY_MODEL_2141e189c3524eabac4a3d4d44c40d3f",
       "IPY_MODEL_36ee51db1c334665a7f41922345029fb"
      ],
      "layout": "IPY_MODEL_203094dc8fb746e4ae824a99ba0bb567"
     }
    },
    "9578aca8f4d7417eab8a43b75b22affc": {
     "model_module": "@jupyter-widgets/controls",
     "model_module_version": "1.5.0",
     "model_name": "FloatProgressModel",
     "state": {
      "_dom_classes": [],
      "_model_module": "@jupyter-widgets/controls",
      "_model_module_version": "1.5.0",
      "_model_name": "FloatProgressModel",
      "_view_count": null,
      "_view_module": "@jupyter-widgets/controls",
      "_view_module_version": "1.5.0",
      "_view_name": "ProgressView",
      "bar_style": "success",
      "description": "",
      "description_tooltip": null,
      "layout": "IPY_MODEL_00ea06bd81ca46da85e8c0a867f5f439",
      "max": 231508,
      "min": 0,
      "orientation": "horizontal",
      "style": "IPY_MODEL_dcee6214ce134bb1b3c19d9d7112e28d",
      "value": 231508
     }
    },
    "9e4187b939ab4fd491b6a2c597fd6abf": {
     "model_module": "@jupyter-widgets/controls",
     "model_module_version": "1.5.0",
     "model_name": "ProgressStyleModel",
     "state": {
      "_model_module": "@jupyter-widgets/controls",
      "_model_module_version": "1.5.0",
      "_model_name": "ProgressStyleModel",
      "_view_count": null,
      "_view_module": "@jupyter-widgets/base",
      "_view_module_version": "1.2.0",
      "_view_name": "StyleView",
      "bar_color": null,
      "description_width": ""
     }
    },
    "9fc0e220fb434298a108abb8d9b29361": {
     "model_module": "@jupyter-widgets/controls",
     "model_module_version": "1.5.0",
     "model_name": "HTMLModel",
     "state": {
      "_dom_classes": [],
      "_model_module": "@jupyter-widgets/controls",
      "_model_module_version": "1.5.0",
      "_model_name": "HTMLModel",
      "_view_count": null,
      "_view_module": "@jupyter-widgets/controls",
      "_view_module_version": "1.5.0",
      "_view_name": "HTMLView",
      "description": "",
      "description_tooltip": null,
      "layout": "IPY_MODEL_b9af9d4bd5d843b2a2ee3c5db38b8179",
      "placeholder": "​",
      "style": "IPY_MODEL_47fcd9c4b181484a8bca7256047ec5f8",
      "value": " 1/1 [00:00&lt;00:00,  1.30it/s]"
     }
    },
    "9fda96f6b6c248bb844fde32f652012b": {
     "model_module": "@jupyter-widgets/controls",
     "model_module_version": "1.5.0",
     "model_name": "HTMLModel",
     "state": {
      "_dom_classes": [],
      "_model_module": "@jupyter-widgets/controls",
      "_model_module_version": "1.5.0",
      "_model_name": "HTMLModel",
      "_view_count": null,
      "_view_module": "@jupyter-widgets/controls",
      "_view_module_version": "1.5.0",
      "_view_name": "HTMLView",
      "description": "",
      "description_tooltip": null,
      "layout": "IPY_MODEL_fca3a92445ab43159a388465ff2e49aa",
      "placeholder": "​",
      "style": "IPY_MODEL_ce18b260936542fa97eeaac9a3120267",
      "value": " 200k/? [00:00&lt;00:00, 5.51MB/s]"
     }
    },
    "a0db6cfe89cc497399a0b6334830eea0": {
     "model_module": "@jupyter-widgets/controls",
     "model_module_version": "1.5.0",
     "model_name": "HTMLModel",
     "state": {
      "_dom_classes": [],
      "_model_module": "@jupyter-widgets/controls",
      "_model_module_version": "1.5.0",
      "_model_name": "HTMLModel",
      "_view_count": null,
      "_view_module": "@jupyter-widgets/controls",
      "_view_module_version": "1.5.0",
      "_view_name": "HTMLView",
      "description": "",
      "description_tooltip": null,
      "layout": "IPY_MODEL_542ef941fd684ba4811e12a686b0e098",
      "placeholder": "​",
      "style": "IPY_MODEL_ebec093b8a944407b2e4ab26192a3a17",
      "value": "Downloading (…)lve/main/config.json: 100%"
     }
    },
    "a3c591c7add249edbea4bf1105b80fc8": {
     "model_module": "@jupyter-widgets/controls",
     "model_module_version": "1.5.0",
     "model_name": "DescriptionStyleModel",
     "state": {
      "_model_module": "@jupyter-widgets/controls",
      "_model_module_version": "1.5.0",
      "_model_name": "DescriptionStyleModel",
      "_view_count": null,
      "_view_module": "@jupyter-widgets/base",
      "_view_module_version": "1.2.0",
      "_view_name": "StyleView",
      "description_width": ""
     }
    },
    "a65cb8da059f465faa7cc3787bb26deb": {
     "model_module": "@jupyter-widgets/base",
     "model_module_version": "1.2.0",
     "model_name": "LayoutModel",
     "state": {
      "_model_module": "@jupyter-widgets/base",
      "_model_module_version": "1.2.0",
      "_model_name": "LayoutModel",
      "_view_count": null,
      "_view_module": "@jupyter-widgets/base",
      "_view_module_version": "1.2.0",
      "_view_name": "LayoutView",
      "align_content": null,
      "align_items": null,
      "align_self": null,
      "border": null,
      "bottom": null,
      "display": null,
      "flex": null,
      "flex_flow": null,
      "grid_area": null,
      "grid_auto_columns": null,
      "grid_auto_flow": null,
      "grid_auto_rows": null,
      "grid_column": null,
      "grid_gap": null,
      "grid_row": null,
      "grid_template_areas": null,
      "grid_template_columns": null,
      "grid_template_rows": null,
      "height": null,
      "justify_content": null,
      "justify_items": null,
      "left": null,
      "margin": null,
      "max_height": null,
      "max_width": null,
      "min_height": null,
      "min_width": null,
      "object_fit": null,
      "object_position": null,
      "order": null,
      "overflow": null,
      "overflow_x": null,
      "overflow_y": null,
      "padding": null,
      "right": null,
      "top": null,
      "visibility": null,
      "width": null
     }
    },
    "a8d43349cfa349b4a2501e2ce58bb22c": {
     "model_module": "@jupyter-widgets/controls",
     "model_module_version": "1.5.0",
     "model_name": "HBoxModel",
     "state": {
      "_dom_classes": [],
      "_model_module": "@jupyter-widgets/controls",
      "_model_module_version": "1.5.0",
      "_model_name": "HBoxModel",
      "_view_count": null,
      "_view_module": "@jupyter-widgets/controls",
      "_view_module_version": "1.5.0",
      "_view_name": "HBoxView",
      "box_style": "",
      "children": [
       "IPY_MODEL_b637ea12499b4471896c2c74af956068",
       "IPY_MODEL_1890ed2066714047a526a6e72a37eb1e",
       "IPY_MODEL_83c1ea57e504467ebd4b6a085ba48124"
      ],
      "layout": "IPY_MODEL_07101581f3c9412eb2c34eb73152f421"
     }
    },
    "ab04927adb3c4390815125aea7ac5469": {
     "model_module": "@jupyter-widgets/base",
     "model_module_version": "1.2.0",
     "model_name": "LayoutModel",
     "state": {
      "_model_module": "@jupyter-widgets/base",
      "_model_module_version": "1.2.0",
      "_model_name": "LayoutModel",
      "_view_count": null,
      "_view_module": "@jupyter-widgets/base",
      "_view_module_version": "1.2.0",
      "_view_name": "LayoutView",
      "align_content": null,
      "align_items": null,
      "align_self": null,
      "border": null,
      "bottom": null,
      "display": null,
      "flex": null,
      "flex_flow": null,
      "grid_area": null,
      "grid_auto_columns": null,
      "grid_auto_flow": null,
      "grid_auto_rows": null,
      "grid_column": null,
      "grid_gap": null,
      "grid_row": null,
      "grid_template_areas": null,
      "grid_template_columns": null,
      "grid_template_rows": null,
      "height": null,
      "justify_content": null,
      "justify_items": null,
      "left": null,
      "margin": null,
      "max_height": null,
      "max_width": null,
      "min_height": null,
      "min_width": null,
      "object_fit": null,
      "object_position": null,
      "order": null,
      "overflow": null,
      "overflow_x": null,
      "overflow_y": null,
      "padding": null,
      "right": null,
      "top": null,
      "visibility": null,
      "width": null
     }
    },
    "af95167cfbd84e32a5fa35fcd43fc469": {
     "model_module": "@jupyter-widgets/base",
     "model_module_version": "1.2.0",
     "model_name": "LayoutModel",
     "state": {
      "_model_module": "@jupyter-widgets/base",
      "_model_module_version": "1.2.0",
      "_model_name": "LayoutModel",
      "_view_count": null,
      "_view_module": "@jupyter-widgets/base",
      "_view_module_version": "1.2.0",
      "_view_name": "LayoutView",
      "align_content": null,
      "align_items": null,
      "align_self": null,
      "border": null,
      "bottom": null,
      "display": null,
      "flex": null,
      "flex_flow": null,
      "grid_area": null,
      "grid_auto_columns": null,
      "grid_auto_flow": null,
      "grid_auto_rows": null,
      "grid_column": null,
      "grid_gap": null,
      "grid_row": null,
      "grid_template_areas": null,
      "grid_template_columns": null,
      "grid_template_rows": null,
      "height": null,
      "justify_content": null,
      "justify_items": null,
      "left": null,
      "margin": null,
      "max_height": null,
      "max_width": null,
      "min_height": null,
      "min_width": null,
      "object_fit": null,
      "object_position": null,
      "order": null,
      "overflow": null,
      "overflow_x": null,
      "overflow_y": null,
      "padding": null,
      "right": null,
      "top": null,
      "visibility": null,
      "width": null
     }
    },
    "b260728c604041249bf7d8dc6c299954": {
     "model_module": "@jupyter-widgets/controls",
     "model_module_version": "1.5.0",
     "model_name": "DescriptionStyleModel",
     "state": {
      "_model_module": "@jupyter-widgets/controls",
      "_model_module_version": "1.5.0",
      "_model_name": "DescriptionStyleModel",
      "_view_count": null,
      "_view_module": "@jupyter-widgets/base",
      "_view_module_version": "1.2.0",
      "_view_name": "StyleView",
      "description_width": ""
     }
    },
    "b2c6e0ba157144dfa611258c5a4d76f3": {
     "model_module": "@jupyter-widgets/controls",
     "model_module_version": "1.5.0",
     "model_name": "HTMLModel",
     "state": {
      "_dom_classes": [],
      "_model_module": "@jupyter-widgets/controls",
      "_model_module_version": "1.5.0",
      "_model_name": "HTMLModel",
      "_view_count": null,
      "_view_module": "@jupyter-widgets/controls",
      "_view_module_version": "1.5.0",
      "_view_name": "HTMLView",
      "description": "",
      "description_tooltip": null,
      "layout": "IPY_MODEL_3b6cee774a794ccaaac267178639a7f6",
      "placeholder": "​",
      "style": "IPY_MODEL_7cbf3cb6e507451086862e68ebf48c38",
      "value": "Map:   0%"
     }
    },
    "b607bd09e7a94b4f850ae0486920165b": {
     "model_module": "@jupyter-widgets/controls",
     "model_module_version": "1.5.0",
     "model_name": "DescriptionStyleModel",
     "state": {
      "_model_module": "@jupyter-widgets/controls",
      "_model_module_version": "1.5.0",
      "_model_name": "DescriptionStyleModel",
      "_view_count": null,
      "_view_module": "@jupyter-widgets/base",
      "_view_module_version": "1.2.0",
      "_view_name": "StyleView",
      "description_width": ""
     }
    },
    "b637ea12499b4471896c2c74af956068": {
     "model_module": "@jupyter-widgets/controls",
     "model_module_version": "1.5.0",
     "model_name": "HTMLModel",
     "state": {
      "_dom_classes": [],
      "_model_module": "@jupyter-widgets/controls",
      "_model_module_version": "1.5.0",
      "_model_name": "HTMLModel",
      "_view_count": null,
      "_view_module": "@jupyter-widgets/controls",
      "_view_module_version": "1.5.0",
      "_view_name": "HTMLView",
      "description": "",
      "description_tooltip": null,
      "layout": "IPY_MODEL_6a6e338bcda44319817c31a7c0247390",
      "placeholder": "​",
      "style": "IPY_MODEL_a3c591c7add249edbea4bf1105b80fc8",
      "value": "Downloading pytorch_model.bin: 100%"
     }
    },
    "b6b6998e3695439a94c296091e9121e5": {
     "model_module": "@jupyter-widgets/controls",
     "model_module_version": "1.5.0",
     "model_name": "HBoxModel",
     "state": {
      "_dom_classes": [],
      "_model_module": "@jupyter-widgets/controls",
      "_model_module_version": "1.5.0",
      "_model_name": "HBoxModel",
      "_view_count": null,
      "_view_module": "@jupyter-widgets/controls",
      "_view_module_version": "1.5.0",
      "_view_name": "HBoxView",
      "box_style": "",
      "children": [
       "IPY_MODEL_799f0608b56043faa10fae32b0e3b42b",
       "IPY_MODEL_fd842676dffd4784bcd36a5939947e05",
       "IPY_MODEL_9fda96f6b6c248bb844fde32f652012b"
      ],
      "layout": "IPY_MODEL_3d42fc46e3454a959fed416db277df6f"
     }
    },
    "b6e6a6f200d64ffcbf718f1ec0af9f3e": {
     "model_module": "@jupyter-widgets/controls",
     "model_module_version": "1.5.0",
     "model_name": "ProgressStyleModel",
     "state": {
      "_model_module": "@jupyter-widgets/controls",
      "_model_module_version": "1.5.0",
      "_model_name": "ProgressStyleModel",
      "_view_count": null,
      "_view_module": "@jupyter-widgets/base",
      "_view_module_version": "1.2.0",
      "_view_name": "StyleView",
      "bar_color": null,
      "description_width": ""
     }
    },
    "b74434d643274373ac3d0477c14165f9": {
     "model_module": "@jupyter-widgets/controls",
     "model_module_version": "1.5.0",
     "model_name": "HTMLModel",
     "state": {
      "_dom_classes": [],
      "_model_module": "@jupyter-widgets/controls",
      "_model_module_version": "1.5.0",
      "_model_name": "HTMLModel",
      "_view_count": null,
      "_view_module": "@jupyter-widgets/controls",
      "_view_module_version": "1.5.0",
      "_view_name": "HTMLView",
      "description": "",
      "description_tooltip": null,
      "layout": "IPY_MODEL_3097e283e14548419d1a6d4921ec26bc",
      "placeholder": "​",
      "style": "IPY_MODEL_35977eeab2954b3ab5d554a3e44ceb06",
      "value": "Inference: 100%"
     }
    },
    "b9a5bb217df0419f92436a0f4ef2b87e": {
     "model_module": "@jupyter-widgets/base",
     "model_module_version": "1.2.0",
     "model_name": "LayoutModel",
     "state": {
      "_model_module": "@jupyter-widgets/base",
      "_model_module_version": "1.2.0",
      "_model_name": "LayoutModel",
      "_view_count": null,
      "_view_module": "@jupyter-widgets/base",
      "_view_module_version": "1.2.0",
      "_view_name": "LayoutView",
      "align_content": null,
      "align_items": null,
      "align_self": null,
      "border": null,
      "bottom": null,
      "display": null,
      "flex": null,
      "flex_flow": null,
      "grid_area": null,
      "grid_auto_columns": null,
      "grid_auto_flow": null,
      "grid_auto_rows": null,
      "grid_column": null,
      "grid_gap": null,
      "grid_row": null,
      "grid_template_areas": null,
      "grid_template_columns": null,
      "grid_template_rows": null,
      "height": null,
      "justify_content": null,
      "justify_items": null,
      "left": null,
      "margin": null,
      "max_height": null,
      "max_width": null,
      "min_height": null,
      "min_width": null,
      "object_fit": null,
      "object_position": null,
      "order": null,
      "overflow": null,
      "overflow_x": null,
      "overflow_y": null,
      "padding": null,
      "right": null,
      "top": null,
      "visibility": null,
      "width": null
     }
    },
    "b9af9d4bd5d843b2a2ee3c5db38b8179": {
     "model_module": "@jupyter-widgets/base",
     "model_module_version": "1.2.0",
     "model_name": "LayoutModel",
     "state": {
      "_model_module": "@jupyter-widgets/base",
      "_model_module_version": "1.2.0",
      "_model_name": "LayoutModel",
      "_view_count": null,
      "_view_module": "@jupyter-widgets/base",
      "_view_module_version": "1.2.0",
      "_view_name": "LayoutView",
      "align_content": null,
      "align_items": null,
      "align_self": null,
      "border": null,
      "bottom": null,
      "display": null,
      "flex": null,
      "flex_flow": null,
      "grid_area": null,
      "grid_auto_columns": null,
      "grid_auto_flow": null,
      "grid_auto_rows": null,
      "grid_column": null,
      "grid_gap": null,
      "grid_row": null,
      "grid_template_areas": null,
      "grid_template_columns": null,
      "grid_template_rows": null,
      "height": null,
      "justify_content": null,
      "justify_items": null,
      "left": null,
      "margin": null,
      "max_height": null,
      "max_width": null,
      "min_height": null,
      "min_width": null,
      "object_fit": null,
      "object_position": null,
      "order": null,
      "overflow": null,
      "overflow_x": null,
      "overflow_y": null,
      "padding": null,
      "right": null,
      "top": null,
      "visibility": null,
      "width": null
     }
    },
    "ba5058d038bb481f9739126c7f45e7d6": {
     "model_module": "@jupyter-widgets/controls",
     "model_module_version": "1.5.0",
     "model_name": "DescriptionStyleModel",
     "state": {
      "_model_module": "@jupyter-widgets/controls",
      "_model_module_version": "1.5.0",
      "_model_name": "DescriptionStyleModel",
      "_view_count": null,
      "_view_module": "@jupyter-widgets/base",
      "_view_module_version": "1.2.0",
      "_view_name": "StyleView",
      "description_width": ""
     }
    },
    "be309318a82d4b78951e6a7d29f314e8": {
     "model_module": "@jupyter-widgets/base",
     "model_module_version": "1.2.0",
     "model_name": "LayoutModel",
     "state": {
      "_model_module": "@jupyter-widgets/base",
      "_model_module_version": "1.2.0",
      "_model_name": "LayoutModel",
      "_view_count": null,
      "_view_module": "@jupyter-widgets/base",
      "_view_module_version": "1.2.0",
      "_view_name": "LayoutView",
      "align_content": null,
      "align_items": null,
      "align_self": null,
      "border": null,
      "bottom": null,
      "display": null,
      "flex": null,
      "flex_flow": null,
      "grid_area": null,
      "grid_auto_columns": null,
      "grid_auto_flow": null,
      "grid_auto_rows": null,
      "grid_column": null,
      "grid_gap": null,
      "grid_row": null,
      "grid_template_areas": null,
      "grid_template_columns": null,
      "grid_template_rows": null,
      "height": null,
      "justify_content": null,
      "justify_items": null,
      "left": null,
      "margin": null,
      "max_height": null,
      "max_width": null,
      "min_height": null,
      "min_width": null,
      "object_fit": null,
      "object_position": null,
      "order": null,
      "overflow": null,
      "overflow_x": null,
      "overflow_y": null,
      "padding": null,
      "right": null,
      "top": null,
      "visibility": null,
      "width": null
     }
    },
    "c264bbddeb664d13ae81ebca9c479972": {
     "model_module": "@jupyter-widgets/controls",
     "model_module_version": "1.5.0",
     "model_name": "ProgressStyleModel",
     "state": {
      "_model_module": "@jupyter-widgets/controls",
      "_model_module_version": "1.5.0",
      "_model_name": "ProgressStyleModel",
      "_view_count": null,
      "_view_module": "@jupyter-widgets/base",
      "_view_module_version": "1.2.0",
      "_view_name": "StyleView",
      "bar_color": null,
      "description_width": ""
     }
    },
    "c2a3ef1cfa9c41a799e8dd740b5822d8": {
     "model_module": "@jupyter-widgets/base",
     "model_module_version": "1.2.0",
     "model_name": "LayoutModel",
     "state": {
      "_model_module": "@jupyter-widgets/base",
      "_model_module_version": "1.2.0",
      "_model_name": "LayoutModel",
      "_view_count": null,
      "_view_module": "@jupyter-widgets/base",
      "_view_module_version": "1.2.0",
      "_view_name": "LayoutView",
      "align_content": null,
      "align_items": null,
      "align_self": null,
      "border": null,
      "bottom": null,
      "display": null,
      "flex": null,
      "flex_flow": null,
      "grid_area": null,
      "grid_auto_columns": null,
      "grid_auto_flow": null,
      "grid_auto_rows": null,
      "grid_column": null,
      "grid_gap": null,
      "grid_row": null,
      "grid_template_areas": null,
      "grid_template_columns": null,
      "grid_template_rows": null,
      "height": null,
      "justify_content": null,
      "justify_items": null,
      "left": null,
      "margin": null,
      "max_height": null,
      "max_width": null,
      "min_height": null,
      "min_width": null,
      "object_fit": null,
      "object_position": null,
      "order": null,
      "overflow": null,
      "overflow_x": null,
      "overflow_y": null,
      "padding": null,
      "right": null,
      "top": null,
      "visibility": null,
      "width": null
     }
    },
    "cde6b201216b4e0bba5d4662a5b821f6": {
     "model_module": "@jupyter-widgets/base",
     "model_module_version": "1.2.0",
     "model_name": "LayoutModel",
     "state": {
      "_model_module": "@jupyter-widgets/base",
      "_model_module_version": "1.2.0",
      "_model_name": "LayoutModel",
      "_view_count": null,
      "_view_module": "@jupyter-widgets/base",
      "_view_module_version": "1.2.0",
      "_view_name": "LayoutView",
      "align_content": null,
      "align_items": null,
      "align_self": null,
      "border": null,
      "bottom": null,
      "display": null,
      "flex": null,
      "flex_flow": null,
      "grid_area": null,
      "grid_auto_columns": null,
      "grid_auto_flow": null,
      "grid_auto_rows": null,
      "grid_column": null,
      "grid_gap": null,
      "grid_row": null,
      "grid_template_areas": null,
      "grid_template_columns": null,
      "grid_template_rows": null,
      "height": null,
      "justify_content": null,
      "justify_items": null,
      "left": null,
      "margin": null,
      "max_height": null,
      "max_width": null,
      "min_height": null,
      "min_width": null,
      "object_fit": null,
      "object_position": null,
      "order": null,
      "overflow": null,
      "overflow_x": null,
      "overflow_y": null,
      "padding": null,
      "right": null,
      "top": null,
      "visibility": null,
      "width": null
     }
    },
    "ce18b260936542fa97eeaac9a3120267": {
     "model_module": "@jupyter-widgets/controls",
     "model_module_version": "1.5.0",
     "model_name": "DescriptionStyleModel",
     "state": {
      "_model_module": "@jupyter-widgets/controls",
      "_model_module_version": "1.5.0",
      "_model_name": "DescriptionStyleModel",
      "_view_count": null,
      "_view_module": "@jupyter-widgets/base",
      "_view_module_version": "1.2.0",
      "_view_name": "StyleView",
      "description_width": ""
     }
    },
    "d02dea3fe2c3405a9a8e2cdb4b1e7932": {
     "model_module": "@jupyter-widgets/controls",
     "model_module_version": "1.5.0",
     "model_name": "DescriptionStyleModel",
     "state": {
      "_model_module": "@jupyter-widgets/controls",
      "_model_module_version": "1.5.0",
      "_model_name": "DescriptionStyleModel",
      "_view_count": null,
      "_view_module": "@jupyter-widgets/base",
      "_view_module_version": "1.2.0",
      "_view_name": "StyleView",
      "description_width": ""
     }
    },
    "d0c4d6c8295f451490d335f6da383951": {
     "model_module": "@jupyter-widgets/controls",
     "model_module_version": "1.5.0",
     "model_name": "HTMLModel",
     "state": {
      "_dom_classes": [],
      "_model_module": "@jupyter-widgets/controls",
      "_model_module_version": "1.5.0",
      "_model_name": "HTMLModel",
      "_view_count": null,
      "_view_module": "@jupyter-widgets/controls",
      "_view_module_version": "1.5.0",
      "_view_name": "HTMLView",
      "description": "",
      "description_tooltip": null,
      "layout": "IPY_MODEL_d99fba59382141fe9d97e8a74be90c4c",
      "placeholder": "​",
      "style": "IPY_MODEL_7b84bdc3d89842e2813d116e26a85aa6",
      "value": "Processing:   0%"
     }
    },
    "d11c752026734074a05c4cf91bbb0126": {
     "model_module": "@jupyter-widgets/base",
     "model_module_version": "1.2.0",
     "model_name": "LayoutModel",
     "state": {
      "_model_module": "@jupyter-widgets/base",
      "_model_module_version": "1.2.0",
      "_model_name": "LayoutModel",
      "_view_count": null,
      "_view_module": "@jupyter-widgets/base",
      "_view_module_version": "1.2.0",
      "_view_name": "LayoutView",
      "align_content": null,
      "align_items": null,
      "align_self": null,
      "border": null,
      "bottom": null,
      "display": null,
      "flex": null,
      "flex_flow": null,
      "grid_area": null,
      "grid_auto_columns": null,
      "grid_auto_flow": null,
      "grid_auto_rows": null,
      "grid_column": null,
      "grid_gap": null,
      "grid_row": null,
      "grid_template_areas": null,
      "grid_template_columns": null,
      "grid_template_rows": null,
      "height": null,
      "justify_content": null,
      "justify_items": null,
      "left": null,
      "margin": null,
      "max_height": null,
      "max_width": null,
      "min_height": null,
      "min_width": null,
      "object_fit": null,
      "object_position": null,
      "order": null,
      "overflow": null,
      "overflow_x": null,
      "overflow_y": null,
      "padding": null,
      "right": null,
      "top": null,
      "visibility": null,
      "width": null
     }
    },
    "d39247f73c1544748ccb4e629f683eda": {
     "model_module": "@jupyter-widgets/base",
     "model_module_version": "1.2.0",
     "model_name": "LayoutModel",
     "state": {
      "_model_module": "@jupyter-widgets/base",
      "_model_module_version": "1.2.0",
      "_model_name": "LayoutModel",
      "_view_count": null,
      "_view_module": "@jupyter-widgets/base",
      "_view_module_version": "1.2.0",
      "_view_name": "LayoutView",
      "align_content": null,
      "align_items": null,
      "align_self": null,
      "border": null,
      "bottom": null,
      "display": null,
      "flex": null,
      "flex_flow": null,
      "grid_area": null,
      "grid_auto_columns": null,
      "grid_auto_flow": null,
      "grid_auto_rows": null,
      "grid_column": null,
      "grid_gap": null,
      "grid_row": null,
      "grid_template_areas": null,
      "grid_template_columns": null,
      "grid_template_rows": null,
      "height": null,
      "justify_content": null,
      "justify_items": null,
      "left": null,
      "margin": null,
      "max_height": null,
      "max_width": null,
      "min_height": null,
      "min_width": null,
      "object_fit": null,
      "object_position": null,
      "order": null,
      "overflow": null,
      "overflow_x": null,
      "overflow_y": null,
      "padding": null,
      "right": null,
      "top": null,
      "visibility": null,
      "width": null
     }
    },
    "d4567fb250df40aea0fcf95e377a000c": {
     "model_module": "@jupyter-widgets/controls",
     "model_module_version": "1.5.0",
     "model_name": "DescriptionStyleModel",
     "state": {
      "_model_module": "@jupyter-widgets/controls",
      "_model_module_version": "1.5.0",
      "_model_name": "DescriptionStyleModel",
      "_view_count": null,
      "_view_module": "@jupyter-widgets/base",
      "_view_module_version": "1.2.0",
      "_view_name": "StyleView",
      "description_width": ""
     }
    },
    "d4e49d8d88b44995872c8ede07454db3": {
     "model_module": "@jupyter-widgets/controls",
     "model_module_version": "1.5.0",
     "model_name": "HBoxModel",
     "state": {
      "_dom_classes": [],
      "_model_module": "@jupyter-widgets/controls",
      "_model_module_version": "1.5.0",
      "_model_name": "HBoxModel",
      "_view_count": null,
      "_view_module": "@jupyter-widgets/controls",
      "_view_module_version": "1.5.0",
      "_view_name": "HBoxView",
      "box_style": "",
      "children": [
       "IPY_MODEL_38d2d866085f42b19e33eeb549605d1b",
       "IPY_MODEL_739da5607e4544ef98e8ee53f2861612",
       "IPY_MODEL_62534738bb2a4e8fadc66529372a89b1"
      ],
      "layout": "IPY_MODEL_cde6b201216b4e0bba5d4662a5b821f6"
     }
    },
    "d52addaa48cb4cc7805a90902854cea9": {
     "model_module": "@jupyter-widgets/controls",
     "model_module_version": "1.5.0",
     "model_name": "DescriptionStyleModel",
     "state": {
      "_model_module": "@jupyter-widgets/controls",
      "_model_module_version": "1.5.0",
      "_model_name": "DescriptionStyleModel",
      "_view_count": null,
      "_view_module": "@jupyter-widgets/base",
      "_view_module_version": "1.2.0",
      "_view_name": "StyleView",
      "description_width": ""
     }
    },
    "d772c1eaf11c468aa0fb6b003953b2b0": {
     "model_module": "@jupyter-widgets/controls",
     "model_module_version": "1.5.0",
     "model_name": "DescriptionStyleModel",
     "state": {
      "_model_module": "@jupyter-widgets/controls",
      "_model_module_version": "1.5.0",
      "_model_name": "DescriptionStyleModel",
      "_view_count": null,
      "_view_module": "@jupyter-widgets/base",
      "_view_module_version": "1.2.0",
      "_view_name": "StyleView",
      "description_width": ""
     }
    },
    "d99fba59382141fe9d97e8a74be90c4c": {
     "model_module": "@jupyter-widgets/base",
     "model_module_version": "1.2.0",
     "model_name": "LayoutModel",
     "state": {
      "_model_module": "@jupyter-widgets/base",
      "_model_module_version": "1.2.0",
      "_model_name": "LayoutModel",
      "_view_count": null,
      "_view_module": "@jupyter-widgets/base",
      "_view_module_version": "1.2.0",
      "_view_name": "LayoutView",
      "align_content": null,
      "align_items": null,
      "align_self": null,
      "border": null,
      "bottom": null,
      "display": null,
      "flex": null,
      "flex_flow": null,
      "grid_area": null,
      "grid_auto_columns": null,
      "grid_auto_flow": null,
      "grid_auto_rows": null,
      "grid_column": null,
      "grid_gap": null,
      "grid_row": null,
      "grid_template_areas": null,
      "grid_template_columns": null,
      "grid_template_rows": null,
      "height": null,
      "justify_content": null,
      "justify_items": null,
      "left": null,
      "margin": null,
      "max_height": null,
      "max_width": null,
      "min_height": null,
      "min_width": null,
      "object_fit": null,
      "object_position": null,
      "order": null,
      "overflow": null,
      "overflow_x": null,
      "overflow_y": null,
      "padding": null,
      "right": null,
      "top": null,
      "visibility": null,
      "width": null
     }
    },
    "dba146d1c10b4ec3946ff4af6336adb0": {
     "model_module": "@jupyter-widgets/base",
     "model_module_version": "1.2.0",
     "model_name": "LayoutModel",
     "state": {
      "_model_module": "@jupyter-widgets/base",
      "_model_module_version": "1.2.0",
      "_model_name": "LayoutModel",
      "_view_count": null,
      "_view_module": "@jupyter-widgets/base",
      "_view_module_version": "1.2.0",
      "_view_name": "LayoutView",
      "align_content": null,
      "align_items": null,
      "align_self": null,
      "border": null,
      "bottom": null,
      "display": null,
      "flex": null,
      "flex_flow": null,
      "grid_area": null,
      "grid_auto_columns": null,
      "grid_auto_flow": null,
      "grid_auto_rows": null,
      "grid_column": null,
      "grid_gap": null,
      "grid_row": null,
      "grid_template_areas": null,
      "grid_template_columns": null,
      "grid_template_rows": null,
      "height": null,
      "justify_content": null,
      "justify_items": null,
      "left": null,
      "margin": null,
      "max_height": null,
      "max_width": null,
      "min_height": null,
      "min_width": null,
      "object_fit": null,
      "object_position": null,
      "order": null,
      "overflow": null,
      "overflow_x": null,
      "overflow_y": null,
      "padding": null,
      "right": null,
      "top": null,
      "visibility": null,
      "width": null
     }
    },
    "dc8567121d26492ba6a784d79b4ce569": {
     "model_module": "@jupyter-widgets/controls",
     "model_module_version": "1.5.0",
     "model_name": "ProgressStyleModel",
     "state": {
      "_model_module": "@jupyter-widgets/controls",
      "_model_module_version": "1.5.0",
      "_model_name": "ProgressStyleModel",
      "_view_count": null,
      "_view_module": "@jupyter-widgets/base",
      "_view_module_version": "1.2.0",
      "_view_name": "StyleView",
      "bar_color": null,
      "description_width": ""
     }
    },
    "dcee6214ce134bb1b3c19d9d7112e28d": {
     "model_module": "@jupyter-widgets/controls",
     "model_module_version": "1.5.0",
     "model_name": "ProgressStyleModel",
     "state": {
      "_model_module": "@jupyter-widgets/controls",
      "_model_module_version": "1.5.0",
      "_model_name": "ProgressStyleModel",
      "_view_count": null,
      "_view_module": "@jupyter-widgets/base",
      "_view_module_version": "1.2.0",
      "_view_name": "StyleView",
      "bar_color": null,
      "description_width": ""
     }
    },
    "de3b0949226f476990e6640466ab979b": {
     "model_module": "@jupyter-widgets/controls",
     "model_module_version": "1.5.0",
     "model_name": "HTMLModel",
     "state": {
      "_dom_classes": [],
      "_model_module": "@jupyter-widgets/controls",
      "_model_module_version": "1.5.0",
      "_model_name": "HTMLModel",
      "_view_count": null,
      "_view_module": "@jupyter-widgets/controls",
      "_view_module_version": "1.5.0",
      "_view_name": "HTMLView",
      "description": "",
      "description_tooltip": null,
      "layout": "IPY_MODEL_8de9803c42ba4a469520ec84910de88c",
      "placeholder": "​",
      "style": "IPY_MODEL_b260728c604041249bf7d8dc6c299954",
      "value": "Downloading (…)okenizer_config.json: 100%"
     }
    },
    "e3dff365f8a846a29c56f8dd2eab3ef2": {
     "model_module": "@jupyter-widgets/controls",
     "model_module_version": "1.5.0",
     "model_name": "FloatProgressModel",
     "state": {
      "_dom_classes": [],
      "_model_module": "@jupyter-widgets/controls",
      "_model_module_version": "1.5.0",
      "_model_name": "FloatProgressModel",
      "_view_count": null,
      "_view_module": "@jupyter-widgets/controls",
      "_view_module_version": "1.5.0",
      "_view_name": "ProgressView",
      "bar_style": "success",
      "description": "",
      "description_tooltip": null,
      "layout": "IPY_MODEL_3460e4b29d7843c8a23ead51b92430fa",
      "max": 1,
      "min": 0,
      "orientation": "horizontal",
      "style": "IPY_MODEL_5dcd07e4060f4b29b29a7596e7bddedf",
      "value": 1
     }
    },
    "e6d91cf146174902bb0dc01c1d9e8e8c": {
     "model_module": "@jupyter-widgets/controls",
     "model_module_version": "1.5.0",
     "model_name": "FloatProgressModel",
     "state": {
      "_dom_classes": [],
      "_model_module": "@jupyter-widgets/controls",
      "_model_module_version": "1.5.0",
      "_model_name": "FloatProgressModel",
      "_view_count": null,
      "_view_module": "@jupyter-widgets/controls",
      "_view_module_version": "1.5.0",
      "_view_name": "ProgressView",
      "bar_style": "success",
      "description": "",
      "description_tooltip": null,
      "layout": "IPY_MODEL_25dabb42ef324afbb9289732bd72a7b8",
      "max": 629,
      "min": 0,
      "orientation": "horizontal",
      "style": "IPY_MODEL_501cd9f4c59b48e1820df17bed294ae4",
      "value": 629
     }
    },
    "e7b314555c7745909090c3b593939fbf": {
     "model_module": "@jupyter-widgets/base",
     "model_module_version": "1.2.0",
     "model_name": "LayoutModel",
     "state": {
      "_model_module": "@jupyter-widgets/base",
      "_model_module_version": "1.2.0",
      "_model_name": "LayoutModel",
      "_view_count": null,
      "_view_module": "@jupyter-widgets/base",
      "_view_module_version": "1.2.0",
      "_view_name": "LayoutView",
      "align_content": null,
      "align_items": null,
      "align_self": null,
      "border": null,
      "bottom": null,
      "display": null,
      "flex": null,
      "flex_flow": null,
      "grid_area": null,
      "grid_auto_columns": null,
      "grid_auto_flow": null,
      "grid_auto_rows": null,
      "grid_column": null,
      "grid_gap": null,
      "grid_row": null,
      "grid_template_areas": null,
      "grid_template_columns": null,
      "grid_template_rows": null,
      "height": null,
      "justify_content": null,
      "justify_items": null,
      "left": null,
      "margin": null,
      "max_height": null,
      "max_width": null,
      "min_height": null,
      "min_width": null,
      "object_fit": null,
      "object_position": null,
      "order": null,
      "overflow": null,
      "overflow_x": null,
      "overflow_y": null,
      "padding": null,
      "right": null,
      "top": null,
      "visibility": null,
      "width": null
     }
    },
    "e93468b954c04a27b0fdbba6a78dbb50": {
     "model_module": "@jupyter-widgets/base",
     "model_module_version": "1.2.0",
     "model_name": "LayoutModel",
     "state": {
      "_model_module": "@jupyter-widgets/base",
      "_model_module_version": "1.2.0",
      "_model_name": "LayoutModel",
      "_view_count": null,
      "_view_module": "@jupyter-widgets/base",
      "_view_module_version": "1.2.0",
      "_view_name": "LayoutView",
      "align_content": null,
      "align_items": null,
      "align_self": null,
      "border": null,
      "bottom": null,
      "display": null,
      "flex": null,
      "flex_flow": null,
      "grid_area": null,
      "grid_auto_columns": null,
      "grid_auto_flow": null,
      "grid_auto_rows": null,
      "grid_column": null,
      "grid_gap": null,
      "grid_row": null,
      "grid_template_areas": null,
      "grid_template_columns": null,
      "grid_template_rows": null,
      "height": null,
      "justify_content": null,
      "justify_items": null,
      "left": null,
      "margin": null,
      "max_height": null,
      "max_width": null,
      "min_height": null,
      "min_width": null,
      "object_fit": null,
      "object_position": null,
      "order": null,
      "overflow": null,
      "overflow_x": null,
      "overflow_y": null,
      "padding": null,
      "right": null,
      "top": null,
      "visibility": null,
      "width": null
     }
    },
    "ebec093b8a944407b2e4ab26192a3a17": {
     "model_module": "@jupyter-widgets/controls",
     "model_module_version": "1.5.0",
     "model_name": "DescriptionStyleModel",
     "state": {
      "_model_module": "@jupyter-widgets/controls",
      "_model_module_version": "1.5.0",
      "_model_name": "DescriptionStyleModel",
      "_view_count": null,
      "_view_module": "@jupyter-widgets/base",
      "_view_module_version": "1.2.0",
      "_view_name": "StyleView",
      "description_width": ""
     }
    },
    "f2db73588f1e4227a3fdcf3b652a1ead": {
     "model_module": "@jupyter-widgets/base",
     "model_module_version": "1.2.0",
     "model_name": "LayoutModel",
     "state": {
      "_model_module": "@jupyter-widgets/base",
      "_model_module_version": "1.2.0",
      "_model_name": "LayoutModel",
      "_view_count": null,
      "_view_module": "@jupyter-widgets/base",
      "_view_module_version": "1.2.0",
      "_view_name": "LayoutView",
      "align_content": null,
      "align_items": null,
      "align_self": null,
      "border": null,
      "bottom": null,
      "display": null,
      "flex": null,
      "flex_flow": null,
      "grid_area": null,
      "grid_auto_columns": null,
      "grid_auto_flow": null,
      "grid_auto_rows": null,
      "grid_column": null,
      "grid_gap": null,
      "grid_row": null,
      "grid_template_areas": null,
      "grid_template_columns": null,
      "grid_template_rows": null,
      "height": null,
      "justify_content": null,
      "justify_items": null,
      "left": null,
      "margin": null,
      "max_height": null,
      "max_width": null,
      "min_height": null,
      "min_width": null,
      "object_fit": null,
      "object_position": null,
      "order": null,
      "overflow": null,
      "overflow_x": null,
      "overflow_y": null,
      "padding": null,
      "right": null,
      "top": null,
      "visibility": null,
      "width": null
     }
    },
    "f40a4f28391b417bb6aece36c531c79c": {
     "model_module": "@jupyter-widgets/controls",
     "model_module_version": "1.5.0",
     "model_name": "HBoxModel",
     "state": {
      "_dom_classes": [],
      "_model_module": "@jupyter-widgets/controls",
      "_model_module_version": "1.5.0",
      "_model_name": "HBoxModel",
      "_view_count": null,
      "_view_module": "@jupyter-widgets/controls",
      "_view_module_version": "1.5.0",
      "_view_name": "HBoxView",
      "box_style": "",
      "children": [
       "IPY_MODEL_3da56ec5171c49ccbd2a88c533327c53",
       "IPY_MODEL_263f355e035946359083d4afbca5fb21",
       "IPY_MODEL_2d6f7787b89541c0892f9b672052ab37"
      ],
      "layout": "IPY_MODEL_e7b314555c7745909090c3b593939fbf"
     }
    },
    "f4b0af43c4c64ca9910b525501a2d27a": {
     "model_module": "@jupyter-widgets/base",
     "model_module_version": "1.2.0",
     "model_name": "LayoutModel",
     "state": {
      "_model_module": "@jupyter-widgets/base",
      "_model_module_version": "1.2.0",
      "_model_name": "LayoutModel",
      "_view_count": null,
      "_view_module": "@jupyter-widgets/base",
      "_view_module_version": "1.2.0",
      "_view_name": "LayoutView",
      "align_content": null,
      "align_items": null,
      "align_self": null,
      "border": null,
      "bottom": null,
      "display": null,
      "flex": null,
      "flex_flow": null,
      "grid_area": null,
      "grid_auto_columns": null,
      "grid_auto_flow": null,
      "grid_auto_rows": null,
      "grid_column": null,
      "grid_gap": null,
      "grid_row": null,
      "grid_template_areas": null,
      "grid_template_columns": null,
      "grid_template_rows": null,
      "height": null,
      "justify_content": null,
      "justify_items": null,
      "left": null,
      "margin": null,
      "max_height": null,
      "max_width": null,
      "min_height": null,
      "min_width": null,
      "object_fit": null,
      "object_position": null,
      "order": null,
      "overflow": null,
      "overflow_x": null,
      "overflow_y": null,
      "padding": null,
      "right": null,
      "top": null,
      "visibility": null,
      "width": null
     }
    },
    "f6ffcc60af7e410685a98c42b0e9b3d3": {
     "model_module": "@jupyter-widgets/base",
     "model_module_version": "1.2.0",
     "model_name": "LayoutModel",
     "state": {
      "_model_module": "@jupyter-widgets/base",
      "_model_module_version": "1.2.0",
      "_model_name": "LayoutModel",
      "_view_count": null,
      "_view_module": "@jupyter-widgets/base",
      "_view_module_version": "1.2.0",
      "_view_name": "LayoutView",
      "align_content": null,
      "align_items": null,
      "align_self": null,
      "border": null,
      "bottom": null,
      "display": null,
      "flex": null,
      "flex_flow": null,
      "grid_area": null,
      "grid_auto_columns": null,
      "grid_auto_flow": null,
      "grid_auto_rows": null,
      "grid_column": null,
      "grid_gap": null,
      "grid_row": null,
      "grid_template_areas": null,
      "grid_template_columns": null,
      "grid_template_rows": null,
      "height": null,
      "justify_content": null,
      "justify_items": null,
      "left": null,
      "margin": null,
      "max_height": null,
      "max_width": null,
      "min_height": null,
      "min_width": null,
      "object_fit": null,
      "object_position": null,
      "order": null,
      "overflow": null,
      "overflow_x": null,
      "overflow_y": null,
      "padding": null,
      "right": null,
      "top": null,
      "visibility": null,
      "width": null
     }
    },
    "fb7f86422a534fe4a602c9f73900e47f": {
     "model_module": "@jupyter-widgets/controls",
     "model_module_version": "1.5.0",
     "model_name": "HBoxModel",
     "state": {
      "_dom_classes": [],
      "_model_module": "@jupyter-widgets/controls",
      "_model_module_version": "1.5.0",
      "_model_name": "HBoxModel",
      "_view_count": null,
      "_view_module": "@jupyter-widgets/controls",
      "_view_module_version": "1.5.0",
      "_view_name": "HBoxView",
      "box_style": "",
      "children": [
       "IPY_MODEL_45d82e79720b4512903df5012bcb064a",
       "IPY_MODEL_9578aca8f4d7417eab8a43b75b22affc",
       "IPY_MODEL_190e293f77ba4f529507b37c79553e20"
      ],
      "layout": "IPY_MODEL_036483e9c5a046a1a8d7621f09c16da9"
     }
    },
    "fca3a92445ab43159a388465ff2e49aa": {
     "model_module": "@jupyter-widgets/base",
     "model_module_version": "1.2.0",
     "model_name": "LayoutModel",
     "state": {
      "_model_module": "@jupyter-widgets/base",
      "_model_module_version": "1.2.0",
      "_model_name": "LayoutModel",
      "_view_count": null,
      "_view_module": "@jupyter-widgets/base",
      "_view_module_version": "1.2.0",
      "_view_name": "LayoutView",
      "align_content": null,
      "align_items": null,
      "align_self": null,
      "border": null,
      "bottom": null,
      "display": null,
      "flex": null,
      "flex_flow": null,
      "grid_area": null,
      "grid_auto_columns": null,
      "grid_auto_flow": null,
      "grid_auto_rows": null,
      "grid_column": null,
      "grid_gap": null,
      "grid_row": null,
      "grid_template_areas": null,
      "grid_template_columns": null,
      "grid_template_rows": null,
      "height": null,
      "justify_content": null,
      "justify_items": null,
      "left": null,
      "margin": null,
      "max_height": null,
      "max_width": null,
      "min_height": null,
      "min_width": null,
      "object_fit": null,
      "object_position": null,
      "order": null,
      "overflow": null,
      "overflow_x": null,
      "overflow_y": null,
      "padding": null,
      "right": null,
      "top": null,
      "visibility": null,
      "width": null
     }
    },
    "fd519513959d430297b3251f36befa13": {
     "model_module": "@jupyter-widgets/controls",
     "model_module_version": "1.5.0",
     "model_name": "HTMLModel",
     "state": {
      "_dom_classes": [],
      "_model_module": "@jupyter-widgets/controls",
      "_model_module_version": "1.5.0",
      "_model_name": "HTMLModel",
      "_view_count": null,
      "_view_module": "@jupyter-widgets/controls",
      "_view_module_version": "1.5.0",
      "_view_name": "HTMLView",
      "description": "",
      "description_tooltip": null,
      "layout": "IPY_MODEL_b9a5bb217df0419f92436a0f4ef2b87e",
      "placeholder": "​",
      "style": "IPY_MODEL_5da4ddf51a52407eb421298323ea9611",
      "value": "Downloading (…)lve/main/config.json: 100%"
     }
    },
    "fd842676dffd4784bcd36a5939947e05": {
     "model_module": "@jupyter-widgets/controls",
     "model_module_version": "1.5.0",
     "model_name": "FloatProgressModel",
     "state": {
      "_dom_classes": [],
      "_model_module": "@jupyter-widgets/controls",
      "_model_module_version": "1.5.0",
      "_model_name": "FloatProgressModel",
      "_view_count": null,
      "_view_module": "@jupyter-widgets/controls",
      "_view_module_version": "1.5.0",
      "_view_name": "ProgressView",
      "bar_style": "success",
      "description": "",
      "description_tooltip": null,
      "layout": "IPY_MODEL_3bdc61d10bc64751833b2007af3e50cf",
      "max": 29911,
      "min": 0,
      "orientation": "horizontal",
      "style": "IPY_MODEL_376af4d67b7c4f7698a8db7b40ad31f7",
      "value": 29911
     }
    },
    "ff01929882414c6ba4138f2e256c4188": {
     "model_module": "@jupyter-widgets/controls",
     "model_module_version": "1.5.0",
     "model_name": "FloatProgressModel",
     "state": {
      "_dom_classes": [],
      "_model_module": "@jupyter-widgets/controls",
      "_model_module_version": "1.5.0",
      "_model_name": "FloatProgressModel",
      "_view_count": null,
      "_view_module": "@jupyter-widgets/controls",
      "_view_module_version": "1.5.0",
      "_view_name": "ProgressView",
      "bar_style": "",
      "description": "",
      "description_tooltip": null,
      "layout": "IPY_MODEL_ab04927adb3c4390815125aea7ac5469",
      "max": 1,
      "min": 0,
      "orientation": "horizontal",
      "style": "IPY_MODEL_0f9ad55ebf3842eca835b8c3bf39741c",
      "value": 1
     }
    }
   }
  }
 },
 "nbformat": 4,
 "nbformat_minor": 1
}
